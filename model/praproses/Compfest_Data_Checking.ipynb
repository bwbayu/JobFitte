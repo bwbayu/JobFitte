{
  "nbformat": 4,
  "nbformat_minor": 0,
  "metadata": {
    "colab": {
      "provenance": [],
      "collapsed_sections": [
        "qEk8upgwVkcu"
      ],
      "include_colab_link": true
    },
    "kernelspec": {
      "name": "python3",
      "display_name": "Python 3"
    },
    "language_info": {
      "name": "python"
    }
  },
  "cells": [
    {
      "cell_type": "markdown",
      "metadata": {
        "id": "view-in-github",
        "colab_type": "text"
      },
      "source": [
        "<a href=\"https://colab.research.google.com/github/bwbayu/TalentMatch/blob/development/model/praproses/Compfest_Data_Checking.ipynb\" target=\"_parent\"><img src=\"https://colab.research.google.com/assets/colab-badge.svg\" alt=\"Open In Colab\"/></a>"
      ]
    },
    {
      "cell_type": "code",
      "source": [
        "from google.colab import drive\n",
        "drive.mount('/content/drive')"
      ],
      "metadata": {
        "colab": {
          "base_uri": "https://localhost:8080/"
        },
        "id": "b16dpglpVMZ5",
        "outputId": "59985be8-256f-415c-e5af-16c00c9faff5"
      },
      "execution_count": null,
      "outputs": [
        {
          "output_type": "stream",
          "name": "stdout",
          "text": [
            "Mounted at /content/drive\n"
          ]
        }
      ]
    },
    {
      "cell_type": "code",
      "source": [
        "!pip install wordsegment\n",
        "!pip install num2words\n",
        "!pip install deep-translator"
      ],
      "metadata": {
        "colab": {
          "base_uri": "https://localhost:8080/"
        },
        "id": "ANExoqDfLJgW",
        "outputId": "31390638-de1e-460b-e13b-4bcc070303b7"
      },
      "execution_count": null,
      "outputs": [
        {
          "output_type": "stream",
          "name": "stdout",
          "text": [
            "Collecting wordsegment\n",
            "  Downloading wordsegment-1.3.1-py2.py3-none-any.whl.metadata (7.7 kB)\n",
            "Downloading wordsegment-1.3.1-py2.py3-none-any.whl (4.8 MB)\n",
            "\u001b[2K   \u001b[90m━━━━━━━━━━━━━━━━━━━━━━━━━━━━━━━━━━━━━━━━\u001b[0m \u001b[32m4.8/4.8 MB\u001b[0m \u001b[31m28.8 MB/s\u001b[0m eta \u001b[36m0:00:00\u001b[0m\n",
            "\u001b[?25hInstalling collected packages: wordsegment\n",
            "Successfully installed wordsegment-1.3.1\n",
            "Collecting num2words\n",
            "  Downloading num2words-0.5.13-py3-none-any.whl.metadata (12 kB)\n",
            "Collecting docopt>=0.6.2 (from num2words)\n",
            "  Downloading docopt-0.6.2.tar.gz (25 kB)\n",
            "  Preparing metadata (setup.py) ... \u001b[?25l\u001b[?25hdone\n",
            "Downloading num2words-0.5.13-py3-none-any.whl (143 kB)\n",
            "\u001b[2K   \u001b[90m━━━━━━━━━━━━━━━━━━━━━━━━━━━━━━━━━━━━━━━━\u001b[0m \u001b[32m143.3/143.3 kB\u001b[0m \u001b[31m4.5 MB/s\u001b[0m eta \u001b[36m0:00:00\u001b[0m\n",
            "\u001b[?25hBuilding wheels for collected packages: docopt\n",
            "  Building wheel for docopt (setup.py) ... \u001b[?25l\u001b[?25hdone\n",
            "  Created wheel for docopt: filename=docopt-0.6.2-py2.py3-none-any.whl size=13704 sha256=997bcc56f52522df0cb3a62df70b13e1bcedc05a68f95774f1c783ca5b3cd8c5\n",
            "  Stored in directory: /root/.cache/pip/wheels/fc/ab/d4/5da2067ac95b36618c629a5f93f809425700506f72c9732fac\n",
            "Successfully built docopt\n",
            "Installing collected packages: docopt, num2words\n",
            "Successfully installed docopt-0.6.2 num2words-0.5.13\n",
            "Collecting deep-translator\n",
            "  Downloading deep_translator-1.11.4-py3-none-any.whl.metadata (30 kB)\n",
            "Requirement already satisfied: beautifulsoup4<5.0.0,>=4.9.1 in /usr/local/lib/python3.10/dist-packages (from deep-translator) (4.12.3)\n",
            "Requirement already satisfied: requests<3.0.0,>=2.23.0 in /usr/local/lib/python3.10/dist-packages (from deep-translator) (2.31.0)\n",
            "Requirement already satisfied: soupsieve>1.2 in /usr/local/lib/python3.10/dist-packages (from beautifulsoup4<5.0.0,>=4.9.1->deep-translator) (2.5)\n",
            "Requirement already satisfied: charset-normalizer<4,>=2 in /usr/local/lib/python3.10/dist-packages (from requests<3.0.0,>=2.23.0->deep-translator) (3.3.2)\n",
            "Requirement already satisfied: idna<4,>=2.5 in /usr/local/lib/python3.10/dist-packages (from requests<3.0.0,>=2.23.0->deep-translator) (3.7)\n",
            "Requirement already satisfied: urllib3<3,>=1.21.1 in /usr/local/lib/python3.10/dist-packages (from requests<3.0.0,>=2.23.0->deep-translator) (2.0.7)\n",
            "Requirement already satisfied: certifi>=2017.4.17 in /usr/local/lib/python3.10/dist-packages (from requests<3.0.0,>=2.23.0->deep-translator) (2024.7.4)\n",
            "Downloading deep_translator-1.11.4-py3-none-any.whl (42 kB)\n",
            "\u001b[2K   \u001b[90m━━━━━━━━━━━━━━━━━━━━━━━━━━━━━━━━━━━━━━━━\u001b[0m \u001b[32m42.3/42.3 kB\u001b[0m \u001b[31m3.1 MB/s\u001b[0m eta \u001b[36m0:00:00\u001b[0m\n",
            "\u001b[?25hInstalling collected packages: deep-translator\n",
            "Successfully installed deep-translator-1.11.4\n"
          ]
        }
      ]
    },
    {
      "cell_type": "code",
      "execution_count": null,
      "metadata": {
        "id": "e6vQjKm2LIfL"
      },
      "outputs": [],
      "source": [
        "import pandas as pd\n",
        "import numpy as np\n",
        "# import re\n",
        "# import nltk\n",
        "# from nltk.corpus import stopwords\n",
        "# from nltk.tokenize import word_tokenize\n",
        "# from nltk.stem import WordNetLemmatizer\n",
        "# from wordsegment import load, segment\n",
        "# from num2words import num2words\n",
        "# from deep_translator import GoogleTranslator\n",
        "\n",
        "# nltk.download('punkt')\n",
        "# nltk.download('stopwords')\n",
        "# nltk.download('wordnet')"
      ]
    },
    {
      "cell_type": "markdown",
      "source": [
        "# merge"
      ],
      "metadata": {
        "id": "dFObjtjvEqm4"
      }
    },
    {
      "cell_type": "code",
      "source": [
        "import os\n",
        "directory = \"/content/drive/MyDrive/compfest dataset\"\n",
        "\n",
        "csv_files = [file for file in os.listdir(directory) if file.endswith('.csv')]\n",
        "\n",
        "combined_df = pd.concat([pd.read_csv(os.path.join(directory, file)) for file in csv_files], ignore_index=True)\n",
        "combined_df.head()"
      ],
      "metadata": {
        "colab": {
          "base_uri": "https://localhost:8080/",
          "height": 573
        },
        "id": "1i6rlkRbD7l5",
        "outputId": "3c1071fe-5491-4d06-ee42-aba65b12d99e"
      },
      "execution_count": null,
      "outputs": [
        {
          "output_type": "execute_result",
          "data": {
            "text/plain": [
              "     id                      job_title         location salary_currency  \\\n",
              "0  1001  PROCUREMENT & EXIM SUPERVISOR       Jawa Timur             IDR   \n",
              "1  1002                    Staff Admin        Palembang             IDR   \n",
              "2  1003        Motion Graphic Designer  Jakarta Selatan             IDR   \n",
              "3  1004      Asisten Associate Manager     Jakarta Raya             IDR   \n",
              "4  1005       Staff Design Development        Tangerang             IDR   \n",
              "\n",
              "                               career_level experience_level  \\\n",
              "0                    Supervisor/Koordinator          3 tahun   \n",
              "1  Pegawai (non-manajemen & non-supervisor)          1 tahun   \n",
              "2  Pegawai (non-manajemen & non-supervisor)          2 tahun   \n",
              "3                   Manajer/Asisten Manajer          3 tahun   \n",
              "4  Pegawai (non-manajemen & non-supervisor)          3 tahun   \n",
              "\n",
              "                                     education_level employment_type  \\\n",
              "0  Sertifikat Professional, D3 (Diploma), D4 (Dip...     Penuh Waktu   \n",
              "1  SMA, SMU/SMK/STM, Sertifikat Professional, D3 ...     Penuh Waktu   \n",
              "2                               Tidak terspesifikasi     Penuh Waktu   \n",
              "3                               Tidak terspesifikasi     Penuh Waktu   \n",
              "4                                       Sarjana (S1)     Penuh Waktu   \n",
              "\n",
              "                                        job_function  \\\n",
              "0            Manufaktur,Pembelian/Manajemen Material   \n",
              "1  Sumber Daya Manusia/Personalia,Staf / Administ...   \n",
              "2        Seni/Media/Komunikasi,Seni / Desain Kreatif   \n",
              "3  Penjualan / Pemasaran,Pemasaran/Pengembangan B...   \n",
              "4        Bangunan/Konstruksi,Arsitek/Desain Interior   \n",
              "\n",
              "                                        job_benefits company_process_time  \\\n",
              "0  Tip;Asuransi kesehatan;Parkir;Bisnis (contoh: ...              26 days   \n",
              "1                                                NaN                  NaN   \n",
              "2  Tip;Asuransi kesehatan;Waktu regular, Senin - ...              26 days   \n",
              "3                                                NaN              24 days   \n",
              "4  Tip;Waktu regular, Senin - Jumat;Formil (conto...              23 days   \n",
              "\n",
              "          company_size                  company_industry  \\\n",
              "0  1001 - 2000 pekerja               Manufaktur/Produksi   \n",
              "1                  NaN                           Lainnya   \n",
              "2     51 - 200 pekerja             Transportasi/Logistik   \n",
              "3        1- 50 pekerja  Akunting / Audit / Layanan Pajak   \n",
              "4  1001 - 2000 pekerja                   Kesehatan/Medis   \n",
              "\n",
              "                                     job_description      salary  \\\n",
              "0  Procurement & Exim SupervisorREQUIREMENT1.    ...         NaN   \n",
              "1  Kualifikasi :Terbuka untuk segala usiaPendidik...         NaN   \n",
              "2  RequirementsBachelor's Degree or equivalent in...         NaN   \n",
              "3  Apakah Anda mendambakan kebebasan bekerja. Kel...  12000000.0   \n",
              "4  Job Responsibilities : Responsible for the pro...         NaN   \n",
              "\n",
              "                                          clean_data  \n",
              "0  procurement exim supervisor requirement 1 leas...  \n",
              "1  qualification open age minimum education high ...  \n",
              "2  requirement bachelor degree equivalent design ...  \n",
              "3  crave freedom work get comfort zone faster sig...  \n",
              "4  job responsibility responsible process develop...  "
            ],
            "text/html": [
              "\n",
              "  <div id=\"df-65754ced-1882-4406-9358-772380836655\" class=\"colab-df-container\">\n",
              "    <div>\n",
              "<style scoped>\n",
              "    .dataframe tbody tr th:only-of-type {\n",
              "        vertical-align: middle;\n",
              "    }\n",
              "\n",
              "    .dataframe tbody tr th {\n",
              "        vertical-align: top;\n",
              "    }\n",
              "\n",
              "    .dataframe thead th {\n",
              "        text-align: right;\n",
              "    }\n",
              "</style>\n",
              "<table border=\"1\" class=\"dataframe\">\n",
              "  <thead>\n",
              "    <tr style=\"text-align: right;\">\n",
              "      <th></th>\n",
              "      <th>id</th>\n",
              "      <th>job_title</th>\n",
              "      <th>location</th>\n",
              "      <th>salary_currency</th>\n",
              "      <th>career_level</th>\n",
              "      <th>experience_level</th>\n",
              "      <th>education_level</th>\n",
              "      <th>employment_type</th>\n",
              "      <th>job_function</th>\n",
              "      <th>job_benefits</th>\n",
              "      <th>company_process_time</th>\n",
              "      <th>company_size</th>\n",
              "      <th>company_industry</th>\n",
              "      <th>job_description</th>\n",
              "      <th>salary</th>\n",
              "      <th>clean_data</th>\n",
              "    </tr>\n",
              "  </thead>\n",
              "  <tbody>\n",
              "    <tr>\n",
              "      <th>0</th>\n",
              "      <td>1001</td>\n",
              "      <td>PROCUREMENT &amp; EXIM SUPERVISOR</td>\n",
              "      <td>Jawa Timur</td>\n",
              "      <td>IDR</td>\n",
              "      <td>Supervisor/Koordinator</td>\n",
              "      <td>3 tahun</td>\n",
              "      <td>Sertifikat Professional, D3 (Diploma), D4 (Dip...</td>\n",
              "      <td>Penuh Waktu</td>\n",
              "      <td>Manufaktur,Pembelian/Manajemen Material</td>\n",
              "      <td>Tip;Asuransi kesehatan;Parkir;Bisnis (contoh: ...</td>\n",
              "      <td>26 days</td>\n",
              "      <td>1001 - 2000 pekerja</td>\n",
              "      <td>Manufaktur/Produksi</td>\n",
              "      <td>Procurement &amp; Exim SupervisorREQUIREMENT1.    ...</td>\n",
              "      <td>NaN</td>\n",
              "      <td>procurement exim supervisor requirement 1 leas...</td>\n",
              "    </tr>\n",
              "    <tr>\n",
              "      <th>1</th>\n",
              "      <td>1002</td>\n",
              "      <td>Staff Admin</td>\n",
              "      <td>Palembang</td>\n",
              "      <td>IDR</td>\n",
              "      <td>Pegawai (non-manajemen &amp; non-supervisor)</td>\n",
              "      <td>1 tahun</td>\n",
              "      <td>SMA, SMU/SMK/STM, Sertifikat Professional, D3 ...</td>\n",
              "      <td>Penuh Waktu</td>\n",
              "      <td>Sumber Daya Manusia/Personalia,Staf / Administ...</td>\n",
              "      <td>NaN</td>\n",
              "      <td>NaN</td>\n",
              "      <td>NaN</td>\n",
              "      <td>Lainnya</td>\n",
              "      <td>Kualifikasi :Terbuka untuk segala usiaPendidik...</td>\n",
              "      <td>NaN</td>\n",
              "      <td>qualification open age minimum education high ...</td>\n",
              "    </tr>\n",
              "    <tr>\n",
              "      <th>2</th>\n",
              "      <td>1003</td>\n",
              "      <td>Motion Graphic Designer</td>\n",
              "      <td>Jakarta Selatan</td>\n",
              "      <td>IDR</td>\n",
              "      <td>Pegawai (non-manajemen &amp; non-supervisor)</td>\n",
              "      <td>2 tahun</td>\n",
              "      <td>Tidak terspesifikasi</td>\n",
              "      <td>Penuh Waktu</td>\n",
              "      <td>Seni/Media/Komunikasi,Seni / Desain Kreatif</td>\n",
              "      <td>Tip;Asuransi kesehatan;Waktu regular, Senin - ...</td>\n",
              "      <td>26 days</td>\n",
              "      <td>51 - 200 pekerja</td>\n",
              "      <td>Transportasi/Logistik</td>\n",
              "      <td>RequirementsBachelor's Degree or equivalent in...</td>\n",
              "      <td>NaN</td>\n",
              "      <td>requirement bachelor degree equivalent design ...</td>\n",
              "    </tr>\n",
              "    <tr>\n",
              "      <th>3</th>\n",
              "      <td>1004</td>\n",
              "      <td>Asisten Associate Manager</td>\n",
              "      <td>Jakarta Raya</td>\n",
              "      <td>IDR</td>\n",
              "      <td>Manajer/Asisten Manajer</td>\n",
              "      <td>3 tahun</td>\n",
              "      <td>Tidak terspesifikasi</td>\n",
              "      <td>Penuh Waktu</td>\n",
              "      <td>Penjualan / Pemasaran,Pemasaran/Pengembangan B...</td>\n",
              "      <td>NaN</td>\n",
              "      <td>24 days</td>\n",
              "      <td>1- 50 pekerja</td>\n",
              "      <td>Akunting / Audit / Layanan Pajak</td>\n",
              "      <td>Apakah Anda mendambakan kebebasan bekerja. Kel...</td>\n",
              "      <td>12000000.0</td>\n",
              "      <td>crave freedom work get comfort zone faster sig...</td>\n",
              "    </tr>\n",
              "    <tr>\n",
              "      <th>4</th>\n",
              "      <td>1005</td>\n",
              "      <td>Staff Design Development</td>\n",
              "      <td>Tangerang</td>\n",
              "      <td>IDR</td>\n",
              "      <td>Pegawai (non-manajemen &amp; non-supervisor)</td>\n",
              "      <td>3 tahun</td>\n",
              "      <td>Sarjana (S1)</td>\n",
              "      <td>Penuh Waktu</td>\n",
              "      <td>Bangunan/Konstruksi,Arsitek/Desain Interior</td>\n",
              "      <td>Tip;Waktu regular, Senin - Jumat;Formil (conto...</td>\n",
              "      <td>23 days</td>\n",
              "      <td>1001 - 2000 pekerja</td>\n",
              "      <td>Kesehatan/Medis</td>\n",
              "      <td>Job Responsibilities : Responsible for the pro...</td>\n",
              "      <td>NaN</td>\n",
              "      <td>job responsibility responsible process develop...</td>\n",
              "    </tr>\n",
              "  </tbody>\n",
              "</table>\n",
              "</div>\n",
              "    <div class=\"colab-df-buttons\">\n",
              "\n",
              "  <div class=\"colab-df-container\">\n",
              "    <button class=\"colab-df-convert\" onclick=\"convertToInteractive('df-65754ced-1882-4406-9358-772380836655')\"\n",
              "            title=\"Convert this dataframe to an interactive table.\"\n",
              "            style=\"display:none;\">\n",
              "\n",
              "  <svg xmlns=\"http://www.w3.org/2000/svg\" height=\"24px\" viewBox=\"0 -960 960 960\">\n",
              "    <path d=\"M120-120v-720h720v720H120Zm60-500h600v-160H180v160Zm220 220h160v-160H400v160Zm0 220h160v-160H400v160ZM180-400h160v-160H180v160Zm440 0h160v-160H620v160ZM180-180h160v-160H180v160Zm440 0h160v-160H620v160Z\"/>\n",
              "  </svg>\n",
              "    </button>\n",
              "\n",
              "  <style>\n",
              "    .colab-df-container {\n",
              "      display:flex;\n",
              "      gap: 12px;\n",
              "    }\n",
              "\n",
              "    .colab-df-convert {\n",
              "      background-color: #E8F0FE;\n",
              "      border: none;\n",
              "      border-radius: 50%;\n",
              "      cursor: pointer;\n",
              "      display: none;\n",
              "      fill: #1967D2;\n",
              "      height: 32px;\n",
              "      padding: 0 0 0 0;\n",
              "      width: 32px;\n",
              "    }\n",
              "\n",
              "    .colab-df-convert:hover {\n",
              "      background-color: #E2EBFA;\n",
              "      box-shadow: 0px 1px 2px rgba(60, 64, 67, 0.3), 0px 1px 3px 1px rgba(60, 64, 67, 0.15);\n",
              "      fill: #174EA6;\n",
              "    }\n",
              "\n",
              "    .colab-df-buttons div {\n",
              "      margin-bottom: 4px;\n",
              "    }\n",
              "\n",
              "    [theme=dark] .colab-df-convert {\n",
              "      background-color: #3B4455;\n",
              "      fill: #D2E3FC;\n",
              "    }\n",
              "\n",
              "    [theme=dark] .colab-df-convert:hover {\n",
              "      background-color: #434B5C;\n",
              "      box-shadow: 0px 1px 3px 1px rgba(0, 0, 0, 0.15);\n",
              "      filter: drop-shadow(0px 1px 2px rgba(0, 0, 0, 0.3));\n",
              "      fill: #FFFFFF;\n",
              "    }\n",
              "  </style>\n",
              "\n",
              "    <script>\n",
              "      const buttonEl =\n",
              "        document.querySelector('#df-65754ced-1882-4406-9358-772380836655 button.colab-df-convert');\n",
              "      buttonEl.style.display =\n",
              "        google.colab.kernel.accessAllowed ? 'block' : 'none';\n",
              "\n",
              "      async function convertToInteractive(key) {\n",
              "        const element = document.querySelector('#df-65754ced-1882-4406-9358-772380836655');\n",
              "        const dataTable =\n",
              "          await google.colab.kernel.invokeFunction('convertToInteractive',\n",
              "                                                    [key], {});\n",
              "        if (!dataTable) return;\n",
              "\n",
              "        const docLinkHtml = 'Like what you see? Visit the ' +\n",
              "          '<a target=\"_blank\" href=https://colab.research.google.com/notebooks/data_table.ipynb>data table notebook</a>'\n",
              "          + ' to learn more about interactive tables.';\n",
              "        element.innerHTML = '';\n",
              "        dataTable['output_type'] = 'display_data';\n",
              "        await google.colab.output.renderOutput(dataTable, element);\n",
              "        const docLink = document.createElement('div');\n",
              "        docLink.innerHTML = docLinkHtml;\n",
              "        element.appendChild(docLink);\n",
              "      }\n",
              "    </script>\n",
              "  </div>\n",
              "\n",
              "\n",
              "<div id=\"df-4a01430e-7b08-4d73-bce5-3d022f134059\">\n",
              "  <button class=\"colab-df-quickchart\" onclick=\"quickchart('df-4a01430e-7b08-4d73-bce5-3d022f134059')\"\n",
              "            title=\"Suggest charts\"\n",
              "            style=\"display:none;\">\n",
              "\n",
              "<svg xmlns=\"http://www.w3.org/2000/svg\" height=\"24px\"viewBox=\"0 0 24 24\"\n",
              "     width=\"24px\">\n",
              "    <g>\n",
              "        <path d=\"M19 3H5c-1.1 0-2 .9-2 2v14c0 1.1.9 2 2 2h14c1.1 0 2-.9 2-2V5c0-1.1-.9-2-2-2zM9 17H7v-7h2v7zm4 0h-2V7h2v10zm4 0h-2v-4h2v4z\"/>\n",
              "    </g>\n",
              "</svg>\n",
              "  </button>\n",
              "\n",
              "<style>\n",
              "  .colab-df-quickchart {\n",
              "      --bg-color: #E8F0FE;\n",
              "      --fill-color: #1967D2;\n",
              "      --hover-bg-color: #E2EBFA;\n",
              "      --hover-fill-color: #174EA6;\n",
              "      --disabled-fill-color: #AAA;\n",
              "      --disabled-bg-color: #DDD;\n",
              "  }\n",
              "\n",
              "  [theme=dark] .colab-df-quickchart {\n",
              "      --bg-color: #3B4455;\n",
              "      --fill-color: #D2E3FC;\n",
              "      --hover-bg-color: #434B5C;\n",
              "      --hover-fill-color: #FFFFFF;\n",
              "      --disabled-bg-color: #3B4455;\n",
              "      --disabled-fill-color: #666;\n",
              "  }\n",
              "\n",
              "  .colab-df-quickchart {\n",
              "    background-color: var(--bg-color);\n",
              "    border: none;\n",
              "    border-radius: 50%;\n",
              "    cursor: pointer;\n",
              "    display: none;\n",
              "    fill: var(--fill-color);\n",
              "    height: 32px;\n",
              "    padding: 0;\n",
              "    width: 32px;\n",
              "  }\n",
              "\n",
              "  .colab-df-quickchart:hover {\n",
              "    background-color: var(--hover-bg-color);\n",
              "    box-shadow: 0 1px 2px rgba(60, 64, 67, 0.3), 0 1px 3px 1px rgba(60, 64, 67, 0.15);\n",
              "    fill: var(--button-hover-fill-color);\n",
              "  }\n",
              "\n",
              "  .colab-df-quickchart-complete:disabled,\n",
              "  .colab-df-quickchart-complete:disabled:hover {\n",
              "    background-color: var(--disabled-bg-color);\n",
              "    fill: var(--disabled-fill-color);\n",
              "    box-shadow: none;\n",
              "  }\n",
              "\n",
              "  .colab-df-spinner {\n",
              "    border: 2px solid var(--fill-color);\n",
              "    border-color: transparent;\n",
              "    border-bottom-color: var(--fill-color);\n",
              "    animation:\n",
              "      spin 1s steps(1) infinite;\n",
              "  }\n",
              "\n",
              "  @keyframes spin {\n",
              "    0% {\n",
              "      border-color: transparent;\n",
              "      border-bottom-color: var(--fill-color);\n",
              "      border-left-color: var(--fill-color);\n",
              "    }\n",
              "    20% {\n",
              "      border-color: transparent;\n",
              "      border-left-color: var(--fill-color);\n",
              "      border-top-color: var(--fill-color);\n",
              "    }\n",
              "    30% {\n",
              "      border-color: transparent;\n",
              "      border-left-color: var(--fill-color);\n",
              "      border-top-color: var(--fill-color);\n",
              "      border-right-color: var(--fill-color);\n",
              "    }\n",
              "    40% {\n",
              "      border-color: transparent;\n",
              "      border-right-color: var(--fill-color);\n",
              "      border-top-color: var(--fill-color);\n",
              "    }\n",
              "    60% {\n",
              "      border-color: transparent;\n",
              "      border-right-color: var(--fill-color);\n",
              "    }\n",
              "    80% {\n",
              "      border-color: transparent;\n",
              "      border-right-color: var(--fill-color);\n",
              "      border-bottom-color: var(--fill-color);\n",
              "    }\n",
              "    90% {\n",
              "      border-color: transparent;\n",
              "      border-bottom-color: var(--fill-color);\n",
              "    }\n",
              "  }\n",
              "</style>\n",
              "\n",
              "  <script>\n",
              "    async function quickchart(key) {\n",
              "      const quickchartButtonEl =\n",
              "        document.querySelector('#' + key + ' button');\n",
              "      quickchartButtonEl.disabled = true;  // To prevent multiple clicks.\n",
              "      quickchartButtonEl.classList.add('colab-df-spinner');\n",
              "      try {\n",
              "        const charts = await google.colab.kernel.invokeFunction(\n",
              "            'suggestCharts', [key], {});\n",
              "      } catch (error) {\n",
              "        console.error('Error during call to suggestCharts:', error);\n",
              "      }\n",
              "      quickchartButtonEl.classList.remove('colab-df-spinner');\n",
              "      quickchartButtonEl.classList.add('colab-df-quickchart-complete');\n",
              "    }\n",
              "    (() => {\n",
              "      let quickchartButtonEl =\n",
              "        document.querySelector('#df-4a01430e-7b08-4d73-bce5-3d022f134059 button');\n",
              "      quickchartButtonEl.style.display =\n",
              "        google.colab.kernel.accessAllowed ? 'block' : 'none';\n",
              "    })();\n",
              "  </script>\n",
              "</div>\n",
              "\n",
              "    </div>\n",
              "  </div>\n"
            ],
            "application/vnd.google.colaboratory.intrinsic+json": {
              "type": "dataframe",
              "variable_name": "combined_df",
              "summary": "{\n  \"name\": \"combined_df\",\n  \"rows\": 28274,\n  \"fields\": [\n    {\n      \"column\": \"id\",\n      \"properties\": {\n        \"dtype\": \"number\",\n        \"std\": 9783,\n        \"min\": 1001,\n        \"max\": 34746,\n        \"num_unique_values\": 28274,\n        \"samples\": [\n          7329,\n          8181,\n          1346\n        ],\n        \"semantic_type\": \"\",\n        \"description\": \"\"\n      }\n    },\n    {\n      \"column\": \"job_title\",\n      \"properties\": {\n        \"dtype\": \"string\",\n        \"num_unique_values\": 19674,\n        \"samples\": [\n          \"Cluster Manager Sales Internet Bali\",\n          \"Operator Jahit/Sewing\",\n          \"Jurnalis Financial\"\n        ],\n        \"semantic_type\": \"\",\n        \"description\": \"\"\n      }\n    },\n    {\n      \"column\": \"location\",\n      \"properties\": {\n        \"dtype\": \"category\",\n        \"num_unique_values\": 198,\n        \"samples\": [\n          \"Sukabumi\",\n          \"Sulawesi Selatan\",\n          \"Jambi\"\n        ],\n        \"semantic_type\": \"\",\n        \"description\": \"\"\n      }\n    },\n    {\n      \"column\": \"salary_currency\",\n      \"properties\": {\n        \"dtype\": \"category\",\n        \"num_unique_values\": 2,\n        \"samples\": [\n          \"USD\",\n          \"IDR\"\n        ],\n        \"semantic_type\": \"\",\n        \"description\": \"\"\n      }\n    },\n    {\n      \"column\": \"career_level\",\n      \"properties\": {\n        \"dtype\": \"category\",\n        \"num_unique_values\": 6,\n        \"samples\": [\n          \"Supervisor/Koordinator\",\n          \"Pegawai (non-manajemen & non-supervisor)\"\n        ],\n        \"semantic_type\": \"\",\n        \"description\": \"\"\n      }\n    },\n    {\n      \"column\": \"experience_level\",\n      \"properties\": {\n        \"dtype\": \"category\",\n        \"num_unique_values\": 20,\n        \"samples\": [\n          \"3 tahun\",\n          \"17 tahun\"\n        ],\n        \"semantic_type\": \"\",\n        \"description\": \"\"\n      }\n    },\n    {\n      \"column\": \"education_level\",\n      \"properties\": {\n        \"dtype\": \"category\",\n        \"num_unique_values\": 21,\n        \"samples\": [\n          \"Sertifikat Professional, D3 (Diploma), D4 (Diploma), Sarjana (S1)\",\n          \"Sarjana (S1), Diploma Pascasarjana, Gelar Professional\"\n        ],\n        \"semantic_type\": \"\",\n        \"description\": \"\"\n      }\n    },\n    {\n      \"column\": \"employment_type\",\n      \"properties\": {\n        \"dtype\": \"category\",\n        \"num_unique_values\": 9,\n        \"samples\": [\n          \"Temporer, Magang\",\n          \"Kontrak\"\n        ],\n        \"semantic_type\": \"\",\n        \"description\": \"\"\n      }\n    },\n    {\n      \"column\": \"job_function\",\n      \"properties\": {\n        \"dtype\": \"category\",\n        \"num_unique_values\": 68,\n        \"samples\": [\n          \"Penjualan / Pemasaran,Digital Marketing\",\n          \"Layanan Kesehatan,Farmasi\"\n        ],\n        \"semantic_type\": \"\",\n        \"description\": \"\"\n      }\n    },\n    {\n      \"column\": \"job_benefits\",\n      \"properties\": {\n        \"dtype\": \"category\",\n        \"num_unique_values\": 3144,\n        \"samples\": [\n          \"Tip;Asuransi kesehatan;Parkir;BPJS KESEHATAN DAN BPJS KETENAGAKERJAAN;Formal;Monday - Saturday\",\n          \"Asuransi kesehatan;Formil (contoh: Kemeja + Dasi);Senin-Jumat (holding company) - Senin-Sabtu (manufacture & trading)\"\n        ],\n        \"semantic_type\": \"\",\n        \"description\": \"\"\n      }\n    },\n    {\n      \"column\": \"company_process_time\",\n      \"properties\": {\n        \"dtype\": \"category\",\n        \"num_unique_values\": 30,\n        \"samples\": [\n          \"10 days\",\n          \"4 days\"\n        ],\n        \"semantic_type\": \"\",\n        \"description\": \"\"\n      }\n    },\n    {\n      \"column\": \"company_size\",\n      \"properties\": {\n        \"dtype\": \"category\",\n        \"num_unique_values\": 7,\n        \"samples\": [\n          \"1001 - 2000 pekerja\",\n          \"51 - 200 pekerja\"\n        ],\n        \"semantic_type\": \"\",\n        \"description\": \"\"\n      }\n    },\n    {\n      \"column\": \"company_industry\",\n      \"properties\": {\n        \"dtype\": \"category\",\n        \"num_unique_values\": 58,\n        \"samples\": [\n          \"Manufaktur/Produksi\",\n          \"Konstruksi/Bangunan/Teknik\"\n        ],\n        \"semantic_type\": \"\",\n        \"description\": \"\"\n      }\n    },\n    {\n      \"column\": \"job_description\",\n      \"properties\": {\n        \"dtype\": \"string\",\n        \"num_unique_values\": 28262,\n        \"samples\": [\n          \"Deskripsi PekerjaanMembuat laporan hutang dagang dan analisa umur hutangMenghitung Pajak\\u00a0Membuat rekonsiliasi pajak, bank dan PPNCek JurnalMenghitung AR dan APMenghitung HPPUpdate dengan perpajakanPersyaratan:Pendidikan minimal D1/S1 AkuntansiMaksimal usia 26 tahunMenguasai dasar-dasar akuntansi/jurnal basic/PSAK,dllMemiliki kemampuan analisa yang baikMempunyai pengalaman di bidang akuntansi minimal 1 tahunTeliti, detail, cekatan, proaktif dan mampu bekerja dibawah tekananMemiliki kemampuan komunikasi yang baik dan dapat bekerja dengan teamBisa membuat Jurnal dan Laporan KeuanganJujur, disiplin dan bertanggung jawabTerbiasa menggunakan MYOB, Accurate dan Zahir menjadi nilai plus\",\n          \"Responsibilities:Your duties will include (but will not be limited to):Designing module & syllabus training program appropriate to the skills neededMaintaining training records. Keep and report data on completed courses, issues, etcMaterial Enhancement and Constant Feedback to traineeLearning many new technologies to fulfill different objectivesRequirements:Bachelor Degree in Computer Science, IT, Engineering, Science & Education or related fieldsMinimum 1 year prior experience as a trainer is preferred.Good knowledge on Backend, Frontend, Mobile ProgrammingStrong communication skills, both verbal and written.Strong knowledge on Object-Oriented Programming, Data Structures, DBMS and Algorithms in-depth.Flexible and adaptable in regards to learning and understanding new technologies.Having proficiency on at least one programming language is a plusFluent in English both verbal and written.Excellent creative, analytical and conceptual thinking abilitiesExcellent communication skill, interpersonal skill, proactive, and discipline.Highly self-motivated and directed.A patient and friendly approach to teachingHigh energy, enthusiastic, encouraging training style\"\n        ],\n        \"semantic_type\": \"\",\n        \"description\": \"\"\n      }\n    },\n    {\n      \"column\": \"salary\",\n      \"properties\": {\n        \"dtype\": \"number\",\n        \"std\": 23786415.13407935,\n        \"min\": 10.0,\n        \"max\": 2000000000.0,\n        \"num_unique_values\": 561,\n        \"samples\": [\n          3299055.0,\n          7440000.0\n        ],\n        \"semantic_type\": \"\",\n        \"description\": \"\"\n      }\n    },\n    {\n      \"column\": \"clean_data\",\n      \"properties\": {\n        \"dtype\": \"string\",\n        \"num_unique_values\": 28215,\n        \"samples\": [\n          \"qualification able speak mandarin actively willing teach offline mataram surrounding area fresh graduate welcome apply full time part time position able get attractive salary application sent directly\",\n          \"responsibility prepare control import document ensure monitor import shipment schedule process according schedule follow import flow activity port consignee ensure completeness supporting import document correct complete import process good according consignee request understand master creation pib receipt imported good qualification minimum education associate degree bachelor maximum age thirty three year old must worked company forwarding minimum two year import experience proactive agile active english salary negotiable\"\n        ],\n        \"semantic_type\": \"\",\n        \"description\": \"\"\n      }\n    }\n  ]\n}"
            }
          },
          "metadata": {},
          "execution_count": 41
        }
      ]
    },
    {
      "cell_type": "code",
      "source": [
        "combined_df.info()"
      ],
      "metadata": {
        "colab": {
          "base_uri": "https://localhost:8080/"
        },
        "id": "GFVMC75tEQ2J",
        "outputId": "12d8ff1b-e762-4e69-c905-187349f21568"
      },
      "execution_count": null,
      "outputs": [
        {
          "output_type": "stream",
          "name": "stdout",
          "text": [
            "<class 'pandas.core.frame.DataFrame'>\n",
            "Index: 28215 entries, 0 to 28273\n",
            "Data columns (total 3 columns):\n",
            " #   Column       Non-Null Count  Dtype \n",
            "---  ------       --------------  ----- \n",
            " 0   id           28215 non-null  int64 \n",
            " 1   clean_data   28215 non-null  object\n",
            " 2   text_length  28215 non-null  int64 \n",
            "dtypes: int64(2), object(1)\n",
            "memory usage: 881.7+ KB\n"
          ]
        }
      ]
    },
    {
      "cell_type": "code",
      "source": [
        "combined_df"
      ],
      "metadata": {
        "colab": {
          "base_uri": "https://localhost:8080/"
        },
        "id": "AOI8wjgE3oAU",
        "outputId": "20f7aa14-d46a-4237-e4da-58e594ed8c06"
      },
      "execution_count": null,
      "outputs": [
        {
          "output_type": "execute_result",
          "data": {
            "text/plain": [
              "0        procurement exim supervisor requirement 1 leas...\n",
              "1        qualification open age minimum education high ...\n",
              "2        requirement bachelor degree equivalent design ...\n",
              "3        crave freedom work get comfort zone faster sig...\n",
              "4        job responsibility responsible process develop...\n",
              "                               ...                        \n",
              "28269    x end provides payment infrastructure across s...\n",
              "28270    qualification data analysis skill interpersona...\n",
              "28271    responsibility identify new sale opportunity d...\n",
              "28272    work healthy comfortable work environment get ...\n",
              "28273    finance staff required minimum one year experi...\n",
              "Name: clean_data, Length: 28215, dtype: object"
            ]
          },
          "metadata": {},
          "execution_count": 33
        }
      ]
    },
    {
      "cell_type": "code",
      "source": [
        "duplicate_count = combined_df.duplicated(subset='clean_data').sum()\n",
        "\n",
        "print(f\"Number of duplicate rows': {duplicate_count}\")"
      ],
      "metadata": {
        "colab": {
          "base_uri": "https://localhost:8080/"
        },
        "id": "1TbiU2ScET3o",
        "outputId": "456300da-e498-461f-ab95-64e8307c5f3b"
      },
      "execution_count": null,
      "outputs": [
        {
          "output_type": "stream",
          "name": "stdout",
          "text": [
            "Number of duplicate rows': 0\n"
          ]
        }
      ]
    },
    {
      "cell_type": "code",
      "source": [
        "combined_df = combined_df.drop_duplicates(subset=['clean_data'])"
      ],
      "metadata": {
        "id": "LEMYqKm_EgBg"
      },
      "execution_count": null,
      "outputs": []
    },
    {
      "cell_type": "code",
      "source": [
        "combined_df.dropna(subset='clean_data', inplace=True)"
      ],
      "metadata": {
        "id": "f4HMDTzh3OD9"
      },
      "execution_count": null,
      "outputs": []
    },
    {
      "cell_type": "code",
      "source": [
        "combined_df = combined_df[['id', 'clean_data']]"
      ],
      "metadata": {
        "id": "dbzRN_Tq3fLs"
      },
      "execution_count": null,
      "outputs": []
    },
    {
      "cell_type": "code",
      "source": [
        "combined_df['text_length'] = combined_df['clean_data'].apply(lambda x: len(x.split()))\n",
        "print(combined_df['text_length'].describe())"
      ],
      "metadata": {
        "colab": {
          "base_uri": "https://localhost:8080/"
        },
        "id": "XMUX2pdP4uZK",
        "outputId": "19de4a77-3b49-4c56-e74e-9d7060e07371"
      },
      "execution_count": null,
      "outputs": [
        {
          "output_type": "stream",
          "name": "stdout",
          "text": [
            "count    28203.000000\n",
            "mean        99.610396\n",
            "std         72.998763\n",
            "min         12.000000\n",
            "25%         55.000000\n",
            "50%         81.000000\n",
            "75%        121.000000\n",
            "max       2134.000000\n",
            "Name: text_length, dtype: float64\n"
          ]
        }
      ]
    },
    {
      "cell_type": "code",
      "source": [
        "combined_df = combined_df[combined_df['text_length'] > 10]"
      ],
      "metadata": {
        "id": "kb0M5M4f46b7"
      },
      "execution_count": null,
      "outputs": []
    },
    {
      "cell_type": "code",
      "source": [
        "from collections import Counter\n",
        "from wordcloud import WordCloud\n",
        "import matplotlib.pyplot as plt\n",
        "\n",
        "all_words = ' '.join(df['clean_data']).split()\n",
        "word_freq = Counter(all_words)\n",
        "print(word_freq.most_common()[:-10001:-1])"
      ],
      "metadata": {
        "colab": {
          "base_uri": "https://localhost:8080/"
        },
        "id": "3p1D4-cTENYR",
        "outputId": "a69bf937-b817-4b10-b879-d500305e90a3"
      },
      "execution_count": null,
      "outputs": [
        {
          "output_type": "stream",
          "name": "stdout",
          "text": [
            "[('luminary', 5), ('indigo', 5), ('miller', 5), ('barry', 5), ('zona', 5), ('iata', 5), ('bnt', 5), ('pave', 5), ('responsibil', 5), ('pdr', 5), ('didata', 5), ('geng', 5), ('kopedialazadabukalapakj', 5), ('hashimoto', 5), ('simulate', 5), ('kode', 5), ('mexico', 5), ('interbank', 5), ('covidnineteendose2', 5), ('provoke', 5), ('shipboard', 5), ('rks', 5), ('imds', 5), ('ccps', 5), ('italian', 5), ('spgm', 5), ('minimalist', 5), ('funders', 5), ('trustsafety', 5), ('mercury', 5), ('dge', 5), ('grohe', 5), ('jsg', 5), ('jel', 5), ('ahs', 5), ('excluding', 5), ('uc', 5), ('controling', 5), ('dhtml', 5), ('flavour', 5), ('ajia', 5), ('mauri', 5), ('runtime', 5), ('skp', 5), ('buk', 5), ('extinguishing', 5), ('joomla', 5), ('dear', 5), ('attractively', 5), ('beng', 5), ('gulp', 5), ('5s5r', 5), ('eyebrow', 5), ('france', 5), ('mined', 5), ('inb2b', 5), ('sbo', 5), ('orci', 5), ('rosalia', 5), ('destroy', 5), ('wont', 5), ('hupvray', 5), ('uniting', 5), ('riverbed', 5), ('unsuccessful', 5), ('invalid', 5), ('bening', 5), ('dma', 5), ('nawa', 5), ('ctm', 5), ('towel', 5), ('gla', 5), ('cxo', 5), ('ocr', 5), ('limb', 5), ('ptkiranamegataratbk', 5), ('noise', 5), ('sanity', 5), ('replenishing', 5), ('ergonomic', 5), ('remedy', 5), ('msds', 5), ('zero000', 5), ('ncrs', 5), ('sparring', 5), ('restored', 5), ('hindsight', 5), ('ecatalog', 5), ('1stdose', 5), ('requi', 5), ('flood', 5), ('ifm', 5), ('wpm', 5), ('hypertext', 5), ('galileo', 5), ('ssc', 5), ('sealant', 5), ('dha', 5), ('kompas', 5), ('kw', 5), ('akamas', 5), ('twonine2022', 5), ('sire', 5), ('ron', 5), ('bei', 5), ('nonmedical', 5), ('outward', 5), ('eloquent', 5), ('chick', 5), ('pren', 5), ('lumpur', 5), ('unpacking', 5), ('stoppage', 5), ('exclude', 5), ('bpjshealthbpjstk', 5), ('saleh', 5), ('featuring', 5), ('umrah', 5), ('abundant', 5), ('bird', 5), ('depositing', 5), ('coso', 5), ('mgr', 5), ('reak', 5), ('bantex', 5), ('clientele', 5), ('reactivation', 5), ('ptl', 5), ('numerate', 5), ('stevedoring', 5), ('terminated', 5), ('referenced', 5), ('ferrari', 5), ('fox', 5), ('hasbro', 5), ('illumination', 5), ('disney', 5), ('dragon', 5), ('saga', 5), ('decline', 5), ('arc', 5), ('wireline', 5), ('keynote', 5), ('shopkeeper', 5), ('pronunciation', 5), ('promised', 5), ('nearly', 5), ('seriousness', 5), ('kddi', 5), ('csmsandk3lh', 5), ('collectively', 5), ('8attentiontodetail9', 5), ('visualizer', 5), ('slitting', 5), ('leased', 5), ('sore', 5), ('guy', 5), ('videogames', 5), ('nicotine', 5), ('matrixed', 5), ('fw', 5), ('tub', 5), ('practicable', 5), ('rkh', 5), ('barang', 5), ('suk', 5), ('obsolescence', 5), ('altus', 5), ('dsn', 5), ('kookmin', 5), ('trough', 5), ('cma', 5), ('paycheck', 5), ('butcher', 5), ('businessobjects', 5), ('afdeling', 5), ('tania', 5), ('csv', 5), ('conceive', 5), ('caller', 5), ('ibu', 5), ('retouch', 5), ('rene', 5), ('smo', 5), ('summarized', 5), ('pleasure', 5), ('blessing', 5), ('locating', 5), ('dye', 5), ('restock', 5), ('integra', 5), ('crafted', 5), ('dataset', 5), ('psg', 5), ('lij', 5), ('siar', 5), ('olam', 5), ('honeywell', 5), ('kep', 5), ('jacob', 5), ('homepage', 5), ('spgb', 5), ('pasir', 5), ('putty', 5), ('exhaustive', 5), ('ventura', 5), ('township', 5), ('provocative', 5), ('provoking', 5), ('cmdb', 5), ('csd', 5), ('traineeship', 5), ('cyberspace', 5), ('nam', 5), ('masspro', 5), ('ldap', 5), ('mx', 5), ('tacking', 5), ('tenor', 5), ('ims', 5), ('kim', 5), ('militant', 5), ('veracity', 5), ('dforcovid19', 5), ('moderator', 5), ('pressurized', 5), ('l1', 5), ('kapor', 5), ('xray', 5), ('ating', 5), ('sponge', 5), ('transformed', 5), ('bps', 5), ('arin', 5), ('actuals', 5), ('hf', 5), ('poet', 5), ('toxic', 5), ('gpamintwo75', 5), ('bondo', 5), ('unsecured', 5), ('smuin', 5), ('pls', 5), ('christian', 5), ('bolster', 5), ('masterlist', 5), ('rebranding', 5), ('frontends', 5), ('dna', 5), ('srp', 5), ('pex', 5), ('jung', 5), ('mksm', 5), ('telkomsel', 5), ('silo', 5), ('scj', 5), ('activating', 5), ('entertain', 5), ('sqa', 5), ('che', 5), ('trillion', 5), ('designation', 5), ('paging', 5), ('45001', 5), ('ifications', 5), ('renewed', 5), ('federation', 5), ('mika', 5), ('oso', 5), ('addie', 5), ('erosion', 5), ('vely', 5), ('relatable', 5), ('woda', 5), ('cameraman', 5), ('coachable', 5), ('nvr', 5), ('detrimental', 5), ('synthesizing', 5), ('organisation', 5), ('thankyou', 5), ('failing', 5), ('refilling', 5), ('cleanup', 5), ('dob', 5), ('touching', 5), ('shiny', 5), ('fabulous', 5), ('corporately', 5), ('compositing', 5), ('inserting', 5), ('yong', 5), ('greatly', 5), ('influent', 5), ('25', 5), ('defending', 5), ('freebsd', 5), ('occupied', 5), ('jdbc', 5), ('matlab', 5), ('cfu', 5), ('smm', 5), ('bpd', 5), ('motley', 5), ('ther', 5), ('taru', 5), ('ruki', 5), ('efficacy', 5), ('simab1', 5), ('nkk', 5), ('echo', 5), ('viu', 5), ('csi', 5), ('coworker', 5), ('netbeans', 5), ('batik', 5), ('cleveland', 5), ('insufficient', 5), ('toki', 5), ('pipefitting', 5), ('malay', 5), ('doer', 5), ('preasure', 5), ('globalized', 5), ('videoconferencing', 5), ('compass', 5), ('4d', 5), ('agritech', 5), ('detention', 5), ('s5th', 5), ('magna', 5), ('spi', 5), ('excuse', 5), ('superimpose', 5), ('silk', 5), ('vitamin', 5), ('poct', 5), ('oc', 5), ('happened', 5), ('recovered', 5), ('pork', 5), ('denim', 5), ('orm', 5), ('informally', 5), ('cadre', 5), ('examined', 5), ('sahid', 5), ('b2bb2g', 5), ('mediating', 5), ('kangrahaarterimaskav63jl', 5), ('aiml', 5), ('evangelize', 5), ('badge', 5), ('charming', 5), ('conversing', 5), ('fulfilment', 5), ('prd', 5), ('communicatively', 5), ('meps', 5), ('bodypaint', 5), ('dhd', 5), ('holistically', 5), ('bib', 5), ('poured', 5), ('koran', 5), ('medias', 5), ('bur', 5), ('familar', 5), ('freshwater', 5), ('mater', 5), ('foc', 5), ('imposed', 5), ('zing', 5), ('dior', 5), ('decides', 5), ('npv', 5), ('chl', 5), ('harmoni', 5), ('bs', 5), ('bpa', 5), ('veritas', 5), ('sensing', 5), ('geomatics', 5), ('loc', 5), ('pumping', 5), ('delicate', 5), ('briefly', 5), ('colour', 5), ('ifs', 5), ('intel', 5), ('cin', 5), ('reassemble', 5), ('harnessing', 5), ('rehab', 5), ('ltl', 5), ('barber', 5), ('rector', 5), ('eom', 5), ('drawn', 5), ('naming', 5), ('rml', 5), ('bia', 5), ('proactivity', 5), ('enterprisewide', 5), ('criticality', 5), ('aux', 5), ('osaka', 5), ('rcm', 5), ('operationalizing', 5), ('leather', 5), ('freshness', 5), ('gray', 5), ('rabin', 5), ('intraday', 5), ('hotpot', 5), ('pekka', 5), ('elite', 5), ('microphone', 5), ('magic', 5), ('verklaringandskck', 5), ('blazer', 5), ('toolsets', 5), ('borobudur', 5), ('18', 5), ('togetherness', 5), ('worl', 5), ('appreciates', 5), ('organising', 5), ('soldering', 5), ('hbl', 5), ('jemb', 5), ('wook', 5), ('accomplishes', 5), ('stender', 5), ('macromedia', 5), ('testcases', 5), ('dio', 5), ('detected', 5), ('y', 5), ('fl', 5), ('reconditioned', 5), ('otb', 5), ('intonation', 5), ('bing', 5), ('ppa', 5), ('haircutting', 5), ('rees', 5), ('rey', 5), ('nai', 5), ('euc', 5), ('mitigated', 5), ('fabricator', 5), ('adsinstagramadstiktokads', 5), ('boxcar', 5), ('adf', 5), ('den', 5), ('oya', 5), ('ritual', 5), ('ruhe', 5), ('sanitaryware', 5), ('der', 5), ('tren', 5), ('kat', 5), ('absorption', 5), ('smak', 5), ('tightening', 5), ('iteratively', 5), ('amplitude', 5), ('miami', 5), ('ped', 5), ('intimate', 5), ('transdisciplinary', 5), ('eger', 5), ('trendsetter', 5), ('purifier', 5), ('tre', 5), ('reflective', 5), ('exempt', 5), ('interp', 5), ('laz', 5), ('tpo', 5), ('nothing', 5), ('qual', 5), ('ian', 5), ('embarking', 5), ('throw', 5), ('toolkits', 5), ('lir', 5), ('mum', 5), ('sterilize', 5), ('gay', 5), ('nest', 5), ('macintosh', 5), ('qualifi', 5), ('fried', 5), ('servo', 5), ('merchandize', 5), ('firing', 5), ('msn', 5), ('uniqueness', 5), ('multidimensional', 5), ('explainer', 5), ('ecn', 5), ('esd', 5), ('beit', 5), ('bomb', 5), ('emc', 5), ('nasdaq', 5), ('fy', 5), ('bog', 5), ('settled', 5), ('ulus', 5), ('leba', 5), ('sdm', 5), ('matahari', 5), ('ilcs', 5), ('hong', 5), ('paperless', 5), ('martech', 5), ('hyperion', 5), ('sacrificing', 5), ('hajj', 5), ('smith', 5), ('edms', 5), ('fence', 5), ('asc', 5), ('bro', 5), ('knockout', 5), ('endeavor', 5), ('rpt', 5), ('gunnebo', 5), ('csc', 5), ('geotech', 5), ('accent', 5), ('kubu', 5), ('bagging', 5), ('broadly', 5), ('laid', 5), ('discounted', 5), ('role2', 5), ('vms', 5), ('sediment', 5), ('responsiblity', 5), ('remediate', 5), ('uncollected', 5), ('phr', 5), ('hospitalized', 5), ('vl5vl', 5), ('hmo', 5), ('ineffective', 5), ('tug', 5), ('baja', 5), ('alum', 5), ('kpop', 5), ('respectable', 5), ('backoffice', 5), ('infusion', 5), ('checkins', 5), ('beta', 5), ('curiousity', 5), ('savory', 5), ('bypass', 5), ('turbo', 5), ('wen', 5), ('wit', 5), ('mise', 5), ('herbicide', 5), ('tiki', 5), ('withheld', 5), ('babe', 5), ('float', 5), ('statute', 5), ('fond', 5), ('continent', 5), ('olympic', 5), ('phan', 5), ('adequately', 5), ('vinyl', 5), ('kite', 5), ('funneling', 5), ('pjb', 5), ('monetary', 5), ('suspicion', 5), ('erlang', 5), ('academia', 5), ('mainstreaming', 5), ('daruma', 5), ('mailer', 5), ('portioning', 5), ('til', 5), ('quantification', 5), ('categorization', 5), ('repacking', 5), ('kd', 5), ('ldml', 5), ('caters', 5), ('uli', 5), ('articulated', 5), ('pela', 5), ('sgu', 5), ('slaughterhouse', 5), ('haki', 5), ('milang', 5), ('pc2000liebherrr996r9350', 5), ('ex3600ex2600', 5), ('amplifying', 5), ('malam', 5), ('redemption', 5), ('manuscript', 5), ('bpmn', 5), ('nira', 5), ('segregation', 5), ('ico', 5), ('fsc', 5), ('unwavering', 5), ('invention', 5), ('jos', 5), ('mh', 5), ('slope', 5), ('excite', 5), ('suksesgratyo', 5), ('empowers', 5), ('altar', 5), ('soliciting', 5), ('compressed', 5), ('stain', 5), ('residency', 5), ('abide', 5), ('spanish', 5), ('oms', 5), ('interagency', 5), ('avr', 5), ('nongovernmental', 5), ('intergovernmental', 5), ('instantly', 5), ('gypsum', 5), ('zeni', 5), ('raden', 5), ('greenfield', 5), ('leo', 5), ('oi', 5), ('lcs', 5), ('rudimentary', 5), ('facet', 5), ('puchasing', 5), ('webstore', 5), ('seca', 5), ('seeded', 5), ('bankable', 5), ('payfazzxfersmodalrakyat', 5), ('conf', 5), ('din', 5), ('envision', 5), ('plated', 5), ('vault', 5), ('rpo', 5), ('vibe', 5), ('charismatic', 5), ('omnibus', 5), ('aboitizbrandspilmico', 5), ('boit', 5), ('attrition', 5), ('maid', 5), ('blib', 5), ('emp', 5), ('rebate', 5), ('ggu', 5), ('pembangunan', 5), ('toraja', 5), ('reliant', 5), ('connector', 5), ('doosan', 5), ('wse', 5), ('bankruptcy', 5), ('custody', 5), ('incubator', 5), ('reversal', 5), ('apl', 5), ('rps', 5), ('aips', 5), ('blocking', 5), ('ged', 5), ('plugged', 5), ('35', 5), ('mcc', 5), ('worry', 5), ('spam', 5), ('bukit', 5), ('calculates', 5), ('pseudocode', 5), ('perp', 5), ('eu', 5), ('rao', 5), ('amrish', 5), ('tandon', 5), ('sandeep', 5), ('rajaram', 5), ('gokul', 5), ('d2c', 5), ('rsp', 5), ('bungo', 5), ('genre', 5), ('played', 5), ('traced', 5), ('grateful', 5), ('html5css', 5), ('mm2100cibitung', 5), ('maze', 5), ('durable', 5), ('terrain', 5), ('faa', 5), ('thumbnail', 5), ('msr', 5), ('walkin', 5), ('edd', 5), ('retired', 5), ('otr', 5), ('ccc', 5), ('zhong', 5), ('dim', 5), ('reimbursed', 5), ('cbm', 5), ('preferrably', 5), ('bugfixes', 5), ('tem', 5), ('constituency', 5), ('graded', 5), ('sounding', 5), ('ix', 5), ('cta', 5), ('leste', 5), ('timor', 5), ('luw', 5), ('insulation', 5), ('wisdom', 5), ('bidder', 5), ('punctuation', 5), ('leaner', 5), ('lintas', 5), ('aircon', 5), ('jar', 5), ('rarely', 5), ('jade', 5), ('reputed', 5), ('belong', 5), ('geologist', 5), ('ab2', 5), ('respon', 5), ('postharvest', 5), ('condiment', 5), ('pragmatism', 5), ('gitortfsinacicd', 5), ('jee', 5), ('rope', 5), ('peat', 5), ('stateless', 5), ('girly', 5), ('tiwi', 5), ('wlan', 5), ('citrix', 5), ('zip', 5), ('puncak', 5), ('notation', 5), ('homeschooling', 5), ('interfere', 5), ('gsm', 5), ('relies', 5), ('vhp', 5), ('anamnesis', 5), ('berlin', 5), ('york', 5), ('kut', 5), ('isi', 5), ('deja', 5), ('rbb', 5), ('one2022', 5), ('mentored', 5), ('bdm', 5), ('acca', 5), ('resonates', 5), ('notion', 5), ('innovates', 5), ('markdown', 5), ('scriptwriting', 5), ('flowing', 5), ('charity', 5), ('podcast', 5), ('drawback', 5), ('administered', 5), ('i', 5), ('phonics', 5), ('candi', 5), ('es6', 5), ('dome', 5), ('diving', 5), ('sudden', 5), ('otto', 5), ('videoconference', 5), ('langan', 5), ('timekeeping', 5), ('cathay', 5), ('weather', 5), ('eve', 5), ('storm', 5), ('nasi', 5), ('championing', 5), ('multidiscipline', 5), ('dermatology', 5), ('brother', 5), ('summative', 5), ('natal', 5), ('grounding', 5), ('introduces', 5), ('examines', 5), ('coreweb', 5), ('became', 5), ('zora', 5), ('arbitration', 5), ('remax', 5), ('affiliation', 5), ('overlock', 5), ('rayon', 5), ('fortune', 5), ('cummins', 5), ('ono', 5), ('river', 5), ('bong', 5), ('seem', 5), ('consolidates', 5), ('brunch', 5), ('paris', 5), ('viewpoint', 5), ('ispo', 5), ('sung', 5), ('gg', 5), ('conferencing', 5), ('coursework', 5), ('mama', 5), ('christine', 5), ('timezone', 5), ('hv', 5), ('cad3dmax', 5), ('roas', 5), ('avid', 5), ('took', 5), ('apo', 5), ('predicted', 5), ('beforehand', 5), ('pda', 5), ('amanah', 5), ('akh', 5), ('sbk', 5), ('ttk', 5), ('ppd', 5), ('butadiene', 5), ('monomer', 5), ('styrene', 5), ('polyolefins', 5), ('naphtha', 5), ('thick', 5), ('jobseeker', 5), ('isometric', 5), ('countless', 5), ('replenish', 5), ('responsi', 5), ('finalized', 5), ('chel', 5), ('useable', 5), ('agrochemicals', 5), ('complaining', 5), ('internist', 5), ('cardiovascular', 5), ('cst', 5), ('kki', 5), ('leu', 5), ('callouts', 5), ('patisserie', 5), ('abides', 5), ('iu', 5), ('sional', 5), ('jsc', 5), ('grass', 5), ('raspberry', 5), ('tesis', 5), ('berne', 5), ('cpd', 5), ('artifact', 5), ('lons', 6), ('rebuild', 6), ('hago', 6), ('ale', 6), ('pickle', 6), ('iai', 6), ('softwareaccounting', 6), ('am', 6), ('fairmont', 6), ('tos', 6), ('gatekeeper', 6), ('rocketship', 6), ('convection', 6), ('gensets', 6), ('outboard', 6), ('iqair', 6), ('dosage', 6), ('couch', 6), ('tps', 6), ('bulking', 6), ('geospatial', 6), ('booyah', 6), ('minum', 6), ('warrior', 6), ('ked', 6), ('manipulating', 6), ('workwear', 6), ('bop', 6), ('dean', 6), ('spanner', 6), ('hino', 6), ('notable', 6), ('lg', 6), ('pse', 6), ('trolley', 6), ('suspect', 6), ('renovate', 6), ('27', 6), ('esri', 6), ('strongest', 6), ('tst', 6), ('freighter', 6), ('pasta', 6), ('bob', 6), ('rumah', 6), ('tfs', 6), ('soffront', 6), ('fourm', 6), ('impacto', 6), ('qcd', 6), ('emerged', 6), ('tradition', 6), ('ipp', 6), ('portcities', 6), ('kul', 6), ('spicy', 6), ('interpreted', 6), ('cal', 6), ('vending', 6), ('avis', 6), ('stressed', 6), ('debian', 6), ('dwdm', 6), ('continual', 6), ('combat', 6), ('elio', 6), ('jub', 6), ('aster', 6), ('borrowing', 6), ('disrupted', 6), ('multilevel', 6), ('explorer', 6), ('legrand', 6), ('igi', 6), ('palus', 6), ('sanitizer', 6), ('ecf', 6), ('ising', 6), ('spl', 6), ('og', 6), ('folk', 6), ('harder', 6), ('continuation', 6), ('shoulder', 6), ('prost', 6), ('requisite', 6), ('sens', 6), ('treaty', 6), ('stove', 6), ('bola', 6), ('collage', 6), ('dermatologist', 6), ('certificated', 6), ('invent', 6), ('kpa', 6), ('pleased', 6), ('glint', 6), ('bench', 6), ('sj', 6), ('nib', 6), ('insourcing', 6), ('polish', 6), ('cpoc', 6), ('nist', 6), ('fore', 6), ('dewatering', 6), ('maz', 6), ('resides', 6), ('interdependency', 6), ('charging', 6), ('ela', 6), ('articulating', 6), ('jv', 6), ('straight', 6), ('gpc', 6), ('aversion', 6), ('uneven', 6), ('seascape', 6), ('elaborate', 6), ('fbl', 6), ('coca', 6), ('sbuhydienicsariayukalbe', 6), ('moese', 6), ('pentair', 6), ('badaklngpgntotalpjb', 6), ('prayer', 6), ('bike', 6), ('potentiality', 6), ('inability', 6), ('memorize', 6), ('solidify', 6), ('fishing', 6), ('yan', 6), ('noa', 6), ('ama', 6), ('pip', 6), ('gum', 6), ('kinh', 6), ('memorial', 6), ('seaman', 6), ('lieu', 6), ('observant', 6), ('rodan', 6), ('3pls', 6), ('esx', 6), ('tally', 6), ('addon', 6), ('titan', 6), ('daria', 6), ('celeb', 6), ('javanese', 6), ('granting', 6), ('geodetic', 6), ('ref', 6), ('kampe', 6), ('holland', 6), ('suspension', 6), ('enjoyment', 6), ('losing', 6), ('outsider', 6), ('dynamism', 6), ('fif', 6), ('trail', 6), ('uv', 6), ('celta', 6), ('reasonableness', 6), ('26', 6), ('weighting', 6), ('20', 6), ('ity', 6), ('enzyme', 6), ('breeding', 6), ('justify', 6), ('kab', 6), ('sender', 6), ('glove', 6), ('scam', 6), ('layman', 6), ('marketability', 6), ('ppo', 6), ('retailing', 6), ('borneo', 6), ('elisa', 6), ('autism', 6), ('kosmetik', 6), ('congenial', 6), ('peoplesoft', 6), ('kalan', 6), ('potato', 6), ('pau', 6), ('pbx', 6), ('slt', 6), ('cache', 6), ('towing', 6), ('waxing', 6), ('uniformly', 6), ('raff', 6), ('esteem', 6), ('compression', 6), ('slicing', 6), ('infringement', 6), ('mooring', 6), ('demurrage', 6), ('feeder', 6), ('grader', 6), ('ibt', 6), ('xcode', 6), ('anchoring', 6), ('guitar', 6), ('irr', 6), ('effortlessly', 6), ('modernize', 6), ('lima', 6), ('jw', 6), ('probe', 6), ('piro', 6), ('subinterface', 6), ('har', 6), ('oz', 6), ('feeling', 6), ('invested', 6), ('individualized', 6), ('nova', 6), ('logistik', 6), ('woven', 6), ('yogya', 6), ('shearing', 6), ('aci', 6), ('pth', 6), ('edition', 6), ('spc', 6), ('bpjshealthbpjamsostek', 6), ('certainty', 6), ('mto', 6), ('eightysix', 6), ('rai', 6), ('knowledgebase', 6), ('worldchanging', 6), ('pnl', 6), ('slimming', 6), ('biosafety', 6), ('perfecting', 6), ('earthwork', 6), ('strategie', 6), ('integrit', 6), ('infectious', 6), ('ola', 6), ('spine', 6), ('taxpayer', 6), ('kar', 6), ('nonfinancial', 6), ('confer', 6), ('landscaping', 6), ('cn', 6), ('bosco', 6), ('anita', 6), ('periodical', 6), ('axel', 6), ('btech', 6), ('prp', 6), ('flowserve', 6), ('noting', 6), ('sultan', 6), ('forma', 6), ('sps', 6), ('interdisciplinary', 6), ('earliest', 6), ('ruminant', 6), ('domicil', 6), ('recognizes', 6), ('dismantle', 6), ('tractor', 6), ('qsc', 6), ('racking', 6), ('rectifier', 6), ('rearrange', 6), ('advert', 6), ('macbookpro', 6), ('legalization', 6), ('formally', 6), ('casing', 6), ('reflected', 6), ('mua', 6), ('handoff', 6), ('rtfm', 6), ('reactor', 6), ('diet', 6), ('impairment', 6), ('pinpoint', 6), ('daun', 6), ('uhc', 6), ('jong', 6), ('maret', 6), ('oncall', 6), ('inventing', 6), ('covenant', 6), ('kapu', 6), ('rotary', 6), ('ppk', 6), ('igtiktokfb', 6), ('decisioning', 6), ('ami', 6), ('rau', 6), ('iso27001', 6), ('conferring', 6), ('transceiver', 6), ('mechanically', 6), ('archival', 6), ('fatma', 6), ('reorder', 6), ('flawlessly', 6), ('consults', 6), ('bean', 6), ('spf', 6), ('freshest', 6), ('cv4x6', 6), ('pdm', 6), ('maximo', 6), ('investigated', 6), ('stating', 6), ('promptly', 6), ('knockdown', 6), ('honorarium', 6), ('converter', 6), ('traceable', 6), ('acrobat', 6), ('365', 6), ('pigment', 6), ('inspires', 6), ('vet', 6), ('devout', 6), ('unrelated', 6), ('jobspec', 6), ('baran', 6), ('polished', 6), ('komi', 6), ('rejoining', 6), ('kecci', 6), ('akbar', 6), ('workgroup', 6), ('yah', 6), ('fly', 6), ('4p', 6), ('toiletry', 6), ('jip', 6), ('ubud', 6), ('glory', 6), ('nutshell', 6), ('distill', 6), ('sekolah', 6), ('alive', 6), ('decomposition', 6), ('resonate', 6), ('paba', 6), ('accrue', 6), ('evolved', 6), ('subroto', 6), ('yahoo', 6), ('courageous', 6), ('enforces', 6), ('cmvc', 6), ('toolkit', 6), ('uploads', 6), ('mutiara', 6), ('seq', 6), ('dungeon', 6), ('gameplay', 6), ('notarial', 6), ('correlate', 6), ('mileage', 6), ('correlation', 6), ('precedent', 6), ('summarizes', 6), ('fort', 6), ('humanity', 6), ('tdianswaistikasentosatbk', 6), ('couching', 6), ('ypd', 6), ('depart', 6), ('sausage', 6), ('aca', 6), ('tempered', 6), ('hill', 6), ('jj', 6), ('modest', 6), ('holic', 6), ('clutch', 6), ('commencement', 6), ('ary', 6), ('rl', 6), ('crp', 6), ('hype', 6), ('usb', 6), ('memorable', 6), ('prescriptive', 6), ('ornament', 6), ('wij', 6), ('generic', 6), ('cco', 6), ('glow', 6), ('relic', 6), ('juanda', 6), ('cra', 6), ('perhaps', 6), ('exploitation', 6), ('16', 6), ('extinguisher', 6), ('souvenir', 6), ('conformable', 6), ('undercarriage', 6), ('lube', 6), ('freely', 6), ('fanatic', 6), ('yoga', 6), ('domination', 6), ('attained', 6), ('5c', 6), ('celebrates', 6), ('cora', 6), ('paving', 6), ('observer', 6), ('multilanguage', 6), ('atti', 6), ('goodwill', 6), ('compliment', 6), ('mee', 6), ('qtp', 6), ('amdaluklupl', 6), ('ners', 6), ('nid', 6), ('accepts', 6), ('november', 6), ('trafficking', 6), ('feb2022', 6), ('datamonitor', 6), ('smallest', 6), ('sectornine', 6), ('observability', 6), ('kei', 6), ('subsequently', 6), ('resign', 6), ('appoints', 6), ('eca', 6), ('templating', 6), ('nitrogen', 6), ('unfortunately', 6), ('mgt', 6), ('ncr', 6), ('guinea', 6), ('niugini', 6), ('bradley', 6), ('resigned', 6), ('easton', 6), ('gonda', 6), ('prescribe', 6), ('rto', 6), ('jlnkeppaiiswampno', 6), ('mous', 6), ('kawasan', 6), ('sed', 6), ('bounce', 6), ('glitch', 6), ('paytv', 6), ('azad', 6), ('pty', 6), ('apparatus', 6), ('beli', 6), ('ethnicity', 6), ('socioeconomic', 6), ('fear', 6), ('sara', 6), ('oath', 6), ('eyesight', 6), ('luma', 6), ('ciw', 6), ('elimination', 6), ('saps4hana', 6), ('closest', 6), ('rug', 6), ('karyasejahterabriks', 6), ('warehouseman', 6), ('upwards', 6), ('hsek3', 6), ('mercurial', 6), ('owasp', 6), ('discovered', 6), ('vocal', 6), ('velocity', 6), ('pou', 6), ('illustrating', 6), ('obliged', 6), ('kickstart', 6), ('ichthus', 6), ('helm', 6), ('precedence', 6), ('comp', 6), ('moreover', 6), ('macbook', 6), ('emphasizing', 6), ('assessed', 6), ('topographic', 6), ('awkward', 6), ('dam', 6), ('earlier', 6), ('seng', 6), ('resiliency', 6), ('overarching', 6), ('redundancy', 6), ('tep', 6), ('2m', 6), ('anggun', 6), ('kerrys', 6), ('prosperity', 6), ('nevertheless', 6), ('actuator', 6), ('incorporated', 6), ('crest', 6), ('dssp', 6), ('datang', 6), ('preconstruction', 6), ('overloaded', 6), ('sail', 6), ('bayer', 6), ('baba', 6), ('workstream', 6), ('pipo', 6), ('lob', 6), ('familiarize', 6), ('instilling', 6), ('mox', 6), ('prox', 6), ('authoring', 6), ('bmw', 6), ('interference', 6), ('optimizer', 6), ('sybase', 6), ('optimizes', 6), ('hauling', 6), ('billiard', 6), ('junit', 6), ('distraction', 6), ('midst', 6), ('coded', 6), ('testability', 6), ('naughty', 6), ('ratu', 6), ('toner', 6), ('grah', 6), ('slim', 6), ('disinfectant', 6), ('comms', 6), ('3dmaxsk', 6), ('sterilization', 6), ('klik', 6), ('llbean', 6), ('mandi', 6), ('obsolete', 6), ('mobilize', 6), ('chassis', 6), ('sanur', 6), ('mono', 6), ('ctf', 6), ('redshift', 6), ('nutritional', 6), ('vowe', 6), ('camaraderie', 6), ('tonight', 6), ('babel', 6), ('companie', 6), ('timescale', 6), ('ignored', 6), ('bajo', 6), ('labuan', 6), ('ukl', 6), ('ham', 6), ('respondent', 6), ('internalization', 6), ('videotron', 6), ('kari', 6), ('goreng', 6), ('sega', 6), ('subagent', 6), ('rip', 6), ('segmented', 6), ('hw', 6), ('catia', 6), ('lisa', 6), ('acr', 6), ('bpomhalalmuidjki', 6), ('fyp', 6), ('curated', 6), ('xt', 6), ('reachable', 6), ('viscose', 6), ('jai', 6), ('mpu', 6), ('numeric', 6), ('hull', 6), ('electroplating', 6), ('cop', 6), ('transitioning', 6), ('vitality', 6), ('ency', 6), ('hanging', 6), ('entitlement', 6), ('fullfillment', 6), ('bogan', 6), ('achive', 6), ('mip', 6), ('3dcad', 6), ('samora', 6), ('substantially', 6), ('sbus', 6), ('imb', 6), ('acorn', 6), ('latam', 6), ('bootcamp', 6), ('weigh', 6), ('singaraja', 6), ('13th', 6), ('electronically', 6), ('geometry', 6), ('rigorously', 6), ('stacker', 6), ('collocation', 6), ('playlist', 6), ('persuasiveness', 6), ('ethernet', 6), ('yanmar', 6), ('shut', 6), ('olefin', 6), ('postal', 6), ('executable', 6), ('uniquely', 6), ('grabber', 6), ('ekt', 6), ('exchanger', 6), ('siso', 6), ('bangunan', 6), ('standardizing', 6), ('experimenting', 6), ('woodworking', 6), ('exhibitor', 6), ('composite', 6), ('gradually', 6), ('ciam', 6), ('operationalize', 6), ('twp', 6), ('announce', 6), ('valet', 6), ('liaises', 6), ('decreased', 6), ('ended', 6), ('klets', 6), ('causing', 6), ('fabricated', 6), ('abm', 6), ('medion', 6), ('aksa', 6), ('tigar', 6), ('printout', 6), ('prepayment', 6), ('sahari', 6), ('uft', 6), ('aqa', 6), ('apologize', 6), ('sequin', 6), ('disposing', 6), ('pruning', 6), ('fertilizing', 6), ('officially', 6), ('remained', 6), ('engineered', 6), ('indri', 6), ('apc', 6), ('hustler', 6), ('foray', 6), ('misbehavior', 6), ('pastoral', 6), ('midmarket', 6), ('meetups', 6), ('iran', 7), ('wipro', 7), ('raffle', 7), ('sumber', 7), ('pizza', 7), ('hpt', 7), ('drs', 7), ('todo', 7), ('cir', 7), ('developmentally', 7), ('juggling', 7), ('lastly', 7), ('librarian', 7), ('cultivating', 7), ('german', 7), ('depositor', 7), ('rmu', 7), ('duo', 7), ('goat', 7), ('throwing', 7), ('contamination', 7), ('atoz', 7), ('ioc', 7), ('stick', 7), ('irc', 7), ('idhs', 7), ('rebalance', 7), ('intercultural', 7), ('medic', 7), ('encouragement', 7), ('booster', 7), ('bung', 7), ('informational', 7), ('boxer', 7), ('vivendi', 7), ('mattel', 7), ('downloads', 7), ('mtk', 7), ('vr', 7), ('gau', 7), ('wind', 7), ('ctb', 7), ('bpjskesehatan', 7), ('succeeds', 7), ('decathlon', 7), ('malware', 7), ('sems', 7), ('daichi', 7), ('figuring', 7), ('no', 7), ('facilitie', 7), ('laut', 7), ('parental', 7), ('ktps', 7), ('ala', 7), ('evidenced', 7), ('floating', 7), ('sro', 7), ('dpt', 7), ('metabase', 7), ('hairstylist', 7), ('pilar', 7), ('pem', 7), ('pko', 7), ('legend', 7), ('ny', 7), ('pono', 7), ('faulty', 7), ('fruitful', 7), ('transformational', 7), ('cola', 7), ('pie', 7), ('philip', 7), ('dutch', 7), ('flemish', 7), ('waterproofing', 7), ('documentary', 7), ('mopping', 7), ('jobholder', 7), ('bcm', 7), ('xmlj', 7), ('probing', 7), ('acquires', 7), ('apex', 7), ('cadbury', 7), ('moon', 7), ('oreo', 7), ('keyence', 7), ('seedling', 7), ('grease', 7), ('dismissal', 7), ('jja', 7), ('respectively', 7), ('articulation', 7), ('ppr', 7), ('intimacy', 7), ('tackling', 7), ('encana', 7), ('tetra', 7), ('ization', 7), ('dough', 7), ('scaffolding', 7), ('campina', 7), ('unexpected', 7), ('rembo', 7), ('dx', 7), ('efo', 7), ('ulo', 7), ('substantive', 7), ('clip', 7), ('kita', 7), ('bintan', 7), ('clo', 7), ('ceh', 7), ('gautama', 7), ('robo', 7), ('viewing', 7), ('arakan', 7), ('disruptive', 7), ('ded', 7), ('bkk', 7), ('bundle', 7), ('booming', 7), ('greener', 7), ('nurtured', 7), ('dust', 7), ('hb', 7), ('fellowship', 7), ('topography', 7), ('slot', 7), ('migrate', 7), ('airflow', 7), ('ab2b', 7), ('cite', 7), ('billinge', 7), ('endure', 7), ('zabbix', 7), ('moka', 7), ('mcn', 7), ('dk', 7), ('lemon', 7), ('smoothing', 7), ('luxurious', 7), ('ware', 7), ('recover', 7), ('simplification', 7), ('mur', 7), ('cpc', 7), ('grin', 7), ('spop', 7), ('practiced', 7), ('preferrable', 7), ('deletion', 7), ('cleanse', 7), ('lahat', 7), ('interviewer', 7), ('deposited', 7), ('tekno', 7), ('smarthome', 7), ('coc', 7), ('tsm', 7), ('cozy', 7), ('umbrella', 7), ('minh', 7), ('regulating', 7), ('lading', 7), ('peeling', 7), ('ccp', 7), ('observes', 7), ('conceptually', 7), ('scoped', 7), ('danone', 7), ('qos', 7), ('cattle', 7), ('webmethods', 7), ('escalates', 7), ('tqm', 7), ('agronomist', 7), ('charger', 7), ('vac', 7), ('gahr', 7), ('ry', 7), ('anticipation', 7), ('webmaster', 7), ('lu', 7), ('riding', 7), ('crusher', 7), ('rv', 7), ('manageengine', 7), ('steward', 7), ('youthful', 7), ('infection', 7), ('kedo', 7), ('loker', 7), ('adv', 7), ('handy', 7), ('createprocess', 7), ('aroma', 7), ('stroke', 7), ('shipowner', 7), ('plotting', 7), ('ccie', 7), ('wat', 7), ('jacket', 7), ('concierge', 7), ('prescreening', 7), ('alo', 7), ('installs', 7), ('underserved', 7), ('dial', 7), ('hcp', 7), ('longstanding', 7), ('heel', 7), ('taxid', 7), ('rooster', 7), ('misconduct', 7), ('barbershop', 7), ('hairstyling', 7), ('brick', 7), ('swiftly', 7), ('scaled', 7), ('freshly', 7), ('utmost', 7), ('grinder', 7), ('spends', 7), ('syngenta', 7), ('kopediashopeebukalapak', 7), ('infobank', 7), ('inq3', 7), ('mixture', 7), ('annie', 7), ('sludge', 7), ('refraction', 7), ('kart', 7), ('globalmedia', 7), ('curtain', 7), ('qt', 7), ('programmed', 7), ('mf', 7), ('admired', 7), ('rabs', 7), ('crash', 7), ('sanitize', 7), ('itworld', 7), ('celebrating', 7), ('computational', 7), ('geda', 7), ('formulates', 7), ('creditworthy', 7), ('reestablish', 7), ('multibrand', 7), ('alt', 7), ('numpy', 7), ('perfectionist', 7), ('biochemistry', 7), ('sufficiently', 7), ('igfbtiktok', 7), ('iterating', 7), ('tpa', 7), ('ffe', 7), ('reuse', 7), ('readability', 7), ('geek', 7), ('alora', 7), ('rfqs', 7), ('afr', 7), ('tani', 7), ('aplus', 7), ('patty', 7), ('sw', 7), ('authorizing', 7), ('anticipates', 7), ('orienting', 7), ('deserve', 7), ('companion', 7), ('teng', 7), ('mm2100', 7), ('payout', 7), ('gtf', 7), ('discharging', 7), ('gwp', 7), ('snd', 7), ('formwork', 7), ('partnered', 7), ('accelerator', 7), ('wording', 7), ('21', 7), ('rework', 7), ('turbomachinery', 7), ('brake', 7), ('pole', 7), ('capitalized', 7), ('recurrence', 7), ('disadvantage', 7), ('cast', 7), ('stocktake', 7), ('copywrite', 7), ('cashiering', 7), ('prosecutor', 7), ('corsi', 7), ('constructed', 7), ('multistakeholder', 7), ('degradation', 7), ('wfp', 7), ('eprocurement', 7), ('leisure', 7), ('blade', 7), ('bland', 7), ('interruption', 7), ('ceri', 7), ('mvcc', 7), ('ich', 7), ('strange', 7), ('amidst', 7), ('predominantly', 7), ('noticed', 7), ('mighty', 7), ('stake', 7), ('cooler', 7), ('diabetes', 7), ('blending', 7), ('strap', 7), ('datapipeline', 7), ('modelling', 7), ('energize', 7), ('elected', 7), ('buzzer', 7), ('cellphone', 7), ('tenaciously', 7), ('servant', 7), ('educates', 7), ('commensurate', 7), ('ptsa', 7), ('dl', 7), ('kars', 7), ('ahu', 7), ('exemption', 7), ('assumes', 7), ('stabilization', 7), ('pregnant', 7), ('saint', 7), ('ao', 7), ('prometheus', 7), ('uo', 7), ('fullfill', 7), ('workarounds', 7), ('spts', 7), ('stcw', 7), ('seafarer', 7), ('refers', 7), ('revamp', 7), ('jlptn3', 7), ('stockist', 7), ('maxim', 7), ('zoho', 7), ('oa', 7), ('registry', 7), ('scf', 7), ('podcasts', 7), ('facade', 7), ('simplifying', 7), ('textbook', 7), ('jsf', 7), ('mainstream', 7), ('consortium', 7), ('misinformation', 7), ('extruder', 7), ('combustion', 7), ('gifs', 7), ('kkk', 7), ('sectional', 7), ('pthexindoadiperkasatbk', 7), ('safari', 7), ('axis', 7), ('avp', 7), ('mti', 7), ('mala', 7), ('3dmaxvray', 7), ('evaluative', 7), ('ting', 7), ('grill', 7), ('pulsa', 7), ('survive', 7), ('denmark', 7), ('bav', 7), ('deviate', 7), ('employing', 7), ('pmbok', 7), ('unnecessary', 7), ('mod', 7), ('cpu', 7), ('karan', 7), ('refresher', 7), ('jago', 7), ('mcb', 7), ('containerized', 7), ('ptw', 7), ('appropriateness', 7), ('koko', 7), ('vagrant', 7), ('operability', 7), ('nonformal', 7), ('jimbaran', 7), ('msg', 7), ('lama', 7), ('checksheet', 7), ('s5', 7), ('tbm', 7), ('hd', 7), ('needing', 7), ('conforming', 7), ('ebusiness', 7), ('advocating', 7), ('schiller', 7), ('entirely', 7), ('fascinating', 7), ('stagramtiktokyoutube', 7), ('mobilizing', 7), ('oe', 7), ('polyclinic', 7), ('london', 7), ('ker', 7), ('requirment', 7), ('coop', 7), ('cdn', 7), ('qi', 7), ('redis', 7), ('basket', 7), ('clause', 7), ('upsell', 7), ('digging', 7), ('ter', 7), ('esop', 7), ('supportability', 7), ('elicit', 7), ('assignee', 7), ('sao', 7), ('restitution', 7), ('nonsmoking', 7), ('cabin', 7), ('aura', 7), ('defective', 7), ('clarifies', 7), ('posibilities', 7), ('rfid', 7), ('ea', 7), ('ure', 7), ('extensible', 7), ('beside', 7), ('ima', 7), ('recapping', 7), ('inactive', 7), ('repeatable', 7), ('uma', 7), ('staffed', 7), ('lors', 7), ('barche', 7), ('weaker', 7), ('lpg', 7), ('utilise', 7), ('actuating', 7), ('bsms', 7), ('shipyard', 7), ('modifies', 7), ('fork', 7), ('accel', 7), ('nearby', 7), ('staple', 7), ('upselling', 7), ('generous', 7), ('multiyear', 7), ('dollar', 7), ('captivate', 7), ('downtown', 7), ('param', 7), ('powertrain', 7), ('odo', 7), ('burger', 7), ('popularity', 7), ('edits', 7), ('partially', 7), ('rx', 7), ('rpl', 7), ('composed', 7), ('entrust', 7), ('del', 7), ('encoding', 7), ('bazaar', 7), ('cnn', 7), ('excites', 7), ('flux', 7), ('zoning', 7), ('unifi', 7), ('harmonic', 7), ('casting', 7), ('yadin', 7), ('pai', 7), ('fighter', 7), ('wb', 7), ('heritage', 7), ('swiss', 7), ('lever', 7), ('crunching', 7), ('solarwinds', 7), ('possession', 7), ('apa', 7), ('fieldworker', 7), ('cognitive', 7), ('fiori', 7), ('dialog', 7), ('mangan', 7), ('collar', 7), ('tugboat', 7), ('enriching', 7), ('sata', 7), ('by2022', 7), ('p2k3', 7), ('dock', 7), ('equipe', 7), ('hazop', 7), ('informatic', 7), ('expects', 7), ('jogjakarta', 7), ('redesigning', 7), ('tradeoff', 7), ('expeditiously', 7), ('absorb', 7), ('territorial', 7), ('transforms', 7), ('collate', 7), ('puppet', 7), ('sandia', 7), ('modernization', 7), ('attendee', 7), ('hess', 8), ('removed', 8), ('avd', 8), ('poland', 8), ('hoa', 8), ('nike', 8), ('autoclave', 8), ('telemedicine', 8), ('reinforced', 8), ('described', 8), ('srm', 8), ('elling', 8), ('brush', 8), ('xtra', 8), ('giver', 8), ('folding', 8), ('descriptive', 8), ('probability', 8), ('inclusiveness', 8), ('touchpoint', 8), ('ipr', 8), ('agrarian', 8), ('mapinfo', 8), ('ewm', 8), ('sil', 8), ('sow', 8), ('chemist', 8), ('bap', 8), ('tailoring', 8), ('polyurethane', 8), ('chimp', 8), ('wcf', 8), ('energizer', 8), ('wholeheartedly', 8), ('peru', 8), ('aff', 8), ('ck', 8), ('refining', 8), ('mbos', 8), ('reconciled', 8), ('hti', 8), ('crosscultural', 8), ('k3hse', 8), ('outfit', 8), ('soe', 8), ('jay', 8), ('rogo', 8), ('buma', 8), ('encompass', 8), ('garuda', 8), ('psychologist', 8), ('antispam', 8), ('geophysics', 8), ('taker', 8), ('disabled', 8), ('rust', 8), ('lek', 8), ('oki', 8), ('ty', 8), ('cornerstone', 8), ('achievable', 8), ('simplified', 8), ('concession', 8), ('mikos', 8), ('mg', 8), ('manageable', 8), ('financed', 8), ('mystery', 8), ('numbering', 8), ('asin', 8), ('stacking', 8), ('elan', 8), ('avaya', 8), ('fob', 8), ('ms', 8), ('pneumatics', 8), ('rollouts', 8), ('purchaser', 8), ('tesol', 8), ('enrichment', 8), ('accelerating', 8), ('worthy', 8), ('weighted', 8), ('yum', 8), ('scraping', 8), ('afterwards', 8), ('mgmt', 8), ('tekla', 8), ('acquaintance', 8), ('timesheets', 8), ('cobit', 8), ('dispatching', 8), ('karma', 8), ('investigates', 8), ('bima', 8), ('tail', 8), ('dig', 8), ('bulldozer', 8), ('do', 8), ('seafreight', 8), ('dara', 8), ('pivotable', 8), ('baristas', 8), ('disbursed', 8), ('sentiment', 8), ('prod', 8), ('andes', 8), ('xero', 8), ('gx', 8), ('dialer', 8), ('py', 8), ('narcotic', 8), ('auspex', 8), ('consecutive', 8), ('charterer', 8), ('misuse', 8), ('sui', 8), ('teka', 8), ('deeper', 8), ('harness', 8), ('ptt', 8), ('pjt', 8), ('mailing', 8), ('mapper', 8), ('stimulating', 8), ('unproductive', 8), ('maximally', 8), ('agronomic', 8), ('bcma', 8), ('have', 8), ('heshe', 8), ('encompassing', 8), ('batang', 8), ('boj', 8), ('appoint', 8), ('viper', 8), ('pile', 8), ('ampere', 8), ('sofa', 8), ('selective', 8), ('molecular', 8), ('preview', 8), ('shabu', 8), ('ill', 8), ('buffalo', 8), ('refill', 8), ('nka', 8), ('nonfood', 8), ('hardscape', 8), ('mugu', 8), ('rehire', 8), ('zealand', 8), ('orientate', 8), ('proofing', 8), ('cae', 8), ('willi', 8), ('claimed', 8), ('thu', 8), ('kan', 8), ('ilex', 8), ('mow', 8), ('over', 8), ('3ms', 8), ('streamer', 8), ('rgd', 8), ('tka', 8), ('wf', 8), ('rba', 8), ('cognos', 8), ('rem', 8), ('overhauling', 8), ('mtbf', 8), ('mttr', 8), ('mcsa', 8), ('jobsite', 8), ('smarter', 8), ('somewhere', 8), ('prepress', 8), ('fidelity', 8), ('smb', 8), ('trustworthiness', 8), ('sjh', 8), ('mapac', 8), ('momentum', 8), ('wm', 8), ('pedagogical', 8), ('aesthetically', 8), ('cum', 8), ('diageo', 8), ('obi', 8), ('quant', 8), ('algorithmic', 8), ('blogging', 8), ('duta', 8), ('roof', 8), ('frying', 8), ('valuing', 8), ('sak', 8), ('photographic', 8), ('indicate', 8), ('festive', 8), ('lodging', 8), ('enjoying', 8), ('internals', 8), ('ilir', 8), ('allegation', 8), ('corruption', 8), ('forensic', 8), ('subversion', 8), ('leak', 8), ('coolest', 8), ('intrapersonal', 8), ('tariff', 8), ('confined', 8), ('readily', 8), ('mingpathree00', 8), ('obtains', 8), ('domino', 8), ('saved', 8), ('packet', 8), ('baling', 8), ('chasing', 8), ('platinum', 8), ('clinician', 8), ('apqp', 8), ('rge', 8), ('hunt', 8), ('excessive', 8), ('teaming', 8), ('accumulation', 8), ('hosted', 8), ('churn', 8), ('olympiad', 8), ('exel', 8), ('marriage', 8), ('reinforce', 8), ('oppo', 8), ('multifaceted', 8), ('af', 8), ('isolate', 8), ('kri', 8), ('requiere', 8), ('cinematography', 8), ('spo', 8), ('impress', 8), ('relaxed', 8), ('dispenser', 8), ('foresee', 8), ('edited', 8), ('channeling', 8), ('tor', 8), ('sufficiency', 8), ('bargaining', 8), ('illegal', 8), ('conditioned', 8), ('emphasize', 8), ('sweeping', 8), ('psc', 8), ('repeated', 8), ('theyre', 8), ('fujitsu', 8), ('tsql', 8), ('sterilizing', 8), ('culvert', 8), ('aviation', 8), ('blank', 8), ('drc', 8), ('init', 8), ('sumbawa', 8), ('oilfield', 8), ('alto', 8), ('issuer', 8), ('uplift', 8), ('intellectually', 8), ('centre', 8), ('maka', 8), ('ward', 8), ('switzerland', 8), ('voluntary', 8), ('roadshows', 8), ('contains', 8), ('hoot', 8), ('b2', 8), ('marvel', 8), ('sgp', 8), ('impediment', 8), ('interchange', 8), ('mechanization', 8), ('counselling', 8), ('ks', 8), ('bhj', 8), ('jayaptmitraaksesoris', 8), ('cpk', 8), ('kaler', 8), ('soybean', 8), ('fks', 8), ('preferential', 8), ('perumwinongngringopalur', 8), ('gga', 8), ('hatta', 8), ('scientifically', 8), ('sellin', 8), ('dn', 8), ('artisan', 8), ('setter', 8), ('deferred', 8), ('orthopedic', 8), ('kopediashopeelazada', 8), ('nicu', 8), ('pchardware', 8), ('kalima', 8), ('decrease', 8), ('dianswaistikasentosatbk', 8), ('oslinux', 8), ('misappropriation', 8), ('backing', 8), ('digitize', 8), ('hemodialysis', 8), ('mpc', 8), ('persevere', 8), ('exhibiting', 8), ('relentlessly', 8), ('wil', 8), ('partition', 8), ('ati', 8), ('beneficiary', 8), ('indicating', 8), ('flexi', 8), ('stringent', 8), ('kiba', 8), ('specifying', 8), ('enlarge', 8), ('retrieving', 8), ('nga', 8), ('rotogravure', 8), ('flexo', 8), ('rac', 8), ('izing', 8), ('smp', 8), ('samp', 8), ('rhino', 8), ('originating', 8), ('apprenticeship', 8), ('workstreams', 8), ('grunt', 8), ('toc', 8), ('nagios', 8), ('uri', 8), ('adapter', 8), ('sappi', 8), ('contactable', 8), ('improvise', 8), ('kir', 8), ('fu', 8), ('rh', 8), ('mad', 8), ('indi', 8), ('surprise', 8), ('informatica', 8), ('pentaho', 8), ('mesh', 8), ('coco', 8), ('toon', 8), ('instill', 8), ('vn', 8), ('jer', 8), ('gong', 8), ('atik', 8), ('ld', 8), ('chatbot', 8), ('quit', 8), ('summons', 8), ('balin', 8), ('kc', 8), ('bribery', 8), ('roller', 8), ('peace', 8), ('necessarily', 8), ('synergize', 8), ('earns', 8), ('reflecting', 8), ('emerge', 8), ('burden', 8), ('festival', 8), ('gearbox', 8), ('sling', 8), ('weaving', 8), ('subagents', 8), ('incubation', 8), ('akta', 8), ('bbq', 8), ('unreal', 8), ('sends', 8), ('mora', 8), ('moderately', 8), ('lub', 8), ('kuala', 8), ('situated', 8), ('dine', 8), ('exhaust', 8), ('symfony', 8), ('thereafter', 8), ('coi', 8), ('tourist', 8), ('wtc', 8), ('decree', 8), ('began', 8), ('edtech', 8), ('excelent', 8), ('aiaa', 8), ('eerie', 8), ('mlm', 8), ('communicable', 8), ('sayd', 8), ('ingestion', 8), ('lava', 8), ('watson', 8), ('rigid', 8), ('arriving', 8), ('esptefaktur', 8), ('lak', 8), ('ht', 8), ('jag', 8), ('porcelain', 8), ('tribe', 8), ('cactus', 8), ('mrtg', 8), ('orb2b', 8), ('softbank', 8), ('impacted', 8), ('bari', 8), ('conceptualising', 8), ('mkp', 8), ('forging', 8), ('franchisees', 8), ('cutter', 8), ('axle', 8), ('authenticity', 8), ('merge', 8), ('pedagogy', 8), ('forwarded', 8), ('rod', 8), ('ancillary', 8), ('timika', 8), ('sso', 8), ('psm', 8), ('retesting', 8), ('kredi', 8), ('watering', 8), ('cleanness', 8), ('seasonality', 8), ('explains', 8), ('commis', 8), ('armed', 8), ('roadblock', 8), ('entitled', 8), ('sie', 8), ('browsing', 8), ('kopernik', 9), ('rdp', 9), ('sbc', 9), ('rosa', 9), ('explosive', 9), ('advised', 9), ('stn', 9), ('shs', 9), ('illiterate', 9), ('systemic', 9), ('workpapers', 9), ('anesthesia', 9), ('samsung', 9), ('dsf', 9), ('tenure', 9), ('postgressql', 9), ('ckd', 9), ('mud', 9), ('implantation', 9), ('expressive', 9), ('plb', 9), ('lon', 9), ('bolt', 9), ('pha', 9), ('garage', 9), ('ceding', 9), ('archived', 9), ('speedy', 9), ('ojt', 9), ('lookout', 9), ('dengan', 9), ('ganis', 9), ('jci', 9), ('polisher', 9), ('accpac', 9), ('author', 9), ('daikin', 9), ('roleplay', 9), ('b2bandb2g', 9), ('kora', 9), ('sushi', 9), ('hip', 9), ('l2', 9), ('putih', 9), ('reinvent', 9), ('testimonial', 9), ('reload', 9), ('modem', 9), ('indosat', 9), ('su', 9), ('sid', 9), ('noncash', 9), ('analysi', 9), ('converted', 9), ('rubbish', 9), ('bunker', 9), ('halliburton', 9), ('satisfactorily', 9), ('skillfully', 9), ('friesland', 9), ('dividing', 9), ('qty', 9), ('publicly', 9), ('anak', 9), ('yabb', 9), ('tcp', 9), ('masm', 9), ('bdd', 9), ('rhel', 9), ('cohesively', 9), ('linkage', 9), ('dfd', 9), ('igd', 9), ('makeup', 9), ('tagalog', 9), ('indra', 9), ('gkalankerinciefarinaetah', 9), ('isolation', 9), ('rigging', 9), ('lawsuit', 9), ('incremental', 9), ('perfume', 9), ('universe', 9), ('corrugated', 9), ('refinancing', 9), ('rsm', 9), ('eji', 9), ('ear', 9), ('inward', 9), ('introduced', 9), ('adviser', 9), ('pjp', 9), ('lomas', 9), ('icu', 9), ('irrigation', 9), ('gamers', 9), ('haircut', 9), ('jboss', 9), ('weblogic', 9), ('comptia', 9), ('biru', 9), ('stewardship', 9), ('antimicrobial', 9), ('triage', 9), ('rawang', 9), ('cpac', 9), ('nu', 9), ('skillsactive', 9), ('gem', 9), ('diamond', 9), ('preprocessing', 9), ('easygoing', 9), ('tex', 9), ('cambodia', 9), ('vik', 9), ('pursuit', 9), ('ironed', 9), ('14', 9), ('elitism', 9), ('graduating', 9), ('rated', 9), ('wheat', 9), ('pedicure', 9), ('minister', 9), ('cto', 9), ('cancel', 9), ('harm', 9), ('occupant', 9), ('drupal', 9), ('captured', 9), ('rot', 9), ('contain', 9), ('prata', 9), ('pig', 9), ('wiling', 9), ('responded', 9), ('curation', 9), ('slack', 9), ('mindedness', 9), ('amortization', 9), ('concurrently', 9), ('foundational', 9), ('beer', 9), ('thanks', 9), ('purposeful', 9), ('canggu', 9), ('shortlisting', 9), ('lamu', 9), ('tolerate', 9), ('obsession', 9), ('torch', 9), ('gung', 9), ('refresh', 9), ('baked', 9), ('energized', 9), ('sad', 9), ('brunei', 9), ('suggested', 9), ('amend', 9), ('copyright', 9), ('antenna', 9), ('rtd', 9), ('jiwa', 9), ('bathroom', 9), ('tissue', 9), ('handheld', 9), ('gist', 9), ('testament', 9), ('alin', 9), ('linas', 9), ('15', 9), ('checkout', 9), ('specifier', 9), ('hydro', 9), ('banda', 9), ('ddp', 9), ('epicor', 9), ('conceptualise', 9), ('pnp', 9), ('workaround', 9), ('classified', 9), ('stellar', 9), ('reassignment', 9), ('gondola', 9), ('pdc', 9), ('fumigation', 9), ('psychometric', 9), ('coe', 9), ('aan', 9), ('rationale', 9), ('exercising', 9), ('scb', 9), ('eka', 9), ('compact', 9), ('guarding', 9), ('fluctuates', 9), ('dpl', 9), ('geo', 9), ('rectify', 9), ('rf', 9), ('abusive', 9), ('scanned', 9), ('indicated', 9), ('mapped', 9), ('boga', 9), ('composer', 9), ('subsides', 9), ('clever', 9), ('fr', 9), ('foo', 9), ('frontier', 9), ('adapts', 9), ('troubleshooter', 9), ('microfinance', 9), ('proto', 9), ('discrete', 9), ('netherlands', 9), ('dealt', 9), ('logged', 9), ('shoppe', 9), ('intensity', 9), ('ajb', 9), ('mit', 9), ('html5andcs', 9), ('sentra', 9), ('polr', 9), ('tni', 9), ('checkin', 9), ('ending', 9), ('accomplished', 9), ('changer', 9), ('texturing', 9), ('dgt', 9), ('jlnrawakepaiiino', 9), ('soekarno', 9), ('turan', 9), ('replaced', 9), ('fullest', 9), ('reflection', 9), ('widget', 9), ('oos', 9), ('uncovering', 9), ('excels', 9), ('june', 9), ('heard', 9), ('reusability', 9), ('describes', 9), ('skirt', 9), ('cascading', 9), ('ifrbachelor7', 9), ('depend', 9), ('doi', 9), ('ballroom', 9), ('rotated', 9), ('formerly', 9), ('taxable', 9), ('cso', 9), ('mui', 9), ('relatively', 9), ('atlas', 9), ('viability', 9), ('contour', 9), ('shortfall', 9), ('hustle', 9), ('mswindows', 9), ('rig', 9), ('northwest', 9), ('limitless', 9), ('interdepartmental', 9), ('fp', 9), ('hang', 9), ('derived', 9), ('consumed', 9), ('maximization', 9), ('kiosk', 9), ('considers', 9), ('sitemanager', 9), ('staging', 9), ('maximized', 9), ('dismantling', 9), ('bre', 9), ('answered', 9), ('commute', 9), ('goodness', 9), ('analog', 9), ('ash', 9), ('forth', 9), ('soundness', 9), ('powerpoints', 9), ('validates', 9), ('selects', 9), ('solves', 9), ('preexisting', 9), ('differently', 9), ('facilitated', 9), ('corona', 9), ('chc', 9), ('idn', 9), ('emarketing', 9), ('jasper', 9), ('reasonably', 9), ('cypress', 9), ('smtp', 9), ('pulse', 9), ('detector', 9), ('dexterity', 9), ('scurf', 9), ('2gbram', 9), ('underestimated', 9), ('hotly', 9), ('arrived', 9), ('bay', 9), ('n3', 9), ('jlpt', 9), ('vu', 9), ('inte', 9), ('anniversary', 9), ('remember', 9), ('imagery', 9), ('animate', 9), ('jah', 9), ('chromatography', 9), ('thrbpjshealthbpjs', 9), ('nautical', 9), ('ujung', 9), ('serum', 9), ('entrance', 9), ('neural', 9), ('rpython', 9), ('disc', 9), ('f5pd', 9), ('docushare', 9), ('kick', 9), ('ud', 9), ('differentiator', 9), ('botox', 9), ('ample', 9), ('tom', 9), ('myanmar', 9), ('prequalification', 9), ('negotia', 9), ('deepening', 9), ('rebo', 9), ('donation', 9), ('und', 9), ('instead', 9), ('fasten', 9), ('excursion', 9), ('allergic', 9), ('contained', 9), ('semantic', 9), ('webpage', 9), ('dbm', 9), ('webservice', 9), ('prohire', 9), ('aircraft', 9), ('dynamically', 9), ('rfps', 9), ('propel', 9), ('methodically', 9), ('beam', 9), ('unmatched', 9), ('persevering', 9), ('itinerary', 9), ('liasing', 9), ('braun', 9), ('accelerated', 9), ('hereby', 9), ('predefined', 9), ('arranges', 9), ('confirms', 9), ('galaxy', 9), ('hierarchy', 9), ('cimb', 9), ('renting', 9), ('withdrawn', 9), ('civilian', 9), ('suzuki', 9), ('cmt', 9), ('offs', 9), ('ch', 9), ('resigning', 9), ('sincerity', 9), ('additive', 9), ('alan', 9), ('assigns', 9), ('jurisdiction', 9), ('eetokopedialazada', 9), ('dan', 9), ('gad', 9), ('questioning', 9), ('centricity', 9), ('psp', 9), ('finally', 9), ('wired', 9), ('pim', 9), ('prtg', 9), ('bot', 9), ('encompasses', 9), ('pto', 9), ('aran', 9), ('projecting', 9), ('sterile', 9), ('aqua', 9), ('exceeded', 9), ('scholarship', 9), ('backbone', 9), ('workmanship', 9), ('acute', 9), ('assures', 9), ('florist', 9), ('requirments', 9), ('insecurity', 9), ('realtime', 9), ('administratively', 9), ('nisp', 9), ('retrieve', 9), ('responsibilites', 9), ('audition', 9), ('baf', 10), ('kbp', 10), ('decorating', 10), ('swagelok', 10), ('wrt', 10), ('incorporation', 10), ('vigilance', 10), ('vocabulary', 10), ('conforms', 10), ('yacht', 10), ('royal', 10), ('rescue', 10), ('nik', 10), ('calmly', 10), ('knitting', 10), ('yeast', 10), ('ott', 10), ('subsystem', 10), ('tion', 10), ('zte', 10), ('prof', 10), ('wooden', 10), ('fearless', 10), ('uav', 10), ('scotland', 10), ('jpa', 10), ('loose', 10), ('preserving', 10), ('feng', 10), ('bella', 10), ('chatting', 10), ('nmi', 10), ('jobid', 10), ('leakage', 10), ('ide', 10), ('plywood', 10), ('complement', 10), ('atx', 10), ('ggg', 10), ('there', 10), ('cft', 10), ('merak', 10), ('volunteer', 10), ('capitalize', 10), ('ds', 10), ('wanting', 10), ('perfection', 10), ('standups', 10), ('formulated', 10), ('texture', 10), ('intensely', 10), ('economical', 10), ('unpaid', 10), ('geothermal', 10), ('fresher', 10), ('overachieving', 10), ('msa', 10), ('till', 10), ('glue', 10), ('asuransiraksapratikara', 10), ('geodatabase', 10), ('classic', 10), ('cocktail', 10), ('kem', 10), ('babs', 10), ('steer', 10), ('lego', 10), ('rpm', 10), ('timescales', 10), ('ddos', 10), ('cleaned', 10), ('jump', 10), ('reviewer', 10), ('pressing', 10), ('jh', 10), ('theo', 10), ('exceptionally', 10), ('scape', 10), ('datasheet', 10), ('lks', 10), ('nonroutine', 10), ('garmin', 10), ('mil', 10), ('aria', 10), ('ftp', 10), ('totally', 10), ('gelato', 10), ('rom', 10), ('compromise', 10), ('recall', 10), ('judge', 10), ('inquire', 10), ('gear', 10), ('br', 10), ('spokesperson', 10), ('beach', 10), ('adhesive', 10), ('hijab', 10), ('naval', 10), ('lv', 10), ('expo', 10), ('chip', 10), ('calibrate', 10), ('emotionally', 10), ('accommodating', 10), ('odd', 10), ('rechecking', 10), ('injectable', 10), ('tur', 10), ('disciplining', 10), ('mediachannel', 10), ('smd', 10), ('terrestrial', 10), ('historically', 10), ('biller', 10), ('capa', 10), ('kamal', 10), ('handout', 10), ('patron', 10), ('disturbance', 10), ('mob', 10), ('nonstandard', 10), ('migrating', 10), ('programmable', 10), ('videographers', 10), ('bobo', 10), ('eta', 10), ('unauthorized', 10), ('audiovideo', 10), ('thrilled', 10), ('url', 10), ('cycling', 10), ('approver', 10), ('csa', 10), ('creditor', 10), ('multitude', 10), ('lane', 10), ('opera', 10), ('cgmp', 10), ('symptom', 10), ('inspects', 10), ('deducted', 10), ('unfair', 10), ('thee', 10), ('consequently', 10), ('nut', 10), ('contingency', 10), ('dispensing', 10), ('horizontal', 10), ('underlying', 10), ('zimbra', 10), ('mdp', 10), ('appearing', 10), ('lvm', 10), ('penny', 10), ('smoker', 10), ('bauxite', 10), ('plating', 10), ('cine', 10), ('plugin', 10), ('surveyed', 10), ('royalty', 10), ('paku', 10), ('coran', 10), ('exp', 10), ('netzero', 10), ('purna', 10), ('uninterrupted', 10), ('ventilation', 10), ('webserver', 10), ('verifies', 10), ('precaution', 10), ('permitting', 10), ('refugee', 10), ('activitie', 10), ('sei', 10), ('ext', 10), ('yr', 10), ('btp', 10), ('breaker', 10), ('prescribing', 10), ('ethically', 10), ('teleconference', 10), ('delaware', 10), ('sussex', 10), ('lewes', 10), ('anothirtyfiveexjatipulo', 10), ('subdivision', 10), ('rat', 10), ('describing', 10), ('candid', 10), ('ise', 10), ('metaverse', 10), ('observed', 10), ('fired', 10), ('cape', 10), ('ignore', 10), ('comic', 10), ('unreconciled', 10), ('greenbelt', 10), ('hourly', 10), ('ijs', 10), ('cic', 10), ('culturally', 10), ('caused', 10), ('cabinet', 10), ('seat', 10), ('embark', 10), ('reprimand', 10), ('ssrs', 10), ('kor', 10), ('hod', 10), ('gift', 10), ('willed', 10), ('layoff', 10), ('unless', 10), ('cde', 10), ('threshold', 10), ('phi', 10), ('pax', 10), ('alerting', 10), ('sitemaps', 10), ('dax', 10), ('ball', 10), ('portrait', 10), ('tact', 10), ('delphi', 10), ('dispatcher', 10), ('alpha', 10), ('arrives', 10), ('cvd', 10), ('bga', 10), ('animated', 10), ('nonfunctional', 10), ('eq', 10), ('debate', 10), ('skk', 10), ('copying', 10), ('council', 10), ('lived', 10), ('permanently', 10), ('hitting', 10), ('los', 10), ('protects', 10), ('instrumental', 10), ('qcc', 10), ('ngc', 10), ('dozer', 10), ('visitation', 10), ('covidnineteen2x', 10), ('grog', 10), ('asapjob', 10), ('bear', 10), ('represented', 10), ('filler', 10), ('allen', 10), ('csms', 10), ('upskilling', 10), ('bamboo', 10), ('pass', 10), ('underpin', 10), ('troubleshoots', 10), ('lil', 10), ('orchestrate', 10), ('cio', 10), ('anger', 10), ('paternity', 10), ('incorporates', 10), ('horizontally', 10), ('tshirts', 10), ('foot', 10), ('ermine', 10), ('customizations', 10), ('macroeconomics', 10), ('doubt', 10), ('curricular', 10), ('lovely', 10), ('packed', 10), ('socially', 10), ('asus', 10), ('niaga', 10), ('telkom', 10), ('overflow', 10), ('vary', 10), ('rel', 10), ('adverse', 10), ('grit', 10), ('streamlined', 10), ('esports', 10), ('cli', 10), ('mediaseo', 10), ('significance', 10), ('pat', 10), ('elf', 10), ('primavera', 10), ('ect', 10), ('ktu', 10), ('corridor', 10), ('ping', 10), ('obedient', 10), ('sdp', 10), ('amenity', 10), ('surrounded', 10), ('cac', 10), ('salt', 10), ('abt', 10), ('rooted', 10), ('familiarization', 10), ('palo', 10), ('hk', 10), ('spd', 10), ('reservoir', 10), ('negotiated', 10), ('pleasing', 10), ('reinforcement', 10), ('stamp', 10), ('solicit', 10), ('socialized', 10), ('developmental', 10), ('secures', 10), ('pkwtpkwtt', 10), ('kav', 10), ('arduino', 10), ('heading', 10), ('afin', 10), ('aside', 10), ('density', 10), ('witness', 10), ('hoist', 10), ('prism', 10), ('amarin', 10), ('ocbc', 10), ('dist', 10), ('wallstreet', 10), ('correspondent', 10), ('smf', 10), ('uw', 10), ('resourcefulness', 10), ('gia', 11), ('knife', 11), ('viva', 11), ('lanta', 11), ('hospitalization', 11), ('possibly', 11), ('acknowledged', 11), ('essence', 11), ('apu', 11), ('gcg', 11), ('pci', 11), ('evolution', 11), ('indoors', 11), ('excavation', 11), ('loophole', 11), ('tend', 11), ('talkative', 11), ('moved', 11), ('forecasted', 11), ('dentistry', 11), ('fight', 11), ('targe', 11), ('miscellaneous', 11), ('refinement', 11), ('fertility', 11), ('ark', 11), ('gb', 11), ('databank', 11), ('michael', 11), ('kinder', 11), ('mcse', 11), ('halo', 11), ('penalty', 11), ('angul', 11), ('adm', 11), ('gun', 11), ('noted', 11), ('simultaneous', 11), ('encounter', 11), ('sapb1', 11), ('sfms', 11), ('eur', 11), ('attire', 11), ('navigating', 11), ('token', 11), ('rob', 11), ('restores', 11), ('dispatched', 11), ('rmq', 11), ('prisma', 11), ('tertiary', 11), ('refactoring', 11), ('ducting', 11), ('lb', 11), ('stockpile', 11), ('beef', 11), ('cab', 11), ('utm', 11), ('sn', 11), ('allergy', 11), ('dimensional', 11), ('dominant', 11), ('exploratory', 11), ('duct', 11), ('tku', 11), ('ssp', 11), ('tinggi', 11), ('nb', 11), ('microwave', 11), ('oy', 11), ('zada', 11), ('multivariate', 11), ('extrusion', 11), ('concurrency', 11), ('inspirational', 11), ('macroeconomic', 11), ('closer', 11), ('inspired', 11), ('loved', 11), ('onset', 11), ('iabc', 11), ('suppression', 11), ('dominated', 11), ('pga', 11), ('vote', 11), ('mata', 11), ('groom', 11), ('bundling', 11), ('f5', 11), ('lik', 11), ('sauce', 11), ('backlinks', 11), ('factual', 11), ('aji', 11), ('adopted', 11), ('borderless', 11), ('scouting', 11), ('predicting', 11), ('millennial', 11), ('mandated', 11), ('regularization', 11), ('shuttle', 11), ('ppm', 11), ('kv', 11), ('footprint', 11), ('earnings', 11), ('expressed', 11), ('lite', 11), ('ably', 11), ('ingenuity', 11), ('descriptor', 11), ('td', 11), ('pal', 11), ('fmea', 11), ('tray', 11), ('progressing', 11), ('lie', 11), ('csp', 11), ('mro', 11), ('cfa', 11), ('informs', 11), ('delicious', 11), ('tata', 11), ('defensive', 11), ('b2bandb2c', 11), ('abstract', 11), ('personalization', 11), ('spouse', 11), ('toolbox', 11), ('tog', 11), ('wrap', 11), ('pwa', 11), ('keluarga', 11), ('aruba', 11), ('cohesion', 11), ('persistently', 11), ('indexing', 11), ('usual', 11), ('kek', 11), ('lens', 11), ('000', 11), ('convenient', 11), ('openly', 11), ('conscious', 11), ('serp', 11), ('ptasuransisinarmasptasur', 11), ('glp', 11), ('tari', 11), ('pioneering', 11), ('neo', 11), ('iic', 11), ('partial', 11), ('inefficient', 11), ('leman', 11), ('duri', 11), ('piercings', 11), ('circular', 11), ('danish', 11), ('legendary', 11), ('localized', 11), ('ukuk', 11), ('allsop', 11), ('reprocessing', 11), ('elk', 11), ('postgre', 11), ('county', 11), ('behavioural', 11), ('prince', 11), ('bbm', 11), ('mcp', 11), ('pathology', 11), ('gam', 11), ('jang', 11), ('rather', 11), ('isnt', 11), ('finan', 11), ('checker', 11), ('entrusted', 11), ('unyielding', 11), ('seasoned', 11), ('muhammad', 11), ('toyota', 11), ('rpc', 11), ('fren', 11), ('relied', 11), ('intend', 11), ('intra', 11), ('smt', 11), ('mitigating', 11), ('ipc', 11), ('genetics', 11), ('pbb', 11), ('amun', 11), ('dg', 11), ('ssh', 11), ('cruise', 11), ('undergone', 11), ('postmortem', 11), ('contested', 11), ('shore', 11), ('kong', 11), ('bgp', 11), ('rpp', 11), ('bisnis', 11), ('synchronize', 11), ('lend', 11), ('isps', 11), ('att', 11), ('cu', 11), ('cheese', 11), ('soonest', 11), ('biodata', 11), ('pup', 11), ('autopilot', 11), ('jak', 11), ('coral', 11), ('transporting', 11), ('24x7', 11), ('woo', 11), ('gui', 11), ('radiographer', 11), ('activate', 11), ('clinica', 11), ('recruited', 11), ('initially', 11), ('paramount', 11), ('besar', 11), ('threading', 11), ('governing', 11), ('senay', 11), ('jayakarta', 11), ('vertically', 11), ('satisfying', 11), ('radius', 11), ('wisma', 11), ('hcv', 11), ('enjoyable', 11), ('underpayment', 11), ('skipped', 11), ('kost', 11), ('compassion', 11), ('spanning', 11), ('cellular', 11), ('eventually', 11), ('conveyor', 11), ('unload', 11), ('blend', 11), ('differentiate', 11), ('abu', 11), ('splunk', 11), ('eikon', 11), ('hidden', 11), ('vc', 11), ('sonar', 11), ('guaranteeing', 11), ('mcmaster', 11), ('tra', 11), ('charting', 11), ('persad', 11), ('matched', 11), ('suggests', 11), ('ace', 11), ('argon', 11), ('quip', 11), ('translates', 11), ('pio', 11), ('expiry', 11), ('looker', 11), ('birth', 11), ('asem', 11), ('specially', 11), ('deli', 11), ('procured', 11), ('strut', 11), ('microcontroller', 11), ('duplicate', 11), ('gone', 11), ('poised', 11), ('21st', 11), ('weatherford', 12), ('cataloging', 12), ('ericsson', 12), ('dh', 12), ('proc', 12), ('vacation', 12), ('nagel', 12), ('kuehne', 12), ('polishing', 12), ('minitab', 12), ('multifunction', 12), ('provocation', 12), ('cardboard', 12), ('smaller', 12), ('disable', 12), ('berthing', 12), ('sugar', 12), ('qm', 12), ('tengah', 12), ('ffi', 12), ('perm', 12), ('advantaged', 12), ('grid', 12), ('chrome', 12), ('remediation', 12), ('loaded', 12), ('highfield', 12), ('hiv', 12), ('accelerates', 12), ('dhl', 12), ('examiner', 12), ('therapeutic', 12), ('pj', 12), ('attracts', 12), ('photocopying', 12), ('punch', 12), ('halim', 12), ('rio', 12), ('blasting', 12), ('gimmick', 12), ('karaoke', 12), ('sou', 12), ('cooky', 12), ('landowner', 12), ('aw', 12), ('wah', 12), ('ssi', 12), ('pragmatic', 12), ('counterparties', 12), ('vetting', 12), ('smallholder', 12), ('noodle', 12), ('ccl', 12), ('est', 12), ('aggregation', 12), ('wisely', 12), ('mckinsey', 12), ('edi', 12), ('idle', 12), ('petro', 12), ('axapta', 12), ('semifinished', 12), ('sourced', 12), ('shes', 12), ('synthesis', 12), ('adapted', 12), ('metallurgy', 12), ('instruct', 12), ('itp', 12), ('connects', 12), ('eating', 12), ('rtm', 12), ('usable', 12), ('niche', 12), ('row', 12), ('nlp', 12), ('lr', 12), ('tagging', 12), ('ate', 12), ('orb', 12), ('mannered', 12), ('multithreading', 12), ('rare', 12), ('thirtysix', 12), ('practicing', 12), ('dba', 12), ('shine', 12), ('lld', 12), ('settarget', 12), ('tactful', 12), ('assuring', 12), ('exploit', 12), ('rock', 12), ('bodycare', 12), ('haircare', 12), ('arithmetic', 12), ('acid', 12), ('wijaya', 12), ('copper', 12), ('carb', 12), ('fuse', 12), ('drp', 12), ('vps', 12), ('ong', 12), ('govern', 12), ('midterm', 12), ('countering', 12), ('whereas', 12), ('artha', 12), ('sito', 12), ('storyteller', 12), ('voa', 12), ('livelihood', 12), ('omron', 12), ('stk', 12), ('ubi', 12), ('fingerprint', 12), ('invision', 12), ('seg', 12), ('ne', 12), ('hplc', 12), ('tsd', 12), ('bpn', 12), ('teknik', 12), ('nd', 12), ('gba', 12), ('strain', 12), ('ism', 12), ('withdraw', 12), ('lit', 12), ('sphere', 12), ('roadmaps', 12), ('pbf', 12), ('colorblind', 12), ('ification', 12), ('filtration', 12), ('juk', 12), ('automating', 12), ('ols', 12), ('failover', 12), ('atls', 12), ('leveraged', 12), ('archicad', 12), ('fluctuation', 12), ('geographically', 12), ('trix', 12), ('diversified', 12), ('finest', 12), ('rubyonrails', 12), ('courtesy', 12), ('ptgadingmaswirajayais', 12), ('ota', 12), ('manicure', 12), ('sustainably', 12), ('poi', 12), ('lambda', 12), ('cadence', 12), ('appic', 12), ('manggis', 12), ('expire', 12), ('dsp', 12), ('patent', 12), ('joy', 12), ('includingweb', 12), ('animator', 12), ('ments', 12), ('studied', 12), ('credibly', 12), ('dash', 12), ('noble', 12), ('localize', 12), ('jsp', 12), ('humor', 12), ('swagger', 12), ('tailwind', 12), ('sel', 12), ('legon', 12), ('meant', 12), ('lcd', 12), ('aspnet', 12), ('csm', 12), ('tive', 12), ('equip', 12), ('rc', 12), ('british', 12), ('setia', 12), ('branching', 12), ('repetitive', 12), ('goro', 12), ('genetic', 12), ('ancestry', 12), ('switchgear', 12), ('fry', 12), ('corporates', 12), ('understandable', 12), ('accenture', 12), ('bmc', 12), ('privilege', 12), ('bnet', 12), ('celebrate', 12), ('solu', 12), ('ebanking', 12), ('gabungsedulur', 12), ('unbeatable', 12), ('yd', 12), ('acknowledgment', 12), ('reka', 12), ('knack', 12), ('consequence', 12), ('ambi', 12), ('realm', 12), ('demeanor', 12), ('aku', 12), ('synchronization', 12), ('cracker', 12), ('exported', 12), ('amplify', 12), ('advent', 12), ('spelling', 12), ('acp', 12), ('regarded', 12), ('nonconforming', 12), ('rack', 12), ('qube', 12), ('underwriter', 12), ('gland', 12), ('dotnet', 12), ('advancing', 12), ('symbol', 12), ('traveler', 12), ('disseminating', 12), ('inner', 12), ('consume', 12), ('unprecedented', 12), ('rising', 12), ('bangka', 12), ('claiming', 12), ('brazil', 12), ('re', 12), ('timur', 12), ('pol', 12), ('learns', 12), ('apj', 12), ('radiography', 13), ('erm', 13), ('substance', 13), ('germany', 13), ('importation', 13), ('capitulating', 13), ('preservation', 13), ('annex', 13), ('scottish', 13), ('highlighting', 13), ('mediamaster', 13), ('bpjstkbpjs', 13), ('snacking', 13), ('ppap', 13), ('pamula', 13), ('abo', 13), ('carton', 13), ('citizenship', 13), ('medinah', 13), ('ternate', 13), ('jt', 13), ('tibco', 13), ('renowned', 13), ('operationally', 13), ('retrospective', 13), ('jlptn2', 13), ('cmac', 13), ('yarn', 13), ('sunfish', 13), ('ppp', 13), ('keeper', 13), ('giveaway', 13), ('mlc', 13), ('brewing', 13), ('jetty', 13), ('ading', 13), ('youve', 13), ('informatika', 13), ('collating', 13), ('covid19', 13), ('mock', 13), ('addendum', 13), ('fm', 13), ('authorize', 13), ('steady', 13), ('gallery', 13), ('hedging', 13), ('danger', 13), ('plcs', 13), ('ni', 13), ('instore', 13), ('journalistic', 13), ('mention', 13), ('omega', 13), ('welder', 13), ('consuming', 13), ('blow', 13), ('citra', 13), ('html5', 13), ('ptr', 13), ('swot', 13), ('improves', 13), ('citizen', 13), ('customizing', 13), ('cemp', 13), ('august', 13), ('collective', 13), ('voyage', 13), ('breadth', 13), ('feeding', 13), ('pose', 13), ('cpg', 13), ('anomaly', 13), ('fortigate', 13), ('zal', 13), ('pale', 13), ('escalator', 13), ('formatting', 13), ('nat', 13), ('utilizes', 13), ('bespoke', 13), ('consensus', 13), ('temporarily', 13), ('treating', 13), ('onto', 13), ('handler', 13), ('mic', 13), ('plain', 13), ('calibrated', 13), ('wallpaper', 13), ('reside', 13), ('biweekly', 13), ('constructively', 13), ('cmos', 13), ('idiom', 13), ('techteam', 13), ('generates', 13), ('literally', 13), ('sandwich', 13), ('cdp', 13), ('jaring', 13), ('jen', 13), ('lowest', 13), ('unsupervised', 13), ('soa', 13), ('refrigerator', 13), ('pharmacovigilance', 13), ('boulevard', 13), ('researched', 13), ('exists', 13), ('cigna', 13), ('commonly', 13), ('detecting', 13), ('greenhouse', 13), ('proces', 13), ('maya', 13), ('lack', 13), ('ipl', 13), ('iso9001', 13), ('coastal', 13), ('disk', 13), ('bak', 13), ('seating', 13), ('pd', 13), ('slas', 13), ('shutdown', 13), ('gpaminthree00', 13), ('telegram', 13), ('soho', 13), ('kta', 13), ('excise', 13), ('compulsory', 13), ('baseline', 13), ('ji', 13), ('bo', 13), ('bipartite', 13), ('pti', 13), ('gpaoftwo75', 13), ('tandem', 13), ('uncertain', 13), ('increment', 13), ('vector', 13), ('gianyar', 13), ('pivotal', 13), ('jointly', 13), ('submits', 13), ('mtc', 13), ('andre', 13), ('firmware', 13), ('dri', 13), ('rr', 13), ('bartender', 13), ('embracing', 13), ('subdistrict', 13), ('lightning', 13), ('kti', 13), ('gesture', 13), ('coconut', 13), ('picked', 13), ('walking', 13), ('aggregate', 13), ('latitude', 13), ('audi', 13), ('broadband', 13), ('amp', 13), ('rung', 13), ('rfc', 13), ('posto', 13), ('presta', 13), ('bellow', 13), ('pgp', 13), ('giant', 13), ('instance', 13), ('readwrite', 13), ('pour', 13), ('string', 13), ('embedding', 13), ('theoretical', 13), ('eos', 13), ('boosting', 13), ('enhances', 13), ('reputational', 13), ('hinder', 13), ('framing', 13), ('foam', 13), ('dietetics', 13), ('outage', 13), ('expose', 13), ('30', 13), ('diplomatic', 13), ('sumatera', 13), ('cocoa', 13), ('ethos', 13), ('theft', 13), ('stocked', 13), ('concentrate', 13), ('bain', 13), ('ancol', 13), ('caching', 13), ('preprocessors', 13), ('sas', 13), ('taran', 13), ('maison', 13), ('ab1', 13), ('shown', 13), ('bulletin', 13), ('sheer', 13), ('dec', 13), ('download', 13), ('intrusion', 13), ('sep', 13), ('specialize', 13), ('pf', 13), ('neutral', 13), ('spm', 13), ('transit', 13), ('dir', 13), ('sincere', 13), ('ruko', 13), ('cdd', 13), ('shy', 13), ('spain', 13), ('sake', 13), ('bandwidth', 13), ('intranet', 13), ('freehand', 13), ('gp', 13), ('nuance', 13), ('modal', 13), ('differentiated', 13), ('publicity', 13), ('taxi', 13), ('xl', 13), ('surgical', 13), ('zap', 13), ('adopting', 13), ('maximizes', 13), ('bukittinggi', 13), ('sing', 13), ('allowing', 13), ('bootcamps', 13), ('oriental', 13), ('extreme', 13), ('blocker', 13), ('citral', 13), ('kopi', 13), ('profi', 13), ('entail', 13), ('redefine', 13), ('ambulance', 14), ('discord', 14), ('ptc', 14), ('ooh', 14), ('ev', 14), ('dangerous', 14), ('polis', 14), ('attack', 14), ('bicycle', 14), ('fiduciary', 14), ('transformative', 14), ('jp', 14), ('gan', 14), ('bosch', 14), ('bath', 14), ('kr', 14), ('magen', 14), ('happens', 14), ('gel', 14), ('jayapura', 14), ('xen', 14), ('motif', 14), ('computation', 14), ('benz', 14), ('truth', 14), ('optimism', 14), ('differentiation', 14), ('increasingly', 14), ('lip', 14), ('kedoyakebonjeruk', 14), ('nomination', 14), ('oops', 14), ('hectare', 14), ('powder', 14), ('toe', 14), ('ani', 14), ('alfa', 14), ('bcp', 14), ('recycling', 14), ('sb', 14), ('lock', 14), ('optical', 14), ('compounding', 14), ('havent', 14), ('keta', 14), ('musical', 14), ('waitress', 14), ('aranda', 14), ('asana', 14), ('settling', 14), ('laborer', 14), ('theodolite', 14), ('invoiced', 14), ('delayed', 14), ('qlikview', 14), ('xp', 14), ('kata', 14), ('omniture', 14), ('sitting', 14), ('nft', 14), ('monetization', 14), ('nip', 14), ('solvent', 14), ('filming', 14), ('pps', 14), ('unresolved', 14), ('composing', 14), ('cumulative', 14), ('pkk', 14), ('jawa', 14), ('bare', 14), ('rented', 14), ('prescribed', 14), ('separation', 14), ('dd', 14), ('ae', 14), ('ec', 14), ('harmonization', 14), ('subway', 14), ('compiled', 14), ('scrumdevelopment', 14), ('andc', 14), ('cmms', 14), ('metallurgical', 14), ('margo', 14), ('asphalt', 14), ('richer', 14), ('hughes', 14), ('roxy', 14), ('coa', 14), ('responds', 14), ('negotiates', 14), ('manning', 14), ('kl', 14), ('fusion', 14), ('sar', 14), ('rca', 14), ('migrant', 14), ('pmc', 14), ('oleo', 14), ('parallel', 14), ('at', 14), ('candy', 14), ('exporter', 14), ('brightest', 14), ('maha', 14), ('furthermore', 14), ('ika', 14), ('demographic', 14), ('interval', 14), ('cisa', 14), ('formulator', 14), ('foreigner', 14), ('upholding', 14), ('bred', 14), ('interprets', 14), ('computerization', 14), ('forget', 14), ('li', 14), ('subcon', 14), ('tiger', 14), ('painter', 14), ('orderliness', 14), ('reverse', 14), ('waf', 14), ('inland', 14), ('stamen', 14), ('sustained', 14), ('diversification', 14), ('awarded', 14), ('rk', 14), ('geodesy', 14), ('fairness', 14), ('heater', 14), ('leaflet', 14), ('wireframe', 14), ('environmentally', 14), ('radar', 14), ('biscuit', 14), ('snake', 14), ('golive', 14), ('pure', 14), ('forefront', 14), ('maven', 14), ('jabot', 14), ('juniper', 14), ('kg', 14), ('rolled', 14), ('tee', 14), ('cadcam', 14), ('ak3u', 14), ('catalogue', 14), ('tokyo', 14), ('proposes', 14), ('tensor', 14), ('tera', 14), ('smoking', 14), ('grouping', 14), ('headline', 14), ('instagramtiktok', 14), ('prestigious', 14), ('spinning', 14), ('multiplatform', 14), ('harjo', 14), ('tvc', 14), ('april', 14), ('bedroom', 14), ('injury', 14), ('inventor', 14), ('dreamweaver', 14), ('cater', 14), ('clientdata', 14), ('hence', 14), ('masci', 14), ('bonding', 14), ('finger', 14), ('pair', 14), ('youth', 14), ('rewarded', 14), ('challenger', 14), ('hydropower', 14), ('appraise', 14), ('batching', 14), ('au', 14), ('circulation', 14), ('ct', 14), ('arena', 14), ('considerable', 14), ('komatsu', 14), ('tendering', 14), ('grinding', 14), ('storyboard', 14), ('here', 14), ('col', 14), ('digi', 14), ('1x', 14), ('atrium', 14), ('icd', 14), ('specimen', 14), ('unduly', 14), ('ntb', 14), ('rotate', 14), ('cissp', 14), ('tama', 14), ('metadata', 14), ('actually', 14), ('netflix', 14), ('divided', 14), ('barcode', 14), ('minimized', 14), ('scrap', 14), ('mathematic', 14), ('honor', 14), ('sang', 14), ('tall', 14), ('knit', 14), ('kam', 14), ('qh', 14), ('hypermarket', 14), ('ump', 14), ('egg', 14), ('noo', 14), ('eb', 14), ('liking', 14), ('mn', 14), ('nsp', 14), ('proportion', 14), ('greatest', 14), ('horizon', 14), ('gauge', 14), ('puk', 14), ('dormitory', 14), ('french', 14), ('medi', 14), ('serdang', 14), ('handbook', 14), ('appraising', 14), ('tic', 14), ('kredit', 14), ('emailing', 14), ('trusting', 14), ('sakti', 14), ('hackathon', 14), ('conceptualization', 14), ('latis', 15), ('hammer', 15), ('hirer', 15), ('pkp', 15), ('hack', 15), ('johnson', 15), ('changemakers', 15), ('omnia', 15), ('comparable', 15), ('stylist', 15), ('mercedes', 15), ('boc', 15), ('hrms', 15), ('panjang', 15), ('envelope', 15), ('finalizing', 15), ('viable', 15), ('ft', 15), ('shr', 15), ('dressed', 15), ('nutri', 15), ('abeka', 15), ('tapping', 15), ('washed', 15), ('marcom', 15), ('helped', 15), ('livestock', 15), ('nonverbal', 15), ('gd', 15), ('expedite', 15), ('bt', 15), ('engages', 15), ('http', 15), ('heinz', 15), ('kraft', 15), ('instinct', 15), ('countermeasure', 15), ('rectification', 15), ('oj', 15), ('exceeds', 15), ('moodle', 15), ('minority', 15), ('commentary', 15), ('paw', 15), ('garbage', 15), ('prepaid', 15), ('mncs', 15), ('ramp', 15), ('disposable', 15), ('pin', 15), ('otherwise', 15), ('adtech', 15), ('ikt', 15), ('keb', 15), ('eclipse', 15), ('cooker', 15), ('sl', 15), ('discovering', 15), ('ptk', 15), ('suspicious', 15), ('hing', 15), ('swimming', 15), ('confirmed', 15), ('storyline', 15), ('fortress', 15), ('conflicting', 15), ('greenlake', 15), ('techno', 15), ('majority', 15), ('notify', 15), ('resistance', 15), ('wept', 15), ('password', 15), ('july', 15), ('duren', 15), ('recently', 15), ('who', 15), ('preparedness', 15), ('amber', 15), ('blower', 15), ('occurred', 15), ('mul', 15), ('technicality', 15), ('death', 15), ('importing', 15), ('escape', 15), ('restoration', 15), ('normalization', 15), ('req', 15), ('removing', 15), ('asynchronous', 15), ('measured', 15), ('av', 15), ('wednesday', 15), ('pant', 15), ('ape', 15), ('irregular', 15), ('modified', 15), ('missed', 15), ('phyton', 15), ('sle', 15), ('gdp', 15), ('nonacademic', 15), ('ionic', 15), ('gmv', 15), ('endless', 15), ('lifetime', 15), ('withstand', 15), ('ranked', 15), ('npi', 15), ('sailing', 15), ('mitsubishi', 15), ('complementary', 15), ('affinity', 15), ('ambon', 15), ('dynamo', 15), ('uu', 15), ('curate', 15), ('bek', 15), ('unsolicited', 15), ('scheduler', 15), ('blok', 15), ('aba', 15), ('adjusts', 15), ('personable', 15), ('peak', 15), ('enquiry', 15), ('qsr', 15), ('responsively', 15), ('kj', 15), ('blind', 15), ('humanitarian', 15), ('uptime', 15), ('unable', 15), ('sinar', 15), ('coherent', 15), ('maintainability', 15), ('radiology', 15), ('bed', 15), ('13', 15), ('vibration', 15), ('revolutionize', 15), ('thoughtful', 15), ('petrol', 15), ('fsi', 15), ('incorrect', 15), ('pocket', 15), ('honda', 15), ('ran', 15), ('ti', 15), ('cleansing', 15), ('pri', 15), ('auth', 15), ('caf', 15), ('directorate', 15), ('fashionable', 15), ('enclose', 15), ('compiles', 15), ('webinar', 15), ('occasion', 15), ('decipher', 15), ('beginner', 15), ('eco', 15), ('tabanan', 15), ('counterpart', 15), ('scene', 15), ('fulfills', 15), ('progressively', 15), ('equitable', 15), ('chandra', 15), ('delightful', 15), ('reliably', 15), ('closeout', 15), ('categorize', 15), ('disclaimer', 15), ('mpls', 15), ('fttx', 15), ('divide', 15), ('reengineering', 15), ('thesis', 15), ('houseware', 15), ('marker', 15), ('supplied', 15), ('thread', 15), ('vanilla', 15), ('perfectly', 15), ('reaction', 15), ('abnormality', 15), ('sipp', 15), ('pier', 15), ('counselor', 15), ('pupil', 15), ('tutorial', 15), ('reduced', 15), ('hancock', 16), ('yi', 16), ('arises', 16), ('shrinkage', 16), ('notch', 16), ('eden', 16), ('ivf', 16), ('tuna', 16), ('pursuant', 16), ('exporting', 16), ('gdn', 16), ('blogger', 16), ('squad', 16), ('december', 16), ('repayment', 16), ('investigative', 16), ('throughput', 16), ('nc', 16), ('jab', 16), ('canada', 16), ('stall', 16), ('insured', 16), ('renewing', 16), ('tuesday', 16), ('spp', 16), ('inspiration', 16), ('secretariat', 16), ('nielsen', 16), ('bottle', 16), ('length', 16), ('worth', 16), ('aggregator', 16), ('gathered', 16), ('fraudulent', 16), ('courage', 16), ('workable', 16), ('technologically', 16), ('webtrends', 16), ('ascertain', 16), ('marble', 16), ('mask', 16), ('integrates', 16), ('confidentially', 16), ('harapan', 16), ('msc', 16), ('buffet', 16), ('extrovert', 16), ('montessori', 16), ('regi', 16), ('borne', 16), ('speaks', 16), ('dj', 16), ('lounge', 16), ('investigator', 16), ('aspire', 16), ('inappropriate', 16), ('janitor', 16), ('cassandra', 16), ('australian', 16), ('assertiveness', 16), ('definitely', 16), ('thermal', 16), ('electrician', 16), ('fssc', 16), ('posture', 16), ('por', 16), ('padala', 16), ('midlevel', 16), ('giri', 16), ('strand', 16), ('telephony', 16), ('colored', 16), ('autodesk', 16), ('provincial', 16), ('mandate', 16), ('mai', 16), ('traction', 16), ('birthday', 16), ('homework', 16), ('sfa', 16), ('minus', 16), ('pesticide', 16), ('aor', 16), ('outlining', 16), ('consolidating', 16), ('toy', 16), ('elegant', 16), ('interim', 16), ('gu', 16), ('tl', 16), ('ppi', 16), ('retained', 16), ('embed', 16), ('morale', 16), ('simplicity', 16), ('brd', 16), ('um', 16), ('though', 16), ('motivates', 16), ('bon', 16), ('outer', 16), ('bet', 16), ('replying', 16), ('penetrating', 16), ('lara', 16), ('tt', 16), ('classify', 16), ('gardening', 16), ('sax', 16), ('abbrev', 16), ('disburse', 16), ('gada', 16), ('tempo', 16), ('clarifying', 16), ('latency', 16), ('pn', 16), ('resto', 16), ('suspected', 16), ('custodian', 16), ('unity', 16), ('awaits', 16), ('mkt', 16), ('ling', 16), ('eastern', 16), ('outdoors', 16), ('constructing', 16), ('dt', 16), ('sqlite', 16), ('intake', 16), ('sbu', 16), ('unparalleled', 16), ('inequality', 16), ('intense', 16), ('separate', 16), ('jd', 16), ('newmarket', 16), ('joiner', 16), ('indication', 16), ('applicator', 16), ('dependent', 16), ('humility', 16), ('depo', 16), ('mocha', 16), ('eo', 16), ('nm', 16), ('kpp', 16), ('handing', 16), ('nexus', 16), ('default', 16), ('fantastic', 16), ('conversant', 16), ('saipem', 16), ('putri', 16), ('formed', 16), ('bri', 16), ('ut', 16), ('cabling', 16), ('sentence', 16), ('asme', 16), ('streamlining', 16), ('sew', 16), ('vo', 16), ('scala', 16), ('boasting', 16), ('serverless', 16), ('tot', 16), ('microbiological', 16), ('wrench', 17), ('anchor', 17), ('jul', 17), ('sync', 17), ('imagination', 17), ('xpress', 17), ('fab', 17), ('dom', 17), ('destruction', 17), ('subfunction', 17), ('storey', 17), ('etiquette', 17), ('accrued', 17), ('dbo', 17), ('cbs', 17), ('interacts', 17), ('profound', 17), ('dessert', 17), ('oee', 17), ('inquisitive', 17), ('ogb', 17), ('wearing', 17), ('npl', 17), ('styling', 17), ('thoroughness', 17), ('ngan', 17), ('shot', 17), ('querying', 17), ('simplifies', 17), ('rabbit', 17), ('ironing', 17), ('allianz', 17), ('cid', 17), ('technologist', 17), ('hash', 17), ('recognizing', 17), ('brew', 17), ('disrupt', 17), ('phlebotomy', 17), ('interviewed', 17), ('overnight', 17), ('seasoning', 17), ('merdeka', 17), ('attraction', 17), ('sister', 17), ('abuse', 17), ('freezer', 17), ('simb1', 17), ('cpanel', 17), ('wh', 17), ('tha', 17), ('schneider', 17), ('wo', 17), ('heating', 17), ('born', 17), ('siloam', 17), ('realized', 17), ('credible', 17), ('politics', 17), ('terang', 17), ('sbp', 17), ('shortlist', 17), ('compound', 17), ('sq', 17), ('obsessed', 17), ('coalition', 17), ('definite', 17), ('defines', 17), ('hex', 17), ('cro', 17), ('eliminating', 17), ('coloring', 17), ('duma', 17), ('pob', 17), ('verse', 17), ('fragrant', 17), ('cont', 17), ('headhunting', 17), ('inconsistency', 17), ('mobilization', 17), ('tuban', 17), ('dua', 17), ('specializes', 17), ('flask', 17), ('ness', 17), ('belt', 17), ('revised', 17), ('fall', 17), ('ira', 17), ('embody', 17), ('actor', 17), ('ist', 17), ('spice', 17), ('springframework', 17), ('upkeep', 17), ('blit', 17), ('gen', 17), ('ftth', 17), ('leng', 17), ('edm', 17), ('industri', 17), ('ospf', 17), ('sociology', 17), ('coin', 17), ('resin', 17), ('prioritizes', 17), ('waz', 17), ('navision', 17), ('bau', 17), ('tal', 17), ('likely', 17), ('mediate', 17), ('catching', 17), ('instant', 17), ('ium', 17), ('hero', 17), ('absent', 17), ('absenteeism', 17), ('plenty', 17), ('exchanging', 17), ('serial', 17), ('uni', 17), ('matured', 17), ('substitute', 17), ('escort', 17), ('trailer', 17), ('sungai', 17), ('conditioner', 17), ('approves', 17), ('authoritative', 17), ('arco', 17), ('scoping', 17), ('outsourced', 17), ('concurrent', 17), ('ptcamiloplasjayamakmur', 17), ('dealership', 17), ('unplanned', 17), ('enhanced', 17), ('empowerment', 17), ('openoffice', 17), ('song', 17), ('amendment', 17), ('brilliant', 17), ('earth', 17), ('tanah', 17), ('pam', 17), ('older', 17), ('deadstock', 17), ('cbd', 17), ('vi', 17), ('partie', 17), ('dik', 17), ('az', 17), ('assessor', 18), ('prediction', 18), ('ru', 18), ('rephrase', 18), ('powdered', 18), ('yamaha', 18), ('href', 18), ('juke', 18), ('consignee', 18), ('icg', 18), ('resourcing', 18), ('dispatch', 18), ('lestari', 18), ('wfm', 18), ('stocking', 18), ('petroleum', 18), ('canteen', 18), ('summa', 18), ('ragen', 18), ('dokter', 18), ('3m', 18), ('rush', 18), ('2015', 18), ('sustaining', 18), ('lash', 18), ('extracting', 18), ('mw', 18), ('tenancy', 18), ('unusual', 18), ('embroidery', 18), ('karya', 18), ('cage', 18), ('cornell', 18), ('stanford', 18), ('doku', 18), ('sofi', 18), ('hailed', 18), ('cooked', 18), ('proprietary', 18), ('illness', 18), ('cup', 18), ('ceremony', 18), ('ewallet', 18), ('insert', 18), ('rb', 18), ('treat', 18), ('mixed', 18), ('usd', 18), ('eligibility', 18), ('flawless', 18), ('subcontract', 18), ('smelter', 18), ('multifunctional', 18), ('broken', 18), ('regulated', 18), ('lay', 18), ('distinctive', 18), ('hive', 18), ('validated', 18), ('arabic', 18), ('dateline', 18), ('contracting', 18), ('exjatipulo', 18), ('affected', 18), ('rfq', 18), ('iconic', 18), ('fpa', 18), ('osp', 18), ('outflow', 18), ('3dsmax', 18), ('bubu', 18), ('enables', 18), ('administers', 18), ('exactly', 18), ('aerial', 18), ('embassy', 18), ('ave', 18), ('lum', 18), ('impressive', 18), ('pok', 18), ('array', 18), ('maja', 18), ('font', 18), ('immigration', 18), ('tracing', 18), ('hiper', 18), ('carpentry', 18), ('alcoholic', 18), ('financials', 18), ('harvesting', 18), ('happening', 18), ('king', 18), ('accessed', 18), ('flat', 18), ('perl', 18), ('dur', 18), ('out', 18), ('departure', 18), ('ia', 18), ('visible', 18), ('golf', 18), ('webapp', 18), ('pid', 18), ('sight', 18), ('ize', 18), ('versus', 18), ('helmet', 18), ('teenager', 18), ('cylinder', 18), ('rhythm', 18), ('adventure', 18), ('drainage', 18), ('ra', 18), ('physique', 18), ('arm', 18), ('charged', 18), ('gro', 18), ('kerja', 18), ('nod', 18), ('billboard', 18), ('bsi', 18), ('favorite', 18), ('signal', 18), ('owns', 18), ('breaking', 18), ('sma', 18), ('binding', 18), ('kota', 18), ('robotics', 18), ('orchestration', 18), ('ali', 18), ('outing', 18), ('haul', 18), ('spb', 18), ('nominal', 18), ('intercompany', 18), ('respecting', 18), ('gym', 18), ('tn', 18), ('minahasa', 18), ('toll', 18), ('meta', 18), ('quarantine', 18), ('apt', 18), ('webservices', 18), ('phd', 18), ('prominent', 18), ('thirtyfour', 18), ('biomedical', 18), ('javac', 18), ('headcount', 18), ('lotte', 19), ('cargill', 19), ('persona', 19), ('diagnostics', 19), ('spray', 19), ('pura', 19), ('cert', 19), ('utara', 19), ('fx', 19), ('huawei', 19), ('bonito', 19), ('bio', 19), ('wine', 19), ('readymix', 19), ('span', 19), ('firmly', 19), ('idx', 19), ('educated', 19), ('washington', 19), ('changed', 19), ('turnaround', 19), ('crop', 19), ('or', 19), ('violate', 19), ('sensory', 19), ('osi', 19), ('watching', 19), ('finalization', 19), ('hydrant', 19), ('veterinarian', 19), ('rfi', 19), ('ep', 19), ('hacking', 19), ('participated', 19), ('flooring', 19), ('internasional', 19), ('crosscheck', 19), ('trigger', 19), ('pvc', 19), ('remittance', 19), ('rw', 19), ('dossier', 19), ('netapp', 19), ('dell', 19), ('an', 19), ('retouching', 19), ('cpp', 19), ('internews', 19), ('genuinely', 19), ('timesheet', 19), ('gree', 19), ('governmental', 19), ('flagship', 19), ('ssis', 19), ('ssl', 19), ('cohesive', 19), ('igt', 19), ('bias', 19), ('tim', 19), ('utilized', 19), ('twentyone', 19), ('preserve', 19), ('pkb', 19), ('prosper', 19), ('companywide', 19), ('highway', 19), ('loadbalancer', 19), ('named', 19), ('tomcat', 19), ('compute', 19), ('extent', 19), ('election', 19), ('2022allcvs', 19), ('4th', 19), ('dryer', 19), ('offset', 19), ('flair', 19), ('dbms', 19), ('impeccable', 19), ('removal', 19), ('nt', 19), ('seamlessly', 19), ('performant', 19), ('anticipated', 19), ('climb', 19), ('virtually', 19), ('mixer', 19), ('advises', 19), ('formation', 19), ('sarina', 19), ('hardening', 19), ('tap', 19), ('innovating', 19), ('disposition', 19), ('ipo', 19), ('amd', 19), ('ultimate', 19), ('tan', 19), ('substantial', 19), ('inherent', 19), ('signage', 19), ('imac', 19), ('rational', 19), ('restricted', 19), ('manipulate', 19), ('compromising', 19), ('dimarco', 19), ('hunger', 19), ('pfc', 19), ('urge', 19), ('inn', 19), ('downstream', 19), ('translated', 19), ('exemplary', 19), ('evacuation', 19), ('ansi', 19), ('wet', 19), ('stem', 19), ('weld', 19), ('ky', 19), ('gardener', 19), ('encryption', 19), ('prudent', 19), ('brokerage', 19), ('sandor', 19), ('refactor', 19), ('yore', 19), ('me', 20), ('alteration', 20), ('biz', 20), ('morula', 20), ('unleash', 20), ('apart', 20), ('iac', 20), ('black', 20), ('supra', 20), ('miss', 20), ('incurred', 20), ('lsp', 20), ('bonded', 20), ('abnormal', 20), ('accor', 20), ('fail', 20), ('mcu', 20), ('aud', 20), ('withdrawing', 20), ('john', 20), ('sir', 20), ('zen', 20), ('antibiotic', 20), ('footage', 20), ('accessing', 20), ('oo', 20), ('mq', 20), ('breach', 20), ('classifying', 20), ('inaccurate', 20), ('compilation', 20), ('payslip', 20), ('lk', 20), ('hrm', 20), ('boling', 20), ('apr', 20), ('ik', 20), ('expands', 20), ('bantu', 20), ('occurrence', 20), ('queue', 20), ('additionally', 20), ('latte', 20), ('everywhere', 20), ('dictionary', 20), ('wangi', 20), ('pad', 20), ('ots', 20), ('exponential', 20), ('transformer', 20), ('maybank', 20), ('b2bb2c', 20), ('conglomerate', 20), ('stone', 20), ('gogo', 20), ('returning', 20), ('equally', 20), ('referred', 20), ('so', 20), ('wallet', 20), ('icon', 20), ('microentrepreneurs', 20), ('floodgate', 20), ('naspers', 20), ('eminent', 20), ('handed', 20), ('zurich', 20), ('thru', 20), ('occurring', 20), ('bim', 20), ('seafood', 20), ('conveyed', 20), ('widely', 20), ('legalized', 20), ('calculated', 20), ('tattoo', 20), ('pcb', 20), ('serviced', 20), ('famous', 20), ('physiotherapy', 20), ('hat', 20), ('ptb', 20), ('malfunction', 20), ('emission', 20), ('klaten', 20), ('iq', 20), ('tolerant', 20), ('con', 20), ('subscriber', 20), ('visionary', 20), ('hauland3pl', 20), ('k3lh', 20), ('cf', 20), ('versatile', 20), ('kabel', 20), ('kickoff', 20), ('wow', 20), ('sala', 20), ('harmony', 20), ('edu', 20), ('datacenter', 20), ('writes', 20), ('ql', 20), ('sys', 20), ('cam', 20), ('siem', 20), ('thriving', 20), ('intent', 20), ('guardian', 20), ('wing', 20), ('outlined', 20), ('granite', 20), ('niro', 20), ('p2p', 20), ('argument', 20), ('proximity', 20), ('stratum', 20), ('banker', 20), ('signoff', 20), ('refinery', 20), ('hongkong', 20), ('attendant', 20), ('cor', 20), ('novel', 20), ('say', 20), ('chapter', 21), ('kargo', 21), ('lz', 21), ('personalized', 21), ('strives', 21), ('commercialization', 21), ('plier', 21), ('resulting', 21), ('lo', 21), ('onshore', 21), ('approving', 21), ('ptn', 21), ('compose', 21), ('correspond', 21), ('percent', 21), ('besides', 21), ('dexterous', 21), ('subsidy', 21), ('tutoring', 21), ('decorative', 21), ('bending', 21), ('smiling', 21), ('former', 21), ('standing', 21), ('converse', 21), ('grant', 21), ('agreeing', 21), ('creatives', 21), ('insur', 21), ('doh', 21), ('unesco', 21), ('except', 21), ('ebay', 21), ('jb', 21), ('tele', 21), ('bpj', 21), ('gpatwo75', 21), ('rumor', 21), ('messenger', 21), ('automatically', 21), ('vba', 21), ('brighter', 21), ('epson', 21), ('analyzed', 21), ('subnetting', 21), ('decided', 21), ('skus', 21), ('indo', 21), ('manipulation', 21), ('acls', 21), ('monster', 21), ('criticism', 21), ('voip', 21), ('kerry', 21), ('interfacing', 21), ('lobbying', 21), ('clerk', 21), ('raging', 21), ('wanted', 21), ('loving', 21), ('maximal', 21), ('redesign', 21), ('pivottables', 21), ('syntax', 21), ('infographics', 21), ('espresso', 21), ('fg', 21), ('plano', 21), ('necessity', 21), ('div', 21), ('analysing', 21), ('coupled', 21), ('wt', 21), ('itil', 21), ('csim', 21), ('menara', 21), ('deres', 21), ('plate', 21), ('nonprofit', 21), ('ello', 21), ('quite', 21), ('mirror', 21), ('opex', 21), ('wrong', 21), ('d', 21), ('hydraulics', 21), ('vibrant', 21), ('manufactured', 21), ('qr', 21), ('getter', 21), ('contemporary', 21), ('boy', 21), ('motorist', 21), ('robustness', 21), ('sleeve', 21), ('innovator', 21), ('flexibly', 21), ('audiovisual', 21), ('deciding', 21), ('kupang', 21), ('una', 21), ('ibi', 21), ('sio', 21), ('distinct', 21), ('mandala', 21), ('hook', 21), ('linking', 21), ('energi', 21), ('declaration', 21), ('kasara', 21), ('incomplete', 21), ('releasing', 21), ('pubsub', 21), ('livechat', 21), ('capturing', 21), ('consist', 21), ('sipa', 21), ('hira', 21), ('smk3', 21), ('opened', 21), ('djp', 21), ('kig', 21), ('cl', 21), ('frequency', 21), ('antigen', 21), ('codebase', 21), ('disseminate', 21), ('locate', 21), ('rejected', 21), ('recheck', 21), ('advertised', 21), ('shiftwork', 21), ('ben', 21), ('consignment', 21), ('discharge', 21), ('architecting', 21), ('stuff', 21), ('trademark', 22), ('monde', 22), ('hm', 22), ('expiration', 22), ('varied', 22), ('stp', 22), ('erection', 22), ('virus', 22), ('freelancer', 22), ('ki', 22), ('toeic', 22), ('furnishing', 22), ('persuasively', 22), ('divisional', 22), ('bright', 22), ('igf', 22), ('noc', 22), ('universitas', 22), ('aka', 22), ('inked', 22), ('feasible', 22), ('extensively', 22), ('wellhead', 22), ('iec', 22), ('indirectly', 22), ('lt', 22), ('shipped', 22), ('productively', 22), ('mop', 22), ('replication', 22), ('celebrity', 22), ('relates', 22), ('formality', 22), ('random', 22), ('leung', 22), ('implementers', 22), ('tar', 22), ('joined', 22), ('concentration', 22), ('recipient', 22), ('kernel', 22), ('inflow', 22), ('pathway', 22), ('medication', 22), ('hall', 22), ('whilst', 22), ('trim', 22), ('humane', 22), ('possessing', 22), ('ptp', 22), ('liner', 22), ('pulp', 22), ('polytechnic', 22), ('decent', 22), ('smartest', 22), ('poor', 22), ('fairly', 22), ('tracked', 22), ('dharma', 22), ('accomplishment', 22), ('thursday', 22), ('grows', 22), ('choosing', 22), ('tara', 22), ('commissioner', 22), ('comparative', 22), ('assume', 22), ('hesitate', 22), ('favorable', 22), ('spent', 22), ('punctuality', 22), ('pallet', 22), ('slightly', 22), ('sanitary', 22), ('tu', 22), ('leaseback', 22), ('objectivec', 22), ('kal', 22), ('ton', 22), ('said', 22), ('military', 22), ('collaborator', 22), ('inline', 22), ('intuition', 22), ('stamping', 22), ('decade', 22), ('dslr', 22), ('tile', 22), ('crowd', 22), ('stressful', 22), ('karaya', 22), ('indepth', 22), ('delegating', 22), ('dissemination', 22), ('buffer', 22), ('impacting', 22), ('compatible', 22), ('micrometer', 22), ('caliper', 22), ('offsite', 22), ('bb', 22), ('procuring', 22), ('ese', 22), ('recurring', 22), ('incl', 22), ('cinnamon', 22), ('inefficiency', 22), ('siemens', 22), ('supporter', 22), ('corn', 23), ('frisian', 23), ('bci', 23), ('retrieval', 23), ('universal', 23), ('spiritual', 23), ('cyber', 23), ('prop', 23), ('iri', 23), ('jurnal', 23), ('hobby', 23), ('enforcement', 23), ('earned', 23), ('blended', 23), ('chocolate', 23), ('distance', 23), ('movie', 23), ('gr', 23), ('enrollment', 23), ('concisely', 23), ('ceiling', 23), ('seeker', 23), ('umber', 23), ('paloalto', 23), ('beautician', 23), ('render', 23), ('indesign', 23), ('soc', 23), ('majored', 23), ('trong', 23), ('emotion', 23), ('resignation', 23), ('pema', 23), ('tape', 23), ('heavily', 23), ('apothecary', 23), ('conveying', 23), ('centralized', 23), ('logistical', 23), ('ilo', 23), ('dyeing', 23), ('protecting', 23), ('else', 23), ('unstructured', 23), ('hungry', 23), ('atp', 23), ('lubrication', 23), ('datasets', 23), ('pati', 23), ('normally', 23), ('decisive', 23), ('gate', 23), ('timer', 23), ('newest', 23), ('tdd', 23), ('checkpoint', 23), ('dip', 23), ('sgcp', 23), ('ago', 23), ('plane', 23), ('experiencing', 23), ('flex', 23), ('safer', 23), ('calm', 23), ('split', 23), ('shave', 23), ('lombok', 23), ('jr', 23), ('diri', 23), ('imaging', 23), ('promoted', 23), ('laundering', 23), ('paradigm', 23), ('pdca', 23), ('mou', 23), ('agri', 23), ('comme', 23), ('moral', 23), ('catalyst', 23), ('passenger', 23), ('deeply', 23), ('corner', 23), ('lm', 23), ('vlan', 23), ('deployed', 23), ('mobil', 23), ('extending', 23), ('restructuring', 23), ('upstream', 23), ('incredible', 23), ('presenter', 23), ('skillful', 23), ('ha', 23), ('lathe', 23), ('admins', 23), ('endurance', 23), ('deft', 23), ('carpet', 23), ('flower', 23), ('craftsman', 23), ('kelly', 23), ('persol', 23), ('fitness', 23), ('becomes', 23), ('trash', 23), ('housekeeper', 23), ('analyzer', 23), ('readable', 23), ('wp', 23), ('e2e', 23), ('although', 23), ('occupy', 23), ('spreading', 23), ('nationally', 23), ('happiness', 24), ('perception', 24), ('announcement', 24), ('defense', 24), ('preventing', 24), ('biodiversity', 24), ('daimler', 24), ('subsequent', 24), ('qms', 24), ('il', 24), ('hcm', 24), ('solved', 24), ('objectively', 24), ('rigorous', 24), ('elevation', 24), ('ant', 24), ('pertinent', 24), ('wash', 24), ('obvious', 24), ('pull', 24), ('hartono', 24), ('jln', 24), ('angle', 24), ('lamp', 24), ('connectivity', 24), ('flash', 24), ('mojo', 24), ('unlock', 24), ('steering', 24), ('reflects', 24), ('safeguarding', 24), ('z', 24), ('lightspeed', 24), ('jom', 24), ('stationary', 24), ('xd', 24), ('liase', 24), ('crime', 24), ('africa', 24), ('catch', 24), ('wore', 24), ('reminding', 24), ('poc', 24), ('strategizing', 24), ('cx', 24), ('initiated', 24), ('ebu', 24), ('repaired', 24), ('organizes', 24), ('prime', 24), ('passing', 24), ('madura', 24), ('packaged', 24), ('visited', 24), ('vegetable', 24), ('importantly', 24), ('straightforward', 24), ('pantry', 24), ('lifelong', 24), ('pixel', 24), ('healthier', 24), ('console', 24), ('reached', 24), ('finalcutpro', 24), ('creditworthiness', 24), ('mediation', 24), ('innovatively', 24), ('budgetary', 24), ('polymer', 24), ('investing', 24), ('jur', 24), ('cian', 24), ('12', 24), ('regret', 24), ('prerequisite', 24), ('mataram', 24), ('respectful', 24), ('vacuum', 24), ('bunch', 24), ('restriction', 24), ('sorong', 24), ('refreshment', 24), ('attainment', 24), ('sone', 24), ('logbook', 24), ('englishlanguage', 24), ('np', 24), ('war', 24), ('linguistics', 24), ('acquired', 24), ('reactive', 25), ('outline', 25), ('conformance', 25), ('screwdriver', 25), ('para', 25), ('korea', 25), ('gtm', 25), ('firefighting', 25), ('automobile', 25), ('cod', 25), ('pgs', 25), ('empathetic', 25), ('dr', 25), ('demonstra', 25), ('charter', 25), ('wait', 25), ('cit', 25), ('graha', 25), ('reagent', 25), ('rider', 25), ('transferring', 25), ('comfortably', 25), ('examining', 25), ('pushing', 25), ('legislative', 25), ('provisioning', 25), ('fri', 25), ('situ', 25), ('sec', 25), ('modular', 25), ('3dmax', 25), ('diplomacy', 25), ('folder', 25), ('mentioned', 25), ('insignia', 25), ('viewer', 25), ('rt', 25), ('tell', 25), ('advertise', 25), ('peripheral', 25), ('structuring', 25), ('nav', 25), ('putra', 25), ('browse', 25), ('billed', 25), ('replenishment', 25), ('panda', 25), ('ri', 25), ('rut', 25), ('screw', 25), ('methodical', 25), ('b3', 25), ('bearing', 25), ('probably', 25), ('airport', 25), ('landed', 25), ('gpathree0', 25), ('s', 25), ('herbal', 25), ('seniority', 25), ('batu', 25), ('hpp', 25), ('eligible', 25), ('budi', 25), ('bm', 25), ('attends', 25), ('revising', 25), ('papa', 25), ('evolve', 25), ('season', 25), ('pln', 25), ('hone', 25), ('spirited', 25), ('terminology', 25), ('exposed', 25), ('dad', 25), ('imaginative', 25), ('nimble', 25), ('impression', 25), ('kp', 25), ('plaza', 25), ('plot', 25), ('lover', 25), ('funded', 25), ('sat', 25), ('derive', 25), ('inverter', 25), ('eat', 25), ('thirtytwo', 25), ('fragrance', 25), ('planet', 25), ('upgrading', 25), ('traceability', 25), ('evaluated', 25), ('simplify', 25), ('relay', 25), ('legally', 25), ('wellness', 25), ('protective', 26), ('tracker', 26), ('convincing', 26), ('profiling', 26), ('filtering', 26), ('existence', 26), ('irregularity', 26), ('cima', 26), ('sc', 26), ('telecom', 26), ('mostly', 26), ('cooperates', 26), ('geotechnical', 26), ('multidisciplinary', 26), ('incidental', 26), ('workday', 26), ('jogja', 26), ('doctoral', 26), ('verified', 26), ('thematic', 26), ('specify', 26), ('pwc', 26), ('rand', 26), ('indep', 26), ('tasker', 26), ('bw', 26), ('wtp', 26), ('shophouses', 26), ('flour', 26), ('negative', 26), ('renewable', 26), ('geographical', 26), ('warm', 26), ('mvp', 26), ('graf', 26), ('rentokil', 26), ('sni', 26), ('correctness', 26), ('voltage', 26), ('analyse', 26), ('ada', 26), ('worship', 26), ('cool', 26), ('conform', 26), ('projected', 26), ('perseverance', 26), ('jig', 26), ('aml', 26), ('persuading', 26), ('awan', 26), ('uru', 26), ('republic', 26), ('jsa', 26), ('complain', 26), ('mangga', 26), ('mb', 26), ('distributes', 26), ('relocated', 26), ('displayed', 26), ('tiga', 26), ('doesnt', 26), ('sentosa', 26), ('commercially', 26), ('diary', 26), ('localization', 26), ('incorporating', 26), ('representation', 26), ('revit', 26), ('exclusive', 26), ('cucumber', 26), ('schema', 26), ('sized', 26), ('robotic', 26), ('leaving', 26), ('memorandum', 26), ('patching', 26), ('fiel', 26), ('uploaded', 26), ('fax', 26), ('vital', 26), ('navigation', 26), ('occasionally', 26), ('tek', 26), ('newspaper', 26), ('admission', 26), ('fo', 26), ('da', 26), ('gorontalo', 26), ('nonconformance', 26), ('credential', 26), ('conscientious', 26), ('expediting', 26), ('derivative', 26), ('oneself', 26), ('focal', 26), ('telemarketer', 27), ('maju', 27), ('autonomous', 27), ('proofread', 27), ('courteous', 27), ('exact', 27), ('forex', 27), ('complied', 27), ('lower', 27), ('shrimp', 27), ('scan', 27), ('iom', 27), ('drinking', 27), ('aftermarket', 27), ('extraction', 27), ('sensitivity', 27), ('trader', 27), ('asm', 27), ('aided', 27), ('empowered', 27), ('variant', 27), ('prove', 27), ('pg', 27), ('pph21', 27), ('muara', 27), ('tune', 27), ('prompt', 27), ('explained', 27), ('genuine', 27), ('recapitulate', 27), ('dependable', 27), ('listener', 27), ('raising', 27), ('meritocracy', 27), ('regionally', 27), ('aquaculture', 27), ('merger', 27), ('geographic', 27), ('dinner', 27), ('contracted', 27), ('ag', 27), ('dirty', 27), ('bunda', 27), ('pharma', 27), ('hose', 27), ('navigate', 27), ('kembangan', 27), ('fortinet', 27), ('cb', 27), ('quran', 27), ('confidently', 27), ('jest', 27), ('nutritionist', 27), ('1st', 27), ('empty', 27), ('qualifying', 27), ('counting', 27), ('grc', 27), ('noncompliance', 27), ('aiming', 27), ('tackle', 27), ('settle', 27), ('merit', 27), ('vip', 27), ('appreciate', 27), ('leaf', 27), ('accrual', 27), ('hygienic', 27), ('captain', 27), ('elevator', 27), ('bilingual', 27), ('dart', 27), ('timetable', 27), ('domestically', 27), ('mindshare', 28), ('conception', 28), ('te', 28), ('intensively', 28), ('liquidity', 28), ('convenience', 28), ('blood', 28), ('epic', 28), ('lobby', 28), ('arap', 28), ('poultry', 28), ('plugins', 28), ('negotiator', 28), ('lake', 28), ('packer', 28), ('intuitive', 28), ('nonsmoker', 28), ('kasa', 28), ('twentyfourseven', 28), ('aligns', 28), ('broadminded', 28), ('fc', 28), ('regulate', 28), ('iteration', 28), ('hypothesis', 28), ('surgery', 28), ('spss', 28), ('b1', 28), ('pertamina', 28), ('reader', 28), ('america', 28), ('dst', 28), ('performer', 28), ('od', 28), ('pi', 28), ('rely', 28), ('dang', 28), ('footwear', 28), ('alliance', 28), ('grad', 28), ('wherever', 28), ('bun', 28), ('tam', 28), ('wali', 28), ('veterinary', 28), ('narrative', 28), ('eid', 28), ('linen', 28), ('4x6', 28), ('salesmanship', 28), ('percentage', 28), ('numerous', 28), ('die', 28), ('cme', 28), ('stronger', 28), ('nsta', 28), ('kandi', 28), ('diagnosing', 28), ('encourages', 28), ('failed', 28), ('pek', 28), ('reporter', 28), ('punishment', 28), ('adult', 28), ('reinsurance', 28), ('mulia', 28), ('justification', 28), ('ib', 28), ('rural', 28), ('headhunter', 28), ('lender', 28), ('compared', 28), ('behave', 28), ('saw', 28), ('displaying', 28), ('obey', 28), ('mat', 28), ('selatan', 28), ('crewing', 28), ('branded', 28), ('aa', 28), ('enrich', 28), ('subscription', 28), ('surveillance', 28), ('machining', 28), ('kudu', 28), ('prize', 28), ('jam', 28), ('canvasser', 28), ('faq', 28), ('vsat', 29), ('qateam', 29), ('rank', 29), ('correcting', 29), ('preproduction', 29), ('filled', 29), ('varying', 29), ('athlete', 29), ('sticker', 29), ('bureau', 29), ('recon', 29), ('timing', 29), ('dump', 29), ('autonomy', 29), ('kendal', 29), ('completes', 29), ('infra', 29), ('overhead', 29), ('allocating', 29), ('hitachi', 29), ('fais', 29), ('kes', 29), ('financially', 29), ('resort', 29), ('portion', 29), ('attaching', 29), ('erd', 29), ('adheres', 29), ('simca', 29), ('html5cs', 29), ('btob', 29), ('determines', 29), ('double', 29), ('clustering', 29), ('checked', 29), ('trace', 29), ('standardize', 29), ('pond', 29), ('penetrate', 29), ('rotating', 29), ('diligently', 29), ('worksheet', 29), ('american', 29), ('ska', 29), ('residing', 29), ('regardless', 29), ('visualizing', 29), ('journalist', 29), ('nationality', 29), ('drop', 29), ('sharepoint', 29), ('fe', 29), ('baking', 29), ('bl', 29), ('exception', 29), ('aaj', 29), ('sophisticated', 29), ('rnd', 29), ('aand', 29), ('electromedical', 29), ('registering', 29), ('duly', 29), ('svn', 29), ('uncover', 29), ('pen', 29), ('patrol', 29), ('rfp', 29), ('fertilizer', 29), ('remove', 29), ('dari', 29), ('simply', 29), ('wonderful', 29), ('umk', 29), ('bom', 29), ('gef', 30), ('tanker', 30), ('experian', 30), ('ta', 30), ('satellite', 30), ('overcoming', 30), ('talking', 30), ('ur', 30), ('modifying', 30), ('secured', 30), ('brain', 30), ('retirement', 30), ('unter', 30), ('t', 30), ('moro', 30), ('centos', 30), ('actuary', 30), ('cirac', 30), ('begin', 30), ('proportional', 30), ('square', 30), ('complicated', 30), ('fsd', 30), ('affirmative', 30), ('gaining', 30), ('undertaken', 30), ('corresponding', 30), ('delegated', 30), ('rehabilitation', 30), ('audited', 30), ('viral', 30), ('curve', 30), ('cigarette', 30), ('budgeted', 30), ('slow', 30), ('gained', 30), ('ml', 30), ('mouse', 30), ('husbandry', 30), ('kali', 30), ('ment', 30), ('discretion', 30), ('preventative', 30), ('postman', 30), ('atl', 30), ('pharmacology', 30), ('proceeding', 30), ('extracurricular', 30), ('authentic', 30), ('du', 30), ('mage', 30), ('reality', 30), ('hazardous', 30), ('clarity', 30), ('django', 30), ('camp', 30), ('crafting', 30), ('occasional', 30), ('exist', 30), ('warrant', 30), ('pks', 30), ('barrier', 30), ('aluminum', 30), ('uat', 30), ('accounted', 30), ('taiwan', 30), ('2d', 30), ('caliber', 30), ('enabler', 30), ('suru', 30), ('dining', 30), ('forwarders', 30), ('busy', 30), ('realizing', 30), ('kom', 30), ('containerization', 30), ('challenged', 30), ('adidas', 31), ('blender', 31), ('indoor', 31), ('weekday', 31), ('idp', 31), ('pola', 31), ('ffb', 31), ('mentorship', 31), ('collaborated', 31), ('represents', 31), ('assisted', 31), ('kpr', 31), ('ginger', 31), ('boutique', 31), ('independence', 31), ('redhat', 31), ('digitally', 31), ('baker', 31), ('login', 31), ('secret', 31), ('smoothness', 31), ('cr', 31), ('kuta', 31), ('checkup', 31), ('markup', 31), ('unsafe', 31), ('researcher', 31), ('appreciated', 31), ('vacant', 31), ('tel', 31), ('gold', 31), ('banquet', 31), ('nk', 31), ('drone', 31), ('woke', 31), ('ge', 31), ('igcse', 31), ('evolving', 31), ('om', 31), ('shaping', 31), ('approachable', 31), ('turning', 31), ('macos', 31), ('uncertainty', 31), ('experimentation', 31), ('hsk', 31), ('heat', 31), ('globe', 31), ('dhcp', 31), ('disclose', 31), ('persuade', 31), ('dm', 31), ('convention', 31), ('operated', 31), ('spatial', 31), ('umr', 31), ('chair', 31), ('atm', 31), ('lifting', 31), ('rejection', 31), ('jmeter', 31), ('pcr', 31), ('bala', 31), ('kt', 31), ('blue', 31), ('webinars', 31), ('guided', 31), ('mu', 32), ('urban', 32), ('manifest', 32), ('antifraud', 32), ('appetite', 32), ('attracting', 32), ('npd', 32), ('fluid', 32), ('bast', 32), ('circle', 32), ('mistake', 32), ('crucial', 32), ('round', 32), ('cancellation', 32), ('baru', 32), ('excess', 32), ('azz', 32), ('rep', 32), ('consumable', 32), ('bigger', 32), ('im', 32), ('aimed', 32), ('seeing', 32), ('pabx', 32), ('safeguard', 32), ('auction', 32), ('owning', 32), ('clearing', 32), ('balanced', 32), ('ibm', 32), ('isp', 32), ('customize', 32), ('diy', 32), ('discrimination', 32), ('b2c', 32), ('pit', 32), ('ambassador', 32), ('2dand3d', 32), ('reserve', 32), ('shirt', 32), ('wed', 32), ('terraform', 32), ('quiz', 32), ('bold', 32), ('thus', 32), ('conservation', 32), ('bos', 32), ('imagine', 32), ('informal', 32), ('smartphones', 32), ('processor', 32), ('belonging', 32), ('devising', 32), ('tied', 32), ('sought', 32), ('european', 32), ('mayor', 32), ('dry', 32), ('vp', 32), ('dentist', 32), ('broaden', 32), ('fixture', 32), ('endpoint', 32), ('toilet', 32), ('motivator', 32), ('difficult', 32), ('acceleration', 32), ('robot', 32), ('conceptualizing', 32), ('meaning', 32), ('spk', 32), ('ey', 33), ('ible', 33), ('hearing', 33), ('mockup', 33), ('distinguish', 33), ('agribusiness', 33), ('pac', 33), ('spgs', 33), ('experimental', 33), ('exterior', 33), ('behavioral', 33), ('genset', 33), ('arranged', 33), ('delegation', 33), ('shortage', 33), ('caterpillar', 33), ('god', 33), ('wedding', 33), ('escalated', 33), ('confluence', 33), ('publisher', 33), ('adaptation', 33), ('lady', 33), ('cultivation', 33), ('mrp', 33), ('wip', 33), ('significantly', 33), ('ir', 33), ('brave', 33), ('edc', 33), ('cope', 33), ('elsewhere', 33), ('surakarta', 33), ('middleware', 33), ('trying', 33), ('twice', 33), ('tailor', 33), ('rounded', 33), ('insightful', 33), ('showcase', 33), ('excitement', 33), ('foodservice', 33), ('occupancy', 33), ('static', 33), ('mediator', 33), ('corp', 33), ('chosen', 33), ('unrivaled', 33), ('superb', 33), ('maritime', 33), ('learned', 33), ('debit', 33), ('lippo', 33), ('taman', 33), ('released', 33), ('firebase', 33), ('kanban', 33), ('norm', 33), ('finalize', 33), ('enablement', 33), ('jiva', 34), ('suka', 34), ('cream', 34), ('kindergarten', 34), ('pru', 34), ('reseller', 34), ('employ', 34), ('pollution', 34), ('san', 34), ('ubuntu', 34), ('ppc', 34), ('nursery', 34), ('alibaba', 34), ('arising', 34), ('interpreter', 34), ('swab', 34), ('illustrate', 34), ('therapy', 34), ('shaving', 34), ('bash', 34), ('vray', 34), ('esb', 34), ('accompanying', 34), ('uml', 34), ('ic', 34), ('credibility', 34), ('iterative', 34), ('influential', 34), ('cat', 34), ('customization', 34), ('crazy', 34), ('ed', 34), ('bersama', 34), ('netsuite', 34), ('suggesting', 34), ('procure', 34), ('relative', 34), ('uphold', 34), ('licensed', 34), ('palu', 34), ('affecting', 34), ('amazing', 34), ('supervised', 34), ('thrives', 34), ('fat', 34), ('cooperatively', 34), ('piece', 35), ('ndt', 35), ('auditee', 35), ('synthesize', 35), ('docking', 35), ('bpr', 35), ('pak', 35), ('larger', 35), ('digitalization', 35), ('flag', 35), ('assemble', 35), ('loop', 35), ('armas', 35), ('spark', 35), ('maluku', 35), ('relevance', 35), ('sizing', 35), ('dp', 35), ('ptgadingmaswirajaya', 35), ('tp', 35), ('reject', 35), ('webapps', 35), ('gmail', 35), ('reception', 35), ('meru', 35), ('watch', 35), ('facilitation', 35), ('trait', 35), ('ovo', 35), ('procedural', 35), ('capex', 35), ('ak3', 35), ('iv', 35), ('excell', 35), ('daan', 35), ('assigning', 35), ('tomorrow', 35), ('tobacco', 35), ('laser', 35), ('extremely', 35), ('graduation', 35), ('flavor', 35), ('postgres', 35), ('tenggara', 35), ('lc', 35), ('negara', 35), ('maria', 35), ('exhibit', 35), ('welcoming', 35), ('hotspur', 35), ('tottenham', 35), ('sumed', 35), ('gc', 35), ('encountered', 35), ('waterfall', 35), ('vast', 35), ('grand', 35), ('outreach', 35), ('freelance', 35), ('possessed', 35), ('quo', 35), ('killed', 35), ('aftersales', 35), ('seed', 35), ('pot', 35), ('stationed', 35), ('landlord', 35), ('socket', 35), ('bread', 35), ('psycho', 35), ('marking', 35), ('discriminate', 35), ('replacing', 36), ('mati', 36), ('farina', 36), ('as', 36), ('crypto', 36), ('multichannel', 36), ('facilitates', 36), ('comprehension', 36), ('lp', 36), ('mastered', 36), ('weve', 36), ('kindly', 36), ('org', 36), ('aeon', 36), ('surveying', 36), ('programmatic', 36), ('alcohol', 36), ('airasia', 36), ('hired', 36), ('nickel', 36), ('hci', 36), ('bd', 36), ('consolidated', 36), ('surface', 36), ('motivational', 36), ('cfo', 36), ('harassment', 36), ('replace', 36), ('realistic', 36), ('expired', 36), ('habit', 36), ('strictest', 36), ('positioned', 36), ('rich', 36), ('inspecting', 36), ('mp', 36), ('nusa', 36), ('directive', 36), ('appealing', 36), ('apar', 36), ('observing', 36), ('ocean', 36), ('quarter', 36), ('mutually', 36), ('sequoia', 36), ('forming', 36), ('tea', 36), ('depreciation', 36), ('hyundai', 36), ('autonomously', 36), ('referring', 36), ('harvest', 36), ('potentially', 36), ('transactional', 36), ('sage', 36), ('atk', 36), ('column', 36), ('grievance', 36), ('ruby', 36), ('permission', 36), ('jati', 36), ('hilton', 37), ('left', 37), ('siliconvalley', 37), ('outsource', 37), ('mv', 37), ('smoke', 37), ('scada', 37), ('containing', 37), ('transparent', 37), ('trouble', 37), ('ja', 37), ('teller', 37), ('centered', 37), ('iterate', 37), ('citigroup', 37), ('mini', 37), ('myob', 37), ('trans', 37), ('ken', 37), ('loader', 37), ('diesel', 37), ('inter', 37), ('schematic', 37), ('chartered', 37), ('dos', 37), ('giro', 37), ('deepen', 37), ('beware', 37), ('attorney', 37), ('male', 37), ('striving', 37), ('ot', 37), ('juggle', 37), ('mang', 37), ('tip', 37), ('guaranteed', 37), ('grammar', 37), ('depends', 37), ('circumstance', 37), ('disrupting', 37), ('nurturing', 37), ('sometimes', 37), ('flight', 37), ('rupiah', 37), ('assumption', 37), ('teen', 37), ('plasma', 37), ('hc', 37), ('involves', 37), ('fitting', 37), ('satisfy', 37), ('crystal', 37), ('openness', 37), ('executor', 37), ('pinang', 37), ('ppg', 38), ('oyo', 38), ('sci', 38), ('endorsement', 38), ('multipurpose', 38), ('pb', 38), ('rough', 38), ('hunting', 38), ('currency', 38), ('population', 38), ('ana', 38), ('midwife', 38), ('ice', 38), ('kck', 38), ('farming', 38), ('rice', 38), ('true', 38), ('ly', 38), ('unicorn', 38), ('pneumatic', 38), ('tr', 38), ('philosophy', 38), ('technic', 38), ('assortment', 38), ('delta', 38), ('nonconformity', 38), ('diagnostic', 38), ('inputted', 38), ('eyelash', 38), ('ambiguous', 38), ('dot', 38), ('aggressively', 38), ('authentication', 38), ('asked', 38), ('bound', 38), ('affiliated', 38), ('confirming', 38), ('carrier', 38), ('rent', 38), ('avenue', 38), ('relentless', 38), ('hmi', 38), ('equalization', 38), ('employed', 38), ('numeracy', 38), ('sanction', 38), ('shopper', 38), ('reminder', 38), ('adhered', 38), ('presentable', 38), ('achiever', 38), ('tb', 38), ('planting', 38), ('workstation', 38), ('pareto', 38), ('adapting', 39), ('cer', 39), ('breakthrough', 39), ('arcgis', 39), ('television', 39), ('expat', 39), ('acceptable', 39), ('apple', 39), ('wish', 39), ('accessibility', 39), ('clarify', 39), ('electro', 39), ('geological', 39), ('broadcasting', 39), ('attachment', 39), ('ai', 39), ('arrears', 39), ('ccnp', 39), ('powerful', 39), ('tutor', 39), ('broader', 39), ('elastic', 39), ('patch', 39), ('labeling', 39), ('fan', 39), ('sqlquery', 39), ('2x', 39), ('pmp', 39), ('puri', 39), ('vietnam', 39), ('persistence', 39), ('seize', 39), ('banjar', 39), ('sur', 39), ('pitching', 39), ('aceh', 39), ('prep', 39), ('pursuing', 39), ('contest', 39), ('petrochemical', 39), ('healthcheck', 39), ('cleaner', 39), ('eliminate', 39), ('raised', 39), ('biotechnology', 39), ('ansible', 39), ('asking', 40), ('goto', 40), ('battery', 40), ('blast', 40), ('resilience', 40), ('bone', 40), ('tolerance', 40), ('questionnaire', 40), ('logo', 40), ('wifi', 40), ('mom', 40), ('prototyping', 40), ('attentive', 40), ('adequacy', 40), ('el', 40), ('sku', 40), ('cia', 40), ('cinema', 40), ('estimated', 40), ('sr', 40), ('kads', 40), ('deed', 40), ('waiter', 40), ('recordkeeping', 40), ('beautiful', 40), ('massage', 40), ('unified', 40), ('fish', 40), ('prevailing', 40), ('comparing', 40), ('cultivate', 40), ('sustain', 40), ('ltd', 40), ('pmo', 40), ('tenacity', 40), ('pending', 40), ('crisis', 40), ('greeting', 40), ('hello', 40), ('appreciation', 40), ('promotes', 40), ('celebrated', 40), ('yard', 40), ('er', 40), ('mnc', 40), ('mak', 40), ('promise', 40), ('modena', 40), ('undertaking', 40), ('bts', 40), ('bumi', 41), ('dairy', 41), ('tang', 41), ('sponsor', 41), ('photoshoot', 41), ('united', 41), ('artistic', 41), ('minimizing', 41), ('accomplishing', 41), ('transition', 41), ('milling', 41), ('donor', 41), ('sensor', 41), ('conjunction', 41), ('iatf', 41), ('restore', 41), ('agronomy', 41), ('kafka', 41), ('stik', 41), ('receives', 41), ('communicated', 41), ('gaap', 41), ('fnb', 41), ('plsql', 41), ('compatibility', 41), ('ro', 41), ('cpa', 41), ('photographer', 41), ('construct', 41), ('compete', 41), ('political', 41), ('bridging', 41), ('entrepreneurship', 41), ('wear', 41), ('gpaofthree00', 41), ('greet', 41), ('football', 41), ('sri', 41), ('ambiguity', 41), ('asean', 41), ('borrower', 41), ('teammate', 41), ('vb', 41), ('typical', 41), ('ko', 41), ('hassle', 41), ('transforming', 41), ('brought', 41), ('hana', 41), ('2nd', 41), ('ordinary', 41), ('alarm', 41), ('tube', 41), ('drama', 41), ('validating', 41), ('cuisine', 41), ('institutional', 41), ('rpa', 41), ('otc', 41), ('utilizing', 41), ('visually', 41), ('gsk', 42), ('filed', 42), ('internationally', 42), ('combining', 42), ('in', 42), ('oem', 42), ('friend', 42), ('invitation', 42), ('comprehensively', 42), ('eagerness', 42), ('cement', 42), ('ngo', 42), ('withdrawal', 42), ('ray', 42), ('signature', 42), ('scanning', 42), ('headquarters', 42), ('importer', 42), ('weighing', 42), ('dependency', 42), ('winner', 42), ('succession', 42), ('progressive', 42), ('cooperating', 42), ('detection', 42), ('adi', 42), ('boq', 42), ('anticipating', 42), ('satisfied', 42), ('strt', 42), ('politely', 42), ('disclosure', 42), ('sampoerna', 42), ('detect', 42), ('satisfactory', 42), ('standardized', 42), ('van', 42), ('happen', 42), ('refer', 42), ('mathematical', 42), ('ce', 42), ('january', 42), ('carbon', 42), ('achieves', 42), ('pledge', 42), ('yu', 42), ('instructor', 42), ('orc', 42), ('talon', 42), ('feb', 42), ('bengkulu', 42), ('marketed', 42), ('white', 42), ('equipped', 42), ('renew', 42), ('married', 43), ('ikea', 43), ('magazine', 43), ('initiating', 43), ('supervises', 43), ('helpful', 43), ('tc', 43), ('storyboards', 43), ('outdoor', 43), ('contributes', 43), ('wire', 43), ('difficulty', 43), ('macro', 43), ('bandar', 43), ('lumi', 43), ('sig', 43), ('anything', 43), ('forest', 43), ('tegal', 43), ('duration', 43), ('ul', 43), ('zahir', 43), ('synergistic', 43), ('kk', 43), ('empowering', 43), ('tailored', 43), ('mark', 43), ('islamic', 43), ('stated', 43), ('clothes', 43), ('maturity', 43), ('solidworks', 43), ('linear', 43), ('dish', 43), ('agung', 43), ('apparel', 43), ('solus', 43), ('converting', 43), ('summit', 43), ('wise', 43), ('honestly', 43), ('grasp', 43), ('apac', 43), ('dog', 43), ('11', 43), ('founder', 43), ('repeat', 43), ('printed', 43), ('deputy', 43), ('gross', 43), ('urgency', 43), ('demanding', 43), ('accommodate', 43), ('relocation', 43), ('amazon', 43), ('wave', 44), ('outpatient', 44), ('climate', 44), ('transporter', 44), ('australia', 44), ('turbine', 44), ('manually', 44), ('sox', 44), ('speech', 44), ('palmer', 44), ('picking', 44), ('wall', 44), ('yes', 44), ('extract', 44), ('superintendent', 44), ('pta', 44), ('agree', 44), ('seen', 44), ('auxiliary', 44), ('yakult', 44), ('airline', 44), ('pondok', 44), ('lightroom', 44), ('spiritually', 44), ('videographer', 44), ('requesting', 44), ('contributor', 44), ('conditioning', 44), ('ol', 44), ('syllabus', 44), ('facilitator', 44), ('mood', 44), ('preschool', 44), ('bottom', 44), ('patience', 44), ('away', 44), ('commit', 44), ('consent', 44), ('reasoning', 44), ('0', 44), ('stainless', 44), ('pertaining', 44), ('sort', 44), ('synergy', 44), ('irrespective', 44), ('assured', 44), ('remains', 44), ('seal', 44), ('qualify', 44), ('mba', 44), ('booth', 44), ('gameloft', 45), ('peb', 45), ('coating', 45), ('mcdermott', 45), ('eng', 45), ('pilot', 45), ('choice', 45), ('weight', 45), ('downtime', 45), ('typically', 45), ('00', 45), ('geology', 45), ('sdk', 45), ('ease', 45), ('smu', 45), ('comm', 45), ('coo', 45), ('midwifery', 45), ('enforcing', 45), ('hokkien', 45), ('anytime', 45), ('integral', 45), ('sole', 45), ('fi', 45), ('ceramic', 45), ('customized', 45), ('topology', 45), ('thailand', 45), ('pang', 45), ('sari', 45), ('inviting', 45), ('frontline', 45), ('resistant', 45), ('hibernate', 45), ('closure', 45), ('d1', 45), ('scaling', 45), ('canvas', 45), ('spectrum', 45), ('mode', 45), ('dive', 45), ('standby', 46), ('responsibly', 46), ('cip', 46), ('cnet', 46), ('bsc', 46), ('fundraising', 46), ('yield', 46), ('assembling', 46), ('expanded', 46), ('st', 46), ('remaining', 46), ('touchpoints', 46), ('consumables', 46), ('border', 46), ('half', 46), ('passed', 46), ('daro', 46), ('celebration', 46), ('liquid', 46), ('tna', 46), ('mutual', 46), ('pasar', 46), ('playing', 46), ('upcoming', 46), ('discussed', 46), ('rating', 46), ('brings', 46), ('streamline', 46), ('actuarial', 46), ('bq', 46), ('elearning', 46), ('childrens', 46), ('lift', 46), ('initiation', 46), ('allocate', 46), ('preliminary', 46), ('temporary', 46), ('scm', 46), ('logging', 46), ('tri', 46), ('jan', 46), ('religious', 46), ('fedex', 47), ('sprint', 47), ('devise', 47), ('mac', 47), ('tangible', 47), ('visualize', 47), ('tone', 47), ('seasonal', 47), ('renovation', 47), ('postgraduate', 47), ('decoration', 47), ('seamless', 47), ('journaling', 47), ('positively', 47), ('corel', 47), ('continually', 47), ('adopt', 47), ('ore', 47), ('empathy', 47), ('oversight', 47), ('consisting', 47), ('longer', 47), ('hear', 47), ('strategist', 47), ('appear', 47), ('childhood', 47), ('convince', 47), ('promos', 47), ('barge', 47), ('utensil', 47), ('ssop', 47), ('wealth', 47), ('elevate', 47), ('relocate', 47), ('monitored', 47), ('embedded', 47), ('responsibili', 47), ('em', 47), ('examine', 47), ('forum', 47), ('variation', 47), ('bk', 48), ('serf', 48), ('rewarding', 48), ('milk', 48), ('stra', 48), ('tidying', 48), ('dialogue', 48), ('os', 48), ('cp', 48), ('taught', 48), ('prima', 48), ('ohsas', 48), ('missing', 48), ('attached', 48), ('bucket', 48), ('deemed', 48), ('rubber', 48), ('retaining', 48), ('biggest', 48), ('artificial', 48), ('appeal', 48), ('controlled', 48), ('sp', 48), ('implementer', 48), ('entered', 48), ('crane', 48), ('ielts', 48), ('dimension', 48), ('manulife', 49), ('extend', 49), ('mortgage', 49), ('jewelry', 49), ('institute', 49), ('afternoon', 49), ('implication', 49), ('pe', 49), ('pioneer', 49), ('describe', 49), ('disruption', 49), ('conventional', 49), ('aspiration', 49), ('radio', 49), ('recommends', 49), ('directs', 49), ('female', 49), ('logically', 49), ('deficiency', 49), ('mineral', 49), ('underwriting', 49), ('refund', 49), ('skc', 49), ('addressed', 49), ('mother', 49), ('demotion', 49), ('executes', 49), ('violation', 49), ('shelf', 49), ('showing', 49), ('circuit', 49), ('optimized', 49), ('ink', 49), ('incorporate', 49), ('cib', 50), ('antivirus', 50), ('stax', 50), ('sit', 50), ('signed', 50), ('securing', 50), ('era', 50), ('afraid', 50), ('ups', 50), ('establishes', 50), ('hope', 50), ('invited', 50), ('therapist', 50), ('wwtp', 50), ('workspace', 50), ('almost', 50), ('fellow', 50), ('collaborates', 50), ('en', 50), ('impactful', 50), ('asks', 50), ('theory', 50), ('continued', 50), ('rolling', 50), ('5r', 50), ('soil', 50), ('indirect', 50), ('wireframes', 50), ('wood', 50), ('unilever', 51), ('cil', 51), ('ict', 51), ('kung', 51), ('2d3d', 51), ('predict', 51), ('notebook', 51), ('onboard', 51), ('enjoys', 51), ('ya', 51), ('wastewater', 51), ('mart', 51), ('nationwide', 51), ('snack', 51), ('consider', 51), ('valued', 51), ('emotional', 51), ('lecturer', 51), ('med', 51), ('decide', 51), ('fact', 51), ('kept', 51), ('enough', 51), ('powered', 51), ('meter', 51), ('coordinated', 51), ('tree', 51), ('composition', 51), ('pain', 51), ('adept', 51), ('gunung', 51), ('faculty', 51), ('bpo', 52), ('gcp', 52), ('attended', 52), ('spa', 52), ('variable', 52), ('popular', 52), ('cmo', 52), ('accepting', 52), ('invest', 52), ('sun', 52), ('woman', 52), ('integrator', 52), ('leg', 52), ('agility', 52), ('discovery', 52), ('sip', 52), ('rm', 52), ('consolidate', 52), ('expatriate', 52), ('jo', 52), ('cap', 52), ('subang', 52), ('lubricant', 52), ('disposal', 52), ('evening', 52), ('typography', 52), ('undp', 53), ('hs', 53), ('sam', 53), ('sharia', 53), ('softcopy', 53), ('clarification', 53), ('federal', 53), ('clicking', 53), ('abap', 53), ('personally', 53), ('increased', 53), ('btl', 53), ('wholesaler', 53), ('scorecard', 53), ('exceeding', 53), ('europe', 53), ('smas', 53), ('acc', 53), ('fighting', 53), ('sponsorship', 53), ('consumption', 53), ('connected', 53), ('newly', 53), ('remind', 53), ('exam', 53), ('weakness', 53), ('precision', 53), ('hp', 53), ('adjusting', 53), ('sa', 53), ('undergoing', 53), ('nontechnical', 53), ('accessible', 53), ('batch', 53), ('faster', 53), ('fishery', 54), ('advertiser', 54), ('ah', 54), ('escalating', 54), ('behind', 54), ('rollout', 54), ('disease', 54), ('fault', 54), ('soap', 54), ('headquarter', 54), ('dy', 54), ('moment', 54), ('gasoline', 54), ('constant', 54), ('redux', 54), ('mega', 54), ('je', 54), ('addressing', 54), ('deploying', 54), ('targeting', 54), ('involvement', 54), ('intermediary', 54), ('reaching', 54), ('wms', 54), ('ethnic', 54), ('acknowledge', 54), ('filter', 54), ('raf', 54), ('raja', 54), ('century', 54), ('freedom', 54), ('adwords', 55), ('pod', 55), ('terminal', 55), ('allows', 55), ('abadi', 55), ('transmission', 55), ('caption', 55), ('tire', 55), ('respected', 55), ('microbiology', 55), ('usually', 55), ('ceng', 55), ('newsletter', 55), ('sick', 55), ('concerning', 55), ('chiller', 55), ('sequence', 55), ('int', 55), ('proofreading', 55), ('memory', 55), ('gaming', 55), ('bus', 55), ('mpp', 55), ('legacy', 55), ('discussing', 55), ('tasik', 55), ('extended', 55), ('paperwork', 55), ('projector', 55), ('farm', 55), ('imported', 55), ('electromechanical', 55), ('massive', 55), ('reducing', 55), ('scoring', 55), ('aligning', 55), ('accompanied', 55), ('unlikely', 55), ('knocked', 55), ('honeybadger', 55), ('proxy', 55), ('requiring', 55), ('offshore', 55), ('tpm', 56), ('pride', 56), ('deck', 56), ('forwarder', 56), ('dare', 56), ('frozen', 56), ('villa', 56), ('conclusion', 56), ('technically', 56), ('instructed', 56), ('refine', 56), ('cc', 56), ('trending', 56), ('repository', 56), ('graph', 56), ('wfo', 56), ('abc', 56), ('tour', 56), ('uploading', 56), ('ultimately', 56), ('ring', 56), ('investigating', 56), ('far', 56), ('western', 56), ('scanner', 56), ('drill', 56), ('ph', 56), ('slide', 56), ('pv', 56), ('luxury', 56), ('accomplish', 56), ('tremendous', 56), ('bottleneck', 56), ('easiest', 56), ('tokin', 56), ('scratch', 56), ('holistic', 56), ('multicultural', 56), ('vulnerability', 57), ('normal', 57), ('gps', 57), ('chicken', 57), ('headquartered', 57), ('bulk', 57), ('informative', 57), ('supplement', 57), ('grown', 57), ('minor', 57), ('lecture', 57), ('raya', 57), ('epc', 57), ('producer', 57), ('threat', 57), ('pu', 57), ('agro', 57), ('adjusted', 57), ('quote', 57), ('blueprint', 57), ('nurture', 57), ('xend', 57), ('placing', 57), ('idh', 58), ('alumnus', 58), ('boundary', 58), ('bum', 58), ('combined', 58), ('he', 58), ('tested', 58), ('wider', 58), ('abreve', 58), ('mm', 58), ('anti', 58), ('artist', 58), ('mixing', 58), ('progression', 58), ('compliant', 58), ('called', 58), ('competitiveness', 58), ('malaya', 58), ('intellectual', 58), ('delight', 58), ('testable', 58), ('passport', 58), ('exponentially', 58), ('nusantara', 58), ('installed', 59), ('sd', 59), ('ember', 59), ('exploration', 59), ('facial', 59), ('mockups', 59), ('responsiveness', 59), ('village', 59), ('determination', 59), ('authorization', 59), ('bca', 59), ('complying', 59), ('wht', 59), ('union', 59), ('ppe', 59), ('mid', 59), ('whats', 59), ('welfare', 59), ('whose', 60), ('toward', 60), ('asst', 60), ('founded', 60), ('bintang', 60), ('thats', 60), ('competing', 60), ('staying', 60), ('mc', 60), ('lanyard', 60), ('andb', 60), ('evaluates', 60), ('km', 60), ('karen', 60), ('hair', 60), ('ntt', 60), ('pdf', 60), ('criminal', 60), ('educator', 60), ('shoe', 60), ('builder', 60), ('connecting', 60), ('frequent', 60), ('franchise', 60), ('automatic', 60), ('accreditation', 60), ('diii', 60), ('accompany', 60), ('considering', 60), ('versed', 60), ('hot', 60), ('vcs', 60), ('alike', 60), ('objection', 60), ('ratio', 60), ('weak', 60), ('reason', 60), ('march', 60), ('conversational', 61), ('inpatient', 61), ('nation', 61), ('applies', 61), ('handover', 61), ('iron', 61), ('promoter', 61), ('generally', 61), ('covered', 61), ('expression', 61), ('greater', 61), ('scientist', 61), ('allocated', 61), ('served', 61), ('convert', 61), ('however', 61), ('taro', 61), ('dung', 61), ('rendering', 61), ('india', 61), ('apache', 61), ('ticketing', 61), ('instructional', 61), ('deduction', 61), ('fruit', 61), ('computerized', 61), ('broadcast', 62), ('encouraging', 62), ('communicates', 62), ('frequently', 62), ('fico', 62), ('truly', 62), ('perk', 62), ('shall', 62), ('pursue', 62), ('historical', 62), ('complies', 62), ('published', 62), ('sudirman', 62), ('vertical', 62), ('grooming', 62), ('brainstorm', 62), ('organic', 62), ('wi', 62), ('functionally', 62), ('mechatronic', 62), ('lung', 62), ('excited', 62), ('slip', 62), ('limitation', 62), ('president', 63), ('joker', 63), ('cpo', 63), ('pickup', 63), ('roll', 63), ('pk', 63), ('dress', 63), ('par', 63), ('single', 63), ('strategize', 63), ('lost', 63), ('pik', 63), ('utama', 63), ('sortation', 63), ('ma', 63), ('issuance', 63), ('induction', 63), ('youre', 63), ('humble', 63), ('lawyer', 63), ('analytically', 63), ('consultative', 63), ('assure', 63), ('ob', 63), ('signing', 63), ('naturally', 63), ('province', 63), ('moderate', 63), ('useful', 63), ('ideation', 63), ('exim', 63), ('fig', 64), ('green', 64), ('regression', 64), ('appointed', 64), ('gi', 64), ('returned', 64), ('closed', 64), ('matching', 64), ('kuningan', 64), ('spec', 64), ('liability', 64), ('pte', 64), ('intelligent', 64), ('metro', 64), ('saas', 64), ('kid', 64), ('promising', 64), ('versa', 64), ('metal', 64), ('extraordinary', 64), ('garden', 64), ('ajax', 64), ('behaved', 64), ('linkedin', 64), ('jalan', 64), ('typing', 64), ('resellers', 65), ('publish', 65), ('ban', 65), ('got', 65), ('reconciling', 65), ('formulating', 65), ('demonstrable', 65), ('pipe', 65), ('discount', 65), ('asian', 65), ('easier', 65), ('strengthening', 65), ('emphasis', 65), ('summarizing', 65), ('welcomed', 65), ('son', 65), ('hosting', 65), ('spearhead', 65), ('painting', 65), ('bidding', 65), ('harmonious', 65), ('informing', 65), ('willingly', 65), ('educating', 65), ('intensive', 65), ('ranking', 66), ('solar', 66), ('drilling', 66), ('funnel', 66), ('keywords', 66), ('mainly', 66), ('cooling', 66), ('igniter', 66), ('rotation', 66), ('glass', 66), ('little', 66), ('delay', 66), ('intention', 66), ('grab', 66), ('ak', 66), ('advancement', 66), ('strongly', 66), ('participates', 66), ('reflect', 66), ('conformity', 66), ('featured', 66), ('rail', 66), ('premise', 66), ('concerned', 66), ('storytelling', 66), ('artwork', 67), ('clothing', 67), ('kot', 67), ('optimistic', 67), ('neatness', 67), ('geography', 67), ('transferred', 67), ('presented', 67), ('guard', 67), ('treated', 67), ('detailing', 67), ('estimating', 67), ('jenkins', 67), ('equity', 67), ('inspect', 67), ('md', 67), ('malaysia', 67), ('ang', 67), ('reviewed', 67), ('save', 67), ('urgent', 67), ('persuasion', 67), ('10', 68), ('pib', 68), ('fitout', 68), ('ccna', 68), ('iot', 68), ('baby', 68), ('intervention', 68), ('sin', 68), ('salon', 68), ('anyone', 68), ('al', 68), ('ig', 68), ('meat', 68), ('reply', 68), ('men', 68), ('brainstorming', 68), ('omni', 68), ('hunter', 68), ('ex', 68), ('temperature', 68), ('piping', 68), ('dana', 68), ('strict', 68), ('resilient', 69), ('helper', 69), ('bat', 69), ('pom', 69), ('refrigeration', 69), ('reel', 69), ('systematically', 69), ('info', 69), ('benchmarking', 69), ('counsel', 69), ('supportive', 69), ('enforce', 69), ('tk', 69), ('china', 69), ('adding', 69), ('spot', 69), ('approaching', 69), ('enhancing', 69), ('remarkable', 69), ('breakfast', 69), ('japan', 69), ('measurable', 69), ('lin', 70), ('precisely', 70), ('mentality', 70), ('ng', 70), ('majo', 70), ('interpretation', 70), ('bluetooth', 70), ('spending', 70), ('auto', 70), ('fifo', 70), ('recognize', 70), ('casual', 70), ('resident', 70), ('awesome', 70), ('gl', 70), ('inspector', 71), ('man', 71), ('roster', 71), ('math', 71), ('et', 71), ('affordable', 71), ('classification', 71), ('layer', 71), ('observe', 71), ('estimator', 71), ('compelling', 71), ('maternity', 71), ('virtualization', 71), ('tanjung', 71), ('hyper', 71), ('exploring', 72), ('establishment', 72), ('listen', 72), ('timeliness', 72), ('proceed', 72), ('depot', 72), ('mechatronics', 72), ('modify', 72), ('papua', 72), ('sunter', 72), ('combine', 72), ('tier', 72), ('selenium', 72), ('adhering', 72), ('washing', 72), ('simulation', 72), ('accredited', 72), ('inhouse', 72), ('eeo', 73), ('upper', 73), ('receptionist', 73), ('shoot', 73), ('paragraph', 73), ('etl', 73), ('excavator', 73), ('immediate', 73), ('wfh', 73), ('visuals', 73), ('exit', 73), ('valuation', 73), ('really', 73), ('continues', 73), ('series', 73), ('problematic', 73), ('seriously', 73), ('smile', 73), ('organizer', 73), ('fine', 74), ('xml', 74), ('visa', 74), ('advising', 74), ('often', 74), ('shell', 74), ('predictive', 74), ('household', 74), ('occurs', 74), ('oh', 74), ('affect', 74), ('karta', 74), ('completely', 74), ('nail', 74), ('primarily', 74), ('supermarket', 74), ('rapport', 74), ('whenever', 74), ('participation', 74), ('influencer', 74), ('generated', 74), ('enthusiast', 74), ('ehs', 74), ('maintainable', 74), ('k3l', 74), ('inception', 74), ('tm', 74), ('pontianak', 74), ('boost', 74), ('telco', 74), ('oma', 75), ('vpn', 75), ('capture', 75), ('previously', 75), ('debug', 75), ('alongside', 75), ('benchmark', 75), ('wellbeing', 75), ('combination', 75), ('orderly', 75), ('pan', 75), ('belief', 75), ('orally', 75), ('launched', 75), ('generalist', 75), ('mitigation', 76), ('bu', 76), ('highlight', 76), ('lasting', 76), ('overhaul', 76), ('incumbent', 76), ('tag', 76), ('molding', 76), ('blc', 76), ('huge', 76), ('wheel', 76), ('thoroughly', 76), ('compare', 76), ('equality', 76), ('caring', 76), ('gateway', 76), ('nice', 76), ('inspiring', 76), ('continuing', 76), ('pool', 77), ('psa', 77), ('ifrs', 77), ('grat', 77), ('absolute', 77), ('court', 77), ('pedia', 77), ('mental', 77), ('administering', 77), ('exercise', 77), ('remedial', 77), ('protect', 77), ('kaizen', 77), ('negotiable', 77), ('pandemic', 77), ('elementary', 77), ('attribute', 77), ('privacy', 77), ('spg', 77), ('consultancy', 77), ('definition', 77), ('bit', 77), ('bond', 77), ('vm', 77), ('na', 77), ('representing', 77), ('balancing', 77), ('might', 78), ('tooling', 78), ('park', 78), ('socializing', 78), ('posted', 78), ('helpdesk', 78), ('index', 78), ('shareholder', 78), ('comparison', 78), ('warning', 78), ('cake', 78), ('second', 78), ('skincare', 78), ('concrete', 78), ('punctual', 78), ('aging', 78), ('automate', 78), ('fulfilled', 78), ('assign', 79), ('stable', 79), ('specialty', 79), ('us', 79), ('perfect', 79), ('diagnosis', 79), ('precise', 79), ('label', 79), ('adaptability', 79), ('soul', 79), ('correction', 79), ('constructive', 79), ('bag', 79), ('contractual', 79), ('diagnose', 79), ('mar', 79), ('launching', 79), ('cybersecurity', 79), ('valve', 79), ('jambi', 79), ('delegate', 79), ('corporation', 80), ('identifies', 80), ('di', 80), ('boiler', 80), ('routinely', 80), ('specialization', 80), ('grocery', 80), ('enabling', 80), ('deloitte', 80), ('astra', 80), ('levied', 80), ('thank', 80), ('grading', 80), ('dns', 80), ('estimation', 80), ('kantar', 81), ('keyword', 81), ('centric', 81), ('disaster', 81), ('cog', 81), ('interviewing', 81), ('economy', 81), ('ming', 81), ('valuable', 81), ('barista', 81), ('zoom', 81), ('curious', 81), ('whatever', 81), ('billion', 81), ('bod', 81), ('pacific', 81), ('tie', 81), ('alert', 81), ('conceptualize', 81), ('remain', 81), ('passively', 82), ('directed', 82), ('bc', 82), ('host', 82), ('consists', 82), ('functioning', 82), ('consolidation', 82), ('pivottable', 82), ('ninja', 82), ('swift', 82), ('hi', 82), ('late', 82), ('raise', 82), ('variance', 82), ('sensitive', 83), ('audio', 83), ('optimum', 83), ('recommended', 83), ('walk', 83), ('figure', 83), ('importance', 83), ('vice', 83), ('translator', 83), ('copywriter', 83), ('cant', 83), ('combinator', 83), ('residence', 83), ('improved', 84), ('stm', 84), ('unix', 84), ('notification', 84), ('breakdown', 84), ('included', 84), ('warranty', 84), ('ba', 84), ('counter', 84), ('si', 84), ('inputting', 84), ('ke', 84), ('fiscal', 84), ('scientific', 84), ('pregnancy', 84), ('milestone', 84), ('segmentation', 84), ('complexity', 84), ('golden', 84), ('consult', 84), ('disciplinary', 84), ('adoption', 84), ('mutation', 84), ('band', 84), ('revision', 84), ('laundry', 85), ('aid', 85), ('adhere', 85), ('mongo', 85), ('requisition', 85), ('club', 85), ('tank', 85), ('pop', 85), ('overcome', 85), ('prescription', 85), ('locally', 85), ('leveraging', 85), ('iii', 86), ('termination', 86), ('shooting', 86), ('analytic', 86), ('title', 86), ('screen', 86), ('riau', 86), ('arrive', 86), ('practitioner', 86), ('ride', 86), ('memo', 86), ('recapitulation', 86), ('entertainment', 87), ('dki', 87), ('coming', 87), ('aftereffect', 87), ('approximately', 87), ('steam', 87), ('tung', 87), ('understood', 87), ('poster', 87), ('enabled', 87), ('wage', 87), ('average', 87), ('prioritization', 87), ('wireless', 87), ('recognition', 87), ('entering', 87), ('compressor', 87), ('wiring', 87), ('rdbms', 87), ('forklift', 88), ('film', 88), ('aptitude', 88), ('editorial', 88), ('abreast', 88), ('configuring', 88), ('height', 88), ('stress', 88), ('marital', 88), ('directory', 88), ('strategically', 88), ('acquiring', 88), ('notary', 88), ('lunch', 88), ('approve', 89), ('backlog', 89), ('retain', 89), ('delivers', 89), ('campus', 89), ('vmware', 89), ('optional', 89), ('boot', 89), ('collector', 89), ('confirm', 89), ('csr', 90), ('ordered', 90), ('enter', 90), ('destination', 90), ('earn', 90), ('jira', 90), ('integrating', 90), ('usability', 90), ('articulate', 90), ('tbk', 90), ('remotely', 90), ('relate', 90), ('heart', 90), ('accelerate', 90), ('conducive', 90), ('theme', 91), ('staffing', 91), ('waci', 91), ('hvac', 91), ('desirable', 91), ('resolved', 91), ('recipe', 91), ('stream', 91), ('mine', 91), ('residential', 91), ('chance', 91), ('demonstrating', 91), ('reservation', 91), ('padang', 91), ('tester', 91), ('allow', 91), ('secondary', 91), ('interacting', 91), ('undergraduate', 91), ('hrg', 92), ('flyer', 92), ('therefore', 92), ('switching', 92), ('simultaneously', 92), ('anticipate', 92), ('philippine', 92), ('demonstrates', 93), ('fuel', 93), ('catalog', 93), ('uniform', 93), ('suitability', 93), ('ahead', 93), ('servicing', 93), ('pension', 93), ('numerical', 93), ('standardization', 93), ('try', 93), ('spend', 93), ('advocacy', 94), ('mitigate', 94), ('tidiness', 94), ('withholding', 94), ('proposition', 94), ('plu', 94), ('aware', 94), ('choose', 94), ('globally', 94), ('depending', 94), ('fair', 94), ('backed', 94), ('clerical', 94), ('sigma', 95), ('membership', 95), ('covering', 95), ('toko', 95), ('stationery', 95), ('stored', 95), ('beneficial', 95), ('discrepancy', 95), ('purchased', 95), ('banjarmasin', 95), ('motivating', 95), ('assembly', 95), ('ktp', 95), ('stag', 95), ('transform', 95), ('mi', 95), ('tactical', 95), ('hydraulic', 95), ('aggressive', 96), ('alam', 96), ('music', 96), ('veteran', 96), ('optic', 96), ('naia', 96), ('pet', 96), ('concise', 96), ('commodity', 96), ('convey', 96), ('stocktaking', 96), ('repairing', 96), ('hit', 96), ('appliance', 97), ('light', 97), ('listed', 97), ('mikrotik', 97), ('maximizing', 97), ('korean', 97), ('dep', 97), ('chart', 97), ('critically', 97), ('vitae', 97), ('ground', 97), ('sign', 97), ('pest', 97), ('catering', 97), ('tidy', 97), ('safely', 97), ('va', 97), ('cut', 97), ('ka', 97), ('versioning', 97), ('gresik', 97), ('bernet', 97), ('samarinda', 97), ('observation', 97), ('cluster', 97), ('ung', 97), ('bringing', 98), ('expedition', 98), ('hazard', 98), ('transparency', 98), ('forestry', 98), ('writer', 98), ('mon', 98), ('pitch', 98), ('tcpip', 98), ('gmp', 99), ('wan', 99), ('intern', 99), ('deviation', 99), ('advocate', 99), ('avoid', 99), ('regulator', 99), ('qualitative', 99), ('something', 99), ('dedication', 99), ('lease', 99), ('break', 99), ('profitable', 100), ('picture', 100), ('facilitating', 100), ('touch', 100), ('publishing', 100), ('text', 100), ('affiliate', 100), ('started', 100), ('professionalism', 100), ('interpreting', 100), ('sanitation', 100), ('night', 100), ('defining', 100), ('toefl', 100), ('recruiter', 100), ('strength', 100), ('landing', 101), ('craft', 101), ('dream', 101), ('expect', 101), ('cultural', 101), ('gpathree00', 101), ('kyc', 101), ('near', 101), ('prioritizing', 101), ('tv', 101), ('blog', 101), ('dkv', 102), ('behalf', 102), ('past', 102), ('fabrication', 102), ('migration', 102), ('proposing', 102), ('registered', 102), ('sampling', 102), ('confirmation', 102), ('finishing', 103), ('ab', 103), ('teknologi', 103), ('comment', 103), ('wib', 103), ('tuning', 103), ('replacement', 103), ('winning', 103), ('template', 103), ('mr', 103), ('hq', 103), ('seminar', 103), ('pastry', 103), ('turn', 103), ('executed', 103), ('listing', 104), ('police', 104), ('operates', 104), ('jek', 104), ('embrace', 104), ('diligence', 104), ('usa', 104), ('led', 104), ('adjust', 104), ('informed', 104), ('involving', 104), ('manado', 104), ('mt', 104), ('holder', 104), ('pekanbaru', 104), ('typescript', 104), ('revise', 105), ('advisory', 105), ('red', 105), ('issued', 105), ('actionable', 105), ('legislation', 105), ('linked', 105), ('issuing', 105), ('faced', 105), ('scalability', 105), ('continuity', 105), ('2022', 105), ('interactive', 105), ('broker', 106), ('speaker', 106), ('strictly', 106), ('worldwide', 106), ('society', 106), ('empower', 106), ('documented', 106), ('lookup', 106), ('resourceful', 106), ('flowchart', 106), ('ram', 106), ('peer', 106), ('possibility', 106), ('citi', 107), ('statutory', 107), ('fixing', 107), ('vue', 107), ('probation', 107), ('stop', 107), ('portal', 107), ('draw', 107), ('sewing', 107), ('mechanism', 107), ('thought', 108), ('sutera', 108), ('cambridge', 108), ('reimbursement', 108), ('tactic', 108), ('dose', 108), ('visio', 108), ('innovate', 108), ('tough', 108), ('load', 108), ('cnc', 108), ('reusable', 108), ('comfort', 108), ('frame', 108), ('obtaining', 108), ('annually', 109), ('advantageous', 109), ('tablet', 109), ('ppn', 109), ('comprehend', 109), ('syariah', 109), ('dental', 109), ('trainee', 109), ('conversation', 110), ('escalation', 110), ('sm', 110), ('marketer', 110), ('trained', 110), ('bang', 110), ('bootstrap', 110), ('block', 110), ('computing', 110), ('journalism', 110), ('departmental', 110), ('w', 110), ('simac', 110), ('collected', 111), ('biology', 111), ('count', 111), ('editor', 111), ('particularly', 111), ('contacting', 111), ('bid', 111), ('horeca', 111), ('pillar', 111), ('constraint', 111), ('beginning', 112), ('tableau', 112), ('paying', 112), ('buy', 112), ('encouraged', 112), ('robust', 112), ('undergo', 112), ('gadget', 112), ('socialize', 112), ('sand', 112), ('premium', 112), ('technological', 112), ('esp', 112), ('sharp', 112), ('jl', 113), ('animal', 113), ('disbursement', 113), ('ii', 113), ('cctv', 113), ('lighting', 113), ('failure', 113), ('electric', 113), ('tourism', 113), ('fostering', 113), ('contributing', 113), ('oversees', 114), ('trucking', 114), ('yet', 114), ('notified', 114), ('found', 114), ('sme', 114), ('button', 114), ('arrival', 114), ('morning', 114), ('messaging', 114), ('sexual', 114), ('adherence', 114), ('invoicing', 114), ('introduction', 115), ('fiber', 115), ('merchandiser', 115), ('configure', 115), ('9', 115), ('administer', 115), ('mail', 115), ('ask', 115), ('inside', 115), ('curiosity', 115), ('paga', 115), ('recommending', 115), ('doc', 115), ('proud', 115), ('farmer', 116), ('doo', 116), ('matrix', 116), ('star', 116), ('represent', 116), ('rise', 116), ('extra', 116), ('virtual', 116), ('margin', 116), ('semester', 116), ('undertake', 116), ('cheerful', 117), ('plumbing', 117), ('pantai', 117), ('participant', 117), ('dispute', 117), ('reduction', 117), ('mvc', 117), ('cik', 117), ('champion', 117), ('selecting', 117), ('idr', 117), ('readiness', 118), ('telesales', 118), ('deta', 118), ('creates', 118), ('discover', 118), ('smartphone', 118), ('relational', 118), ('quota', 118), ('mssql', 118), ('parking', 118), ('generator', 119), ('stability', 119), ('validate', 119), ('guiding', 119), ('recognized', 119), ('acting', 119), ('ho', 119), ('instrumentation', 120), ('showroom', 120), ('hybrid', 120), ('performs', 120), ('rp', 120), ('translation', 120), ('mk', 120), ('switch', 120), ('browser', 120), ('partnering', 120), ('authorized', 120), ('haccp', 120), ('rapid', 120), ('physic', 120), ('cirebon', 120), ('associated', 120), ('summarize', 121), ('taken', 121), ('deploy', 121), ('nurse', 121), ('modification', 121), ('could', 121), ('intended', 121), ('fulfilling', 122), ('committee', 122), ('visitor', 122), ('merchandise', 122), ('roi', 122), ('aws', 122), ('illustration', 123), ('cell', 123), ('ideally', 123), ('drafter', 123), ('nutrition', 123), ('utilization', 123), ('explanation', 123), ('groomed', 123), ('allowed', 123), ('visibility', 123), ('traveling', 123), ('association', 124), ('wordpress', 124), ('history', 124), ('port', 124), ('overdue', 124), ('sex', 124), ('kela', 124), ('surveyor', 124), ('tower', 125), ('tenacious', 125), ('agricultural', 125), ('ruan', 125), ('referral', 125), ('performed', 125), ('educate', 125), ('happy', 126), ('bni', 126), ('select', 126), ('ordering', 126), ('damaged', 126), ('guru', 126), ('natural', 126), ('lean', 126), ('denpasar', 126), ('foreman', 126), ('3rd', 127), ('debt', 127), ('jaya', 127), ('bakery', 127), ('skin', 127), ('click', 127), ('bad', 127), ('twentynine', 127), ('strive', 127), ('upload', 127), ('pur', 128), ('cargo', 128), ('jabo', 128), ('door', 128), ('pivot', 128), ('workload', 128), ('coworkers', 128), ('renewal', 128), ('accepted', 129), ('kb', 129), ('calibration', 129), ('aged', 129), ('socialization', 129), ('followed', 129), ('paint', 130), ('designed', 130), ('joining', 130), ('adaptive', 130), ('defect', 130), ('proposed', 130), ('spt', 130), ('recorded', 130), ('asap', 130), ('judgment', 130), ('lan', 130), ('pas', 130), ('photograph', 130), ('cad', 130), ('escalate', 130), ('explaining', 131), ('ministry', 131), ('positioning', 131), ('formulation', 131), ('bin', 131), ('bsd', 131), ('treasury', 131), ('answering', 131), ('edge', 131), ('whether', 131), ('scripting', 131), ('calling', 132), ('alone', 132), ('taste', 132), ('ever', 132), ('ethical', 132), ('sufficient', 132), ('litigation', 132), ('conducted', 132), ('researching', 132), ('anywhere', 132), ('com', 133), ('validity', 133), ('prevention', 133), ('award', 133), ('lifestyle', 133), ('scheduled', 133), ('waiting', 133), ('station', 133), ('json', 133), ('kit', 133), ('follower', 134), ('semi', 134), ('halal', 134), ('investigate', 134), ('recent', 134), ('entrepreneur', 134), ('leverage', 134), ('ku', 134), ('particular', 134), ('sla', 134), ('cm', 135), ('mix', 135), ('container', 135), ('yo', 136), ('original', 136), ('aia', 136), ('gt', 136), ('parcel', 136), ('middle', 136), ('balikpapan', 136), ('domain', 136), ('docker', 136), ('defined', 136), ('router', 136), ('invite', 136), ('academy', 136), ('identified', 137), ('accept', 137), ('pack', 137), ('entity', 138), ('pace', 138), ('translating', 138), ('respect', 138), ('clinical', 138), ('mean', 138), ('creatively', 138), ('publication', 139), ('going', 139), ('mess', 139), ('shared', 139), ('jk', 139), ('literature', 139), ('held', 139), ('dc', 140), ('meaningful', 140), ('3pl', 140), ('much', 140), ('videography', 140), ('lampung', 140), ('l', 140), ('becoming', 140), ('fabric', 140), ('vaccination', 140), ('prospecting', 141), ('mobility', 141), ('realize', 141), ('introducing', 141), ('booking', 141), ('characteristic', 141), ('sum', 141), ('outsourcing', 141), ('sdlc', 141), ('stand', 141), ('pl', 141), ('agenda', 142), ('communicator', 142), ('sport', 142), ('prefer', 142), ('strengthen', 142), ('manufacture', 142), ('appropriately', 142), ('fastest', 142), ('press', 142), ('mo', 143), ('win', 143), ('option', 143), ('minimal', 144), ('ppt', 144), ('add', 144), ('prototype', 145), ('nature', 145), ('living', 145), ('exceed', 145), ('finish', 145), ('gm', 145), ('sub', 145), ('rap', 145), ('checklist', 145), ('azure', 146), ('accordingly', 146), ('knowledgeable', 146), ('hris', 146), ('influencing', 146), ('distributed', 146), ('appraisal', 146), ('factor', 147), ('recruit', 147), ('formal', 147), ('talk', 147), ('reported', 147), ('demo', 147), ('buying', 148), ('restful', 148), ('conflict', 148), ('abroad', 148), ('serious', 149), ('professionally', 149), ('feed', 149), ('supervisory', 149), ('offered', 149), ('bar', 149), ('joint', 149), ('collateral', 149), ('beyond', 150), ('guarantee', 150), ('constantly', 150), ('urgently', 150), ('classroom', 150), ('foster', 150), ('settlement', 150), ('consistency', 151), ('competent', 151), ('sapp', 151), ('penetration', 151), ('experiment', 152), ('twitter', 152), ('unloading', 152), ('utilize', 152), ('installing', 152), ('road', 152), ('premier', 152), ('assessing', 152), ('acquire', 152), ('mill', 152), ('voice', 152), ('manufacturer', 152), ('clearance', 152), ('textile', 153), ('push', 153), ('ca', 153), ('upgrade', 153), ('fire', 153), ('solo', 153), ('bridge', 153), ('ninety', 154), ('tasked', 154), ('low', 154), ('significant', 154), ('reconcile', 154), ('lending', 155), ('suggest', 155), ('attending', 155), ('score', 155), ('injection', 155), ('conference', 155), ('inspire', 155), ('mep', 156), ('later', 156), ('owned', 156), ('apartment', 156), ('reasonable', 156), ('intermediate', 156), ('ranging', 156), ('batam', 156), ('island', 157), ('housekeeping', 157), ('emerging', 157), ('externally', 157), ('context', 157), ('hardworking', 158), ('honesty', 158), ('visualization', 158), ('rang', 158), ('speed', 158), ('healthcare', 159), ('suit', 159), ('southeast', 159), ('deposit', 159), ('ppic', 159), ('sunday', 159), ('opinion', 159), ('scenario', 159), ('spring', 159), ('cafe', 159), ('move', 159), ('demonstration', 159), ('sociable', 159), ('parameter', 159), ('pong', 159), ('contribution', 160), ('drink', 160), ('everything', 160), ('attract', 160), ('adequate', 160), ('saving', 160), ('secretarial', 160), ('prepared', 161), ('controller', 161), ('getting', 161), ('kind', 161), ('namely', 161), ('topic', 161), ('animation', 161), ('format', 161), ('common', 162), ('absence', 162), ('promo', 162), ('put', 163), ('screening', 163), ('competence', 163), ('inclusive', 163), ('perspective', 163), ('confidentiality', 163), ('zone', 163), ('highest', 164), ('sorting', 164), ('chief', 164), ('coal', 164), ('spreadsheet', 164), ('element', 164), ('early', 164), ('introduce', 164), ('ing', 164), ('liaising', 164), ('structural', 164), ('systematic', 165), ('calendar', 165), ('obtained', 165), ('religion', 165), ('install', 165), ('firewall', 165), ('streaming', 165), ('built', 165), ('limit', 165), ('storing', 165), ('applied', 166), ('ser', 166), ('cashier', 167), ('mass', 167), ('consideration', 167), ('chinese', 167), ('oop', 167), ('visiting', 168), ('feel', 168), ('selected', 168), ('minimize', 168), ('obstacle', 168), ('recovery', 169), ('alternative', 169), ('prioritized', 169), ('analyzes', 169), ('advise', 169), ('rab', 169), ('dept', 170), ('optimally', 170), ('spv', 170), ('prudential', 170), ('banten', 170), ('integrate', 170), ('roadmap', 170), ('savvy', 170), ('influencers', 171), ('generating', 171), ('flexibility', 171), ('ip', 171), ('accident', 171), ('commissioning', 171), ('inclusion', 171), ('se', 171), ('liaison', 171), ('register', 171), ('involve', 171), ('cd', 171), ('race', 171), ('sending', 171), ('frontend', 172), ('designated', 172), ('produced', 173), ('rd', 173), ('8', 173), ('accountant', 173), ('sulawesi', 173), ('floor', 173), ('enable', 173), ('shape', 173), ('prepares', 174), ('atmosphere', 174), ('ecosystem', 174), ('verifying', 174), ('acceptance', 174), ('legality', 174), ('projection', 174), ('desktop', 175), ('regard', 175), ('economic', 175), ('super', 175), ('exciting', 175), ('mold', 175), ('ambition', 175), ('fundamental', 175), ('de', 175), ('validation', 175), ('palembang', 175), ('fluently', 176), ('neatly', 176), ('extension', 176), ('fix', 176), ('shipper', 176), ('angular', 176), ('presales', 176), ('protected', 176), ('debugging', 176), ('concern', 176), ('cold', 177), ('profession', 177), ('hygiene', 177), ('proof', 177), ('asp', 177), ('sustainability', 178), ('aligned', 178), ('fleet', 178), ('news', 178), ('thinker', 178), ('o', 178), ('let', 178), ('maker', 178), ('follows', 178), ('panel', 178), ('singapore', 178), ('banner', 179), ('initiate', 179), ('body', 179), ('putting', 179), ('medicine', 179), ('talented', 179), ('costing', 179), ('alignment', 179), ('origin', 179), ('voucher', 179), ('cooperative', 180), ('investor', 180), ('agriculture', 180), ('venue', 180), ('un', 180), ('distributing', 181), ('transcript', 181), ('indah', 181), ('pump', 181), ('routing', 181), ('competition', 181), ('obligation', 181), ('motion', 181), ('cisco', 182), ('cable', 182), ('welding', 182), ('indicator', 182), ('quantitative', 182), ('workforce', 182), ('automated', 182), ('foundation', 182), ('protocol', 182), ('reputation', 183), ('thrive', 183), ('funding', 183), ('surroundings', 183), ('submitting', 183), ('ding', 183), ('prevent', 183), ('parent', 183), ('library', 183), ('require', 183), ('flutter', 183), ('responding', 183), ('onine', 184), ('camera', 184), ('ceo', 184), ('canvassing', 184), ('table', 184), ('vessel', 184), ('counseling', 184), ('kap', 185), ('inc', 185), ('rental', 185), ('steel', 185), ('auditing', 185), ('ambitious', 185), ('street', 185), ('confidential', 185), ('domestic', 186), ('pick', 186), ('acumen', 186), ('wa', 186), ('focusing', 186), ('manages', 186), ('encourage', 186), ('sea', 186), ('ee', 187), ('marine', 187), ('logistic', 187), ('productive', 187), ('evidence', 187), ('mature', 187), ('reliability', 187), ('smes', 187), ('briefing', 187), ('producing', 187), ('googleads', 188), ('assertive', 188), ('searching', 188), ('accessory', 188), ('occupational', 188), ('sidoarjo', 188), ('teach', 189), ('difference', 189), ('smk', 189), ('sharing', 189), ('v', 189), ('db', 190), ('keen', 190), ('holding', 190), ('malang', 190), ('participating', 190), ('interpret', 190), ('housing', 191), ('brochure', 191), ('salesperson', 191), ('examination', 191), ('moving', 192), ('motorized', 192), ('listening', 192), ('grade', 192), ('facing', 192), ('administrator', 192), ('scheme', 192), ('identification', 193), ('q', 193), ('chat', 193), ('remuneration', 193), ('plastic', 195), ('functionality', 195), ('pic', 195), ('lesson', 195), ('installment', 196), ('desired', 196), ('succeed', 196), ('transformation', 196), ('conceptual', 196), ('cover', 197), ('allocation', 197), ('movement', 197), ('supported', 197), ('version', 197), ('enhancement', 197), ('conversion', 197), ('generation', 198), ('n', 198), ('wheeled', 198), ('culinary', 198), ('truck', 199), ('advertisement', 199), ('trust', 199), ('telemarketing', 199), ('mitra', 199), ('connect', 199), ('plc', 199), ('spread', 200), ('bi', 200), ('cutting', 200), ('archiving', 200), ('retention', 200), ('pre', 201), ('step', 201), ('another', 201), ('pc', 202), ('easily', 202), ('venture', 202), ('electricity', 202), ('collaboratively', 202), ('log', 203), ('pr', 203), ('output', 203), ('wholesale', 203), ('formulate', 204), ('hire', 204), ('presence', 204), ('february', 204), ('maintained', 204), ('dev', 204), ('addition', 205), ('mile', 205), ('leasing', 205), ('premiere', 205), ('thirteen', 206), ('overview', 206), ('express', 206), ('emergency', 206), ('notice', 206), ('carefully', 206), ('accountable', 206), ('chef', 206), ('breve', 206), ('disability', 206), ('scalable', 206), ('activation', 206), ('wang', 207), ('district', 207), ('arise', 207), ('broad', 207), ('onsite', 208), ('coreldraw', 208), ('ap', 208), ('box', 209), ('kol', 209), ('mentoring', 209), ('exchange', 209), ('trainer', 209), ('session', 210), ('commerce', 210), ('utility', 211), ('relating', 211), ('gender', 211), ('garment', 212), ('postgresql', 212), ('paper', 212), ('successfully', 212), ('appointment', 212), ('total', 213), ('debtor', 213), ('size', 213), ('lot', 213), ('diagram', 213), ('architectural', 214), ('vaccine', 214), ('planned', 214), ('recap', 214), ('printing', 215), ('directing', 215), ('managed', 215), ('develops', 216), ('3d', 216), ('object', 216), ('studying', 216), ('lab', 216), ('documenting', 216), ('gathering', 217), ('message', 217), ('subsidiary', 217), ('statistical', 217), ('effect', 217), ('back', 218), ('root', 218), ('algorithm', 218), ('shopping', 219), ('since', 219), ('determining', 220), ('printer', 220), ('soft', 220), ('expanding', 220), ('engaging', 220), ('sem', 221), ('realization', 221), ('cooking', 221), ('adjustment', 221), ('expansion', 221), ('mentor', 221), ('whole', 221), ('route', 221), ('studio', 221), ('1', 221), ('align', 222), ('consistently', 222), ('optimizing', 222), ('sold', 222), ('makassar', 222), ('brevet', 222), ('ef', 223), ('ravel', 223), ('inform', 223), ('phase', 223), ('motor', 224), ('entrepreneurial', 224), ('secretary', 224), ('traditional', 225), ('show', 225), ('print', 225), ('adaptable', 225), ('solver', 225), ('explore', 225), ('machinery', 225), ('coffee', 226), ('cook', 226), ('measuring', 226), ('young', 226), ('edit', 227), ('still', 227), ('ideal', 227), ('predetermined', 227), ('pp', 227), ('merchandising', 227), ('creator', 228), ('fieldwork', 228), ('challenging', 229), ('bp', 229), ('programmer', 230), ('vaccinated', 230), ('profitability', 230), ('identity', 230), ('joo', 231), ('native', 231), ('vlookup', 231), ('gain', 231), ('rapidly', 231), ('licensing', 232), ('already', 232), ('desc', 232), ('forward', 232), ('literacy', 232), ('map', 233), ('attach', 234), ('mechanic', 234), ('approved', 234), ('lang', 234), ('story', 234), ('style', 234), ('ladder', 234), ('fluency', 234), ('territory', 234), ('requested', 235), ('structured', 235), ('considered', 235), ('force', 235), ('internship', 235), ('discus', 236), ('psychological', 236), ('coach', 236), ('everyone', 236), ('hub', 237), ('college', 237), ('diversity', 237), ('protection', 237), ('loading', 237), ('axa', 238), ('cooperate', 238), ('backup', 238), ('fulfillment', 239), ('understands', 240), ('air', 240), ('confidence', 240), ('packing', 241), ('sixteen', 241), ('optimal', 242), ('dashboard', 242), ('dont', 242), ('archive', 242), ('higher', 242), ('fulfill', 243), ('workplace', 243), ('side', 243), ('forwarding', 243), ('nursing', 244), ('remote', 244), ('exhibition', 244), ('reduce', 244), ('practical', 244), ('stack', 244), ('knowing', 245), ('journey', 245), ('crew', 245), ('persuasive', 245), ('7', 245), ('eager', 245), ('giving', 245), ('discussion', 245), ('gather', 246), ('starter', 246), ('kill', 246), ('expenditure', 247), ('enthusiasm', 247), ('verification', 248), ('pa', 248), ('actual', 249), ('pharmacist', 250), ('seller', 250), ('submitted', 250), ('distribute', 251), ('fin', 251), ('pro', 251), ('le', 252), ('trustworthy', 252), ('example', 253), ('uk', 253), ('delivered', 253), ('initial', 254), ('name', 254), ('eye', 254), ('even', 254), ('aim', 254), ('equal', 254), ('handled', 254), ('completing', 255), ('known', 255), ('suggestion', 255), ('node', 256), ('chemistry', 257), ('f', 257), ('interact', 257), ('logic', 257), ('simple', 257), ('imc', 257), ('gap', 258), ('feasibility', 258), ('weekend', 258), ('shifting', 259), ('prior', 259), ('reading', 259), ('either', 259), ('aesthetic', 260), ('investigation', 260), ('waste', 260), ('specifically', 260), ('accountability', 260), ('formula', 261), ('launch', 261), ('created', 262), ('internally', 262), ('targeted', 262), ('brief', 262), ('contacted', 263), ('foreign', 263), ('resolving', 263), ('state', 264), ('modeling', 264), ('interesting', 264), ('salesman', 264), ('developed', 265), ('coverage', 265), ('changing', 265), ('view', 266), ('vid', 266), ('requires', 267), ('book', 267), ('menu', 267), ('maintains', 268), ('freight', 268), ('trading', 268), ('ownership', 268), ('amount', 268), ('arranging', 268), ('eighty', 269), ('overseeing', 270), ('trial', 270), ('friday', 270), ('explain', 270), ('everyday', 271), ('connection', 271), ('continue', 271), ('micro', 271), ('governance', 271), ('kara', 272), ('ingredient', 272), ('motivate', 272), ('posting', 273), ('hoc', 273), ('fit', 273), ('drug', 274), ('ie', 274), ('error', 274), ('r', 276), ('drafting', 276), ('graduated', 276), ('estimate', 276), ('subcontractor', 276), ('damage', 277), ('mind', 277), ('electronics', 277), ('deliverable', 278), ('accountancy', 278), ('respective', 278), ('secure', 278), ('interaction', 278), ('ok', 279), ('seeking', 279), ('intelligence', 279), ('engage', 279), ('seek', 279), ('verbally', 279), ('match', 280), ('verify', 281), ('answer', 281), ('sustainable', 281), ('link', 282), ('outlook', 282), ('ensures', 282), ('minute', 282), ('ledger', 282), ('yearly', 282), ('calculating', 284), ('estate', 284), ('eleven', 284), ('x', 284), ('forecasting', 285), ('abode', 286), ('setup', 286), ('unique', 287), ('bug', 287), ('sound', 287), ('medan', 287), ('hup', 288), ('official', 288), ('thr', 289), ('permanent', 289), ('enthusiastic', 289), ('landscape', 290), ('sumatra', 290), ('path', 290), ('planner', 291), ('op', 291), ('warehousing', 291), ('ek', 291), ('passive', 292), ('primary', 292), ('character', 292), ('essential', 292), ('clearly', 293), ('p', 294), ('unlimited', 294), ('game', 294), ('see', 294), ('recruiting', 294), ('bogor', 295), ('someone', 295), ('loan', 295), ('suite', 296), ('b2b', 296), ('academic', 297), ('smart', 297), ('bookkeeping', 298), ('instrument', 298), ('mapping', 299), ('keeping', 299), ('applying', 299), ('str', 300), ('kpis', 300), ('script', 300), ('arrangement', 301), ('ar', 301), ('draft', 302), ('turnover', 303), ('palm', 304), ('accommodation', 305), ('photocopy', 305), ('quick', 305), ('shortlisted', 305), ('stay', 305), ('obtain', 305), ('maxage', 305), ('multimedia', 305), ('traffic', 306), ('promoting', 306), ('small', 306), ('proactively', 307), ('cause', 307), ('apis', 307), ('motorcycle', 308), ('facilitate', 308), ('courier', 309), ('inbound', 309), ('attend', 309), ('collaborative', 309), ('minded', 309), ('cosmetic', 309), ('water', 309), ('max', 310), ('sent', 311), ('retailer', 311), ('exceptional', 312), ('train', 312), ('workflow', 312), ('expand', 312), ('among', 312), ('space', 312), ('consultation', 312), ('id', 313), ('ticket', 313), ('usage', 313), ('paid', 314), ('transport', 314), ('certified', 314), ('leave', 314), ('incident', 315), ('scrum', 315), ('measurement', 315), ('coding', 315), ('youtube', 316), ('employer', 316), ('influence', 316), ('outbound', 318), ('expectation', 318), ('focused', 318), ('outcome', 319), ('presenting', 319), ('upon', 319), ('fourteen', 320), ('segment', 320), ('release', 320), ('photography', 321), ('occur', 322), ('fraud', 322), ('fa', 323), ('enhance', 323), ('petty', 323), ('io', 324), ('finished', 324), ('opname', 325), ('pleasant', 326), ('dedicated', 326), ('resume', 327), ('submission', 327), ('assistance', 327), ('believe', 327), ('troubleshoot', 327), ('statistic', 328), ('rest', 328), ('logical', 329), ('auditor', 329), ('deployment', 331), ('multinational', 332), ('reward', 333), ('reach', 334), ('bancassurance', 334), ('6', 334), ('trusted', 334), ('next', 334), ('vat', 334), ('land', 335), ('safe', 335), ('recommend', 337), ('reference', 337), ('pipeline', 338), ('largest', 338), ('laptop', 338), ('resolution', 339), ('face', 340), ('collaborating', 340), ('authority', 340), ('propose', 341), ('fully', 342), ('g', 342), ('ux', 342), ('compiling', 343), ('dealing', 343), ('start', 344), ('receivables', 344), ('mathematics', 345), ('correctly', 346), ('play', 346), ('sixty', 346), ('architect', 346), ('met', 346), ('seventeen', 347), ('apps', 348), ('h', 348), ('tenant', 350), ('achieved', 350), ('lifecycle', 350), ('responsive', 350), ('crm', 351), ('look', 351), ('junior', 351), ('copywriting', 353), ('payable', 353), ('respond', 353), ('boarding', 353), ('integrated', 354), ('ac', 355), ('gas', 355), ('excellence', 355), ('configuration', 356), ('mall', 356), ('youll', 356), ('desire', 356), ('fund', 358), ('consistent', 358), ('never', 359), ('ship', 360), ('correct', 361), ('skilled', 362), ('multitask', 363), ('inquiry', 363), ('interface', 364), ('3', 364), ('treatment', 365), ('doctor', 365), ('doctorate', 365), ('ops', 365), ('determined', 366), ('exposure', 366), ('corrective', 367), ('pm', 367), ('advance', 367), ('color', 368), ('response', 368), ('k3', 368), ('hrd', 368), ('qc', 368), ('fee', 368), ('rate', 369), ('affair', 369), ('short', 370), ('pay', 371), ('colleague', 372), ('qa', 375), ('fixed', 375), ('translate', 375), ('quotation', 375), ('starting', 375), ('fill', 376), ('house', 377), ('curriculum', 377), ('quarterly', 378), ('python', 378), ('twelve', 380), ('loyal', 380), ('article', 380), ('plantation', 381), ('trip', 381), ('karang', 381), ('provider', 382), ('proper', 383), ('operator', 384), ('preventive', 384), ('completed', 384), ('variety', 384), ('guide', 384), ('executing', 385), ('creativity', 386), ('transfer', 386), ('engine', 387), ('attendance', 387), ('page', 388), ('overtime', 388), ('fun', 389), ('certain', 389), ('maximize', 389), ('persistent', 390), ('compile', 391), ('electronic', 391), ('multi', 392), ('component', 392), ('depth', 393), ('smoothly', 394), ('receivable', 394), ('subject', 394), ('salestarget', 394), ('preference', 394), ('oracle', 395), ('yogyakarta', 396), ('msword', 397), ('negotiating', 397), ('furniture', 398), ('meal', 398), ('situation', 398), ('along', 399), ('bring', 400), ('copy', 401), ('demonstrated', 401), ('principal', 402), ('implemented', 402), ('room', 403), ('without', 403), ('diverse', 403), ('hold', 403), ('course', 404), ('hse', 404), ('processed', 404), ('increasing', 405), ('define', 405), ('love', 407), ('entry', 407), ('shipment', 407), ('sourcing', 408), ('manual', 409), ('child', 411), ('app', 412), ('behavior', 413), ('energy', 414), ('due', 414), ('tok', 415), ('uptodate', 415), ('stage', 416), ('pattern', 416), ('desk', 417), ('registration', 417), ('cleaning', 417), ('updated', 417), ('capacity', 417), ('filing', 418), ('physical', 419), ('soon', 419), ('laboratory', 419), ('cycle', 420), ('reliable', 420), ('correspondence', 420), ('completion', 421), ('capable', 421), ('advisor', 421), ('collecting', 422), ('scheduling', 422), ('module', 423), ('assignment', 424), ('seventy', 424), ('sample', 424), ('ui', 424), ('assurance', 425), ('close', 425), ('hospitality', 425), ('audience', 425), ('fb', 428), ('address', 428), ('overseas', 428), ('outstanding', 428), ('comply', 429), ('managerial', 429), ('demonstrate', 429), ('loss', 430), ('kalimantan', 430), ('2', 430), ('capital', 431), ('card', 431), ('located', 431), ('previous', 431), ('buyer', 432), ('real', 432), ('suitable', 434), ('manpower', 434), ('layout', 434), ('pharmaceutical', 435), ('offering', 436), ('bill', 437), ('done', 437), ('tender', 438), ('ass', 439), ('money', 440), ('summary', 440), ('command', 441), ('ga', 441), ('representative', 441), ('custom', 441), ('sima', 442), ('sk', 442), ('heavy', 445), ('technician', 445), ('workshop', 445), ('4', 445), ('effort', 446), ('base', 448), ('expected', 448), ('bekasi', 449), ('important', 449), ('generate', 449), ('calculate', 449), ('receipt', 450), ('git', 450), ('free', 450), ('limited', 450), ('la', 451), ('engaged', 451), ('saturday', 452), ('bali', 453), ('prioritize', 453), ('worked', 454), ('consulting', 454), ('nineteen', 455), ('filling', 455), ('qualified', 456), ('agreed', 457), ('serving', 458), ('category', 458), ('approval', 458), ('regency', 459), ('react', 459), ('timeline', 459), ('comfortable', 460), ('labor', 461), ('ethic', 461), ('loyalty', 462), ('specializing', 462), ('range', 462), ('receiving', 462), ('accurately', 464), ('willingness', 464), ('liaise', 464), ('budgeting', 465), ('period', 466), ('core', 466), ('mindset', 466), ('continuously', 466), ('completeness', 467), ('multitasking', 467), ('advice', 468), ('includes', 470), ('establishing', 471), ('updating', 471), ('monday', 472), ('window', 472), ('confident', 473), ('provision', 473), ('methodology', 474), ('informatics', 474), ('tracking', 475), ('contribute', 475), ('give', 476), ('return', 477), ('linux', 477), ('cs', 478), ('outgoing', 479), ('display', 479), ('valid', 480), ('html', 481), ('mission', 481), ('clinic', 482), ('made', 482), ('volume', 482), ('family', 484), ('institution', 484), ('tight', 484), ('week', 485), ('regulatory', 485), ('involved', 485), ('environmental', 485), ('metric', 486), ('question', 487), ('comprehensive', 489), ('periodically', 489), ('subordinate', 490), ('act', 491), ('quantity', 491), ('oversee', 492), ('telephone', 492), ('item', 493), ('expense', 496), ('fifteen', 496), ('guidance', 496), ('educational', 497), ('co', 501), ('optimization', 502), ('smooth', 503), ('last', 504), ('many', 504), ('net', 505), ('demand', 506), ('deal', 507), ('storage', 507), ('vacancy', 507), ('access', 508), ('guest', 508), ('familiarity', 509), ('k', 510), ('profile', 510), ('pricing', 510), ('easy', 511), ('sure', 512), ('organizing', 512), ('image', 513), ('eighteen', 513), ('measure', 513), ('regularly', 513), ('prospect', 514), ('town', 514), ('promote', 515), ('routine', 516), ('5', 516), ('kpi', 518), ('come', 519), ('mentally', 520), ('delivering', 521), ('modern', 521), ('spare', 521), ('enjoy', 522), ('final', 522), ('literate', 523), ('helping', 524), ('provides', 525), ('ongoing', 526), ('improving', 528), ('enterprise', 528), ('financing', 528), ('recording', 529), ('profit', 529), ('additional', 529), ('beverage', 531), ('received', 531), ('mysql', 531), ('board', 531), ('several', 532), ('opening', 532), ('extensive', 534), ('hiring', 536), ('teacher', 536), ('package', 536), ('mandatory', 537), ('optimize', 537), ('beauty', 538), ('phone', 539), ('reviewing', 539), ('committed', 539), ('communicating', 539), ('million', 539), ('fashion', 541), ('interested', 541), ('fifty', 541), ('orientation', 544), ('mandiri', 545), ('file', 545), ('holiday', 547), ('supervising', 549), ('startup', 550), ('taking', 551), ('sim', 552), ('setting', 555), ('scale', 556), ('illustrator', 556), ('backend', 558), ('kitchen', 562), ('deep', 563), ('branding', 564), ('permit', 566), ('tik', 567), ('coaching', 567), ('towards', 568), ('query', 570), ('closing', 571), ('entire', 571), ('investment', 572), ('efficiently', 572), ('art', 572), ('semarang', 573), ('commitment', 573), ('success', 574), ('independent', 575), ('established', 575), ('pph', 577), ('produce', 579), ('acquisition', 580), ('rule', 580), ('arrange', 581), ('power', 582), ('think', 582), ('third', 582), ('share', 584), ('wide', 585), ('adapt', 585), ('forecast', 586), ('compensation', 587), ('packaging', 589), ('ci', 591), ('tab', 592), ('instruction', 595), ('surrounding', 596), ('facebook', 596), ('charge', 596), ('provided', 598), ('sense', 598), ('guideline', 599), ('vision', 599), ('sheet', 599), ('erp', 599), ('telecommunication', 601), ('energetic', 602), ('specified', 603), ('large', 603)]\n"
          ]
        }
      ]
    },
    {
      "cell_type": "code",
      "source": [
        "# Tentukan ambang batas untuk menghapus kata-kata yang jarang muncul\n",
        "# Misalnya, kita akan menghapus kata-kata yang muncul kurang dari 2 kali\n",
        "threshold = 4\n",
        "rare_words = [word for word, freq in word_freq.items() if freq <= threshold]\n",
        "\n",
        "# Fungsi untuk menghapus kata-kata yang jarang muncul dari teks\n",
        "def remove_rare_words(text, rare_words):\n",
        "    return ' '.join([word for word in text.split() if word not in rare_words])\n",
        "\n",
        "# Terapkan fungsi ini ke setiap teks dalam data\n",
        "cleaned_texts = [remove_rare_words(text, rare_words) for text in df['clean_data']]"
      ],
      "metadata": {
        "id": "8lzCOIYBEYq5"
      },
      "execution_count": null,
      "outputs": []
    },
    {
      "cell_type": "code",
      "source": [
        "df = pd.DataFrame(cleaned_texts, columns=['clean_data'])"
      ],
      "metadata": {
        "id": "QWU2NL8MDud5"
      },
      "execution_count": null,
      "outputs": []
    },
    {
      "cell_type": "code",
      "source": [
        "df['text_length'] = df['clean_data'].apply(lambda x: len(x.split()))\n",
        "print(df['text_length'].describe())"
      ],
      "metadata": {
        "colab": {
          "base_uri": "https://localhost:8080/"
        },
        "id": "qr8pIHmwEAQR",
        "outputId": "63df1511-3479-4833-81f2-440ea7e0e209"
      },
      "execution_count": null,
      "outputs": [
        {
          "output_type": "stream",
          "name": "stdout",
          "text": [
            "count    28203.000000\n",
            "mean        98.558983\n",
            "std         71.945306\n",
            "min         11.000000\n",
            "25%         54.000000\n",
            "50%         80.000000\n",
            "75%        120.000000\n",
            "max       2045.000000\n",
            "Name: text_length, dtype: float64\n"
          ]
        }
      ]
    },
    {
      "cell_type": "code",
      "source": [
        "df.info()"
      ],
      "metadata": {
        "colab": {
          "base_uri": "https://localhost:8080/"
        },
        "id": "4Up1GoJTHzFU",
        "outputId": "83d9539e-8fe3-4772-d0bd-8c31a0d0dac6"
      },
      "execution_count": null,
      "outputs": [
        {
          "output_type": "stream",
          "name": "stdout",
          "text": [
            "<class 'pandas.core.frame.DataFrame'>\n",
            "RangeIndex: 28203 entries, 0 to 28202\n",
            "Data columns (total 2 columns):\n",
            " #   Column       Non-Null Count  Dtype \n",
            "---  ------       --------------  ----- \n",
            " 0   clean_data   28203 non-null  object\n",
            " 1   text_length  28203 non-null  int64 \n",
            "dtypes: int64(1), object(1)\n",
            "memory usage: 440.8+ KB\n"
          ]
        }
      ]
    },
    {
      "cell_type": "code",
      "source": [
        "df.to_csv(\"combined_df1.csv\", index=False)"
      ],
      "metadata": {
        "id": "X0V4WLmREnah"
      },
      "execution_count": null,
      "outputs": []
    },
    {
      "cell_type": "markdown",
      "source": [
        "# Jog Description and Salary in Indonesia"
      ],
      "metadata": {
        "id": "FM03STMYUaLX"
      }
    },
    {
      "cell_type": "code",
      "source": [
        "df = pd.read_csv('/content/drive/MyDrive/Dataset/all.csv', sep='|')\n",
        "df.head()"
      ],
      "metadata": {
        "colab": {
          "base_uri": "https://localhost:8080/",
          "height": 538
        },
        "id": "pJQKEC1-M6La",
        "outputId": "d44d726e-ab07-48ae-e99c-d7ddbd51bd7e"
      },
      "execution_count": null,
      "outputs": [
        {
          "output_type": "execute_result",
          "data": {
            "text/plain": [
              "   id                                       job_title       location  \\\n",
              "0   1  Facility Maintenance & Smart Warehouse Manager        Bandung   \n",
              "1   2                     Procurement Department Head   Jakarta Raya   \n",
              "2   3                                     SALES ADMIN  Jakarta Barat   \n",
              "3   4    City Operation Lead Shopee Express (Cirebon)        Cirebon   \n",
              "4   5                            Japanese Interpreter         Bekasi   \n",
              "\n",
              "  salary_currency                              career_level experience_level  \\\n",
              "0             IDR                   Manajer/Asisten Manajer          5 tahun   \n",
              "1             IDR                   Manajer/Asisten Manajer          5 tahun   \n",
              "2             IDR                    Supervisor/Koordinator          4 tahun   \n",
              "3             IDR                    Supervisor/Koordinator          5 tahun   \n",
              "4             IDR  Pegawai (non-manajemen & non-supervisor)          2 tahun   \n",
              "\n",
              "                                     education_level employment_type  \\\n",
              "0  Sertifikat Professional, D3 (Diploma), D4 (Dip...     Penuh Waktu   \n",
              "1  Sarjana (S1), Diploma Pascasarjana, Gelar Prof...     Penuh Waktu   \n",
              "2                                       Sarjana (S1)     Penuh Waktu   \n",
              "3  Sarjana (S1), Diploma Pascasarjana, Gelar Prof...     Penuh Waktu   \n",
              "4  Sertifikat Professional, D3 (Diploma), D4 (Dip...     Penuh Waktu   \n",
              "\n",
              "                              job_function  \\\n",
              "0                  Manufaktur,Pemeliharaan   \n",
              "1  Manufaktur,Pembelian/Manajemen Material   \n",
              "2    Penjualan / Pemasaran,Penjualan Ritel   \n",
              "3        Pelayanan,Logistik/Rantai Pasokan   \n",
              "4                  Lainnya,Jurnalis/Editor   \n",
              "\n",
              "                                        job_benefits company_process_time  \\\n",
              "0                                                NaN                  NaN   \n",
              "1                                                NaN              25 days   \n",
              "2  Waktu regular, Senin - Jumat;Bisnis (contoh: K...              30 days   \n",
              "3  Tip;Waktu regular, Senin - Jumat;Kasual (conto...              21 days   \n",
              "4                                                NaN              23 days   \n",
              "\n",
              "          company_size         company_industry  \\\n",
              "0                  NaN                      NaN   \n",
              "1     51 - 200 pekerja  Manajemen/Konsulting HR   \n",
              "2     51 - 200 pekerja            Umum & Grosir   \n",
              "3  2001 - 5000 pekerja       Retail/Merchandise   \n",
              "4    201 - 500 pekerja  Manajemen/Konsulting HR   \n",
              "\n",
              "                                     job_description  salary  \n",
              "0  Deskripsi PekerjaanRequirements :D3/SI from re...     NaN  \n",
              "1  Job Role: 1. Responsible for material availabi...     NaN  \n",
              "2  Internal Sales & AdminJob Description :We are ...     NaN  \n",
              "3  Job Description:Responsible for HSE implementa...     NaN  \n",
              "4  Overview: Our clients is manufacture for autom...     NaN  "
            ],
            "text/html": [
              "\n",
              "  <div id=\"df-4a6a6726-d7fa-4af7-8dc5-5b10d0599d63\" class=\"colab-df-container\">\n",
              "    <div>\n",
              "<style scoped>\n",
              "    .dataframe tbody tr th:only-of-type {\n",
              "        vertical-align: middle;\n",
              "    }\n",
              "\n",
              "    .dataframe tbody tr th {\n",
              "        vertical-align: top;\n",
              "    }\n",
              "\n",
              "    .dataframe thead th {\n",
              "        text-align: right;\n",
              "    }\n",
              "</style>\n",
              "<table border=\"1\" class=\"dataframe\">\n",
              "  <thead>\n",
              "    <tr style=\"text-align: right;\">\n",
              "      <th></th>\n",
              "      <th>id</th>\n",
              "      <th>job_title</th>\n",
              "      <th>location</th>\n",
              "      <th>salary_currency</th>\n",
              "      <th>career_level</th>\n",
              "      <th>experience_level</th>\n",
              "      <th>education_level</th>\n",
              "      <th>employment_type</th>\n",
              "      <th>job_function</th>\n",
              "      <th>job_benefits</th>\n",
              "      <th>company_process_time</th>\n",
              "      <th>company_size</th>\n",
              "      <th>company_industry</th>\n",
              "      <th>job_description</th>\n",
              "      <th>salary</th>\n",
              "    </tr>\n",
              "  </thead>\n",
              "  <tbody>\n",
              "    <tr>\n",
              "      <th>0</th>\n",
              "      <td>1</td>\n",
              "      <td>Facility Maintenance &amp; Smart Warehouse Manager</td>\n",
              "      <td>Bandung</td>\n",
              "      <td>IDR</td>\n",
              "      <td>Manajer/Asisten Manajer</td>\n",
              "      <td>5 tahun</td>\n",
              "      <td>Sertifikat Professional, D3 (Diploma), D4 (Dip...</td>\n",
              "      <td>Penuh Waktu</td>\n",
              "      <td>Manufaktur,Pemeliharaan</td>\n",
              "      <td>NaN</td>\n",
              "      <td>NaN</td>\n",
              "      <td>NaN</td>\n",
              "      <td>NaN</td>\n",
              "      <td>Deskripsi PekerjaanRequirements :D3/SI from re...</td>\n",
              "      <td>NaN</td>\n",
              "    </tr>\n",
              "    <tr>\n",
              "      <th>1</th>\n",
              "      <td>2</td>\n",
              "      <td>Procurement Department Head</td>\n",
              "      <td>Jakarta Raya</td>\n",
              "      <td>IDR</td>\n",
              "      <td>Manajer/Asisten Manajer</td>\n",
              "      <td>5 tahun</td>\n",
              "      <td>Sarjana (S1), Diploma Pascasarjana, Gelar Prof...</td>\n",
              "      <td>Penuh Waktu</td>\n",
              "      <td>Manufaktur,Pembelian/Manajemen Material</td>\n",
              "      <td>NaN</td>\n",
              "      <td>25 days</td>\n",
              "      <td>51 - 200 pekerja</td>\n",
              "      <td>Manajemen/Konsulting HR</td>\n",
              "      <td>Job Role: 1. Responsible for material availabi...</td>\n",
              "      <td>NaN</td>\n",
              "    </tr>\n",
              "    <tr>\n",
              "      <th>2</th>\n",
              "      <td>3</td>\n",
              "      <td>SALES ADMIN</td>\n",
              "      <td>Jakarta Barat</td>\n",
              "      <td>IDR</td>\n",
              "      <td>Supervisor/Koordinator</td>\n",
              "      <td>4 tahun</td>\n",
              "      <td>Sarjana (S1)</td>\n",
              "      <td>Penuh Waktu</td>\n",
              "      <td>Penjualan / Pemasaran,Penjualan Ritel</td>\n",
              "      <td>Waktu regular, Senin - Jumat;Bisnis (contoh: K...</td>\n",
              "      <td>30 days</td>\n",
              "      <td>51 - 200 pekerja</td>\n",
              "      <td>Umum &amp; Grosir</td>\n",
              "      <td>Internal Sales &amp; AdminJob Description :We are ...</td>\n",
              "      <td>NaN</td>\n",
              "    </tr>\n",
              "    <tr>\n",
              "      <th>3</th>\n",
              "      <td>4</td>\n",
              "      <td>City Operation Lead Shopee Express (Cirebon)</td>\n",
              "      <td>Cirebon</td>\n",
              "      <td>IDR</td>\n",
              "      <td>Supervisor/Koordinator</td>\n",
              "      <td>5 tahun</td>\n",
              "      <td>Sarjana (S1), Diploma Pascasarjana, Gelar Prof...</td>\n",
              "      <td>Penuh Waktu</td>\n",
              "      <td>Pelayanan,Logistik/Rantai Pasokan</td>\n",
              "      <td>Tip;Waktu regular, Senin - Jumat;Kasual (conto...</td>\n",
              "      <td>21 days</td>\n",
              "      <td>2001 - 5000 pekerja</td>\n",
              "      <td>Retail/Merchandise</td>\n",
              "      <td>Job Description:Responsible for HSE implementa...</td>\n",
              "      <td>NaN</td>\n",
              "    </tr>\n",
              "    <tr>\n",
              "      <th>4</th>\n",
              "      <td>5</td>\n",
              "      <td>Japanese Interpreter</td>\n",
              "      <td>Bekasi</td>\n",
              "      <td>IDR</td>\n",
              "      <td>Pegawai (non-manajemen &amp; non-supervisor)</td>\n",
              "      <td>2 tahun</td>\n",
              "      <td>Sertifikat Professional, D3 (Diploma), D4 (Dip...</td>\n",
              "      <td>Penuh Waktu</td>\n",
              "      <td>Lainnya,Jurnalis/Editor</td>\n",
              "      <td>NaN</td>\n",
              "      <td>23 days</td>\n",
              "      <td>201 - 500 pekerja</td>\n",
              "      <td>Manajemen/Konsulting HR</td>\n",
              "      <td>Overview: Our clients is manufacture for autom...</td>\n",
              "      <td>NaN</td>\n",
              "    </tr>\n",
              "  </tbody>\n",
              "</table>\n",
              "</div>\n",
              "    <div class=\"colab-df-buttons\">\n",
              "\n",
              "  <div class=\"colab-df-container\">\n",
              "    <button class=\"colab-df-convert\" onclick=\"convertToInteractive('df-4a6a6726-d7fa-4af7-8dc5-5b10d0599d63')\"\n",
              "            title=\"Convert this dataframe to an interactive table.\"\n",
              "            style=\"display:none;\">\n",
              "\n",
              "  <svg xmlns=\"http://www.w3.org/2000/svg\" height=\"24px\" viewBox=\"0 -960 960 960\">\n",
              "    <path d=\"M120-120v-720h720v720H120Zm60-500h600v-160H180v160Zm220 220h160v-160H400v160Zm0 220h160v-160H400v160ZM180-400h160v-160H180v160Zm440 0h160v-160H620v160ZM180-180h160v-160H180v160Zm440 0h160v-160H620v160Z\"/>\n",
              "  </svg>\n",
              "    </button>\n",
              "\n",
              "  <style>\n",
              "    .colab-df-container {\n",
              "      display:flex;\n",
              "      gap: 12px;\n",
              "    }\n",
              "\n",
              "    .colab-df-convert {\n",
              "      background-color: #E8F0FE;\n",
              "      border: none;\n",
              "      border-radius: 50%;\n",
              "      cursor: pointer;\n",
              "      display: none;\n",
              "      fill: #1967D2;\n",
              "      height: 32px;\n",
              "      padding: 0 0 0 0;\n",
              "      width: 32px;\n",
              "    }\n",
              "\n",
              "    .colab-df-convert:hover {\n",
              "      background-color: #E2EBFA;\n",
              "      box-shadow: 0px 1px 2px rgba(60, 64, 67, 0.3), 0px 1px 3px 1px rgba(60, 64, 67, 0.15);\n",
              "      fill: #174EA6;\n",
              "    }\n",
              "\n",
              "    .colab-df-buttons div {\n",
              "      margin-bottom: 4px;\n",
              "    }\n",
              "\n",
              "    [theme=dark] .colab-df-convert {\n",
              "      background-color: #3B4455;\n",
              "      fill: #D2E3FC;\n",
              "    }\n",
              "\n",
              "    [theme=dark] .colab-df-convert:hover {\n",
              "      background-color: #434B5C;\n",
              "      box-shadow: 0px 1px 3px 1px rgba(0, 0, 0, 0.15);\n",
              "      filter: drop-shadow(0px 1px 2px rgba(0, 0, 0, 0.3));\n",
              "      fill: #FFFFFF;\n",
              "    }\n",
              "  </style>\n",
              "\n",
              "    <script>\n",
              "      const buttonEl =\n",
              "        document.querySelector('#df-4a6a6726-d7fa-4af7-8dc5-5b10d0599d63 button.colab-df-convert');\n",
              "      buttonEl.style.display =\n",
              "        google.colab.kernel.accessAllowed ? 'block' : 'none';\n",
              "\n",
              "      async function convertToInteractive(key) {\n",
              "        const element = document.querySelector('#df-4a6a6726-d7fa-4af7-8dc5-5b10d0599d63');\n",
              "        const dataTable =\n",
              "          await google.colab.kernel.invokeFunction('convertToInteractive',\n",
              "                                                    [key], {});\n",
              "        if (!dataTable) return;\n",
              "\n",
              "        const docLinkHtml = 'Like what you see? Visit the ' +\n",
              "          '<a target=\"_blank\" href=https://colab.research.google.com/notebooks/data_table.ipynb>data table notebook</a>'\n",
              "          + ' to learn more about interactive tables.';\n",
              "        element.innerHTML = '';\n",
              "        dataTable['output_type'] = 'display_data';\n",
              "        await google.colab.output.renderOutput(dataTable, element);\n",
              "        const docLink = document.createElement('div');\n",
              "        docLink.innerHTML = docLinkHtml;\n",
              "        element.appendChild(docLink);\n",
              "      }\n",
              "    </script>\n",
              "  </div>\n",
              "\n",
              "\n",
              "<div id=\"df-da84da4b-90fd-4f01-937a-613e657c796b\">\n",
              "  <button class=\"colab-df-quickchart\" onclick=\"quickchart('df-da84da4b-90fd-4f01-937a-613e657c796b')\"\n",
              "            title=\"Suggest charts\"\n",
              "            style=\"display:none;\">\n",
              "\n",
              "<svg xmlns=\"http://www.w3.org/2000/svg\" height=\"24px\"viewBox=\"0 0 24 24\"\n",
              "     width=\"24px\">\n",
              "    <g>\n",
              "        <path d=\"M19 3H5c-1.1 0-2 .9-2 2v14c0 1.1.9 2 2 2h14c1.1 0 2-.9 2-2V5c0-1.1-.9-2-2-2zM9 17H7v-7h2v7zm4 0h-2V7h2v10zm4 0h-2v-4h2v4z\"/>\n",
              "    </g>\n",
              "</svg>\n",
              "  </button>\n",
              "\n",
              "<style>\n",
              "  .colab-df-quickchart {\n",
              "      --bg-color: #E8F0FE;\n",
              "      --fill-color: #1967D2;\n",
              "      --hover-bg-color: #E2EBFA;\n",
              "      --hover-fill-color: #174EA6;\n",
              "      --disabled-fill-color: #AAA;\n",
              "      --disabled-bg-color: #DDD;\n",
              "  }\n",
              "\n",
              "  [theme=dark] .colab-df-quickchart {\n",
              "      --bg-color: #3B4455;\n",
              "      --fill-color: #D2E3FC;\n",
              "      --hover-bg-color: #434B5C;\n",
              "      --hover-fill-color: #FFFFFF;\n",
              "      --disabled-bg-color: #3B4455;\n",
              "      --disabled-fill-color: #666;\n",
              "  }\n",
              "\n",
              "  .colab-df-quickchart {\n",
              "    background-color: var(--bg-color);\n",
              "    border: none;\n",
              "    border-radius: 50%;\n",
              "    cursor: pointer;\n",
              "    display: none;\n",
              "    fill: var(--fill-color);\n",
              "    height: 32px;\n",
              "    padding: 0;\n",
              "    width: 32px;\n",
              "  }\n",
              "\n",
              "  .colab-df-quickchart:hover {\n",
              "    background-color: var(--hover-bg-color);\n",
              "    box-shadow: 0 1px 2px rgba(60, 64, 67, 0.3), 0 1px 3px 1px rgba(60, 64, 67, 0.15);\n",
              "    fill: var(--button-hover-fill-color);\n",
              "  }\n",
              "\n",
              "  .colab-df-quickchart-complete:disabled,\n",
              "  .colab-df-quickchart-complete:disabled:hover {\n",
              "    background-color: var(--disabled-bg-color);\n",
              "    fill: var(--disabled-fill-color);\n",
              "    box-shadow: none;\n",
              "  }\n",
              "\n",
              "  .colab-df-spinner {\n",
              "    border: 2px solid var(--fill-color);\n",
              "    border-color: transparent;\n",
              "    border-bottom-color: var(--fill-color);\n",
              "    animation:\n",
              "      spin 1s steps(1) infinite;\n",
              "  }\n",
              "\n",
              "  @keyframes spin {\n",
              "    0% {\n",
              "      border-color: transparent;\n",
              "      border-bottom-color: var(--fill-color);\n",
              "      border-left-color: var(--fill-color);\n",
              "    }\n",
              "    20% {\n",
              "      border-color: transparent;\n",
              "      border-left-color: var(--fill-color);\n",
              "      border-top-color: var(--fill-color);\n",
              "    }\n",
              "    30% {\n",
              "      border-color: transparent;\n",
              "      border-left-color: var(--fill-color);\n",
              "      border-top-color: var(--fill-color);\n",
              "      border-right-color: var(--fill-color);\n",
              "    }\n",
              "    40% {\n",
              "      border-color: transparent;\n",
              "      border-right-color: var(--fill-color);\n",
              "      border-top-color: var(--fill-color);\n",
              "    }\n",
              "    60% {\n",
              "      border-color: transparent;\n",
              "      border-right-color: var(--fill-color);\n",
              "    }\n",
              "    80% {\n",
              "      border-color: transparent;\n",
              "      border-right-color: var(--fill-color);\n",
              "      border-bottom-color: var(--fill-color);\n",
              "    }\n",
              "    90% {\n",
              "      border-color: transparent;\n",
              "      border-bottom-color: var(--fill-color);\n",
              "    }\n",
              "  }\n",
              "</style>\n",
              "\n",
              "  <script>\n",
              "    async function quickchart(key) {\n",
              "      const quickchartButtonEl =\n",
              "        document.querySelector('#' + key + ' button');\n",
              "      quickchartButtonEl.disabled = true;  // To prevent multiple clicks.\n",
              "      quickchartButtonEl.classList.add('colab-df-spinner');\n",
              "      try {\n",
              "        const charts = await google.colab.kernel.invokeFunction(\n",
              "            'suggestCharts', [key], {});\n",
              "      } catch (error) {\n",
              "        console.error('Error during call to suggestCharts:', error);\n",
              "      }\n",
              "      quickchartButtonEl.classList.remove('colab-df-spinner');\n",
              "      quickchartButtonEl.classList.add('colab-df-quickchart-complete');\n",
              "    }\n",
              "    (() => {\n",
              "      let quickchartButtonEl =\n",
              "        document.querySelector('#df-da84da4b-90fd-4f01-937a-613e657c796b button');\n",
              "      quickchartButtonEl.style.display =\n",
              "        google.colab.kernel.accessAllowed ? 'block' : 'none';\n",
              "    })();\n",
              "  </script>\n",
              "</div>\n",
              "\n",
              "    </div>\n",
              "  </div>\n"
            ],
            "application/vnd.google.colaboratory.intrinsic+json": {
              "type": "dataframe",
              "variable_name": "df",
              "summary": "{\n  \"name\": \"df\",\n  \"rows\": 34746,\n  \"fields\": [\n    {\n      \"column\": \"id\",\n      \"properties\": {\n        \"dtype\": \"number\",\n        \"std\": 10030,\n        \"min\": 1,\n        \"max\": 34746,\n        \"num_unique_values\": 34746,\n        \"samples\": [\n          2002,\n          29555,\n          14859\n        ],\n        \"semantic_type\": \"\",\n        \"description\": \"\"\n      }\n    },\n    {\n      \"column\": \"job_title\",\n      \"properties\": {\n        \"dtype\": \"string\",\n        \"num_unique_values\": 20632,\n        \"samples\": [\n          \"Clinic Inventory (Medan)\",\n          \"SALES EXECUTIVE (JAKARTA)\",\n          \"Asisten Apoteker / Tenaga Teknik Kefarmasian\"\n        ],\n        \"semantic_type\": \"\",\n        \"description\": \"\"\n      }\n    },\n    {\n      \"column\": \"location\",\n      \"properties\": {\n        \"dtype\": \"category\",\n        \"num_unique_values\": 200,\n        \"samples\": [\n          \"Tuban\",\n          \"Medan\",\n          \"Serang\"\n        ],\n        \"semantic_type\": \"\",\n        \"description\": \"\"\n      }\n    },\n    {\n      \"column\": \"salary_currency\",\n      \"properties\": {\n        \"dtype\": \"category\",\n        \"num_unique_values\": 2,\n        \"samples\": [\n          \"USD\",\n          \"IDR\"\n        ],\n        \"semantic_type\": \"\",\n        \"description\": \"\"\n      }\n    },\n    {\n      \"column\": \"career_level\",\n      \"properties\": {\n        \"dtype\": \"category\",\n        \"num_unique_values\": 6,\n        \"samples\": [\n          \"Manajer/Asisten Manajer\",\n          \"Supervisor/Koordinator\"\n        ],\n        \"semantic_type\": \"\",\n        \"description\": \"\"\n      }\n    },\n    {\n      \"column\": \"experience_level\",\n      \"properties\": {\n        \"dtype\": \"category\",\n        \"num_unique_values\": 20,\n        \"samples\": [\n          \"5 tahun\",\n          \"16 tahun\"\n        ],\n        \"semantic_type\": \"\",\n        \"description\": \"\"\n      }\n    },\n    {\n      \"column\": \"education_level\",\n      \"properties\": {\n        \"dtype\": \"category\",\n        \"num_unique_values\": 21,\n        \"samples\": [\n          \"Sertifikat Professional, D3 (Diploma), D4 (Diploma), Sarjana (S1)\",\n          \"Sarjana (S1), Diploma Pascasarjana, Gelar Professional\"\n        ],\n        \"semantic_type\": \"\",\n        \"description\": \"\"\n      }\n    },\n    {\n      \"column\": \"employment_type\",\n      \"properties\": {\n        \"dtype\": \"category\",\n        \"num_unique_values\": 10,\n        \"samples\": [\n          \"Penuh Waktu, Paruh Waktu\",\n          \"Kontrak\"\n        ],\n        \"semantic_type\": \"\",\n        \"description\": \"\"\n      }\n    },\n    {\n      \"column\": \"job_function\",\n      \"properties\": {\n        \"dtype\": \"category\",\n        \"num_unique_values\": 68,\n        \"samples\": [\n          \"Pelayanan,Teknikal & Bantuan Pelanggan\",\n          \"Sumber Daya Manusia/Personalia,Sumber Daya Manusia / HR\"\n        ],\n        \"semantic_type\": \"\",\n        \"description\": \"\"\n      }\n    },\n    {\n      \"column\": \"job_benefits\",\n      \"properties\": {\n        \"dtype\": \"category\",\n        \"num_unique_values\": 3185,\n        \"samples\": [\n          \"Tunjangan Pendidikan;Asuransi kesehatan;Olahraga (contoh: pusat kebugaran);Parkir;Sabtu Casual;Senin - Sabtu\",\n          \"Asuransi kesehatan;Waktu regular, Senin - Jumat;Bisnis (contoh: Kemeja);Tempat tinggal\"\n        ],\n        \"semantic_type\": \"\",\n        \"description\": \"\"\n      }\n    },\n    {\n      \"column\": \"company_process_time\",\n      \"properties\": {\n        \"dtype\": \"category\",\n        \"num_unique_values\": 30,\n        \"samples\": [\n          \"3 days\",\n          \"5 days\"\n        ],\n        \"semantic_type\": \"\",\n        \"description\": \"\"\n      }\n    },\n    {\n      \"column\": \"company_size\",\n      \"properties\": {\n        \"dtype\": \"category\",\n        \"num_unique_values\": 7,\n        \"samples\": [\n          \"51 - 200 pekerja\",\n          \"2001 - 5000 pekerja\"\n        ],\n        \"semantic_type\": \"\",\n        \"description\": \"\"\n      }\n    },\n    {\n      \"column\": \"company_industry\",\n      \"properties\": {\n        \"dtype\": \"category\",\n        \"num_unique_values\": 58,\n        \"samples\": [\n          \"Manajemen/Konsulting HR\",\n          \"Properti/Real Estate\"\n        ],\n        \"semantic_type\": \"\",\n        \"description\": \"\"\n      }\n    },\n    {\n      \"column\": \"job_description\",\n      \"properties\": {\n        \"dtype\": \"string\",\n        \"num_unique_values\": 29285,\n        \"samples\": [\n          \"Change Management (Project-based Role)Job ID:R-30283Category:Human ResourcesLocation: Tangerang, BantenDate posted: 01/19/2022We are looking for Change Management Consultant (project-based role) who have :-Experienced in change management process (management consulting background will be plus point)-Strong leadership and communication-Strategic planning & project managementSome of the role's responsibilities are :-Mapping the current & desired process-Handling parallel projects & working with across teams in different functions-Identifying effective activity for the change management, ie. training, socialization, including training material for both internal and external stakeholder (campaign)-Engage with the trainer & business owners to build change management project (plan, timeline, approach, material, person in charge, etc)Unilever is an organisation committed to equity, inclusion and diversity to drive our business results and create a better future, every day, for our diverse employees, global consumers, partners, and communities. We believe a diverse workforce allows us to match our growth ambitions and drive inclusion across the business. At Unilever we are interested in every individual bringing their \\u2018Whole Self\\u2019 to work and this includes you! Thus if you require any support or access requirements, we encourage you to advise us at the time of your application so that we can support you through your recruitment journey.-\",\n          \"Tugas & Tanggung Jawab:Mencatat Mutasi (keluar-masuk) Barang;Mengklasifikasikan Barang Masuk Sesuai Jenisnya;Membandingkan Data dengan Jumlah Stok Fisik yang Tersedia;Pengecekan Stok Barang;Pengecekan Barang Retur dari Konsumen;Membuat Surat Jalan;Mencatat Penggunaan Barang di Gudang dan Mengarahkan Karyawan Lain yang Berhubungan dengan Gudang;Membuat Laporan Analisa.Persyaratan:Pendidikan SMA/ Diploma semua jurusan.Usia maksimal 35 tahun.Pengalaman minimal 2 tahun di posisi yang sama (Diutamakan Attitude & Skill).Paham Manajemen Gudang.Pernah menggunakan aplikasi Pergudangan.Teliti, Disiplin dan Bertanggung Jawab.Bersedia bekerja Senin sd Sabtu.\"\n        ],\n        \"semantic_type\": \"\",\n        \"description\": \"\"\n      }\n    },\n    {\n      \"column\": \"salary\",\n      \"properties\": {\n        \"dtype\": \"number\",\n        \"std\": 21481284.908647954,\n        \"min\": 10.0,\n        \"max\": 2000000000.0,\n        \"num_unique_values\": 571,\n        \"samples\": [\n          33600000.0,\n          4700000.0\n        ],\n        \"semantic_type\": \"\",\n        \"description\": \"\"\n      }\n    }\n  ]\n}"
            }
          },
          "metadata": {},
          "execution_count": 12
        }
      ]
    },
    {
      "cell_type": "code",
      "source": [
        "df.info()"
      ],
      "metadata": {
        "colab": {
          "base_uri": "https://localhost:8080/"
        },
        "id": "396eRLk1NGci",
        "outputId": "31835e43-b377-4994-aa08-67c50d688e05"
      },
      "execution_count": null,
      "outputs": [
        {
          "output_type": "stream",
          "name": "stdout",
          "text": [
            "<class 'pandas.core.frame.DataFrame'>\n",
            "RangeIndex: 34746 entries, 0 to 34745\n",
            "Data columns (total 15 columns):\n",
            " #   Column                Non-Null Count  Dtype  \n",
            "---  ------                --------------  -----  \n",
            " 0   id                    34746 non-null  int64  \n",
            " 1   job_title             34746 non-null  object \n",
            " 2   location              34746 non-null  object \n",
            " 3   salary_currency       34742 non-null  object \n",
            " 4   career_level          34746 non-null  object \n",
            " 5   experience_level      30205 non-null  object \n",
            " 6   education_level       34746 non-null  object \n",
            " 7   employment_type       33402 non-null  object \n",
            " 8   job_function          34746 non-null  object \n",
            " 9   job_benefits          27330 non-null  object \n",
            " 10  company_process_time  24555 non-null  object \n",
            " 11  company_size          29103 non-null  object \n",
            " 12  company_industry      33132 non-null  object \n",
            " 13  job_description       34745 non-null  object \n",
            " 14  salary                9352 non-null   float64\n",
            "dtypes: float64(1), int64(1), object(13)\n",
            "memory usage: 4.0+ MB\n"
          ]
        }
      ]
    },
    {
      "cell_type": "code",
      "source": [
        "df['job_title'].value_counts()"
      ],
      "metadata": {
        "colab": {
          "base_uri": "https://localhost:8080/"
        },
        "id": "oB4mx1a-rmwe",
        "outputId": "b91111cb-449c-4cbe-d159-a16fd1c312ea"
      },
      "execution_count": null,
      "outputs": [
        {
          "output_type": "execute_result",
          "data": {
            "text/plain": [
              "job_title\n",
              "Sales Executive                      325\n",
              "Management Trainee                   171\n",
              "Sales                                137\n",
              "Accounting Staff                     125\n",
              "Sales Engineer                       115\n",
              "                                    ... \n",
              "MANAJER PPIC & LOGISTIK                1\n",
              "Human Resource Management Manager      1\n",
              "Helper/Messanger/Kurir                 1\n",
              "NOC & IT Support                       1\n",
              "Ecommerce Operation Support            1\n",
              "Name: count, Length: 20632, dtype: int64"
            ]
          },
          "metadata": {},
          "execution_count": 24
        }
      ]
    },
    {
      "cell_type": "code",
      "source": [
        "unique_count = df['job_description'].nunique()\n",
        "print(unique_count)"
      ],
      "metadata": {
        "colab": {
          "base_uri": "https://localhost:8080/"
        },
        "id": "9Rer4KS1NW65",
        "outputId": "0a389b09-ddd9-41e7-b802-921310784741"
      },
      "execution_count": null,
      "outputs": [
        {
          "output_type": "stream",
          "name": "stdout",
          "text": [
            "29285\n"
          ]
        }
      ]
    },
    {
      "cell_type": "code",
      "source": [
        "duplicate_count = df.duplicated(subset='job_description').sum()\n",
        "\n",
        "print(f\"Number of duplicate rows': {duplicate_count}\")"
      ],
      "metadata": {
        "colab": {
          "base_uri": "https://localhost:8080/"
        },
        "id": "4KPVo0sJONO7",
        "outputId": "8a2ec5c7-d6c1-427b-ce78-8245290cd1d5"
      },
      "execution_count": null,
      "outputs": [
        {
          "output_type": "stream",
          "name": "stdout",
          "text": [
            "Number of duplicate rows': 5460\n"
          ]
        }
      ]
    },
    {
      "cell_type": "code",
      "source": [
        "df['job_description'][3]"
      ],
      "metadata": {
        "colab": {
          "base_uri": "https://localhost:8080/",
          "height": 140
        },
        "id": "Sxy7PcT5QRvi",
        "outputId": "d3d0d046-0cd1-4835-af72-c26827a7fac7"
      },
      "execution_count": null,
      "outputs": [
        {
          "output_type": "execute_result",
          "data": {
            "text/plain": [
              "'Job Description:Responsible for HSE implementation and ensure people safety within assigned City(s)Leading and Managing day to day overall operations including First Mile, Sorting Center, Middle Mile & Last Mile within assigned province(s)Responsible for CPP within assigned city(s)To ensure operation team follow Company SOP & WIResponsible to achieve KPI target that aligned with company goals and objectivesBe accountable and supervise any expenses incurredResponsible to coach & develop team members based on company standard Learning & Development guidelines\\xa0Requirements:\\xa0At least has 5 years of experiences in Express Company / Logistics Company, and managing some provinces / regionsAt least a Bachelor degree from any majorSkilled in Express / Courier Transport Operation Management (First Mile, Middle Mile, Sorting Center & Last Mile), Project, People, and Community ManagementExcellent in problem-solving and analytical skills (Kaizen & Lean skills are preferred)Good communication skills (written and verbal)Lead by example (hands-on) leadership style who can show operation solution in the floorUnderstand and having experiences on operating Transport / Freight Management System (TMS / FMS)Willing to travel'"
            ],
            "application/vnd.google.colaboratory.intrinsic+json": {
              "type": "string"
            }
          },
          "metadata": {},
          "execution_count": 15
        }
      ]
    },
    {
      "cell_type": "code",
      "source": [
        "df = df.drop_duplicates(subset=['job_description'])"
      ],
      "metadata": {
        "id": "j5wUFMVcVt0u"
      },
      "execution_count": null,
      "outputs": []
    },
    {
      "cell_type": "code",
      "source": [
        "df = df.dropna(subset='job_description')"
      ],
      "metadata": {
        "id": "qP7eT66sZ-uA"
      },
      "execution_count": null,
      "outputs": []
    },
    {
      "cell_type": "code",
      "source": [
        "df = df[:2000]"
      ],
      "metadata": {
        "id": "uldoDWih5Lda"
      },
      "execution_count": null,
      "outputs": []
    },
    {
      "cell_type": "code",
      "source": [
        "!pip install translate\n",
        "from translate import Translator\n",
        "\n",
        "# translator = Translator(from_lang=\"id\", to_lang=\"en\")\n",
        "# translation = translator.translate('Halo, apa kabar?')\n",
        "# print(translation)"
      ],
      "metadata": {
        "colab": {
          "base_uri": "https://localhost:8080/"
        },
        "id": "Q0A7VKkUuz6Z",
        "outputId": "2bd1c4a0-09d9-44b5-a676-2fa835b24ca5"
      },
      "execution_count": null,
      "outputs": [
        {
          "output_type": "stream",
          "name": "stdout",
          "text": [
            "Requirement already satisfied: translate in /usr/local/lib/python3.10/dist-packages (3.6.1)\n",
            "Requirement already satisfied: click in /usr/local/lib/python3.10/dist-packages (from translate) (8.1.7)\n",
            "Requirement already satisfied: lxml in /usr/local/lib/python3.10/dist-packages (from translate) (4.9.4)\n",
            "Requirement already satisfied: requests in /usr/local/lib/python3.10/dist-packages (from translate) (2.31.0)\n",
            "Requirement already satisfied: libretranslatepy==2.1.1 in /usr/local/lib/python3.10/dist-packages (from translate) (2.1.1)\n",
            "Requirement already satisfied: charset-normalizer<4,>=2 in /usr/local/lib/python3.10/dist-packages (from requests->translate) (3.3.2)\n",
            "Requirement already satisfied: idna<4,>=2.5 in /usr/local/lib/python3.10/dist-packages (from requests->translate) (2.10)\n",
            "Requirement already satisfied: urllib3<3,>=1.21.1 in /usr/local/lib/python3.10/dist-packages (from requests->translate) (2.0.7)\n",
            "Requirement already satisfied: certifi>=2017.4.17 in /usr/local/lib/python3.10/dist-packages (from requests->translate) (2024.7.4)\n"
          ]
        }
      ]
    },
    {
      "cell_type": "code",
      "source": [
        "load()\n",
        "translator = GoogleTranslator(source='id', target='en')\n",
        "\n",
        "def split_text(text, max_length):\n",
        "    # Fungsi untuk membagi teks menjadi bagian yang lebih kecil\n",
        "    words = text.split()\n",
        "    parts = []\n",
        "    current_part = []\n",
        "\n",
        "    for word in words:\n",
        "        if len(' '.join(current_part + [word])) <= max_length:\n",
        "            current_part.append(word)\n",
        "        else:\n",
        "            parts.append(' '.join(current_part))\n",
        "            current_part = [word]\n",
        "\n",
        "    if current_part:\n",
        "        parts.append(' '.join(current_part))\n",
        "\n",
        "    return parts\n",
        "\n",
        "def translate_batch(text, max_length=4000):\n",
        "    # Fungsi untuk menerjemahkan teks dalam batch\n",
        "    parts = split_text(text, max_length)\n",
        "    translated_parts = [translator.translate(part) for part in parts]\n",
        "    return ' '.join(translated_parts)\n",
        "\n",
        "def preprocessing_data(text, idx):\n",
        "    # Terjemah kata dalam batch\n",
        "    text = translate_batch(text)\n",
        "\n",
        "    text = text.lower()\n",
        "    text = re.sub(r'http\\S+|www\\S+|https\\S+', '', text, flags=re.MULTILINE)\n",
        "    text = re.sub(r'[^\\w\\s]', ' ', text)\n",
        "    text = text.replace('s1', 'bachelor')\n",
        "    text = text.replace('s2', 'master')\n",
        "    text = text.replace('s3', 'doctorate')\n",
        "    text = text.replace('d3', 'associate degree')\n",
        "    text = text.replace('d4', 'professional degree')\n",
        "\n",
        "    # Ubah angka jadi kata\n",
        "    pattern = r'\\b\\d+\\b'\n",
        "\n",
        "    def replace_with_words(match):\n",
        "        number = int(match.group())\n",
        "        return num2words(number)\n",
        "\n",
        "    text = re.sub(pattern, replace_with_words, text)\n",
        "\n",
        "    # Pisah kata yang gabung\n",
        "    # ada error\n",
        "    segmented_text = segment(text)\n",
        "    text = ' '.join(segmented_text)\n",
        "\n",
        "    text = re.sub(r'[^a-zA-Z0-9\\s]', '', text)\n",
        "    text = text.replace('\\n', ' ')\n",
        "    text = text.replace('etc', ' ')\n",
        "\n",
        "    stop_words = set(stopwords.words('english'))\n",
        "    tokens = word_tokenize(text)\n",
        "    tokens = [word for word in tokens if word not in stop_words]\n",
        "\n",
        "    lemmatizer = WordNetLemmatizer()\n",
        "    tokens = [lemmatizer.lemmatize(word) for word in tokens]\n",
        "\n",
        "    preprocessed_text = ' '.join(tokens)\n",
        "    print(f\"Index: {idx}, Preprocessed Text : {' '.join(tokens[:5])}\")\n",
        "\n",
        "    return preprocessed_text"
      ],
      "metadata": {
        "id": "Zh6-iJ7xL-Rs"
      },
      "execution_count": null,
      "outputs": []
    },
    {
      "cell_type": "code",
      "source": [
        "df['clean_data'] = df.apply(lambda row: preprocessing_data(row['job_description'], row.name), axis=1)"
      ],
      "metadata": {
        "colab": {
          "base_uri": "https://localhost:8080/",
          "height": 356
        },
        "id": "mDxn-9_nNQ_j",
        "outputId": "b5015205-f74b-4bad-9d5f-2d04d51ca4ed"
      },
      "execution_count": null,
      "outputs": [
        {
          "output_type": "stream",
          "name": "stdout",
          "text": [
            "Index: 0, Preprocessed Text : job description requirement associate degree\n",
            "Index: 1, Preprocessed Text : job role one responsible material\n"
          ]
        },
        {
          "output_type": "error",
          "ename": "RecursionError",
          "evalue": "maximum recursion depth exceeded while calling a Python object",
          "traceback": [
            "\u001b[0;31m---------------------------------------------------------------------------\u001b[0m",
            "\u001b[0;31mRecursionError\u001b[0m                            Traceback (most recent call last)",
            "\u001b[0;32m<ipython-input-26-2ffbb4ea8d5c>\u001b[0m in \u001b[0;36m<cell line: 1>\u001b[0;34m()\u001b[0m\n\u001b[0;32m----> 1\u001b[0;31m \u001b[0mdf\u001b[0m\u001b[0;34m[\u001b[0m\u001b[0;34m'clean_data'\u001b[0m\u001b[0;34m]\u001b[0m \u001b[0;34m=\u001b[0m \u001b[0mdf\u001b[0m\u001b[0;34m.\u001b[0m\u001b[0mapply\u001b[0m\u001b[0;34m(\u001b[0m\u001b[0;32mlambda\u001b[0m \u001b[0mrow\u001b[0m\u001b[0;34m:\u001b[0m \u001b[0mpreprocessing_data\u001b[0m\u001b[0;34m(\u001b[0m\u001b[0mrow\u001b[0m\u001b[0;34m[\u001b[0m\u001b[0;34m'job_description'\u001b[0m\u001b[0;34m]\u001b[0m\u001b[0;34m,\u001b[0m \u001b[0mrow\u001b[0m\u001b[0;34m.\u001b[0m\u001b[0mname\u001b[0m\u001b[0;34m)\u001b[0m\u001b[0;34m,\u001b[0m \u001b[0maxis\u001b[0m\u001b[0;34m=\u001b[0m\u001b[0;36m1\u001b[0m\u001b[0;34m)\u001b[0m\u001b[0;34m\u001b[0m\u001b[0;34m\u001b[0m\u001b[0m\n\u001b[0m",
            "\u001b[0;32m/usr/local/lib/python3.10/dist-packages/pandas/core/frame.py\u001b[0m in \u001b[0;36mapply\u001b[0;34m(self, func, axis, raw, result_type, args, **kwargs)\u001b[0m\n\u001b[1;32m   9421\u001b[0m             \u001b[0mkwargs\u001b[0m\u001b[0;34m=\u001b[0m\u001b[0mkwargs\u001b[0m\u001b[0;34m,\u001b[0m\u001b[0;34m\u001b[0m\u001b[0;34m\u001b[0m\u001b[0m\n\u001b[1;32m   9422\u001b[0m         )\n\u001b[0;32m-> 9423\u001b[0;31m         \u001b[0;32mreturn\u001b[0m \u001b[0mop\u001b[0m\u001b[0;34m.\u001b[0m\u001b[0mapply\u001b[0m\u001b[0;34m(\u001b[0m\u001b[0;34m)\u001b[0m\u001b[0;34m.\u001b[0m\u001b[0m__finalize__\u001b[0m\u001b[0;34m(\u001b[0m\u001b[0mself\u001b[0m\u001b[0;34m,\u001b[0m \u001b[0mmethod\u001b[0m\u001b[0;34m=\u001b[0m\u001b[0;34m\"apply\"\u001b[0m\u001b[0;34m)\u001b[0m\u001b[0;34m\u001b[0m\u001b[0;34m\u001b[0m\u001b[0m\n\u001b[0m\u001b[1;32m   9424\u001b[0m \u001b[0;34m\u001b[0m\u001b[0m\n\u001b[1;32m   9425\u001b[0m     def applymap(\n",
            "\u001b[0;32m/usr/local/lib/python3.10/dist-packages/pandas/core/apply.py\u001b[0m in \u001b[0;36mapply\u001b[0;34m(self)\u001b[0m\n\u001b[1;32m    676\u001b[0m             \u001b[0;32mreturn\u001b[0m \u001b[0mself\u001b[0m\u001b[0;34m.\u001b[0m\u001b[0mapply_raw\u001b[0m\u001b[0;34m(\u001b[0m\u001b[0;34m)\u001b[0m\u001b[0;34m\u001b[0m\u001b[0;34m\u001b[0m\u001b[0m\n\u001b[1;32m    677\u001b[0m \u001b[0;34m\u001b[0m\u001b[0m\n\u001b[0;32m--> 678\u001b[0;31m         \u001b[0;32mreturn\u001b[0m \u001b[0mself\u001b[0m\u001b[0;34m.\u001b[0m\u001b[0mapply_standard\u001b[0m\u001b[0;34m(\u001b[0m\u001b[0;34m)\u001b[0m\u001b[0;34m\u001b[0m\u001b[0;34m\u001b[0m\u001b[0m\n\u001b[0m\u001b[1;32m    679\u001b[0m \u001b[0;34m\u001b[0m\u001b[0m\n\u001b[1;32m    680\u001b[0m     \u001b[0;32mdef\u001b[0m \u001b[0magg\u001b[0m\u001b[0;34m(\u001b[0m\u001b[0mself\u001b[0m\u001b[0;34m)\u001b[0m\u001b[0;34m:\u001b[0m\u001b[0;34m\u001b[0m\u001b[0;34m\u001b[0m\u001b[0m\n",
            "\u001b[0;32m/usr/local/lib/python3.10/dist-packages/pandas/core/apply.py\u001b[0m in \u001b[0;36mapply_standard\u001b[0;34m(self)\u001b[0m\n\u001b[1;32m    796\u001b[0m \u001b[0;34m\u001b[0m\u001b[0m\n\u001b[1;32m    797\u001b[0m     \u001b[0;32mdef\u001b[0m \u001b[0mapply_standard\u001b[0m\u001b[0;34m(\u001b[0m\u001b[0mself\u001b[0m\u001b[0;34m)\u001b[0m\u001b[0;34m:\u001b[0m\u001b[0;34m\u001b[0m\u001b[0;34m\u001b[0m\u001b[0m\n\u001b[0;32m--> 798\u001b[0;31m         \u001b[0mresults\u001b[0m\u001b[0;34m,\u001b[0m \u001b[0mres_index\u001b[0m \u001b[0;34m=\u001b[0m \u001b[0mself\u001b[0m\u001b[0;34m.\u001b[0m\u001b[0mapply_series_generator\u001b[0m\u001b[0;34m(\u001b[0m\u001b[0;34m)\u001b[0m\u001b[0;34m\u001b[0m\u001b[0;34m\u001b[0m\u001b[0m\n\u001b[0m\u001b[1;32m    799\u001b[0m \u001b[0;34m\u001b[0m\u001b[0m\n\u001b[1;32m    800\u001b[0m         \u001b[0;31m# wrap results\u001b[0m\u001b[0;34m\u001b[0m\u001b[0;34m\u001b[0m\u001b[0m\n",
            "\u001b[0;32m/usr/local/lib/python3.10/dist-packages/pandas/core/apply.py\u001b[0m in \u001b[0;36mapply_series_generator\u001b[0;34m(self)\u001b[0m\n\u001b[1;32m    812\u001b[0m             \u001b[0;32mfor\u001b[0m \u001b[0mi\u001b[0m\u001b[0;34m,\u001b[0m \u001b[0mv\u001b[0m \u001b[0;32min\u001b[0m \u001b[0menumerate\u001b[0m\u001b[0;34m(\u001b[0m\u001b[0mseries_gen\u001b[0m\u001b[0;34m)\u001b[0m\u001b[0;34m:\u001b[0m\u001b[0;34m\u001b[0m\u001b[0;34m\u001b[0m\u001b[0m\n\u001b[1;32m    813\u001b[0m                 \u001b[0;31m# ignore SettingWithCopy here in case the user mutates\u001b[0m\u001b[0;34m\u001b[0m\u001b[0;34m\u001b[0m\u001b[0m\n\u001b[0;32m--> 814\u001b[0;31m                 \u001b[0mresults\u001b[0m\u001b[0;34m[\u001b[0m\u001b[0mi\u001b[0m\u001b[0;34m]\u001b[0m \u001b[0;34m=\u001b[0m \u001b[0mself\u001b[0m\u001b[0;34m.\u001b[0m\u001b[0mf\u001b[0m\u001b[0;34m(\u001b[0m\u001b[0mv\u001b[0m\u001b[0;34m)\u001b[0m\u001b[0;34m\u001b[0m\u001b[0;34m\u001b[0m\u001b[0m\n\u001b[0m\u001b[1;32m    815\u001b[0m                 \u001b[0;32mif\u001b[0m \u001b[0misinstance\u001b[0m\u001b[0;34m(\u001b[0m\u001b[0mresults\u001b[0m\u001b[0;34m[\u001b[0m\u001b[0mi\u001b[0m\u001b[0;34m]\u001b[0m\u001b[0;34m,\u001b[0m \u001b[0mABCSeries\u001b[0m\u001b[0;34m)\u001b[0m\u001b[0;34m:\u001b[0m\u001b[0;34m\u001b[0m\u001b[0;34m\u001b[0m\u001b[0m\n\u001b[1;32m    816\u001b[0m                     \u001b[0;31m# If we have a view on v, we need to make a copy because\u001b[0m\u001b[0;34m\u001b[0m\u001b[0;34m\u001b[0m\u001b[0m\n",
            "\u001b[0;32m<ipython-input-26-2ffbb4ea8d5c>\u001b[0m in \u001b[0;36m<lambda>\u001b[0;34m(row)\u001b[0m\n\u001b[0;32m----> 1\u001b[0;31m \u001b[0mdf\u001b[0m\u001b[0;34m[\u001b[0m\u001b[0;34m'clean_data'\u001b[0m\u001b[0;34m]\u001b[0m \u001b[0;34m=\u001b[0m \u001b[0mdf\u001b[0m\u001b[0;34m.\u001b[0m\u001b[0mapply\u001b[0m\u001b[0;34m(\u001b[0m\u001b[0;32mlambda\u001b[0m \u001b[0mrow\u001b[0m\u001b[0;34m:\u001b[0m \u001b[0mpreprocessing_data\u001b[0m\u001b[0;34m(\u001b[0m\u001b[0mrow\u001b[0m\u001b[0;34m[\u001b[0m\u001b[0;34m'job_description'\u001b[0m\u001b[0;34m]\u001b[0m\u001b[0;34m,\u001b[0m \u001b[0mrow\u001b[0m\u001b[0;34m.\u001b[0m\u001b[0mname\u001b[0m\u001b[0;34m)\u001b[0m\u001b[0;34m,\u001b[0m \u001b[0maxis\u001b[0m\u001b[0;34m=\u001b[0m\u001b[0;36m1\u001b[0m\u001b[0;34m)\u001b[0m\u001b[0;34m\u001b[0m\u001b[0;34m\u001b[0m\u001b[0m\n\u001b[0m",
            "\u001b[0;32m<ipython-input-24-6b72e87da2b0>\u001b[0m in \u001b[0;36mpreprocessing_data\u001b[0;34m(text, idx)\u001b[0m\n\u001b[1;32m     50\u001b[0m     \u001b[0;31m# Pisah kata yang gabung\u001b[0m\u001b[0;34m\u001b[0m\u001b[0;34m\u001b[0m\u001b[0m\n\u001b[1;32m     51\u001b[0m     \u001b[0;31m# ada error\u001b[0m\u001b[0;34m\u001b[0m\u001b[0;34m\u001b[0m\u001b[0m\n\u001b[0;32m---> 52\u001b[0;31m     \u001b[0msegmented_text\u001b[0m \u001b[0;34m=\u001b[0m \u001b[0msegment\u001b[0m\u001b[0;34m(\u001b[0m\u001b[0mtext\u001b[0m\u001b[0;34m)\u001b[0m\u001b[0;34m\u001b[0m\u001b[0;34m\u001b[0m\u001b[0m\n\u001b[0m\u001b[1;32m     53\u001b[0m     \u001b[0mtext\u001b[0m \u001b[0;34m=\u001b[0m \u001b[0;34m' '\u001b[0m\u001b[0;34m.\u001b[0m\u001b[0mjoin\u001b[0m\u001b[0;34m(\u001b[0m\u001b[0msegmented_text\u001b[0m\u001b[0;34m)\u001b[0m\u001b[0;34m\u001b[0m\u001b[0;34m\u001b[0m\u001b[0m\n\u001b[1;32m     54\u001b[0m \u001b[0;34m\u001b[0m\u001b[0m\n",
            "\u001b[0;32m/usr/local/lib/python3.10/dist-packages/wordsegment/__init__.py\u001b[0m in \u001b[0;36msegment\u001b[0;34m(self, text)\u001b[0m\n\u001b[1;32m    165\u001b[0m     \u001b[0;32mdef\u001b[0m \u001b[0msegment\u001b[0m\u001b[0;34m(\u001b[0m\u001b[0mself\u001b[0m\u001b[0;34m,\u001b[0m \u001b[0mtext\u001b[0m\u001b[0;34m)\u001b[0m\u001b[0;34m:\u001b[0m\u001b[0;34m\u001b[0m\u001b[0;34m\u001b[0m\u001b[0m\n\u001b[1;32m    166\u001b[0m         \u001b[0;34m\"Return list of words that is the best segmenation of `text`.\"\u001b[0m\u001b[0;34m\u001b[0m\u001b[0;34m\u001b[0m\u001b[0m\n\u001b[0;32m--> 167\u001b[0;31m         \u001b[0;32mreturn\u001b[0m \u001b[0mlist\u001b[0m\u001b[0;34m(\u001b[0m\u001b[0mself\u001b[0m\u001b[0;34m.\u001b[0m\u001b[0misegment\u001b[0m\u001b[0;34m(\u001b[0m\u001b[0mtext\u001b[0m\u001b[0;34m)\u001b[0m\u001b[0;34m)\u001b[0m\u001b[0;34m\u001b[0m\u001b[0;34m\u001b[0m\u001b[0m\n\u001b[0m\u001b[1;32m    168\u001b[0m \u001b[0;34m\u001b[0m\u001b[0m\n\u001b[1;32m    169\u001b[0m \u001b[0;34m\u001b[0m\u001b[0m\n",
            "\u001b[0;32m/usr/local/lib/python3.10/dist-packages/wordsegment/__init__.py\u001b[0m in \u001b[0;36misegment\u001b[0;34m(self, text)\u001b[0m\n\u001b[1;32m    151\u001b[0m         \u001b[0;32mfor\u001b[0m \u001b[0moffset\u001b[0m \u001b[0;32min\u001b[0m \u001b[0mrange\u001b[0m\u001b[0;34m(\u001b[0m\u001b[0;36m0\u001b[0m\u001b[0;34m,\u001b[0m \u001b[0mlen\u001b[0m\u001b[0;34m(\u001b[0m\u001b[0mclean_text\u001b[0m\u001b[0;34m)\u001b[0m\u001b[0;34m,\u001b[0m \u001b[0msize\u001b[0m\u001b[0;34m)\u001b[0m\u001b[0;34m:\u001b[0m\u001b[0;34m\u001b[0m\u001b[0;34m\u001b[0m\u001b[0m\n\u001b[1;32m    152\u001b[0m             \u001b[0mchunk\u001b[0m \u001b[0;34m=\u001b[0m \u001b[0mclean_text\u001b[0m\u001b[0;34m[\u001b[0m\u001b[0moffset\u001b[0m\u001b[0;34m:\u001b[0m\u001b[0;34m(\u001b[0m\u001b[0moffset\u001b[0m \u001b[0;34m+\u001b[0m \u001b[0msize\u001b[0m\u001b[0;34m)\u001b[0m\u001b[0;34m]\u001b[0m\u001b[0;34m\u001b[0m\u001b[0;34m\u001b[0m\u001b[0m\n\u001b[0;32m--> 153\u001b[0;31m             \u001b[0m_\u001b[0m\u001b[0;34m,\u001b[0m \u001b[0mchunk_words\u001b[0m \u001b[0;34m=\u001b[0m \u001b[0msearch\u001b[0m\u001b[0;34m(\u001b[0m\u001b[0mprefix\u001b[0m \u001b[0;34m+\u001b[0m \u001b[0mchunk\u001b[0m\u001b[0;34m)\u001b[0m\u001b[0;34m\u001b[0m\u001b[0;34m\u001b[0m\u001b[0m\n\u001b[0m\u001b[1;32m    154\u001b[0m             \u001b[0mprefix\u001b[0m \u001b[0;34m=\u001b[0m \u001b[0;34m''\u001b[0m\u001b[0;34m.\u001b[0m\u001b[0mjoin\u001b[0m\u001b[0;34m(\u001b[0m\u001b[0mchunk_words\u001b[0m\u001b[0;34m[\u001b[0m\u001b[0;34m-\u001b[0m\u001b[0;36m5\u001b[0m\u001b[0;34m:\u001b[0m\u001b[0;34m]\u001b[0m\u001b[0;34m)\u001b[0m\u001b[0;34m\u001b[0m\u001b[0;34m\u001b[0m\u001b[0m\n\u001b[1;32m    155\u001b[0m             \u001b[0;32mdel\u001b[0m \u001b[0mchunk_words\u001b[0m\u001b[0;34m[\u001b[0m\u001b[0;34m-\u001b[0m\u001b[0;36m5\u001b[0m\u001b[0;34m:\u001b[0m\u001b[0;34m]\u001b[0m\u001b[0;34m\u001b[0m\u001b[0;34m\u001b[0m\u001b[0m\n",
            "\u001b[0;32m/usr/local/lib/python3.10/dist-packages/wordsegment/__init__.py\u001b[0m in \u001b[0;36msearch\u001b[0;34m(text, previous)\u001b[0m\n\u001b[1;32m    138\u001b[0m                     \u001b[0;32myield\u001b[0m \u001b[0;34m(\u001b[0m\u001b[0mprefix_score\u001b[0m \u001b[0;34m+\u001b[0m \u001b[0msuffix_score\u001b[0m\u001b[0;34m,\u001b[0m \u001b[0;34m[\u001b[0m\u001b[0mprefix\u001b[0m\u001b[0;34m]\u001b[0m \u001b[0;34m+\u001b[0m \u001b[0msuffix_words\u001b[0m\u001b[0;34m)\u001b[0m\u001b[0;34m\u001b[0m\u001b[0;34m\u001b[0m\u001b[0m\n\u001b[1;32m    139\u001b[0m \u001b[0;34m\u001b[0m\u001b[0m\n\u001b[0;32m--> 140\u001b[0;31m             \u001b[0;32mreturn\u001b[0m \u001b[0mmax\u001b[0m\u001b[0;34m(\u001b[0m\u001b[0mcandidates\u001b[0m\u001b[0;34m(\u001b[0m\u001b[0;34m)\u001b[0m\u001b[0;34m)\u001b[0m\u001b[0;34m\u001b[0m\u001b[0;34m\u001b[0m\u001b[0m\n\u001b[0m\u001b[1;32m    141\u001b[0m \u001b[0;34m\u001b[0m\u001b[0m\n\u001b[1;32m    142\u001b[0m         \u001b[0;31m# Avoid recursion limit issues by dividing text into chunks, segmenting\u001b[0m\u001b[0;34m\u001b[0m\u001b[0;34m\u001b[0m\u001b[0m\n",
            "\u001b[0;32m/usr/local/lib/python3.10/dist-packages/wordsegment/__init__.py\u001b[0m in \u001b[0;36mcandidates\u001b[0;34m()\u001b[0m\n\u001b[1;32m    133\u001b[0m                     \u001b[0mpair\u001b[0m \u001b[0;34m=\u001b[0m \u001b[0;34m(\u001b[0m\u001b[0msuffix\u001b[0m\u001b[0;34m,\u001b[0m \u001b[0mprefix\u001b[0m\u001b[0;34m)\u001b[0m\u001b[0;34m\u001b[0m\u001b[0;34m\u001b[0m\u001b[0m\n\u001b[1;32m    134\u001b[0m                     \u001b[0;32mif\u001b[0m \u001b[0mpair\u001b[0m \u001b[0;32mnot\u001b[0m \u001b[0;32min\u001b[0m \u001b[0mmemo\u001b[0m\u001b[0;34m:\u001b[0m\u001b[0;34m\u001b[0m\u001b[0;34m\u001b[0m\u001b[0m\n\u001b[0;32m--> 135\u001b[0;31m                         \u001b[0mmemo\u001b[0m\u001b[0;34m[\u001b[0m\u001b[0mpair\u001b[0m\u001b[0;34m]\u001b[0m \u001b[0;34m=\u001b[0m \u001b[0msearch\u001b[0m\u001b[0;34m(\u001b[0m\u001b[0msuffix\u001b[0m\u001b[0;34m,\u001b[0m \u001b[0mprefix\u001b[0m\u001b[0;34m)\u001b[0m\u001b[0;34m\u001b[0m\u001b[0;34m\u001b[0m\u001b[0m\n\u001b[0m\u001b[1;32m    136\u001b[0m                     \u001b[0msuffix_score\u001b[0m\u001b[0;34m,\u001b[0m \u001b[0msuffix_words\u001b[0m \u001b[0;34m=\u001b[0m \u001b[0mmemo\u001b[0m\u001b[0;34m[\u001b[0m\u001b[0mpair\u001b[0m\u001b[0;34m]\u001b[0m\u001b[0;34m\u001b[0m\u001b[0;34m\u001b[0m\u001b[0m\n\u001b[1;32m    137\u001b[0m \u001b[0;34m\u001b[0m\u001b[0m\n",
            "... last 2 frames repeated, from the frame below ...\n",
            "\u001b[0;32m/usr/local/lib/python3.10/dist-packages/wordsegment/__init__.py\u001b[0m in \u001b[0;36msearch\u001b[0;34m(text, previous)\u001b[0m\n\u001b[1;32m    138\u001b[0m                     \u001b[0;32myield\u001b[0m \u001b[0;34m(\u001b[0m\u001b[0mprefix_score\u001b[0m \u001b[0;34m+\u001b[0m \u001b[0msuffix_score\u001b[0m\u001b[0;34m,\u001b[0m \u001b[0;34m[\u001b[0m\u001b[0mprefix\u001b[0m\u001b[0;34m]\u001b[0m \u001b[0;34m+\u001b[0m \u001b[0msuffix_words\u001b[0m\u001b[0;34m)\u001b[0m\u001b[0;34m\u001b[0m\u001b[0;34m\u001b[0m\u001b[0m\n\u001b[1;32m    139\u001b[0m \u001b[0;34m\u001b[0m\u001b[0m\n\u001b[0;32m--> 140\u001b[0;31m             \u001b[0;32mreturn\u001b[0m \u001b[0mmax\u001b[0m\u001b[0;34m(\u001b[0m\u001b[0mcandidates\u001b[0m\u001b[0;34m(\u001b[0m\u001b[0;34m)\u001b[0m\u001b[0;34m)\u001b[0m\u001b[0;34m\u001b[0m\u001b[0;34m\u001b[0m\u001b[0m\n\u001b[0m\u001b[1;32m    141\u001b[0m \u001b[0;34m\u001b[0m\u001b[0m\n\u001b[1;32m    142\u001b[0m         \u001b[0;31m# Avoid recursion limit issues by dividing text into chunks, segmenting\u001b[0m\u001b[0;34m\u001b[0m\u001b[0;34m\u001b[0m\u001b[0m\n",
            "\u001b[0;31mRecursionError\u001b[0m: maximum recursion depth exceeded while calling a Python object"
          ]
        }
      ]
    },
    {
      "cell_type": "markdown",
      "source": [
        "# IT Job Posts Descriptions"
      ],
      "metadata": {
        "id": "EBj0PXe0Uihu"
      }
    },
    {
      "cell_type": "code",
      "source": [
        "df = pd.read_csv('/content/drive/MyDrive/Dataset/JobsDataset.csv')\n",
        "df.head()"
      ],
      "metadata": {
        "colab": {
          "base_uri": "https://localhost:8080/",
          "height": 206
        },
        "id": "AvJcIT0MUlM9",
        "outputId": "69214f61-2907-48e0-f419-1b04a8a173de"
      },
      "execution_count": null,
      "outputs": [
        {
          "output_type": "execute_result",
          "data": {
            "text/plain": [
              "   ID           Query                             Job Title  \\\n",
              "0   1  Data Scientist  Junior Data Scientist Apprenticeship   \n",
              "1   2  Data Scientist   HBO Data Scientist, Content Science   \n",
              "2   3  Data Scientist                 Junior Data Scientist   \n",
              "3   4  Data Scientist                     Jr Data Scientist   \n",
              "4   5  Data Scientist       Data Scientist, Premium Content   \n",
              "\n",
              "                                         Description  \n",
              "0  Job Description As a Junior Data Scientist at ...  \n",
              "1  OVERALL SUMMARY As a Data Scientist on the Dat...  \n",
              "2  The Team: The Data science team is a newly for...  \n",
              "3  We now have a need for junior Data Scientist(s...  \n",
              "4  Do you want to help guide the core business of...  "
            ],
            "text/html": [
              "\n",
              "  <div id=\"df-4d2bde0d-d775-463e-8b30-d86e5fad4011\" class=\"colab-df-container\">\n",
              "    <div>\n",
              "<style scoped>\n",
              "    .dataframe tbody tr th:only-of-type {\n",
              "        vertical-align: middle;\n",
              "    }\n",
              "\n",
              "    .dataframe tbody tr th {\n",
              "        vertical-align: top;\n",
              "    }\n",
              "\n",
              "    .dataframe thead th {\n",
              "        text-align: right;\n",
              "    }\n",
              "</style>\n",
              "<table border=\"1\" class=\"dataframe\">\n",
              "  <thead>\n",
              "    <tr style=\"text-align: right;\">\n",
              "      <th></th>\n",
              "      <th>ID</th>\n",
              "      <th>Query</th>\n",
              "      <th>Job Title</th>\n",
              "      <th>Description</th>\n",
              "    </tr>\n",
              "  </thead>\n",
              "  <tbody>\n",
              "    <tr>\n",
              "      <th>0</th>\n",
              "      <td>1</td>\n",
              "      <td>Data Scientist</td>\n",
              "      <td>Junior Data Scientist Apprenticeship</td>\n",
              "      <td>Job Description As a Junior Data Scientist at ...</td>\n",
              "    </tr>\n",
              "    <tr>\n",
              "      <th>1</th>\n",
              "      <td>2</td>\n",
              "      <td>Data Scientist</td>\n",
              "      <td>HBO Data Scientist, Content Science</td>\n",
              "      <td>OVERALL SUMMARY As a Data Scientist on the Dat...</td>\n",
              "    </tr>\n",
              "    <tr>\n",
              "      <th>2</th>\n",
              "      <td>3</td>\n",
              "      <td>Data Scientist</td>\n",
              "      <td>Junior Data Scientist</td>\n",
              "      <td>The Team: The Data science team is a newly for...</td>\n",
              "    </tr>\n",
              "    <tr>\n",
              "      <th>3</th>\n",
              "      <td>4</td>\n",
              "      <td>Data Scientist</td>\n",
              "      <td>Jr Data Scientist</td>\n",
              "      <td>We now have a need for junior Data Scientist(s...</td>\n",
              "    </tr>\n",
              "    <tr>\n",
              "      <th>4</th>\n",
              "      <td>5</td>\n",
              "      <td>Data Scientist</td>\n",
              "      <td>Data Scientist, Premium Content</td>\n",
              "      <td>Do you want to help guide the core business of...</td>\n",
              "    </tr>\n",
              "  </tbody>\n",
              "</table>\n",
              "</div>\n",
              "    <div class=\"colab-df-buttons\">\n",
              "\n",
              "  <div class=\"colab-df-container\">\n",
              "    <button class=\"colab-df-convert\" onclick=\"convertToInteractive('df-4d2bde0d-d775-463e-8b30-d86e5fad4011')\"\n",
              "            title=\"Convert this dataframe to an interactive table.\"\n",
              "            style=\"display:none;\">\n",
              "\n",
              "  <svg xmlns=\"http://www.w3.org/2000/svg\" height=\"24px\" viewBox=\"0 -960 960 960\">\n",
              "    <path d=\"M120-120v-720h720v720H120Zm60-500h600v-160H180v160Zm220 220h160v-160H400v160Zm0 220h160v-160H400v160ZM180-400h160v-160H180v160Zm440 0h160v-160H620v160ZM180-180h160v-160H180v160Zm440 0h160v-160H620v160Z\"/>\n",
              "  </svg>\n",
              "    </button>\n",
              "\n",
              "  <style>\n",
              "    .colab-df-container {\n",
              "      display:flex;\n",
              "      gap: 12px;\n",
              "    }\n",
              "\n",
              "    .colab-df-convert {\n",
              "      background-color: #E8F0FE;\n",
              "      border: none;\n",
              "      border-radius: 50%;\n",
              "      cursor: pointer;\n",
              "      display: none;\n",
              "      fill: #1967D2;\n",
              "      height: 32px;\n",
              "      padding: 0 0 0 0;\n",
              "      width: 32px;\n",
              "    }\n",
              "\n",
              "    .colab-df-convert:hover {\n",
              "      background-color: #E2EBFA;\n",
              "      box-shadow: 0px 1px 2px rgba(60, 64, 67, 0.3), 0px 1px 3px 1px rgba(60, 64, 67, 0.15);\n",
              "      fill: #174EA6;\n",
              "    }\n",
              "\n",
              "    .colab-df-buttons div {\n",
              "      margin-bottom: 4px;\n",
              "    }\n",
              "\n",
              "    [theme=dark] .colab-df-convert {\n",
              "      background-color: #3B4455;\n",
              "      fill: #D2E3FC;\n",
              "    }\n",
              "\n",
              "    [theme=dark] .colab-df-convert:hover {\n",
              "      background-color: #434B5C;\n",
              "      box-shadow: 0px 1px 3px 1px rgba(0, 0, 0, 0.15);\n",
              "      filter: drop-shadow(0px 1px 2px rgba(0, 0, 0, 0.3));\n",
              "      fill: #FFFFFF;\n",
              "    }\n",
              "  </style>\n",
              "\n",
              "    <script>\n",
              "      const buttonEl =\n",
              "        document.querySelector('#df-4d2bde0d-d775-463e-8b30-d86e5fad4011 button.colab-df-convert');\n",
              "      buttonEl.style.display =\n",
              "        google.colab.kernel.accessAllowed ? 'block' : 'none';\n",
              "\n",
              "      async function convertToInteractive(key) {\n",
              "        const element = document.querySelector('#df-4d2bde0d-d775-463e-8b30-d86e5fad4011');\n",
              "        const dataTable =\n",
              "          await google.colab.kernel.invokeFunction('convertToInteractive',\n",
              "                                                    [key], {});\n",
              "        if (!dataTable) return;\n",
              "\n",
              "        const docLinkHtml = 'Like what you see? Visit the ' +\n",
              "          '<a target=\"_blank\" href=https://colab.research.google.com/notebooks/data_table.ipynb>data table notebook</a>'\n",
              "          + ' to learn more about interactive tables.';\n",
              "        element.innerHTML = '';\n",
              "        dataTable['output_type'] = 'display_data';\n",
              "        await google.colab.output.renderOutput(dataTable, element);\n",
              "        const docLink = document.createElement('div');\n",
              "        docLink.innerHTML = docLinkHtml;\n",
              "        element.appendChild(docLink);\n",
              "      }\n",
              "    </script>\n",
              "  </div>\n",
              "\n",
              "\n",
              "<div id=\"df-0cc04a8f-0c87-4917-81e7-a97a09044de4\">\n",
              "  <button class=\"colab-df-quickchart\" onclick=\"quickchart('df-0cc04a8f-0c87-4917-81e7-a97a09044de4')\"\n",
              "            title=\"Suggest charts\"\n",
              "            style=\"display:none;\">\n",
              "\n",
              "<svg xmlns=\"http://www.w3.org/2000/svg\" height=\"24px\"viewBox=\"0 0 24 24\"\n",
              "     width=\"24px\">\n",
              "    <g>\n",
              "        <path d=\"M19 3H5c-1.1 0-2 .9-2 2v14c0 1.1.9 2 2 2h14c1.1 0 2-.9 2-2V5c0-1.1-.9-2-2-2zM9 17H7v-7h2v7zm4 0h-2V7h2v10zm4 0h-2v-4h2v4z\"/>\n",
              "    </g>\n",
              "</svg>\n",
              "  </button>\n",
              "\n",
              "<style>\n",
              "  .colab-df-quickchart {\n",
              "      --bg-color: #E8F0FE;\n",
              "      --fill-color: #1967D2;\n",
              "      --hover-bg-color: #E2EBFA;\n",
              "      --hover-fill-color: #174EA6;\n",
              "      --disabled-fill-color: #AAA;\n",
              "      --disabled-bg-color: #DDD;\n",
              "  }\n",
              "\n",
              "  [theme=dark] .colab-df-quickchart {\n",
              "      --bg-color: #3B4455;\n",
              "      --fill-color: #D2E3FC;\n",
              "      --hover-bg-color: #434B5C;\n",
              "      --hover-fill-color: #FFFFFF;\n",
              "      --disabled-bg-color: #3B4455;\n",
              "      --disabled-fill-color: #666;\n",
              "  }\n",
              "\n",
              "  .colab-df-quickchart {\n",
              "    background-color: var(--bg-color);\n",
              "    border: none;\n",
              "    border-radius: 50%;\n",
              "    cursor: pointer;\n",
              "    display: none;\n",
              "    fill: var(--fill-color);\n",
              "    height: 32px;\n",
              "    padding: 0;\n",
              "    width: 32px;\n",
              "  }\n",
              "\n",
              "  .colab-df-quickchart:hover {\n",
              "    background-color: var(--hover-bg-color);\n",
              "    box-shadow: 0 1px 2px rgba(60, 64, 67, 0.3), 0 1px 3px 1px rgba(60, 64, 67, 0.15);\n",
              "    fill: var(--button-hover-fill-color);\n",
              "  }\n",
              "\n",
              "  .colab-df-quickchart-complete:disabled,\n",
              "  .colab-df-quickchart-complete:disabled:hover {\n",
              "    background-color: var(--disabled-bg-color);\n",
              "    fill: var(--disabled-fill-color);\n",
              "    box-shadow: none;\n",
              "  }\n",
              "\n",
              "  .colab-df-spinner {\n",
              "    border: 2px solid var(--fill-color);\n",
              "    border-color: transparent;\n",
              "    border-bottom-color: var(--fill-color);\n",
              "    animation:\n",
              "      spin 1s steps(1) infinite;\n",
              "  }\n",
              "\n",
              "  @keyframes spin {\n",
              "    0% {\n",
              "      border-color: transparent;\n",
              "      border-bottom-color: var(--fill-color);\n",
              "      border-left-color: var(--fill-color);\n",
              "    }\n",
              "    20% {\n",
              "      border-color: transparent;\n",
              "      border-left-color: var(--fill-color);\n",
              "      border-top-color: var(--fill-color);\n",
              "    }\n",
              "    30% {\n",
              "      border-color: transparent;\n",
              "      border-left-color: var(--fill-color);\n",
              "      border-top-color: var(--fill-color);\n",
              "      border-right-color: var(--fill-color);\n",
              "    }\n",
              "    40% {\n",
              "      border-color: transparent;\n",
              "      border-right-color: var(--fill-color);\n",
              "      border-top-color: var(--fill-color);\n",
              "    }\n",
              "    60% {\n",
              "      border-color: transparent;\n",
              "      border-right-color: var(--fill-color);\n",
              "    }\n",
              "    80% {\n",
              "      border-color: transparent;\n",
              "      border-right-color: var(--fill-color);\n",
              "      border-bottom-color: var(--fill-color);\n",
              "    }\n",
              "    90% {\n",
              "      border-color: transparent;\n",
              "      border-bottom-color: var(--fill-color);\n",
              "    }\n",
              "  }\n",
              "</style>\n",
              "\n",
              "  <script>\n",
              "    async function quickchart(key) {\n",
              "      const quickchartButtonEl =\n",
              "        document.querySelector('#' + key + ' button');\n",
              "      quickchartButtonEl.disabled = true;  // To prevent multiple clicks.\n",
              "      quickchartButtonEl.classList.add('colab-df-spinner');\n",
              "      try {\n",
              "        const charts = await google.colab.kernel.invokeFunction(\n",
              "            'suggestCharts', [key], {});\n",
              "      } catch (error) {\n",
              "        console.error('Error during call to suggestCharts:', error);\n",
              "      }\n",
              "      quickchartButtonEl.classList.remove('colab-df-spinner');\n",
              "      quickchartButtonEl.classList.add('colab-df-quickchart-complete');\n",
              "    }\n",
              "    (() => {\n",
              "      let quickchartButtonEl =\n",
              "        document.querySelector('#df-0cc04a8f-0c87-4917-81e7-a97a09044de4 button');\n",
              "      quickchartButtonEl.style.display =\n",
              "        google.colab.kernel.accessAllowed ? 'block' : 'none';\n",
              "    })();\n",
              "  </script>\n",
              "</div>\n",
              "\n",
              "    </div>\n",
              "  </div>\n"
            ],
            "application/vnd.google.colaboratory.intrinsic+json": {
              "type": "dataframe",
              "variable_name": "df",
              "summary": "{\n  \"name\": \"df\",\n  \"rows\": 10000,\n  \"fields\": [\n    {\n      \"column\": \"ID\",\n      \"properties\": {\n        \"dtype\": \"number\",\n        \"std\": 2886,\n        \"min\": 1,\n        \"max\": 10000,\n        \"num_unique_values\": 10000,\n        \"samples\": [\n          6253,\n          4685,\n          1732\n        ],\n        \"semantic_type\": \"\",\n        \"description\": \"\"\n      }\n    },\n    {\n      \"column\": \"Query\",\n      \"properties\": {\n        \"dtype\": \"category\",\n        \"num_unique_values\": 25,\n        \"samples\": [\n          \"Machine Learning\",\n          \"Technology Integration\",\n          \"Data Scientist\"\n        ],\n        \"semantic_type\": \"\",\n        \"description\": \"\"\n      }\n    },\n    {\n      \"column\": \"Job Title\",\n      \"properties\": {\n        \"dtype\": \"string\",\n        \"num_unique_values\": 7615,\n        \"samples\": [\n          \"Court Clerk II SR\",\n          \"Full Stack Developer\\u221e\",\n          \"Business Analyst 1 or 2\"\n        ],\n        \"semantic_type\": \"\",\n        \"description\": \"\"\n      }\n    },\n    {\n      \"column\": \"Description\",\n      \"properties\": {\n        \"dtype\": \"string\",\n        \"num_unique_values\": 9377,\n        \"samples\": [\n          \"The Database Administrator is a member of RSM\\u2019s technical services group and is responsible for the operational support of Microsoft SQL Database platform. The database administrator will work closely with Senior DBA, IT management and other functional groups to deploy, administer and provide level three support for the company\\u2019s enterprise database systems. He/she must have excellent written and oral communication skills and be able to work, collaborate and coordinate between technical and non-technical people within the company. Essential Duties: Provide troubleshooting support for Microsoft SQL servers. Monitor and manage server health, functionality and availability related to database servers. Install, configure, secure and maintain technical Dev, QA and Production environments. Configure and Integrate 3rd party applications and add-ons. Regular review of event logs and performance monitors through the creation of alerts. Participates in disaster recovery practices. Provides direct support of Microsoft SQL servers, databases and related enterprise applications. Supports internal development, functional technology and project teams on a recurring basis. Monitors and optimizes system performance based on Microsoft best practices. Implements upgrades, enhancements and fixes following established change management procedures. Works with Microsoft Support and other 3rd party vendors in resolution of support issues on as-needed basis. Adheres to technical standards, procedures and techniques for the resolution of enterprise database problems to ensure maximum application availability and performance. Collaborates with other IT technical engineers, developers and Program Management personnel. Participates in scheduled and unscheduled weekend/after-hours system maintenance and support. Performs rotational on-call duty. Other duties as assigned. Education: Post-Secondary degree in Computer Science, Software Engineering, Information Systems or equivalent work history/experience (Required) Experience: Minimum of 3 years of Information Services/Technology experience (Required) Minimum of 1 Year Database Administrator experience with Microsoft SQL or similar relational database (Required) MS SQL Certifications (Preferred) Project Team Involvement (Preferred) Technical Skills: Microsoft Windows Server (Required) Microsoft SQL Server - basic operations to include backup and recovery (Required) Microsoft SQL Server Reporting Services knowledge (Preferred) Microsoft SQL Server Integration Services experience(Preferred) Microsoft PowerShell experience (Preferred) IT Development (.NET, C) experience (Preferred) You want your next step to be the right one. You've worked hard to get where you are today. And now you're ready to use your unique skills, talents and personality to achieve great things. RSM is a place where you are valued as an individual, mentored as a future leader, and recognized for your accomplishments and potential. Working directly with clients, key decision makers and business owners across various industries and geographies, you'll move quickly along the learning curve and our clients will benefit from your fresh perspective. Experience RSM US. Experience the power of being understood. RSM is an equal opportunity/affirmative action employer. Minorities/Females/Disabled/Veterans.\",\n          \"Comcast brings together the best in media and technology. We drive innovation to create the world's best entertainment and online experiences. As a Fortune 50 leader, we set the pace in a variety of innovative and fascinating businesses and create career opportunities across a wide range of locations and disciplines. We are at the forefront of change and move at an amazing pace, thanks to our remarkable people, who bring cutting-edge products and services to life for millions of customers every day. If you share in our passion for teamwork, our vision to revolutionize industries and our goal to lead the future in media and technology, we want you to fast-forward your career at Comcast. Summary: The Senior Analyst is responsible for all data management and analysis for Comcast's Employee Volunteerism and Giving programs for Community Impact. The Senior Analyst is also responsible for program coordination and management, ensuring projects and events are delivered in a timely and budget- conscious manner. The Employee Volunteerism and Giving team manages Comcast's volunteer day of service, Comcast Cares Day, as well as the yearly employee giving campaign. Additionally, the team leads the strategy for year-round volunteerism and engagement, including all programmatic, data, reporting and technology aspects.Responsibilities: - Execute reporting and analytics pertaining to Comcast's volunteer day of service, giving campaign and all other year-round volunteerism and engagement initiatives, touching all of Comcast's employee base- Regular employee data cleanup and structure based on geographic, demographic and other business unit segmentation needs- Key point of contact for volunteer project and campaign coordinators and team leaders throughout the company, providing data trends and recommendations specific to their respective business units- Ability to quickly learn the data and table structure and execute regular (daily in some cases) geographic and demographic trackers- Works on analytical projects, including large sets of data with respect to Comcast's employee volunteerism and giving trends.- Ad hoc reporting based on employee volunteerism and giving trends and historical data at the request of the internal department or external business units- Ability to understand and synthesize data trends and insights to be presented to executive leadership- Ensures accurate and consistent employee data management accounting for year over year changes- Program and event coordination and planning, working closely with multiple stakeholders and partners throughout the company as well as with various community organizations.- Coordination with various third party organizations to ensure a high quality volunteer experience during Comcast Cares Day and other year-round volunteering events.- Ad hoc project coordination and management, specifically including Comcast Cares Day planning- Assist with and/or assume responsibility for special projects as assigned- Other duties and responsibilities as assigned- Consistent exercise of independent judgment and discretionMinimum Requirements: - Bachelor's Degree or equivalent required- Minimum 3-5 years related data analysis experience- Experience in corporate finance, business intelligence, Human Resources or operations role with tracking, reporting and analysis experience- Experience or passion for the volunteerism, community impact, and/or corporate social responsibility space- Ability to analyze data and shape and synthesize the story behind that data- Proficient in Microsoft Office software- Advanced Excel skills including but not limited to vlookups, pivot tables, transposing, counifs, etc.- Familiarity with SQL and Tableau data visualization preferred- Familiarity with HR employee systems and databases is a plus- Strong project management and coordination skills, with ideal experience in volunteer project management and employee engagement- Ability to manage multiple volunteer projects at the same time, delivering the project goals on time and within the allocated budget- Ability to interface with all levels of management- Excellent organizational skills and attention to detail- Excellent oral and written communication skills- Regular, consistent and punctual attendance. Must be able to work nights and weekends, variable schedule(s) as necessary. Comcast is an EOE/Veterans/Disabled/LGBT employer\",\n          \"The Sr. Business Analyst is responsible for driving revenue growth through the identification of opportunities and risks. The Sr. Business Analyst will work to understand the business strategy and numerous underlying operational processes so that they can provide analytical reporting that drives sales representative behavior and results in customer retention and product upsells. To be effective in this role, the Sr. Business Analyst will need to partner and coordinate efforts with Sales Management and will work closely with the Customer Intelligence lead in communicating results with others throughout the leadership levels of each business unit. The individual will need to be able to bridge topics in order to effectively communicate with technical resources in several teams. The position will require expertise in enterprise data to support accurate and meaningful analyses. Technical skills will also be heavily leveraged as new datasets are profiled and documented and as data is retrieved and analyzed from the data warehouse. Analytical reporting and statistical analysis will be delivered through Oracle Business Intelligence and Excel. The Sr. Business Analyst is responsible for effectively rolling out Oracle Business Intelligence and in ensuring weekly adoption and usage are at levels established by each respective business unit or user group. On an ongoing basis, the Sr. Business Analyst will need to review usage levels and identify areas where adoption can be improved and analytical reporting that needs to be revised. The Sr. Business Analyst will need to be well connected to their user base (usually more than 100 individuals) and understand their goals so that analytical reporting is provided in the most meaningful context. Responsibilities may include: Collaborate with various groups to develop dashboard reports containing key metrics. Ensure that dashboards are clearly understood, utilized, and integrated into the decisions made by the business units. This will include dedicated rollout of Oracle Business Intelligence and support of several segments of individuals. Performs regular QA (testing/validation) on dashboards Identify data and metrics that help to predict retention issues and upsell opportunities. Proactively identify additional metrics and trends that are helpful in informing business decisions. Research, review, assimilates, and perform data and statistical analysis on data from various sources. Partner with data warehouse and Oracle Business Intelligence teams to implement reporting improvements through managed projects (data and/or technology changes). Collaborate with business clients primarily using 1x1 interviews, facilitate small group sessions and/or larger JAD sessions as appropriate. Use group facilitation techniques to drive consensus. Identify improvements to providing user support. Improvements could be related to data or the technology used to track and manage report requests. Identify opportunities to measure (quantitatively and qualitatively) and report the teams financial impact on the organization. Ensure weekly adoption of OBI is at or above target levels set for each user base. Establish training program(s) to drive adoption and utilization. All other duties as assigned. Qualifications: 5-7 years experience required. BA/BS degree or equivalent experience. Understanding of organizational operating procedures (value chain) Detailed understanding of enterprise data (sources, definitions, keys, etc.). Understanding of LN Risk Solution Product portfolio and various internal operating processes (onboarding, marketing lead creation, order submission, etc.). Proficient skills in report writing and dashboard creation within Oracle Business Intelligence Proficient SQL skills Excellent ability to work independently Excellent User Interface (UI) design experience Exceptional analytical and quantitative skills Outstanding verbal and written communication skills particularly with senior leadership Excellent ability to listen and understand business needs in order to gather reporting requirements and provide relevant reports Strong business acumen; must see big picture from strategy standpoint Strong organizational skills Exception attention to detail Microsoft office suite At LexisNexis Risk Solutions, we believe in the power of data and advanced analytics for better risk management. With over 40 years of expertise, we are the trusted data analytics provider for organizations seeking actionable insights to manage risks and improve results while upholding the highest standards for security and privacy. Headquartered in metro Atlanta, LexisNexis Risk Solutions serves customers in more than 100 countries and is part of RELX Group plc, a world-leading provider of information and analytics for professional and business customers across industries. For more information, please visit www.lexisnexisrisk.com. LexisNexis Risk Solutions is an equal opportunity employer: qualified applicants are considered for and treated during employment without regard to race, color, creed, religion, sex, national origin, citizenship status, disability status, protected veteran status, age, marital status, sexual orientation, gender identity, genetic information, or any other characteristic protected by law. If a qualified individual with a disability or disabled veteran needs a reasonable accommodation to use or access our online system, that individual should please contact 1.877.734.1938 or accommodations@relx.com.\"\n        ],\n        \"semantic_type\": \"\",\n        \"description\": \"\"\n      }\n    }\n  ]\n}"
            }
          },
          "metadata": {},
          "execution_count": 2
        }
      ]
    },
    {
      "cell_type": "code",
      "source": [
        "df.info()"
      ],
      "metadata": {
        "colab": {
          "base_uri": "https://localhost:8080/"
        },
        "id": "NVlJPOWmV8Ns",
        "outputId": "3dabed73-7045-45ff-d053-b3a53a7f9da5"
      },
      "execution_count": null,
      "outputs": [
        {
          "output_type": "stream",
          "name": "stdout",
          "text": [
            "<class 'pandas.core.frame.DataFrame'>\n",
            "RangeIndex: 10000 entries, 0 to 9999\n",
            "Data columns (total 4 columns):\n",
            " #   Column       Non-Null Count  Dtype \n",
            "---  ------       --------------  ----- \n",
            " 0   ID           10000 non-null  int64 \n",
            " 1   Query        10000 non-null  object\n",
            " 2   Job Title    10000 non-null  object\n",
            " 3   Description  10000 non-null  object\n",
            "dtypes: int64(1), object(3)\n",
            "memory usage: 312.6+ KB\n"
          ]
        }
      ]
    },
    {
      "cell_type": "code",
      "source": [
        "duplicate_count = df.duplicated(subset='Description').sum()\n",
        "\n",
        "print(f\"Number of duplicate rows': {duplicate_count}\")"
      ],
      "metadata": {
        "colab": {
          "base_uri": "https://localhost:8080/"
        },
        "id": "ZkN9bplGV_Qk",
        "outputId": "70c14321-2bbf-4117-c489-4b47789af4fc"
      },
      "execution_count": null,
      "outputs": [
        {
          "output_type": "stream",
          "name": "stdout",
          "text": [
            "Number of duplicate rows': 623\n"
          ]
        }
      ]
    },
    {
      "cell_type": "code",
      "source": [
        "unique_count = df['Description'].nunique()\n",
        "print(unique_count)"
      ],
      "metadata": {
        "colab": {
          "base_uri": "https://localhost:8080/"
        },
        "id": "u13XHsv_WH-E",
        "outputId": "7203dfb4-b0d9-42c3-a012-0c4da962130b"
      },
      "execution_count": null,
      "outputs": [
        {
          "output_type": "stream",
          "name": "stdout",
          "text": [
            "9377\n"
          ]
        }
      ]
    },
    {
      "cell_type": "code",
      "source": [
        "df = df.drop_duplicates(subset=['Description'])"
      ],
      "metadata": {
        "id": "K8UpVcGmKDy0"
      },
      "execution_count": null,
      "outputs": []
    },
    {
      "cell_type": "code",
      "source": [
        "df['Description'][2]"
      ],
      "metadata": {
        "colab": {
          "base_uri": "https://localhost:8080/",
          "height": 140
        },
        "id": "XR8_-2Z2KaEp",
        "outputId": "11b93cde-f81d-4bee-d771-070e1bb85af6"
      },
      "execution_count": null,
      "outputs": [
        {
          "output_type": "execute_result",
          "data": {
            "text/plain": [
              "'The Team: The Data science team is a newly formed applied research team within S&P; Global Ratings that will be responsible for building and executing a bold vision around using Machine Learning, Natural Language Processing, Data Science, knowledge engineering, and human computer interfaces for augmenting various business processes. The Impact: This role will have a significant impact on the success of our data science projects ranging from choosing which projects should be undertaken, to delivering highest quality solution, ultimately enabling our business processes and products with AI and Data Science solutions. What’s in it for you: This is a high visibility team with an opportunity to make a very meaningful impact on the future direction of the company. You will work with senior leaders in the organization to help define, build, and transform our business. You will work closely with other senior scientists to create state of the art Augmented Intelligence, Data Science and Machine Learning solutions. Responsibilities: As a Junior Data Scientist you will be responsible for building AI and Data Science models. You will need to rapidly prototype various algorithmic implementations and test their efficacy using appropriate experimental design and hypothesis validation. Basic Qualifications: BS in Computer Science, Computational Linguistics, Artificial Intelligence, Statistics, or related field. Preferred Qualifications: Experience with Financial data sets, or S&P;’s credit ratings process is highly preferred. Knowledge and working experience in one or more of the following areas: Natural Language Processing, Machine Learning, Question Answering, Text Mining, Information Retrieval, Distributional Semantics, Data Science, Knowledge Engineering To all recruitment agencies: S&P; Global does not accept unsolicited agency resumes. Please do not forward such resumes to any S&P; Global employee, office location or website. S&P; Global will not be responsible for any fees related to such resumes. S&P; Global is an equal opportunity employer committed to making all employment decisions without regard to race/ethnicity, gender, pregnancy, gender identity or expression, color, creed, religion, national origin, age, disability, marital status (including domestic partnerships and civil unions), sexual orientation, military veteran status, unemployment status, or any other basis prohibited by federal, state or local law. Only electronic job submissions will be considered for employment. If you need an accommodation during the application process due to a disability, please send an email to: EEO.Compliance@spglobal.com and your request will be forwarded to the appropriate person. The EEO is the Law Poster http://www.dol.gov/ofccp/regs/compliance/posters/pdf/eeopost.pdfdescribes discrimination protections under federal law.'"
            ],
            "application/vnd.google.colaboratory.intrinsic+json": {
              "type": "string"
            }
          },
          "metadata": {},
          "execution_count": 7
        }
      ]
    },
    {
      "cell_type": "markdown",
      "source": [
        "Note: Check data ke 1 (bentuknya deskripsi)"
      ],
      "metadata": {
        "id": "e2_JnVwlT9Zc"
      }
    },
    {
      "cell_type": "code",
      "source": [
        "def preprocessing_data(text):\n",
        "  text = text.lower()\n",
        "  text = text.replace('\\n', ' ')\n",
        "  text = re.sub(r'http\\S+|www\\S+|https\\S+', '', text, flags=re.MULTILINE)\n",
        "  text = re.sub(r'[^a-zA-Z\\s]', '', text)\n",
        "\n",
        "  stop_words = set(stopwords.words('english'))\n",
        "  tokens = word_tokenize(text)\n",
        "  tokens = [word for word in tokens if word not in stop_words]\n",
        "\n",
        "  lemmatizer = WordNetLemmatizer()\n",
        "  tokens = [lemmatizer.lemmatize(word) for word in tokens]\n",
        "\n",
        "  preprocessed_text = ' '.join(tokens)\n",
        "\n",
        "  return preprocessed_text"
      ],
      "metadata": {
        "id": "e7O_0vnSRYRB"
      },
      "execution_count": null,
      "outputs": []
    },
    {
      "cell_type": "code",
      "source": [
        "# text = 'The Team: The Data science team is a newly formed applied research team within S&P; Global Ratings that will be responsible for building and executing a bold vision around using Machine Learning, Natural Language Processing, Data Science, knowledge engineering, and human computer interfaces for augmenting various business processes. The Impact: This role will have a significant impact on the success of our data science projects ranging from choosing which projects should be undertaken, to delivering highest quality solution, ultimately enabling our business processes and products with AI and Data Science solutions. What’s in it for you: This is a high visibility team with an opportunity to make a very meaningful impact on the future direction of the company. You will work with senior leaders in the organization to help define, build, and transform our business. You will work closely with other senior scientists to create state of the art Augmented Intelligence, Data Science and Machine Learning solutions. Responsibilities: As a Junior Data Scientist you will be responsible for building AI and Data Science models. You will need to rapidly prototype various algorithmic implementations and test their efficacy using appropriate experimental design and hypothesis validation. Basic Qualifications: BS in Computer Science, Computational Linguistics, Artificial Intelligence, Statistics, or related field. Preferred Qualifications: Experience with Financial data sets, or S&P;’s credit ratings process is highly preferred. Knowledge and working experience in one or more of the following areas: Natural Language Processing, Machine Learning, Question Answering, Text Mining, Information Retrieval, Distributional Semantics, Data Science, Knowledge Engineering To all recruitment agencies: S&P; Global does not accept unsolicited agency resumes. Please do not forward such resumes to any S&P; Global employee, office location or website. S&P; Global will not be responsible for any fees related to such resumes. S&P; Global is an equal opportunity employer committed to making all employment decisions without regard to race/ethnicity, gender, pregnancy, gender identity or expression, color, creed, religion, national origin, age, disability, marital status (including domestic partnerships and civil unions), sexual orientation, military veteran status, unemployment status, or any other basis prohibited by federal, state or local law. Only electronic job submissions will be considered for employment. If you need an accommodation during the application process due to a disability, please send an email to: EEO.Compliance@spglobal.com and your request will be forwarded to the appropriate person. The EEO is the Law Poster http://www.dol.gov/ofccp/regs/compliance/posters/pdf/eeopost.pdfdescribes discrimination protections under federal law'\n",
        "\n",
        "# preprocessed_text = preprocessing_data(text)\n",
        "# print(preprocessed_text)"
      ],
      "metadata": {
        "colab": {
          "base_uri": "https://localhost:8080/"
        },
        "id": "7eWremDJTC3d",
        "outputId": "970c929b-4b7f-4b37-8405-2ec3c5b5e735"
      },
      "execution_count": null,
      "outputs": [
        {
          "output_type": "stream",
          "name": "stdout",
          "text": [
            "team data science team newly formed applied research team within sp global rating responsible building executing bold vision around using machine learning natural language processing data science knowledge engineering human computer interface augmenting various business process impact role significant impact success data science project ranging choosing project undertaken delivering highest quality solution ultimately enabling business process product ai data science solution whats high visibility team opportunity make meaningful impact future direction company work senior leader organization help define build transform business work closely senior scientist create state art augmented intelligence data science machine learning solution responsibility junior data scientist responsible building ai data science model need rapidly prototype various algorithmic implementation test efficacy using appropriate experimental design hypothesis validation basic qualification b computer science computational linguistics artificial intelligence statistic related field preferred qualification experience financial data set sps credit rating process highly preferred knowledge working experience one following area natural language processing machine learning question answering text mining information retrieval distributional semantics data science knowledge engineering recruitment agency sp global accept unsolicited agency resume please forward resume sp global employee office location website sp global responsible fee related resume sp global equal opportunity employer committed making employment decision without regard raceethnicity gender pregnancy gender identity expression color creed religion national origin age disability marital status including domestic partnership civil union sexual orientation military veteran status unemployment status basis prohibited federal state local law electronic job submission considered employment need accommodation application process due disability please send email eeocompliancespglobalcom request forwarded appropriate person eeo law poster discrimination protection federal law\n"
          ]
        }
      ]
    },
    {
      "cell_type": "code",
      "source": [
        "df['clean_data'] = df['Description'].apply(preprocessing_data)\n",
        "df.head()"
      ],
      "metadata": {
        "colab": {
          "base_uri": "https://localhost:8080/",
          "height": 293
        },
        "id": "dlCZ6yP3Ujrp",
        "outputId": "f9a6d590-d004-4b45-e08f-92896e7ecb15"
      },
      "execution_count": null,
      "outputs": [
        {
          "output_type": "execute_result",
          "data": {
            "text/plain": [
              "   ID           Query                             Job Title  \\\n",
              "0   1  Data Scientist  Junior Data Scientist Apprenticeship   \n",
              "1   2  Data Scientist   HBO Data Scientist, Content Science   \n",
              "2   3  Data Scientist                 Junior Data Scientist   \n",
              "3   4  Data Scientist                     Jr Data Scientist   \n",
              "4   5  Data Scientist       Data Scientist, Premium Content   \n",
              "\n",
              "                                         Description  \\\n",
              "0  Job Description As a Junior Data Scientist at ...   \n",
              "1  OVERALL SUMMARY As a Data Scientist on the Dat...   \n",
              "2  The Team: The Data science team is a newly for...   \n",
              "3  We now have a need for junior Data Scientist(s...   \n",
              "4  Do you want to help guide the core business of...   \n",
              "\n",
              "                                          clean_data  \n",
              "0  job description junior data scientist ibm work...  \n",
              "1  overall summary data scientist data science so...  \n",
              "2  team data science team newly formed applied re...  \n",
              "3  need junior data scientist ny area remote succ...  \n",
              "4  want help guide core business spotify using in...  "
            ],
            "text/html": [
              "\n",
              "  <div id=\"df-605dfd29-43e2-4188-a46d-63cc182cc255\" class=\"colab-df-container\">\n",
              "    <div>\n",
              "<style scoped>\n",
              "    .dataframe tbody tr th:only-of-type {\n",
              "        vertical-align: middle;\n",
              "    }\n",
              "\n",
              "    .dataframe tbody tr th {\n",
              "        vertical-align: top;\n",
              "    }\n",
              "\n",
              "    .dataframe thead th {\n",
              "        text-align: right;\n",
              "    }\n",
              "</style>\n",
              "<table border=\"1\" class=\"dataframe\">\n",
              "  <thead>\n",
              "    <tr style=\"text-align: right;\">\n",
              "      <th></th>\n",
              "      <th>ID</th>\n",
              "      <th>Query</th>\n",
              "      <th>Job Title</th>\n",
              "      <th>Description</th>\n",
              "      <th>clean_data</th>\n",
              "    </tr>\n",
              "  </thead>\n",
              "  <tbody>\n",
              "    <tr>\n",
              "      <th>0</th>\n",
              "      <td>1</td>\n",
              "      <td>Data Scientist</td>\n",
              "      <td>Junior Data Scientist Apprenticeship</td>\n",
              "      <td>Job Description As a Junior Data Scientist at ...</td>\n",
              "      <td>job description junior data scientist ibm work...</td>\n",
              "    </tr>\n",
              "    <tr>\n",
              "      <th>1</th>\n",
              "      <td>2</td>\n",
              "      <td>Data Scientist</td>\n",
              "      <td>HBO Data Scientist, Content Science</td>\n",
              "      <td>OVERALL SUMMARY As a Data Scientist on the Dat...</td>\n",
              "      <td>overall summary data scientist data science so...</td>\n",
              "    </tr>\n",
              "    <tr>\n",
              "      <th>2</th>\n",
              "      <td>3</td>\n",
              "      <td>Data Scientist</td>\n",
              "      <td>Junior Data Scientist</td>\n",
              "      <td>The Team: The Data science team is a newly for...</td>\n",
              "      <td>team data science team newly formed applied re...</td>\n",
              "    </tr>\n",
              "    <tr>\n",
              "      <th>3</th>\n",
              "      <td>4</td>\n",
              "      <td>Data Scientist</td>\n",
              "      <td>Jr Data Scientist</td>\n",
              "      <td>We now have a need for junior Data Scientist(s...</td>\n",
              "      <td>need junior data scientist ny area remote succ...</td>\n",
              "    </tr>\n",
              "    <tr>\n",
              "      <th>4</th>\n",
              "      <td>5</td>\n",
              "      <td>Data Scientist</td>\n",
              "      <td>Data Scientist, Premium Content</td>\n",
              "      <td>Do you want to help guide the core business of...</td>\n",
              "      <td>want help guide core business spotify using in...</td>\n",
              "    </tr>\n",
              "  </tbody>\n",
              "</table>\n",
              "</div>\n",
              "    <div class=\"colab-df-buttons\">\n",
              "\n",
              "  <div class=\"colab-df-container\">\n",
              "    <button class=\"colab-df-convert\" onclick=\"convertToInteractive('df-605dfd29-43e2-4188-a46d-63cc182cc255')\"\n",
              "            title=\"Convert this dataframe to an interactive table.\"\n",
              "            style=\"display:none;\">\n",
              "\n",
              "  <svg xmlns=\"http://www.w3.org/2000/svg\" height=\"24px\" viewBox=\"0 -960 960 960\">\n",
              "    <path d=\"M120-120v-720h720v720H120Zm60-500h600v-160H180v160Zm220 220h160v-160H400v160Zm0 220h160v-160H400v160ZM180-400h160v-160H180v160Zm440 0h160v-160H620v160ZM180-180h160v-160H180v160Zm440 0h160v-160H620v160Z\"/>\n",
              "  </svg>\n",
              "    </button>\n",
              "\n",
              "  <style>\n",
              "    .colab-df-container {\n",
              "      display:flex;\n",
              "      gap: 12px;\n",
              "    }\n",
              "\n",
              "    .colab-df-convert {\n",
              "      background-color: #E8F0FE;\n",
              "      border: none;\n",
              "      border-radius: 50%;\n",
              "      cursor: pointer;\n",
              "      display: none;\n",
              "      fill: #1967D2;\n",
              "      height: 32px;\n",
              "      padding: 0 0 0 0;\n",
              "      width: 32px;\n",
              "    }\n",
              "\n",
              "    .colab-df-convert:hover {\n",
              "      background-color: #E2EBFA;\n",
              "      box-shadow: 0px 1px 2px rgba(60, 64, 67, 0.3), 0px 1px 3px 1px rgba(60, 64, 67, 0.15);\n",
              "      fill: #174EA6;\n",
              "    }\n",
              "\n",
              "    .colab-df-buttons div {\n",
              "      margin-bottom: 4px;\n",
              "    }\n",
              "\n",
              "    [theme=dark] .colab-df-convert {\n",
              "      background-color: #3B4455;\n",
              "      fill: #D2E3FC;\n",
              "    }\n",
              "\n",
              "    [theme=dark] .colab-df-convert:hover {\n",
              "      background-color: #434B5C;\n",
              "      box-shadow: 0px 1px 3px 1px rgba(0, 0, 0, 0.15);\n",
              "      filter: drop-shadow(0px 1px 2px rgba(0, 0, 0, 0.3));\n",
              "      fill: #FFFFFF;\n",
              "    }\n",
              "  </style>\n",
              "\n",
              "    <script>\n",
              "      const buttonEl =\n",
              "        document.querySelector('#df-605dfd29-43e2-4188-a46d-63cc182cc255 button.colab-df-convert');\n",
              "      buttonEl.style.display =\n",
              "        google.colab.kernel.accessAllowed ? 'block' : 'none';\n",
              "\n",
              "      async function convertToInteractive(key) {\n",
              "        const element = document.querySelector('#df-605dfd29-43e2-4188-a46d-63cc182cc255');\n",
              "        const dataTable =\n",
              "          await google.colab.kernel.invokeFunction('convertToInteractive',\n",
              "                                                    [key], {});\n",
              "        if (!dataTable) return;\n",
              "\n",
              "        const docLinkHtml = 'Like what you see? Visit the ' +\n",
              "          '<a target=\"_blank\" href=https://colab.research.google.com/notebooks/data_table.ipynb>data table notebook</a>'\n",
              "          + ' to learn more about interactive tables.';\n",
              "        element.innerHTML = '';\n",
              "        dataTable['output_type'] = 'display_data';\n",
              "        await google.colab.output.renderOutput(dataTable, element);\n",
              "        const docLink = document.createElement('div');\n",
              "        docLink.innerHTML = docLinkHtml;\n",
              "        element.appendChild(docLink);\n",
              "      }\n",
              "    </script>\n",
              "  </div>\n",
              "\n",
              "\n",
              "<div id=\"df-4b8b5278-259d-4ab9-a30d-ba3a1b7aeb7d\">\n",
              "  <button class=\"colab-df-quickchart\" onclick=\"quickchart('df-4b8b5278-259d-4ab9-a30d-ba3a1b7aeb7d')\"\n",
              "            title=\"Suggest charts\"\n",
              "            style=\"display:none;\">\n",
              "\n",
              "<svg xmlns=\"http://www.w3.org/2000/svg\" height=\"24px\"viewBox=\"0 0 24 24\"\n",
              "     width=\"24px\">\n",
              "    <g>\n",
              "        <path d=\"M19 3H5c-1.1 0-2 .9-2 2v14c0 1.1.9 2 2 2h14c1.1 0 2-.9 2-2V5c0-1.1-.9-2-2-2zM9 17H7v-7h2v7zm4 0h-2V7h2v10zm4 0h-2v-4h2v4z\"/>\n",
              "    </g>\n",
              "</svg>\n",
              "  </button>\n",
              "\n",
              "<style>\n",
              "  .colab-df-quickchart {\n",
              "      --bg-color: #E8F0FE;\n",
              "      --fill-color: #1967D2;\n",
              "      --hover-bg-color: #E2EBFA;\n",
              "      --hover-fill-color: #174EA6;\n",
              "      --disabled-fill-color: #AAA;\n",
              "      --disabled-bg-color: #DDD;\n",
              "  }\n",
              "\n",
              "  [theme=dark] .colab-df-quickchart {\n",
              "      --bg-color: #3B4455;\n",
              "      --fill-color: #D2E3FC;\n",
              "      --hover-bg-color: #434B5C;\n",
              "      --hover-fill-color: #FFFFFF;\n",
              "      --disabled-bg-color: #3B4455;\n",
              "      --disabled-fill-color: #666;\n",
              "  }\n",
              "\n",
              "  .colab-df-quickchart {\n",
              "    background-color: var(--bg-color);\n",
              "    border: none;\n",
              "    border-radius: 50%;\n",
              "    cursor: pointer;\n",
              "    display: none;\n",
              "    fill: var(--fill-color);\n",
              "    height: 32px;\n",
              "    padding: 0;\n",
              "    width: 32px;\n",
              "  }\n",
              "\n",
              "  .colab-df-quickchart:hover {\n",
              "    background-color: var(--hover-bg-color);\n",
              "    box-shadow: 0 1px 2px rgba(60, 64, 67, 0.3), 0 1px 3px 1px rgba(60, 64, 67, 0.15);\n",
              "    fill: var(--button-hover-fill-color);\n",
              "  }\n",
              "\n",
              "  .colab-df-quickchart-complete:disabled,\n",
              "  .colab-df-quickchart-complete:disabled:hover {\n",
              "    background-color: var(--disabled-bg-color);\n",
              "    fill: var(--disabled-fill-color);\n",
              "    box-shadow: none;\n",
              "  }\n",
              "\n",
              "  .colab-df-spinner {\n",
              "    border: 2px solid var(--fill-color);\n",
              "    border-color: transparent;\n",
              "    border-bottom-color: var(--fill-color);\n",
              "    animation:\n",
              "      spin 1s steps(1) infinite;\n",
              "  }\n",
              "\n",
              "  @keyframes spin {\n",
              "    0% {\n",
              "      border-color: transparent;\n",
              "      border-bottom-color: var(--fill-color);\n",
              "      border-left-color: var(--fill-color);\n",
              "    }\n",
              "    20% {\n",
              "      border-color: transparent;\n",
              "      border-left-color: var(--fill-color);\n",
              "      border-top-color: var(--fill-color);\n",
              "    }\n",
              "    30% {\n",
              "      border-color: transparent;\n",
              "      border-left-color: var(--fill-color);\n",
              "      border-top-color: var(--fill-color);\n",
              "      border-right-color: var(--fill-color);\n",
              "    }\n",
              "    40% {\n",
              "      border-color: transparent;\n",
              "      border-right-color: var(--fill-color);\n",
              "      border-top-color: var(--fill-color);\n",
              "    }\n",
              "    60% {\n",
              "      border-color: transparent;\n",
              "      border-right-color: var(--fill-color);\n",
              "    }\n",
              "    80% {\n",
              "      border-color: transparent;\n",
              "      border-right-color: var(--fill-color);\n",
              "      border-bottom-color: var(--fill-color);\n",
              "    }\n",
              "    90% {\n",
              "      border-color: transparent;\n",
              "      border-bottom-color: var(--fill-color);\n",
              "    }\n",
              "  }\n",
              "</style>\n",
              "\n",
              "  <script>\n",
              "    async function quickchart(key) {\n",
              "      const quickchartButtonEl =\n",
              "        document.querySelector('#' + key + ' button');\n",
              "      quickchartButtonEl.disabled = true;  // To prevent multiple clicks.\n",
              "      quickchartButtonEl.classList.add('colab-df-spinner');\n",
              "      try {\n",
              "        const charts = await google.colab.kernel.invokeFunction(\n",
              "            'suggestCharts', [key], {});\n",
              "      } catch (error) {\n",
              "        console.error('Error during call to suggestCharts:', error);\n",
              "      }\n",
              "      quickchartButtonEl.classList.remove('colab-df-spinner');\n",
              "      quickchartButtonEl.classList.add('colab-df-quickchart-complete');\n",
              "    }\n",
              "    (() => {\n",
              "      let quickchartButtonEl =\n",
              "        document.querySelector('#df-4b8b5278-259d-4ab9-a30d-ba3a1b7aeb7d button');\n",
              "      quickchartButtonEl.style.display =\n",
              "        google.colab.kernel.accessAllowed ? 'block' : 'none';\n",
              "    })();\n",
              "  </script>\n",
              "</div>\n",
              "\n",
              "    </div>\n",
              "  </div>\n"
            ],
            "application/vnd.google.colaboratory.intrinsic+json": {
              "type": "dataframe",
              "variable_name": "df",
              "summary": "{\n  \"name\": \"df\",\n  \"rows\": 9377,\n  \"fields\": [\n    {\n      \"column\": \"ID\",\n      \"properties\": {\n        \"dtype\": \"number\",\n        \"std\": 2862,\n        \"min\": 1,\n        \"max\": 10000,\n        \"num_unique_values\": 9377,\n        \"samples\": [\n          2298,\n          4603,\n          4649\n        ],\n        \"semantic_type\": \"\",\n        \"description\": \"\"\n      }\n    },\n    {\n      \"column\": \"Query\",\n      \"properties\": {\n        \"dtype\": \"category\",\n        \"num_unique_values\": 25,\n        \"samples\": [\n          \"Machine Learning\",\n          \"Technology Integration\",\n          \"Data Scientist\"\n        ],\n        \"semantic_type\": \"\",\n        \"description\": \"\"\n      }\n    },\n    {\n      \"column\": \"Job Title\",\n      \"properties\": {\n        \"dtype\": \"string\",\n        \"num_unique_values\": 7385,\n        \"samples\": [\n          \"Learning Architect\",\n          \"Supply/Warehouse Worker\",\n          \"Senior Administrator, Oracle Database\"\n        ],\n        \"semantic_type\": \"\",\n        \"description\": \"\"\n      }\n    },\n    {\n      \"column\": \"Description\",\n      \"properties\": {\n        \"dtype\": \"string\",\n        \"num_unique_values\": 9377,\n        \"samples\": [\n          \"The Database Administrator is a member of RSM\\u2019s technical services group and is responsible for the operational support of Microsoft SQL Database platform. The database administrator will work closely with Senior DBA, IT management and other functional groups to deploy, administer and provide level three support for the company\\u2019s enterprise database systems. He/she must have excellent written and oral communication skills and be able to work, collaborate and coordinate between technical and non-technical people within the company. Essential Duties: Provide troubleshooting support for Microsoft SQL servers. Monitor and manage server health, functionality and availability related to database servers. Install, configure, secure and maintain technical Dev, QA and Production environments. Configure and Integrate 3rd party applications and add-ons. Regular review of event logs and performance monitors through the creation of alerts. Participates in disaster recovery practices. Provides direct support of Microsoft SQL servers, databases and related enterprise applications. Supports internal development, functional technology and project teams on a recurring basis. Monitors and optimizes system performance based on Microsoft best practices. Implements upgrades, enhancements and fixes following established change management procedures. Works with Microsoft Support and other 3rd party vendors in resolution of support issues on as-needed basis. Adheres to technical standards, procedures and techniques for the resolution of enterprise database problems to ensure maximum application availability and performance. Collaborates with other IT technical engineers, developers and Program Management personnel. Participates in scheduled and unscheduled weekend/after-hours system maintenance and support. Performs rotational on-call duty. Other duties as assigned. Education: Post-Secondary degree in Computer Science, Software Engineering, Information Systems or equivalent work history/experience (Required) Experience: Minimum of 3 years of Information Services/Technology experience (Required) Minimum of 1 Year Database Administrator experience with Microsoft SQL or similar relational database (Required) MS SQL Certifications (Preferred) Project Team Involvement (Preferred) Technical Skills: Microsoft Windows Server (Required) Microsoft SQL Server - basic operations to include backup and recovery (Required) Microsoft SQL Server Reporting Services knowledge (Preferred) Microsoft SQL Server Integration Services experience(Preferred) Microsoft PowerShell experience (Preferred) IT Development (.NET, C) experience (Preferred) You want your next step to be the right one. You've worked hard to get where you are today. And now you're ready to use your unique skills, talents and personality to achieve great things. RSM is a place where you are valued as an individual, mentored as a future leader, and recognized for your accomplishments and potential. Working directly with clients, key decision makers and business owners across various industries and geographies, you'll move quickly along the learning curve and our clients will benefit from your fresh perspective. Experience RSM US. Experience the power of being understood. RSM is an equal opportunity/affirmative action employer. Minorities/Females/Disabled/Veterans.\",\n          \"Comcast brings together the best in media and technology. We drive innovation to create the world's best entertainment and online experiences. As a Fortune 50 leader, we set the pace in a variety of innovative and fascinating businesses and create career opportunities across a wide range of locations and disciplines. We are at the forefront of change and move at an amazing pace, thanks to our remarkable people, who bring cutting-edge products and services to life for millions of customers every day. If you share in our passion for teamwork, our vision to revolutionize industries and our goal to lead the future in media and technology, we want you to fast-forward your career at Comcast. Summary: The Senior Analyst is responsible for all data management and analysis for Comcast's Employee Volunteerism and Giving programs for Community Impact. The Senior Analyst is also responsible for program coordination and management, ensuring projects and events are delivered in a timely and budget- conscious manner. The Employee Volunteerism and Giving team manages Comcast's volunteer day of service, Comcast Cares Day, as well as the yearly employee giving campaign. Additionally, the team leads the strategy for year-round volunteerism and engagement, including all programmatic, data, reporting and technology aspects.Responsibilities: - Execute reporting and analytics pertaining to Comcast's volunteer day of service, giving campaign and all other year-round volunteerism and engagement initiatives, touching all of Comcast's employee base- Regular employee data cleanup and structure based on geographic, demographic and other business unit segmentation needs- Key point of contact for volunteer project and campaign coordinators and team leaders throughout the company, providing data trends and recommendations specific to their respective business units- Ability to quickly learn the data and table structure and execute regular (daily in some cases) geographic and demographic trackers- Works on analytical projects, including large sets of data with respect to Comcast's employee volunteerism and giving trends.- Ad hoc reporting based on employee volunteerism and giving trends and historical data at the request of the internal department or external business units- Ability to understand and synthesize data trends and insights to be presented to executive leadership- Ensures accurate and consistent employee data management accounting for year over year changes- Program and event coordination and planning, working closely with multiple stakeholders and partners throughout the company as well as with various community organizations.- Coordination with various third party organizations to ensure a high quality volunteer experience during Comcast Cares Day and other year-round volunteering events.- Ad hoc project coordination and management, specifically including Comcast Cares Day planning- Assist with and/or assume responsibility for special projects as assigned- Other duties and responsibilities as assigned- Consistent exercise of independent judgment and discretionMinimum Requirements: - Bachelor's Degree or equivalent required- Minimum 3-5 years related data analysis experience- Experience in corporate finance, business intelligence, Human Resources or operations role with tracking, reporting and analysis experience- Experience or passion for the volunteerism, community impact, and/or corporate social responsibility space- Ability to analyze data and shape and synthesize the story behind that data- Proficient in Microsoft Office software- Advanced Excel skills including but not limited to vlookups, pivot tables, transposing, counifs, etc.- Familiarity with SQL and Tableau data visualization preferred- Familiarity with HR employee systems and databases is a plus- Strong project management and coordination skills, with ideal experience in volunteer project management and employee engagement- Ability to manage multiple volunteer projects at the same time, delivering the project goals on time and within the allocated budget- Ability to interface with all levels of management- Excellent organizational skills and attention to detail- Excellent oral and written communication skills- Regular, consistent and punctual attendance. Must be able to work nights and weekends, variable schedule(s) as necessary. Comcast is an EOE/Veterans/Disabled/LGBT employer\",\n          \"The Sr. Business Analyst is responsible for driving revenue growth through the identification of opportunities and risks. The Sr. Business Analyst will work to understand the business strategy and numerous underlying operational processes so that they can provide analytical reporting that drives sales representative behavior and results in customer retention and product upsells. To be effective in this role, the Sr. Business Analyst will need to partner and coordinate efforts with Sales Management and will work closely with the Customer Intelligence lead in communicating results with others throughout the leadership levels of each business unit. The individual will need to be able to bridge topics in order to effectively communicate with technical resources in several teams. The position will require expertise in enterprise data to support accurate and meaningful analyses. Technical skills will also be heavily leveraged as new datasets are profiled and documented and as data is retrieved and analyzed from the data warehouse. Analytical reporting and statistical analysis will be delivered through Oracle Business Intelligence and Excel. The Sr. Business Analyst is responsible for effectively rolling out Oracle Business Intelligence and in ensuring weekly adoption and usage are at levels established by each respective business unit or user group. On an ongoing basis, the Sr. Business Analyst will need to review usage levels and identify areas where adoption can be improved and analytical reporting that needs to be revised. The Sr. Business Analyst will need to be well connected to their user base (usually more than 100 individuals) and understand their goals so that analytical reporting is provided in the most meaningful context. Responsibilities may include: Collaborate with various groups to develop dashboard reports containing key metrics. Ensure that dashboards are clearly understood, utilized, and integrated into the decisions made by the business units. This will include dedicated rollout of Oracle Business Intelligence and support of several segments of individuals. Performs regular QA (testing/validation) on dashboards Identify data and metrics that help to predict retention issues and upsell opportunities. Proactively identify additional metrics and trends that are helpful in informing business decisions. Research, review, assimilates, and perform data and statistical analysis on data from various sources. Partner with data warehouse and Oracle Business Intelligence teams to implement reporting improvements through managed projects (data and/or technology changes). Collaborate with business clients primarily using 1x1 interviews, facilitate small group sessions and/or larger JAD sessions as appropriate. Use group facilitation techniques to drive consensus. Identify improvements to providing user support. Improvements could be related to data or the technology used to track and manage report requests. Identify opportunities to measure (quantitatively and qualitatively) and report the teams financial impact on the organization. Ensure weekly adoption of OBI is at or above target levels set for each user base. Establish training program(s) to drive adoption and utilization. All other duties as assigned. Qualifications: 5-7 years experience required. BA/BS degree or equivalent experience. Understanding of organizational operating procedures (value chain) Detailed understanding of enterprise data (sources, definitions, keys, etc.). Understanding of LN Risk Solution Product portfolio and various internal operating processes (onboarding, marketing lead creation, order submission, etc.). Proficient skills in report writing and dashboard creation within Oracle Business Intelligence Proficient SQL skills Excellent ability to work independently Excellent User Interface (UI) design experience Exceptional analytical and quantitative skills Outstanding verbal and written communication skills particularly with senior leadership Excellent ability to listen and understand business needs in order to gather reporting requirements and provide relevant reports Strong business acumen; must see big picture from strategy standpoint Strong organizational skills Exception attention to detail Microsoft office suite At LexisNexis Risk Solutions, we believe in the power of data and advanced analytics for better risk management. With over 40 years of expertise, we are the trusted data analytics provider for organizations seeking actionable insights to manage risks and improve results while upholding the highest standards for security and privacy. Headquartered in metro Atlanta, LexisNexis Risk Solutions serves customers in more than 100 countries and is part of RELX Group plc, a world-leading provider of information and analytics for professional and business customers across industries. For more information, please visit www.lexisnexisrisk.com. LexisNexis Risk Solutions is an equal opportunity employer: qualified applicants are considered for and treated during employment without regard to race, color, creed, religion, sex, national origin, citizenship status, disability status, protected veteran status, age, marital status, sexual orientation, gender identity, genetic information, or any other characteristic protected by law. If a qualified individual with a disability or disabled veteran needs a reasonable accommodation to use or access our online system, that individual should please contact 1.877.734.1938 or accommodations@relx.com.\"\n        ],\n        \"semantic_type\": \"\",\n        \"description\": \"\"\n      }\n    },\n    {\n      \"column\": \"clean_data\",\n      \"properties\": {\n        \"dtype\": \"string\",\n        \"num_unique_values\": 9327,\n        \"samples\": [\n          \"individual responsible providing highly complex technical support engineering organization synopsys position required support improve complex linux high performance compute dynamic demanding engineering environment furthermore person responsible collaborating globally providing leaderhip effort various activity related synopsys engineering environment responsibility provide advanced linux rhel centos ubuntu suse troubleshooting technical support engineering organization participate support case management related engineering infrastructure participate x oncall support rotation schedule maintain monitor produce analyze metric production system ensure optimal performance resource utilization uptime assist daytoday maintenance engineering infrastructure including linux system build configuration security management patching automation system upgrade troubleshooting complex technical issue responsible leading participating number small medium large scale enterprisewide project partner engineering deliver strategic initiative project recommend technology automation effort contribute roadmaps leveraging current future technology providing innovative sustainable solution complex problem qualification year strong experience support linux rhel centos ubuntu suse kickstart pxe environment support maintain improve troubleshoot related technology strong interpersonal communication skill capable training user mentoring system administrator complex topic interacting positively management level independent problemsolving troubleshooting engineering focused complex global linux environment associated infrastructure proficient aspect linux operating system administration including system installation configuration management high performance computing security package repository patching installation thirdparty software large environment solid understanding linuxbased operating system including virtual memory management kernel memory accounting daemon device device driver loadable module filesystem concept skilled one configuration management tool support large environment preferably ansible ability write support complex script program preferably using python perl bash c experience development component compiler make building using open source tool source code revision control gitperforce understanding networkingdistributed computing environment concept including nfs dns ldap experience virtualized environment vmware xen citrix experience managing large node compute cluster master degree information systemscomputer science equivalent experience required desired skill linux certification red hat linux foundation equivalent exposure aws infrastructure openstack hybrid cloud compute model experience silicon eda sw workload experience large network attached storage netapp emc isilon environment requires strong interpersonal communication skill\",\n          \"job summary working direct supervision provides routine daytoday operation administrative support business unit large department assist coordination budget process improvement control specialized software function enabling department meet objective effective efficient manner essential duty responsibility analyzes monthly department budget report maintain expense control prepares commentary explanation variance management review assist system administration specialized software utilized business group support operation research resolve routine support issue followsup ensure open issue resolved assist preparing user reference material troubleshoots resolve simple inquiry request internal external client review monitor department process procedure identify opportunity improve service delivery internal external customer may network external contact research recommend best practice coordinate budget preparation research collect input multiple internal external resource compiles variety operating financial statistical information needed respond management request coordinate work department may add commentary complete analysis report proposal assist communication best practice policy procedure initiative support operation help facilitate process improvement engaging appropriate resource issue identification resolution assist developing project plan cost including personnel fiscal requirement achieve defined objective may provide periodic update relative project resource fiscal plan performs duty assigned supervisory responsibility formal supervisory responsibility position provides informal assistance technical guidance andor training coworkers may lead project team andor plan supervise assignment lower level employee qualification perform job successfully individual must able perform essential duty satisfactorily requirement listed representative knowledge skill andor ability required reasonable accommodation may made enable individual disability perform essential function education experience bachelor degree babs equivalent four year college university plus minimum two year related work experience include budgeting finance business analytics equivalent combination education experience work experience related specific department business unit function preferred certificate andor license none communication skill excellent written verbal communication skill strong organizational analytical skill ability provide efficient timely reliable courteous service customer ability effectively present information financial knowledge requires knowledge financial term principle ability calculate intermediate figure percentage discount andor commission conduct basic financial analysis reasoning ability ability comprehend analyze interpret document ability solve problem involving several option situation requires intermediate analytical quantitative skill skill andor ability advanced proficiency microsoft office suite spreadsheet skill set include advanced function graphic pivot table scope responsibility decision made understanding procedure company policy achieve set result deadline responsible setting project deadline error judgment may cause shortterm impact coworkers supervisor\",\n          \"science technology mission year lawrence livermore national laboratory llnl applied science technology make world safer place seeking highly qualified scientist engineer join interdisciplinary team system analyst supporting program across global security principal directorate chemicalbiologicalexplosives security nuclear threat reduction intelligence program energyinfrastructurecyber security apply combination technical depth breadth critical thinking modeling simulation analysis understand multidomain problem area provide decision insight communicate option tradeoff facilitates integration new technology support customer mission position programmatically global security system analysis group administratively report payroll supervisor hiring organization position filled either s s level depending qualification additional job responsibility outlined assigned selected higher level essential duty provide solution requiring advanced analysis creative use innovation method problem intermediate complexity collaborating scientist researcher across variety technical discipline create analytical framework evaluate competing characteristic determine solution effectively meet customer stakeholder objective provide decision insight stakeholder moderately complex problem area develop evaluate apply physical computational simulation gain insight fairly complex system partner llnl scientist engineer bring research result practical use llnl global security program communicate technical concept intermediate complexity stakeholder concise effective way perform duty assigned addition s level manage multiple parallel task priority customer stakeholder ensure deadline met lead various complex project leverage team member skill complete complex project task mentor staff assist recruiting effort serve primary technical point contact sponsor stakeholder participate development new program business qualification m engineering physical computer science related field equivalent combination education related experience comprehensive record technical achievement demonstrated ability approach hard problem enthusiasm creativity flexibility change focus necessary comprehensive analytical problemsolving decisionmaking skill develop creative solution moderately complex problem proficient verbal written interpersonal communication skill necessary effectively collaborate multidisciplinary team environment communicate technical information document work prepare present successful proposal high quality research paper ability travel offsite including potentially internationally sponsor customer interaction addition s level significant experience leading system analysis project advanced analytical problemsolving decisionmaking skill develop creative solution complex problem demonstrated ability work independently effectively manage advanced concurrent technical task competing priority implement advanced research concept multidisciplinary team environment commitment deadline important project success desired qualification phd engineering physical computer science expertise one following area cyber security modeling simulation risk analysis data analytics chemical biological security explosive intelligence analysis radiological nuclear security energy system infrastructure protection expert knowledge substantial experience project manager principal investigator project competing priority loosely defined deliverable high visibility significant experience working department homeland security department energy intelligence community relevant government sponsor preemployment drug test external applicant selected position required pas postoffer preemployment drug test security clearance position requires department energy doe qlevel clearance selected initiate federal background investigation determine meet eligibility requirement access classified information matter addition l q cleared employee subject random drug testing qlevel clearance requires u citizenship hold multiple citizenship u another country may required renounce nonus citizenship doe l q clearance processedgranted note career indefinite position lab employee external candidate may considered position u lawrence livermore national laboratory llnl located san francisco bay area east bay premier applied science laboratory part national nuclear security administration nnsa within department energy doe llnls mission strengthening national security developing applying cuttingedge science technology engineering respond vision quality integrity technical excellence scientific issue national importance laboratory current annual budget billion employing approximately employee llnl affirmative action equal opportunity employer qualified applicant receive consideration employment without regard race color religion marital status national origin ancestry sex sexual orientation gender identity disability medical condition protected veteran status age citizenship characteristic protected law\"\n        ],\n        \"semantic_type\": \"\",\n        \"description\": \"\"\n      }\n    }\n  ]\n}"
            }
          },
          "metadata": {},
          "execution_count": 9
        }
      ]
    },
    {
      "cell_type": "markdown",
      "source": [
        "# NYC"
      ],
      "metadata": {
        "id": "qEk8upgwVkcu"
      }
    },
    {
      "cell_type": "code",
      "source": [
        "df = pd.read_csv('/content/nyc-jobs-1.csv')\n",
        "df.head()"
      ],
      "metadata": {
        "colab": {
          "base_uri": "https://localhost:8080/",
          "height": 1000
        },
        "id": "EvACujU-Vl8V",
        "outputId": "8e813419-cec6-42e9-ccd5-164f09d2f619"
      },
      "execution_count": null,
      "outputs": [
        {
          "output_type": "execute_result",
          "data": {
            "text/plain": [
              "   Job ID                          Agency Posting Type  # Of Positions  \\\n",
              "0   87990    DEPARTMENT OF BUSINESS SERV.     Internal               1   \n",
              "1   97899    DEPARTMENT OF BUSINESS SERV.     Internal               1   \n",
              "2  102221  DEPT OF ENVIRONMENT PROTECTION     External               1   \n",
              "3  102221  DEPT OF ENVIRONMENT PROTECTION     Internal               1   \n",
              "4  114352  DEPT OF ENVIRONMENT PROTECTION     Internal               5   \n",
              "\n",
              "                             Business Title             Civil Service Title  \\\n",
              "0                           Account Manager  CONTRACT REVIEWER (OFFICE OF L   \n",
              "1  EXECUTIVE DIRECTOR, BUSINESS DEVELOPMENT  ADMINISTRATIVE BUSINESS PROMOT   \n",
              "2                        Project Specialist  ENVIRONMENTAL ENGINEERING INTE   \n",
              "3                        Project Specialist  ENVIRONMENTAL ENGINEERING INTE   \n",
              "4                        Deputy Plant Chief  SENIOR STATIONARY ENGINEER (EL   \n",
              "\n",
              "  Title Code No Level Job Category Full-Time/Part-Time indicator  ...  \\\n",
              "0         40563     1                                             ...   \n",
              "1         10009    M3                                          F  ...   \n",
              "2         20616     0                                          F  ...   \n",
              "3         20616     0                                          F  ...   \n",
              "4         91639     0                                          F  ...   \n",
              "\n",
              "                                                                                    Additional Information  \\\n",
              "0                                            Salary range for this position is: $42,405 - $45,000 per year   \n",
              "1                                                                                                            \n",
              "2                                                                 Appointments are subject to OMB approval   \n",
              "3                                                                 Appointments are subject to OMB approval   \n",
              "4  Appointments are subject to OMB approval    For additional information about DEP, visit www.nyc.gov/dep   \n",
              "\n",
              "                                                                                                                                                                                                                                                                                                                                         To Apply  \\\n",
              "0                                                                                                                                                                                                                                                                                                                                                   \n",
              "1  In addition to applying through this website,  also email your resume and cover letter including the following subject line:     Executive Director â€“ Business Development to: careers@sbs.nyc.gov       Salary range for this position is: $85,000 - $87,000 per year    NOTE: Only those candidates under consideration will be contacted.   \n",
              "2                                                                                                                                                                                                                                                                                                                      click the apply now button   \n",
              "3                                                                                                                                                                                                                                                                                                                      click the apply now button   \n",
              "4                                                                                                                                                                                                                                                                                                                        Click \"Apply Now\" button   \n",
              "\n",
              "             Hours/Shift Work Location 1 Recruitment Contact  \\\n",
              "0                                                        NaN   \n",
              "1                                                        NaN   \n",
              "2  35 hours per week/day                                 NaN   \n",
              "3  35 hours per week/day                                 NaN   \n",
              "4      40 per week / day         Various                 NaN   \n",
              "\n",
              "                                                                                                                                                                                                                                                                                                                                                                                              Residency Requirement  \\\n",
              "0  New York City residency is generally required within 90 days of appointment. However, City Employees in certain titles who have worked for the City for 2 continuous years may also be eligible to reside in Nassau, Suffolk, Putnam, Westchester, Rockland, or Orange County. To determine if the residency requirement applies to you, please discuss with the agency representative at the time of interview.   \n",
              "1  New York City residency is generally required within 90 days of appointment. However, City Employees in certain titles who have worked for the City for 2 continuous years may also be eligible to reside in Nassau, Suffolk, Putnam, Westchester, Rockland, or Orange County. To determine if the residency requirement applies to you, please discuss with the agency representative at the time of interview.   \n",
              "2                                                                                                                                                                                                                                                                                                                                                         New York City Residency is not required for this position   \n",
              "3                                                                                                                                                                                                                                                                                                                                                         New York City Residency is not required for this position   \n",
              "4  New York City residency is generally required within 90 days of appointment. However, City Employees in certain titles who have worked for the City for 2 continuous years may also be eligible to reside in Nassau, Suffolk, Putnam, Westchester, Rockland, or Orange County. To determine if the residency requirement applies to you, please discuss with the agency representative at the time of interview.   \n",
              "\n",
              "          Posting Date Post Until      Posting Updated         Process Date  \n",
              "0  2011-06-24T00:00:00        NaN  2011-06-24T00:00:00  2018-07-17T00:00:00  \n",
              "1  2012-01-26T00:00:00        NaN  2012-01-26T00:00:00  2018-07-17T00:00:00  \n",
              "2  2012-06-21T00:00:00        NaN  2012-09-07T00:00:00  2018-07-17T00:00:00  \n",
              "3  2012-06-21T00:00:00        NaN  2012-09-07T00:00:00  2018-07-17T00:00:00  \n",
              "4  2012-12-12T00:00:00        NaN  2012-12-13T00:00:00  2018-07-17T00:00:00  \n",
              "\n",
              "[5 rows x 28 columns]"
            ],
            "text/html": [
              "\n",
              "  <div id=\"df-76538df2-f8b7-4782-b71f-911fb22bc503\" class=\"colab-df-container\">\n",
              "    <div>\n",
              "<style scoped>\n",
              "    .dataframe tbody tr th:only-of-type {\n",
              "        vertical-align: middle;\n",
              "    }\n",
              "\n",
              "    .dataframe tbody tr th {\n",
              "        vertical-align: top;\n",
              "    }\n",
              "\n",
              "    .dataframe thead th {\n",
              "        text-align: right;\n",
              "    }\n",
              "</style>\n",
              "<table border=\"1\" class=\"dataframe\">\n",
              "  <thead>\n",
              "    <tr style=\"text-align: right;\">\n",
              "      <th></th>\n",
              "      <th>Job ID</th>\n",
              "      <th>Agency</th>\n",
              "      <th>Posting Type</th>\n",
              "      <th># Of Positions</th>\n",
              "      <th>Business Title</th>\n",
              "      <th>Civil Service Title</th>\n",
              "      <th>Title Code No</th>\n",
              "      <th>Level</th>\n",
              "      <th>Job Category</th>\n",
              "      <th>Full-Time/Part-Time indicator</th>\n",
              "      <th>...</th>\n",
              "      <th>Additional Information</th>\n",
              "      <th>To Apply</th>\n",
              "      <th>Hours/Shift</th>\n",
              "      <th>Work Location 1</th>\n",
              "      <th>Recruitment Contact</th>\n",
              "      <th>Residency Requirement</th>\n",
              "      <th>Posting Date</th>\n",
              "      <th>Post Until</th>\n",
              "      <th>Posting Updated</th>\n",
              "      <th>Process Date</th>\n",
              "    </tr>\n",
              "  </thead>\n",
              "  <tbody>\n",
              "    <tr>\n",
              "      <th>0</th>\n",
              "      <td>87990</td>\n",
              "      <td>DEPARTMENT OF BUSINESS SERV.</td>\n",
              "      <td>Internal</td>\n",
              "      <td>1</td>\n",
              "      <td>Account Manager</td>\n",
              "      <td>CONTRACT REVIEWER (OFFICE OF L</td>\n",
              "      <td>40563</td>\n",
              "      <td>1</td>\n",
              "      <td></td>\n",
              "      <td></td>\n",
              "      <td>...</td>\n",
              "      <td>Salary range for this position is: $42,405 - $45,000 per year</td>\n",
              "      <td></td>\n",
              "      <td></td>\n",
              "      <td></td>\n",
              "      <td>NaN</td>\n",
              "      <td>New York City residency is generally required within 90 days of appointment. However, City Employees in certain titles who have worked for the City for 2 continuous years may also be eligible to reside in Nassau, Suffolk, Putnam, Westchester, Rockland, or Orange County. To determine if the residency requirement applies to you, please discuss with the agency representative at the time of interview.</td>\n",
              "      <td>2011-06-24T00:00:00</td>\n",
              "      <td>NaN</td>\n",
              "      <td>2011-06-24T00:00:00</td>\n",
              "      <td>2018-07-17T00:00:00</td>\n",
              "    </tr>\n",
              "    <tr>\n",
              "      <th>1</th>\n",
              "      <td>97899</td>\n",
              "      <td>DEPARTMENT OF BUSINESS SERV.</td>\n",
              "      <td>Internal</td>\n",
              "      <td>1</td>\n",
              "      <td>EXECUTIVE DIRECTOR, BUSINESS DEVELOPMENT</td>\n",
              "      <td>ADMINISTRATIVE BUSINESS PROMOT</td>\n",
              "      <td>10009</td>\n",
              "      <td>M3</td>\n",
              "      <td></td>\n",
              "      <td>F</td>\n",
              "      <td>...</td>\n",
              "      <td></td>\n",
              "      <td>In addition to applying through this website,  also email your resume and cover letter including the following subject line:     Executive Director â€“ Business Development to: careers@sbs.nyc.gov       Salary range for this position is: $85,000 - $87,000 per year    NOTE: Only those candidates under consideration will be contacted.</td>\n",
              "      <td></td>\n",
              "      <td></td>\n",
              "      <td>NaN</td>\n",
              "      <td>New York City residency is generally required within 90 days of appointment. However, City Employees in certain titles who have worked for the City for 2 continuous years may also be eligible to reside in Nassau, Suffolk, Putnam, Westchester, Rockland, or Orange County. To determine if the residency requirement applies to you, please discuss with the agency representative at the time of interview.</td>\n",
              "      <td>2012-01-26T00:00:00</td>\n",
              "      <td>NaN</td>\n",
              "      <td>2012-01-26T00:00:00</td>\n",
              "      <td>2018-07-17T00:00:00</td>\n",
              "    </tr>\n",
              "    <tr>\n",
              "      <th>2</th>\n",
              "      <td>102221</td>\n",
              "      <td>DEPT OF ENVIRONMENT PROTECTION</td>\n",
              "      <td>External</td>\n",
              "      <td>1</td>\n",
              "      <td>Project Specialist</td>\n",
              "      <td>ENVIRONMENTAL ENGINEERING INTE</td>\n",
              "      <td>20616</td>\n",
              "      <td>0</td>\n",
              "      <td></td>\n",
              "      <td>F</td>\n",
              "      <td>...</td>\n",
              "      <td>Appointments are subject to OMB approval</td>\n",
              "      <td>click the apply now button</td>\n",
              "      <td>35 hours per week/day</td>\n",
              "      <td></td>\n",
              "      <td>NaN</td>\n",
              "      <td>New York City Residency is not required for this position</td>\n",
              "      <td>2012-06-21T00:00:00</td>\n",
              "      <td>NaN</td>\n",
              "      <td>2012-09-07T00:00:00</td>\n",
              "      <td>2018-07-17T00:00:00</td>\n",
              "    </tr>\n",
              "    <tr>\n",
              "      <th>3</th>\n",
              "      <td>102221</td>\n",
              "      <td>DEPT OF ENVIRONMENT PROTECTION</td>\n",
              "      <td>Internal</td>\n",
              "      <td>1</td>\n",
              "      <td>Project Specialist</td>\n",
              "      <td>ENVIRONMENTAL ENGINEERING INTE</td>\n",
              "      <td>20616</td>\n",
              "      <td>0</td>\n",
              "      <td></td>\n",
              "      <td>F</td>\n",
              "      <td>...</td>\n",
              "      <td>Appointments are subject to OMB approval</td>\n",
              "      <td>click the apply now button</td>\n",
              "      <td>35 hours per week/day</td>\n",
              "      <td></td>\n",
              "      <td>NaN</td>\n",
              "      <td>New York City Residency is not required for this position</td>\n",
              "      <td>2012-06-21T00:00:00</td>\n",
              "      <td>NaN</td>\n",
              "      <td>2012-09-07T00:00:00</td>\n",
              "      <td>2018-07-17T00:00:00</td>\n",
              "    </tr>\n",
              "    <tr>\n",
              "      <th>4</th>\n",
              "      <td>114352</td>\n",
              "      <td>DEPT OF ENVIRONMENT PROTECTION</td>\n",
              "      <td>Internal</td>\n",
              "      <td>5</td>\n",
              "      <td>Deputy Plant Chief</td>\n",
              "      <td>SENIOR STATIONARY ENGINEER (EL</td>\n",
              "      <td>91639</td>\n",
              "      <td>0</td>\n",
              "      <td></td>\n",
              "      <td>F</td>\n",
              "      <td>...</td>\n",
              "      <td>Appointments are subject to OMB approval    For additional information about DEP, visit www.nyc.gov/dep</td>\n",
              "      <td>Click \"Apply Now\" button</td>\n",
              "      <td>40 per week / day</td>\n",
              "      <td>Various</td>\n",
              "      <td>NaN</td>\n",
              "      <td>New York City residency is generally required within 90 days of appointment. However, City Employees in certain titles who have worked for the City for 2 continuous years may also be eligible to reside in Nassau, Suffolk, Putnam, Westchester, Rockland, or Orange County. To determine if the residency requirement applies to you, please discuss with the agency representative at the time of interview.</td>\n",
              "      <td>2012-12-12T00:00:00</td>\n",
              "      <td>NaN</td>\n",
              "      <td>2012-12-13T00:00:00</td>\n",
              "      <td>2018-07-17T00:00:00</td>\n",
              "    </tr>\n",
              "  </tbody>\n",
              "</table>\n",
              "<p>5 rows × 28 columns</p>\n",
              "</div>\n",
              "    <div class=\"colab-df-buttons\">\n",
              "\n",
              "  <div class=\"colab-df-container\">\n",
              "    <button class=\"colab-df-convert\" onclick=\"convertToInteractive('df-76538df2-f8b7-4782-b71f-911fb22bc503')\"\n",
              "            title=\"Convert this dataframe to an interactive table.\"\n",
              "            style=\"display:none;\">\n",
              "\n",
              "  <svg xmlns=\"http://www.w3.org/2000/svg\" height=\"24px\" viewBox=\"0 -960 960 960\">\n",
              "    <path d=\"M120-120v-720h720v720H120Zm60-500h600v-160H180v160Zm220 220h160v-160H400v160Zm0 220h160v-160H400v160ZM180-400h160v-160H180v160Zm440 0h160v-160H620v160ZM180-180h160v-160H180v160Zm440 0h160v-160H620v160Z\"/>\n",
              "  </svg>\n",
              "    </button>\n",
              "\n",
              "  <style>\n",
              "    .colab-df-container {\n",
              "      display:flex;\n",
              "      gap: 12px;\n",
              "    }\n",
              "\n",
              "    .colab-df-convert {\n",
              "      background-color: #E8F0FE;\n",
              "      border: none;\n",
              "      border-radius: 50%;\n",
              "      cursor: pointer;\n",
              "      display: none;\n",
              "      fill: #1967D2;\n",
              "      height: 32px;\n",
              "      padding: 0 0 0 0;\n",
              "      width: 32px;\n",
              "    }\n",
              "\n",
              "    .colab-df-convert:hover {\n",
              "      background-color: #E2EBFA;\n",
              "      box-shadow: 0px 1px 2px rgba(60, 64, 67, 0.3), 0px 1px 3px 1px rgba(60, 64, 67, 0.15);\n",
              "      fill: #174EA6;\n",
              "    }\n",
              "\n",
              "    .colab-df-buttons div {\n",
              "      margin-bottom: 4px;\n",
              "    }\n",
              "\n",
              "    [theme=dark] .colab-df-convert {\n",
              "      background-color: #3B4455;\n",
              "      fill: #D2E3FC;\n",
              "    }\n",
              "\n",
              "    [theme=dark] .colab-df-convert:hover {\n",
              "      background-color: #434B5C;\n",
              "      box-shadow: 0px 1px 3px 1px rgba(0, 0, 0, 0.15);\n",
              "      filter: drop-shadow(0px 1px 2px rgba(0, 0, 0, 0.3));\n",
              "      fill: #FFFFFF;\n",
              "    }\n",
              "  </style>\n",
              "\n",
              "    <script>\n",
              "      const buttonEl =\n",
              "        document.querySelector('#df-76538df2-f8b7-4782-b71f-911fb22bc503 button.colab-df-convert');\n",
              "      buttonEl.style.display =\n",
              "        google.colab.kernel.accessAllowed ? 'block' : 'none';\n",
              "\n",
              "      async function convertToInteractive(key) {\n",
              "        const element = document.querySelector('#df-76538df2-f8b7-4782-b71f-911fb22bc503');\n",
              "        const dataTable =\n",
              "          await google.colab.kernel.invokeFunction('convertToInteractive',\n",
              "                                                    [key], {});\n",
              "        if (!dataTable) return;\n",
              "\n",
              "        const docLinkHtml = 'Like what you see? Visit the ' +\n",
              "          '<a target=\"_blank\" href=https://colab.research.google.com/notebooks/data_table.ipynb>data table notebook</a>'\n",
              "          + ' to learn more about interactive tables.';\n",
              "        element.innerHTML = '';\n",
              "        dataTable['output_type'] = 'display_data';\n",
              "        await google.colab.output.renderOutput(dataTable, element);\n",
              "        const docLink = document.createElement('div');\n",
              "        docLink.innerHTML = docLinkHtml;\n",
              "        element.appendChild(docLink);\n",
              "      }\n",
              "    </script>\n",
              "  </div>\n",
              "\n",
              "\n",
              "<div id=\"df-594fd91d-0b0a-446a-ad53-ae472ff23439\">\n",
              "  <button class=\"colab-df-quickchart\" onclick=\"quickchart('df-594fd91d-0b0a-446a-ad53-ae472ff23439')\"\n",
              "            title=\"Suggest charts\"\n",
              "            style=\"display:none;\">\n",
              "\n",
              "<svg xmlns=\"http://www.w3.org/2000/svg\" height=\"24px\"viewBox=\"0 0 24 24\"\n",
              "     width=\"24px\">\n",
              "    <g>\n",
              "        <path d=\"M19 3H5c-1.1 0-2 .9-2 2v14c0 1.1.9 2 2 2h14c1.1 0 2-.9 2-2V5c0-1.1-.9-2-2-2zM9 17H7v-7h2v7zm4 0h-2V7h2v10zm4 0h-2v-4h2v4z\"/>\n",
              "    </g>\n",
              "</svg>\n",
              "  </button>\n",
              "\n",
              "<style>\n",
              "  .colab-df-quickchart {\n",
              "      --bg-color: #E8F0FE;\n",
              "      --fill-color: #1967D2;\n",
              "      --hover-bg-color: #E2EBFA;\n",
              "      --hover-fill-color: #174EA6;\n",
              "      --disabled-fill-color: #AAA;\n",
              "      --disabled-bg-color: #DDD;\n",
              "  }\n",
              "\n",
              "  [theme=dark] .colab-df-quickchart {\n",
              "      --bg-color: #3B4455;\n",
              "      --fill-color: #D2E3FC;\n",
              "      --hover-bg-color: #434B5C;\n",
              "      --hover-fill-color: #FFFFFF;\n",
              "      --disabled-bg-color: #3B4455;\n",
              "      --disabled-fill-color: #666;\n",
              "  }\n",
              "\n",
              "  .colab-df-quickchart {\n",
              "    background-color: var(--bg-color);\n",
              "    border: none;\n",
              "    border-radius: 50%;\n",
              "    cursor: pointer;\n",
              "    display: none;\n",
              "    fill: var(--fill-color);\n",
              "    height: 32px;\n",
              "    padding: 0;\n",
              "    width: 32px;\n",
              "  }\n",
              "\n",
              "  .colab-df-quickchart:hover {\n",
              "    background-color: var(--hover-bg-color);\n",
              "    box-shadow: 0 1px 2px rgba(60, 64, 67, 0.3), 0 1px 3px 1px rgba(60, 64, 67, 0.15);\n",
              "    fill: var(--button-hover-fill-color);\n",
              "  }\n",
              "\n",
              "  .colab-df-quickchart-complete:disabled,\n",
              "  .colab-df-quickchart-complete:disabled:hover {\n",
              "    background-color: var(--disabled-bg-color);\n",
              "    fill: var(--disabled-fill-color);\n",
              "    box-shadow: none;\n",
              "  }\n",
              "\n",
              "  .colab-df-spinner {\n",
              "    border: 2px solid var(--fill-color);\n",
              "    border-color: transparent;\n",
              "    border-bottom-color: var(--fill-color);\n",
              "    animation:\n",
              "      spin 1s steps(1) infinite;\n",
              "  }\n",
              "\n",
              "  @keyframes spin {\n",
              "    0% {\n",
              "      border-color: transparent;\n",
              "      border-bottom-color: var(--fill-color);\n",
              "      border-left-color: var(--fill-color);\n",
              "    }\n",
              "    20% {\n",
              "      border-color: transparent;\n",
              "      border-left-color: var(--fill-color);\n",
              "      border-top-color: var(--fill-color);\n",
              "    }\n",
              "    30% {\n",
              "      border-color: transparent;\n",
              "      border-left-color: var(--fill-color);\n",
              "      border-top-color: var(--fill-color);\n",
              "      border-right-color: var(--fill-color);\n",
              "    }\n",
              "    40% {\n",
              "      border-color: transparent;\n",
              "      border-right-color: var(--fill-color);\n",
              "      border-top-color: var(--fill-color);\n",
              "    }\n",
              "    60% {\n",
              "      border-color: transparent;\n",
              "      border-right-color: var(--fill-color);\n",
              "    }\n",
              "    80% {\n",
              "      border-color: transparent;\n",
              "      border-right-color: var(--fill-color);\n",
              "      border-bottom-color: var(--fill-color);\n",
              "    }\n",
              "    90% {\n",
              "      border-color: transparent;\n",
              "      border-bottom-color: var(--fill-color);\n",
              "    }\n",
              "  }\n",
              "</style>\n",
              "\n",
              "  <script>\n",
              "    async function quickchart(key) {\n",
              "      const quickchartButtonEl =\n",
              "        document.querySelector('#' + key + ' button');\n",
              "      quickchartButtonEl.disabled = true;  // To prevent multiple clicks.\n",
              "      quickchartButtonEl.classList.add('colab-df-spinner');\n",
              "      try {\n",
              "        const charts = await google.colab.kernel.invokeFunction(\n",
              "            'suggestCharts', [key], {});\n",
              "      } catch (error) {\n",
              "        console.error('Error during call to suggestCharts:', error);\n",
              "      }\n",
              "      quickchartButtonEl.classList.remove('colab-df-spinner');\n",
              "      quickchartButtonEl.classList.add('colab-df-quickchart-complete');\n",
              "    }\n",
              "    (() => {\n",
              "      let quickchartButtonEl =\n",
              "        document.querySelector('#df-594fd91d-0b0a-446a-ad53-ae472ff23439 button');\n",
              "      quickchartButtonEl.style.display =\n",
              "        google.colab.kernel.accessAllowed ? 'block' : 'none';\n",
              "    })();\n",
              "  </script>\n",
              "</div>\n",
              "\n",
              "    </div>\n",
              "  </div>\n"
            ],
            "application/vnd.google.colaboratory.intrinsic+json": {
              "type": "dataframe",
              "variable_name": "df"
            }
          },
          "metadata": {},
          "execution_count": 58
        }
      ]
    },
    {
      "cell_type": "code",
      "source": [
        "df.info()"
      ],
      "metadata": {
        "colab": {
          "base_uri": "https://localhost:8080/"
        },
        "id": "xLQSU3EhV33N",
        "outputId": "d4098d21-25ce-40ca-85ab-f1e323dbe0ba"
      },
      "execution_count": null,
      "outputs": [
        {
          "output_type": "stream",
          "name": "stdout",
          "text": [
            "<class 'pandas.core.frame.DataFrame'>\n",
            "RangeIndex: 3420 entries, 0 to 3419\n",
            "Data columns (total 28 columns):\n",
            " #   Column                         Non-Null Count  Dtype  \n",
            "---  ------                         --------------  -----  \n",
            " 0   Job ID                         3420 non-null   int64  \n",
            " 1   Agency                         3420 non-null   object \n",
            " 2   Posting Type                   3420 non-null   object \n",
            " 3   # Of Positions                 3420 non-null   int64  \n",
            " 4   Business Title                 3420 non-null   object \n",
            " 5   Civil Service Title            3420 non-null   object \n",
            " 6   Title Code No                  3420 non-null   object \n",
            " 7   Level                          3420 non-null   object \n",
            " 8   Job Category                   3420 non-null   object \n",
            " 9   Full-Time/Part-Time indicator  3420 non-null   object \n",
            " 10  Salary Range From              3420 non-null   object \n",
            " 11  Salary Range To                3420 non-null   float64\n",
            " 12  Salary Frequency               3420 non-null   object \n",
            " 13  Work Location                  3420 non-null   object \n",
            " 14  Division/Work Unit             3420 non-null   object \n",
            " 15  Job Description                3420 non-null   object \n",
            " 16  Minimum Qual Requirements      3408 non-null   object \n",
            " 17  Preferred Skills               3420 non-null   object \n",
            " 18  Additional Information         3418 non-null   object \n",
            " 19  To Apply                       3420 non-null   object \n",
            " 20  Hours/Shift                    3420 non-null   object \n",
            " 21  Work Location 1                3420 non-null   object \n",
            " 22  Recruitment Contact            94 non-null     object \n",
            " 23  Residency Requirement          3326 non-null   object \n",
            " 24  Posting Date                   3420 non-null   object \n",
            " 25  Post Until                     1402 non-null   object \n",
            " 26  Posting Updated                3420 non-null   object \n",
            " 27  Process Date                   3420 non-null   object \n",
            "dtypes: float64(1), int64(2), object(25)\n",
            "memory usage: 748.2+ KB\n"
          ]
        }
      ]
    },
    {
      "cell_type": "code",
      "source": [
        "duplicate_count = df.duplicated(subset='Job Description').sum()\n",
        "\n",
        "print(f\"Number of duplicate rows': {duplicate_count}\")"
      ],
      "metadata": {
        "colab": {
          "base_uri": "https://localhost:8080/"
        },
        "id": "sr7YwxZHV4xa",
        "outputId": "9de62c8b-138d-48d7-9b3c-a0e0e71f0e1a"
      },
      "execution_count": null,
      "outputs": [
        {
          "output_type": "stream",
          "name": "stdout",
          "text": [
            "Number of duplicate rows': 1677\n"
          ]
        }
      ]
    },
    {
      "cell_type": "code",
      "source": [
        "df['Job Description'][3]"
      ],
      "metadata": {
        "colab": {
          "base_uri": "https://localhost:8080/",
          "height": 122
        },
        "id": "6EPPVFNGXIjV",
        "outputId": "d4c163b3-6c37-4f23-f333-dd280336a5ac"
      },
      "execution_count": null,
      "outputs": [
        {
          "output_type": "execute_result",
          "data": {
            "text/plain": [
              "'Under direct supervision, perform elementary environmental engineering work in the field, office or laboratory and receives training in engineering work of moderate difficulty and responsibility on the Assistant Environmental Engineer level.  The work and training may be in one or more of the following engineering areas: development, design, drafting, specifications, estimating, construction, inspection, operations, maintenance, prepares associated reports and correspondence and maintains records; performs related work.  The candidate will review investigation and remediation work plans and reports, evaluate and interpret environmental data, inspect remedial work activities schedule projects and will assist in evaluating work performance.  This position is a grant funded two year position.'"
            ],
            "application/vnd.google.colaboratory.intrinsic+json": {
              "type": "string"
            }
          },
          "metadata": {},
          "execution_count": 65
        }
      ]
    },
    {
      "cell_type": "markdown",
      "source": [
        "# Model"
      ],
      "metadata": {
        "id": "HT9RsUxJWs82"
      }
    },
    {
      "cell_type": "code",
      "source": [
        "from gensim.models.doc2vec import Doc2Vec, TaggedDocument\n",
        "from nltk.tokenize import word_tokenize\n",
        "\n",
        "df['data'] = df[['Query', 'clean_data']].apply(lambda x: ' '.join(x.dropna().astype(str)), axis=1)\n",
        "df.head()"
      ],
      "metadata": {
        "colab": {
          "base_uri": "https://localhost:8080/",
          "height": 293
        },
        "id": "Jlt3-ULVWpNR",
        "outputId": "b5301d46-c46d-4179-9de9-7044afd6e756"
      },
      "execution_count": null,
      "outputs": [
        {
          "output_type": "execute_result",
          "data": {
            "text/plain": [
              "   ID           Query                             Job Title  \\\n",
              "0   1  Data Scientist  Junior Data Scientist Apprenticeship   \n",
              "1   2  Data Scientist   HBO Data Scientist, Content Science   \n",
              "2   3  Data Scientist                 Junior Data Scientist   \n",
              "3   4  Data Scientist                     Jr Data Scientist   \n",
              "4   5  Data Scientist       Data Scientist, Premium Content   \n",
              "\n",
              "                                         Description  \\\n",
              "0  Job Description As a Junior Data Scientist at ...   \n",
              "1  OVERALL SUMMARY As a Data Scientist on the Dat...   \n",
              "2  The Team: The Data science team is a newly for...   \n",
              "3  We now have a need for junior Data Scientist(s...   \n",
              "4  Do you want to help guide the core business of...   \n",
              "\n",
              "                                          clean_data  \\\n",
              "0  job description junior data scientist ibm work...   \n",
              "1  overall summary data scientist data science so...   \n",
              "2  team data science team newly formed applied re...   \n",
              "3  need junior data scientist ny area remote succ...   \n",
              "4  want help guide core business spotify using in...   \n",
              "\n",
              "                                                data  \n",
              "0  Data Scientist job description junior data sci...  \n",
              "1  Data Scientist overall summary data scientist ...  \n",
              "2  Data Scientist team data science team newly fo...  \n",
              "3  Data Scientist need junior data scientist ny a...  \n",
              "4  Data Scientist want help guide core business s...  "
            ],
            "text/html": [
              "\n",
              "  <div id=\"df-23929f34-7ad3-4018-a4bd-b53b58c4d377\" class=\"colab-df-container\">\n",
              "    <div>\n",
              "<style scoped>\n",
              "    .dataframe tbody tr th:only-of-type {\n",
              "        vertical-align: middle;\n",
              "    }\n",
              "\n",
              "    .dataframe tbody tr th {\n",
              "        vertical-align: top;\n",
              "    }\n",
              "\n",
              "    .dataframe thead th {\n",
              "        text-align: right;\n",
              "    }\n",
              "</style>\n",
              "<table border=\"1\" class=\"dataframe\">\n",
              "  <thead>\n",
              "    <tr style=\"text-align: right;\">\n",
              "      <th></th>\n",
              "      <th>ID</th>\n",
              "      <th>Query</th>\n",
              "      <th>Job Title</th>\n",
              "      <th>Description</th>\n",
              "      <th>clean_data</th>\n",
              "      <th>data</th>\n",
              "    </tr>\n",
              "  </thead>\n",
              "  <tbody>\n",
              "    <tr>\n",
              "      <th>0</th>\n",
              "      <td>1</td>\n",
              "      <td>Data Scientist</td>\n",
              "      <td>Junior Data Scientist Apprenticeship</td>\n",
              "      <td>Job Description As a Junior Data Scientist at ...</td>\n",
              "      <td>job description junior data scientist ibm work...</td>\n",
              "      <td>Data Scientist job description junior data sci...</td>\n",
              "    </tr>\n",
              "    <tr>\n",
              "      <th>1</th>\n",
              "      <td>2</td>\n",
              "      <td>Data Scientist</td>\n",
              "      <td>HBO Data Scientist, Content Science</td>\n",
              "      <td>OVERALL SUMMARY As a Data Scientist on the Dat...</td>\n",
              "      <td>overall summary data scientist data science so...</td>\n",
              "      <td>Data Scientist overall summary data scientist ...</td>\n",
              "    </tr>\n",
              "    <tr>\n",
              "      <th>2</th>\n",
              "      <td>3</td>\n",
              "      <td>Data Scientist</td>\n",
              "      <td>Junior Data Scientist</td>\n",
              "      <td>The Team: The Data science team is a newly for...</td>\n",
              "      <td>team data science team newly formed applied re...</td>\n",
              "      <td>Data Scientist team data science team newly fo...</td>\n",
              "    </tr>\n",
              "    <tr>\n",
              "      <th>3</th>\n",
              "      <td>4</td>\n",
              "      <td>Data Scientist</td>\n",
              "      <td>Jr Data Scientist</td>\n",
              "      <td>We now have a need for junior Data Scientist(s...</td>\n",
              "      <td>need junior data scientist ny area remote succ...</td>\n",
              "      <td>Data Scientist need junior data scientist ny a...</td>\n",
              "    </tr>\n",
              "    <tr>\n",
              "      <th>4</th>\n",
              "      <td>5</td>\n",
              "      <td>Data Scientist</td>\n",
              "      <td>Data Scientist, Premium Content</td>\n",
              "      <td>Do you want to help guide the core business of...</td>\n",
              "      <td>want help guide core business spotify using in...</td>\n",
              "      <td>Data Scientist want help guide core business s...</td>\n",
              "    </tr>\n",
              "  </tbody>\n",
              "</table>\n",
              "</div>\n",
              "    <div class=\"colab-df-buttons\">\n",
              "\n",
              "  <div class=\"colab-df-container\">\n",
              "    <button class=\"colab-df-convert\" onclick=\"convertToInteractive('df-23929f34-7ad3-4018-a4bd-b53b58c4d377')\"\n",
              "            title=\"Convert this dataframe to an interactive table.\"\n",
              "            style=\"display:none;\">\n",
              "\n",
              "  <svg xmlns=\"http://www.w3.org/2000/svg\" height=\"24px\" viewBox=\"0 -960 960 960\">\n",
              "    <path d=\"M120-120v-720h720v720H120Zm60-500h600v-160H180v160Zm220 220h160v-160H400v160Zm0 220h160v-160H400v160ZM180-400h160v-160H180v160Zm440 0h160v-160H620v160ZM180-180h160v-160H180v160Zm440 0h160v-160H620v160Z\"/>\n",
              "  </svg>\n",
              "    </button>\n",
              "\n",
              "  <style>\n",
              "    .colab-df-container {\n",
              "      display:flex;\n",
              "      gap: 12px;\n",
              "    }\n",
              "\n",
              "    .colab-df-convert {\n",
              "      background-color: #E8F0FE;\n",
              "      border: none;\n",
              "      border-radius: 50%;\n",
              "      cursor: pointer;\n",
              "      display: none;\n",
              "      fill: #1967D2;\n",
              "      height: 32px;\n",
              "      padding: 0 0 0 0;\n",
              "      width: 32px;\n",
              "    }\n",
              "\n",
              "    .colab-df-convert:hover {\n",
              "      background-color: #E2EBFA;\n",
              "      box-shadow: 0px 1px 2px rgba(60, 64, 67, 0.3), 0px 1px 3px 1px rgba(60, 64, 67, 0.15);\n",
              "      fill: #174EA6;\n",
              "    }\n",
              "\n",
              "    .colab-df-buttons div {\n",
              "      margin-bottom: 4px;\n",
              "    }\n",
              "\n",
              "    [theme=dark] .colab-df-convert {\n",
              "      background-color: #3B4455;\n",
              "      fill: #D2E3FC;\n",
              "    }\n",
              "\n",
              "    [theme=dark] .colab-df-convert:hover {\n",
              "      background-color: #434B5C;\n",
              "      box-shadow: 0px 1px 3px 1px rgba(0, 0, 0, 0.15);\n",
              "      filter: drop-shadow(0px 1px 2px rgba(0, 0, 0, 0.3));\n",
              "      fill: #FFFFFF;\n",
              "    }\n",
              "  </style>\n",
              "\n",
              "    <script>\n",
              "      const buttonEl =\n",
              "        document.querySelector('#df-23929f34-7ad3-4018-a4bd-b53b58c4d377 button.colab-df-convert');\n",
              "      buttonEl.style.display =\n",
              "        google.colab.kernel.accessAllowed ? 'block' : 'none';\n",
              "\n",
              "      async function convertToInteractive(key) {\n",
              "        const element = document.querySelector('#df-23929f34-7ad3-4018-a4bd-b53b58c4d377');\n",
              "        const dataTable =\n",
              "          await google.colab.kernel.invokeFunction('convertToInteractive',\n",
              "                                                    [key], {});\n",
              "        if (!dataTable) return;\n",
              "\n",
              "        const docLinkHtml = 'Like what you see? Visit the ' +\n",
              "          '<a target=\"_blank\" href=https://colab.research.google.com/notebooks/data_table.ipynb>data table notebook</a>'\n",
              "          + ' to learn more about interactive tables.';\n",
              "        element.innerHTML = '';\n",
              "        dataTable['output_type'] = 'display_data';\n",
              "        await google.colab.output.renderOutput(dataTable, element);\n",
              "        const docLink = document.createElement('div');\n",
              "        docLink.innerHTML = docLinkHtml;\n",
              "        element.appendChild(docLink);\n",
              "      }\n",
              "    </script>\n",
              "  </div>\n",
              "\n",
              "\n",
              "<div id=\"df-a2c400c2-c7ad-4af2-a2f2-59aafe73b761\">\n",
              "  <button class=\"colab-df-quickchart\" onclick=\"quickchart('df-a2c400c2-c7ad-4af2-a2f2-59aafe73b761')\"\n",
              "            title=\"Suggest charts\"\n",
              "            style=\"display:none;\">\n",
              "\n",
              "<svg xmlns=\"http://www.w3.org/2000/svg\" height=\"24px\"viewBox=\"0 0 24 24\"\n",
              "     width=\"24px\">\n",
              "    <g>\n",
              "        <path d=\"M19 3H5c-1.1 0-2 .9-2 2v14c0 1.1.9 2 2 2h14c1.1 0 2-.9 2-2V5c0-1.1-.9-2-2-2zM9 17H7v-7h2v7zm4 0h-2V7h2v10zm4 0h-2v-4h2v4z\"/>\n",
              "    </g>\n",
              "</svg>\n",
              "  </button>\n",
              "\n",
              "<style>\n",
              "  .colab-df-quickchart {\n",
              "      --bg-color: #E8F0FE;\n",
              "      --fill-color: #1967D2;\n",
              "      --hover-bg-color: #E2EBFA;\n",
              "      --hover-fill-color: #174EA6;\n",
              "      --disabled-fill-color: #AAA;\n",
              "      --disabled-bg-color: #DDD;\n",
              "  }\n",
              "\n",
              "  [theme=dark] .colab-df-quickchart {\n",
              "      --bg-color: #3B4455;\n",
              "      --fill-color: #D2E3FC;\n",
              "      --hover-bg-color: #434B5C;\n",
              "      --hover-fill-color: #FFFFFF;\n",
              "      --disabled-bg-color: #3B4455;\n",
              "      --disabled-fill-color: #666;\n",
              "  }\n",
              "\n",
              "  .colab-df-quickchart {\n",
              "    background-color: var(--bg-color);\n",
              "    border: none;\n",
              "    border-radius: 50%;\n",
              "    cursor: pointer;\n",
              "    display: none;\n",
              "    fill: var(--fill-color);\n",
              "    height: 32px;\n",
              "    padding: 0;\n",
              "    width: 32px;\n",
              "  }\n",
              "\n",
              "  .colab-df-quickchart:hover {\n",
              "    background-color: var(--hover-bg-color);\n",
              "    box-shadow: 0 1px 2px rgba(60, 64, 67, 0.3), 0 1px 3px 1px rgba(60, 64, 67, 0.15);\n",
              "    fill: var(--button-hover-fill-color);\n",
              "  }\n",
              "\n",
              "  .colab-df-quickchart-complete:disabled,\n",
              "  .colab-df-quickchart-complete:disabled:hover {\n",
              "    background-color: var(--disabled-bg-color);\n",
              "    fill: var(--disabled-fill-color);\n",
              "    box-shadow: none;\n",
              "  }\n",
              "\n",
              "  .colab-df-spinner {\n",
              "    border: 2px solid var(--fill-color);\n",
              "    border-color: transparent;\n",
              "    border-bottom-color: var(--fill-color);\n",
              "    animation:\n",
              "      spin 1s steps(1) infinite;\n",
              "  }\n",
              "\n",
              "  @keyframes spin {\n",
              "    0% {\n",
              "      border-color: transparent;\n",
              "      border-bottom-color: var(--fill-color);\n",
              "      border-left-color: var(--fill-color);\n",
              "    }\n",
              "    20% {\n",
              "      border-color: transparent;\n",
              "      border-left-color: var(--fill-color);\n",
              "      border-top-color: var(--fill-color);\n",
              "    }\n",
              "    30% {\n",
              "      border-color: transparent;\n",
              "      border-left-color: var(--fill-color);\n",
              "      border-top-color: var(--fill-color);\n",
              "      border-right-color: var(--fill-color);\n",
              "    }\n",
              "    40% {\n",
              "      border-color: transparent;\n",
              "      border-right-color: var(--fill-color);\n",
              "      border-top-color: var(--fill-color);\n",
              "    }\n",
              "    60% {\n",
              "      border-color: transparent;\n",
              "      border-right-color: var(--fill-color);\n",
              "    }\n",
              "    80% {\n",
              "      border-color: transparent;\n",
              "      border-right-color: var(--fill-color);\n",
              "      border-bottom-color: var(--fill-color);\n",
              "    }\n",
              "    90% {\n",
              "      border-color: transparent;\n",
              "      border-bottom-color: var(--fill-color);\n",
              "    }\n",
              "  }\n",
              "</style>\n",
              "\n",
              "  <script>\n",
              "    async function quickchart(key) {\n",
              "      const quickchartButtonEl =\n",
              "        document.querySelector('#' + key + ' button');\n",
              "      quickchartButtonEl.disabled = true;  // To prevent multiple clicks.\n",
              "      quickchartButtonEl.classList.add('colab-df-spinner');\n",
              "      try {\n",
              "        const charts = await google.colab.kernel.invokeFunction(\n",
              "            'suggestCharts', [key], {});\n",
              "      } catch (error) {\n",
              "        console.error('Error during call to suggestCharts:', error);\n",
              "      }\n",
              "      quickchartButtonEl.classList.remove('colab-df-spinner');\n",
              "      quickchartButtonEl.classList.add('colab-df-quickchart-complete');\n",
              "    }\n",
              "    (() => {\n",
              "      let quickchartButtonEl =\n",
              "        document.querySelector('#df-a2c400c2-c7ad-4af2-a2f2-59aafe73b761 button');\n",
              "      quickchartButtonEl.style.display =\n",
              "        google.colab.kernel.accessAllowed ? 'block' : 'none';\n",
              "    })();\n",
              "  </script>\n",
              "</div>\n",
              "\n",
              "    </div>\n",
              "  </div>\n"
            ],
            "application/vnd.google.colaboratory.intrinsic+json": {
              "type": "dataframe",
              "variable_name": "df",
              "summary": "{\n  \"name\": \"df\",\n  \"rows\": 9377,\n  \"fields\": [\n    {\n      \"column\": \"ID\",\n      \"properties\": {\n        \"dtype\": \"number\",\n        \"std\": 2862,\n        \"min\": 1,\n        \"max\": 10000,\n        \"num_unique_values\": 9377,\n        \"samples\": [\n          2298,\n          4603,\n          4649\n        ],\n        \"semantic_type\": \"\",\n        \"description\": \"\"\n      }\n    },\n    {\n      \"column\": \"Query\",\n      \"properties\": {\n        \"dtype\": \"category\",\n        \"num_unique_values\": 25,\n        \"samples\": [\n          \"Machine Learning\",\n          \"Technology Integration\",\n          \"Data Scientist\"\n        ],\n        \"semantic_type\": \"\",\n        \"description\": \"\"\n      }\n    },\n    {\n      \"column\": \"Job Title\",\n      \"properties\": {\n        \"dtype\": \"string\",\n        \"num_unique_values\": 7385,\n        \"samples\": [\n          \"Learning Architect\",\n          \"Supply/Warehouse Worker\",\n          \"Senior Administrator, Oracle Database\"\n        ],\n        \"semantic_type\": \"\",\n        \"description\": \"\"\n      }\n    },\n    {\n      \"column\": \"Description\",\n      \"properties\": {\n        \"dtype\": \"string\",\n        \"num_unique_values\": 9377,\n        \"samples\": [\n          \"The Database Administrator is a member of RSM\\u2019s technical services group and is responsible for the operational support of Microsoft SQL Database platform. The database administrator will work closely with Senior DBA, IT management and other functional groups to deploy, administer and provide level three support for the company\\u2019s enterprise database systems. He/she must have excellent written and oral communication skills and be able to work, collaborate and coordinate between technical and non-technical people within the company. Essential Duties: Provide troubleshooting support for Microsoft SQL servers. Monitor and manage server health, functionality and availability related to database servers. Install, configure, secure and maintain technical Dev, QA and Production environments. Configure and Integrate 3rd party applications and add-ons. Regular review of event logs and performance monitors through the creation of alerts. Participates in disaster recovery practices. Provides direct support of Microsoft SQL servers, databases and related enterprise applications. Supports internal development, functional technology and project teams on a recurring basis. Monitors and optimizes system performance based on Microsoft best practices. Implements upgrades, enhancements and fixes following established change management procedures. Works with Microsoft Support and other 3rd party vendors in resolution of support issues on as-needed basis. Adheres to technical standards, procedures and techniques for the resolution of enterprise database problems to ensure maximum application availability and performance. Collaborates with other IT technical engineers, developers and Program Management personnel. Participates in scheduled and unscheduled weekend/after-hours system maintenance and support. Performs rotational on-call duty. Other duties as assigned. Education: Post-Secondary degree in Computer Science, Software Engineering, Information Systems or equivalent work history/experience (Required) Experience: Minimum of 3 years of Information Services/Technology experience (Required) Minimum of 1 Year Database Administrator experience with Microsoft SQL or similar relational database (Required) MS SQL Certifications (Preferred) Project Team Involvement (Preferred) Technical Skills: Microsoft Windows Server (Required) Microsoft SQL Server - basic operations to include backup and recovery (Required) Microsoft SQL Server Reporting Services knowledge (Preferred) Microsoft SQL Server Integration Services experience(Preferred) Microsoft PowerShell experience (Preferred) IT Development (.NET, C) experience (Preferred) You want your next step to be the right one. You've worked hard to get where you are today. And now you're ready to use your unique skills, talents and personality to achieve great things. RSM is a place where you are valued as an individual, mentored as a future leader, and recognized for your accomplishments and potential. Working directly with clients, key decision makers and business owners across various industries and geographies, you'll move quickly along the learning curve and our clients will benefit from your fresh perspective. Experience RSM US. Experience the power of being understood. RSM is an equal opportunity/affirmative action employer. Minorities/Females/Disabled/Veterans.\",\n          \"Comcast brings together the best in media and technology. We drive innovation to create the world's best entertainment and online experiences. As a Fortune 50 leader, we set the pace in a variety of innovative and fascinating businesses and create career opportunities across a wide range of locations and disciplines. We are at the forefront of change and move at an amazing pace, thanks to our remarkable people, who bring cutting-edge products and services to life for millions of customers every day. If you share in our passion for teamwork, our vision to revolutionize industries and our goal to lead the future in media and technology, we want you to fast-forward your career at Comcast. Summary: The Senior Analyst is responsible for all data management and analysis for Comcast's Employee Volunteerism and Giving programs for Community Impact. The Senior Analyst is also responsible for program coordination and management, ensuring projects and events are delivered in a timely and budget- conscious manner. The Employee Volunteerism and Giving team manages Comcast's volunteer day of service, Comcast Cares Day, as well as the yearly employee giving campaign. Additionally, the team leads the strategy for year-round volunteerism and engagement, including all programmatic, data, reporting and technology aspects.Responsibilities: - Execute reporting and analytics pertaining to Comcast's volunteer day of service, giving campaign and all other year-round volunteerism and engagement initiatives, touching all of Comcast's employee base- Regular employee data cleanup and structure based on geographic, demographic and other business unit segmentation needs- Key point of contact for volunteer project and campaign coordinators and team leaders throughout the company, providing data trends and recommendations specific to their respective business units- Ability to quickly learn the data and table structure and execute regular (daily in some cases) geographic and demographic trackers- Works on analytical projects, including large sets of data with respect to Comcast's employee volunteerism and giving trends.- Ad hoc reporting based on employee volunteerism and giving trends and historical data at the request of the internal department or external business units- Ability to understand and synthesize data trends and insights to be presented to executive leadership- Ensures accurate and consistent employee data management accounting for year over year changes- Program and event coordination and planning, working closely with multiple stakeholders and partners throughout the company as well as with various community organizations.- Coordination with various third party organizations to ensure a high quality volunteer experience during Comcast Cares Day and other year-round volunteering events.- Ad hoc project coordination and management, specifically including Comcast Cares Day planning- Assist with and/or assume responsibility for special projects as assigned- Other duties and responsibilities as assigned- Consistent exercise of independent judgment and discretionMinimum Requirements: - Bachelor's Degree or equivalent required- Minimum 3-5 years related data analysis experience- Experience in corporate finance, business intelligence, Human Resources or operations role with tracking, reporting and analysis experience- Experience or passion for the volunteerism, community impact, and/or corporate social responsibility space- Ability to analyze data and shape and synthesize the story behind that data- Proficient in Microsoft Office software- Advanced Excel skills including but not limited to vlookups, pivot tables, transposing, counifs, etc.- Familiarity with SQL and Tableau data visualization preferred- Familiarity with HR employee systems and databases is a plus- Strong project management and coordination skills, with ideal experience in volunteer project management and employee engagement- Ability to manage multiple volunteer projects at the same time, delivering the project goals on time and within the allocated budget- Ability to interface with all levels of management- Excellent organizational skills and attention to detail- Excellent oral and written communication skills- Regular, consistent and punctual attendance. Must be able to work nights and weekends, variable schedule(s) as necessary. Comcast is an EOE/Veterans/Disabled/LGBT employer\",\n          \"The Sr. Business Analyst is responsible for driving revenue growth through the identification of opportunities and risks. The Sr. Business Analyst will work to understand the business strategy and numerous underlying operational processes so that they can provide analytical reporting that drives sales representative behavior and results in customer retention and product upsells. To be effective in this role, the Sr. Business Analyst will need to partner and coordinate efforts with Sales Management and will work closely with the Customer Intelligence lead in communicating results with others throughout the leadership levels of each business unit. The individual will need to be able to bridge topics in order to effectively communicate with technical resources in several teams. The position will require expertise in enterprise data to support accurate and meaningful analyses. Technical skills will also be heavily leveraged as new datasets are profiled and documented and as data is retrieved and analyzed from the data warehouse. Analytical reporting and statistical analysis will be delivered through Oracle Business Intelligence and Excel. The Sr. Business Analyst is responsible for effectively rolling out Oracle Business Intelligence and in ensuring weekly adoption and usage are at levels established by each respective business unit or user group. On an ongoing basis, the Sr. Business Analyst will need to review usage levels and identify areas where adoption can be improved and analytical reporting that needs to be revised. The Sr. Business Analyst will need to be well connected to their user base (usually more than 100 individuals) and understand their goals so that analytical reporting is provided in the most meaningful context. Responsibilities may include: Collaborate with various groups to develop dashboard reports containing key metrics. Ensure that dashboards are clearly understood, utilized, and integrated into the decisions made by the business units. This will include dedicated rollout of Oracle Business Intelligence and support of several segments of individuals. Performs regular QA (testing/validation) on dashboards Identify data and metrics that help to predict retention issues and upsell opportunities. Proactively identify additional metrics and trends that are helpful in informing business decisions. Research, review, assimilates, and perform data and statistical analysis on data from various sources. Partner with data warehouse and Oracle Business Intelligence teams to implement reporting improvements through managed projects (data and/or technology changes). Collaborate with business clients primarily using 1x1 interviews, facilitate small group sessions and/or larger JAD sessions as appropriate. Use group facilitation techniques to drive consensus. Identify improvements to providing user support. Improvements could be related to data or the technology used to track and manage report requests. Identify opportunities to measure (quantitatively and qualitatively) and report the teams financial impact on the organization. Ensure weekly adoption of OBI is at or above target levels set for each user base. Establish training program(s) to drive adoption and utilization. All other duties as assigned. Qualifications: 5-7 years experience required. BA/BS degree or equivalent experience. Understanding of organizational operating procedures (value chain) Detailed understanding of enterprise data (sources, definitions, keys, etc.). Understanding of LN Risk Solution Product portfolio and various internal operating processes (onboarding, marketing lead creation, order submission, etc.). Proficient skills in report writing and dashboard creation within Oracle Business Intelligence Proficient SQL skills Excellent ability to work independently Excellent User Interface (UI) design experience Exceptional analytical and quantitative skills Outstanding verbal and written communication skills particularly with senior leadership Excellent ability to listen and understand business needs in order to gather reporting requirements and provide relevant reports Strong business acumen; must see big picture from strategy standpoint Strong organizational skills Exception attention to detail Microsoft office suite At LexisNexis Risk Solutions, we believe in the power of data and advanced analytics for better risk management. With over 40 years of expertise, we are the trusted data analytics provider for organizations seeking actionable insights to manage risks and improve results while upholding the highest standards for security and privacy. Headquartered in metro Atlanta, LexisNexis Risk Solutions serves customers in more than 100 countries and is part of RELX Group plc, a world-leading provider of information and analytics for professional and business customers across industries. For more information, please visit www.lexisnexisrisk.com. LexisNexis Risk Solutions is an equal opportunity employer: qualified applicants are considered for and treated during employment without regard to race, color, creed, religion, sex, national origin, citizenship status, disability status, protected veteran status, age, marital status, sexual orientation, gender identity, genetic information, or any other characteristic protected by law. If a qualified individual with a disability or disabled veteran needs a reasonable accommodation to use or access our online system, that individual should please contact 1.877.734.1938 or accommodations@relx.com.\"\n        ],\n        \"semantic_type\": \"\",\n        \"description\": \"\"\n      }\n    },\n    {\n      \"column\": \"clean_data\",\n      \"properties\": {\n        \"dtype\": \"string\",\n        \"num_unique_values\": 9327,\n        \"samples\": [\n          \"individual responsible providing highly complex technical support engineering organization synopsys position required support improve complex linux high performance compute dynamic demanding engineering environment furthermore person responsible collaborating globally providing leaderhip effort various activity related synopsys engineering environment responsibility provide advanced linux rhel centos ubuntu suse troubleshooting technical support engineering organization participate support case management related engineering infrastructure participate x oncall support rotation schedule maintain monitor produce analyze metric production system ensure optimal performance resource utilization uptime assist daytoday maintenance engineering infrastructure including linux system build configuration security management patching automation system upgrade troubleshooting complex technical issue responsible leading participating number small medium large scale enterprisewide project partner engineering deliver strategic initiative project recommend technology automation effort contribute roadmaps leveraging current future technology providing innovative sustainable solution complex problem qualification year strong experience support linux rhel centos ubuntu suse kickstart pxe environment support maintain improve troubleshoot related technology strong interpersonal communication skill capable training user mentoring system administrator complex topic interacting positively management level independent problemsolving troubleshooting engineering focused complex global linux environment associated infrastructure proficient aspect linux operating system administration including system installation configuration management high performance computing security package repository patching installation thirdparty software large environment solid understanding linuxbased operating system including virtual memory management kernel memory accounting daemon device device driver loadable module filesystem concept skilled one configuration management tool support large environment preferably ansible ability write support complex script program preferably using python perl bash c experience development component compiler make building using open source tool source code revision control gitperforce understanding networkingdistributed computing environment concept including nfs dns ldap experience virtualized environment vmware xen citrix experience managing large node compute cluster master degree information systemscomputer science equivalent experience required desired skill linux certification red hat linux foundation equivalent exposure aws infrastructure openstack hybrid cloud compute model experience silicon eda sw workload experience large network attached storage netapp emc isilon environment requires strong interpersonal communication skill\",\n          \"job summary working direct supervision provides routine daytoday operation administrative support business unit large department assist coordination budget process improvement control specialized software function enabling department meet objective effective efficient manner essential duty responsibility analyzes monthly department budget report maintain expense control prepares commentary explanation variance management review assist system administration specialized software utilized business group support operation research resolve routine support issue followsup ensure open issue resolved assist preparing user reference material troubleshoots resolve simple inquiry request internal external client review monitor department process procedure identify opportunity improve service delivery internal external customer may network external contact research recommend best practice coordinate budget preparation research collect input multiple internal external resource compiles variety operating financial statistical information needed respond management request coordinate work department may add commentary complete analysis report proposal assist communication best practice policy procedure initiative support operation help facilitate process improvement engaging appropriate resource issue identification resolution assist developing project plan cost including personnel fiscal requirement achieve defined objective may provide periodic update relative project resource fiscal plan performs duty assigned supervisory responsibility formal supervisory responsibility position provides informal assistance technical guidance andor training coworkers may lead project team andor plan supervise assignment lower level employee qualification perform job successfully individual must able perform essential duty satisfactorily requirement listed representative knowledge skill andor ability required reasonable accommodation may made enable individual disability perform essential function education experience bachelor degree babs equivalent four year college university plus minimum two year related work experience include budgeting finance business analytics equivalent combination education experience work experience related specific department business unit function preferred certificate andor license none communication skill excellent written verbal communication skill strong organizational analytical skill ability provide efficient timely reliable courteous service customer ability effectively present information financial knowledge requires knowledge financial term principle ability calculate intermediate figure percentage discount andor commission conduct basic financial analysis reasoning ability ability comprehend analyze interpret document ability solve problem involving several option situation requires intermediate analytical quantitative skill skill andor ability advanced proficiency microsoft office suite spreadsheet skill set include advanced function graphic pivot table scope responsibility decision made understanding procedure company policy achieve set result deadline responsible setting project deadline error judgment may cause shortterm impact coworkers supervisor\",\n          \"science technology mission year lawrence livermore national laboratory llnl applied science technology make world safer place seeking highly qualified scientist engineer join interdisciplinary team system analyst supporting program across global security principal directorate chemicalbiologicalexplosives security nuclear threat reduction intelligence program energyinfrastructurecyber security apply combination technical depth breadth critical thinking modeling simulation analysis understand multidomain problem area provide decision insight communicate option tradeoff facilitates integration new technology support customer mission position programmatically global security system analysis group administratively report payroll supervisor hiring organization position filled either s s level depending qualification additional job responsibility outlined assigned selected higher level essential duty provide solution requiring advanced analysis creative use innovation method problem intermediate complexity collaborating scientist researcher across variety technical discipline create analytical framework evaluate competing characteristic determine solution effectively meet customer stakeholder objective provide decision insight stakeholder moderately complex problem area develop evaluate apply physical computational simulation gain insight fairly complex system partner llnl scientist engineer bring research result practical use llnl global security program communicate technical concept intermediate complexity stakeholder concise effective way perform duty assigned addition s level manage multiple parallel task priority customer stakeholder ensure deadline met lead various complex project leverage team member skill complete complex project task mentor staff assist recruiting effort serve primary technical point contact sponsor stakeholder participate development new program business qualification m engineering physical computer science related field equivalent combination education related experience comprehensive record technical achievement demonstrated ability approach hard problem enthusiasm creativity flexibility change focus necessary comprehensive analytical problemsolving decisionmaking skill develop creative solution moderately complex problem proficient verbal written interpersonal communication skill necessary effectively collaborate multidisciplinary team environment communicate technical information document work prepare present successful proposal high quality research paper ability travel offsite including potentially internationally sponsor customer interaction addition s level significant experience leading system analysis project advanced analytical problemsolving decisionmaking skill develop creative solution complex problem demonstrated ability work independently effectively manage advanced concurrent technical task competing priority implement advanced research concept multidisciplinary team environment commitment deadline important project success desired qualification phd engineering physical computer science expertise one following area cyber security modeling simulation risk analysis data analytics chemical biological security explosive intelligence analysis radiological nuclear security energy system infrastructure protection expert knowledge substantial experience project manager principal investigator project competing priority loosely defined deliverable high visibility significant experience working department homeland security department energy intelligence community relevant government sponsor preemployment drug test external applicant selected position required pas postoffer preemployment drug test security clearance position requires department energy doe qlevel clearance selected initiate federal background investigation determine meet eligibility requirement access classified information matter addition l q cleared employee subject random drug testing qlevel clearance requires u citizenship hold multiple citizenship u another country may required renounce nonus citizenship doe l q clearance processedgranted note career indefinite position lab employee external candidate may considered position u lawrence livermore national laboratory llnl located san francisco bay area east bay premier applied science laboratory part national nuclear security administration nnsa within department energy doe llnls mission strengthening national security developing applying cuttingedge science technology engineering respond vision quality integrity technical excellence scientific issue national importance laboratory current annual budget billion employing approximately employee llnl affirmative action equal opportunity employer qualified applicant receive consideration employment without regard race color religion marital status national origin ancestry sex sexual orientation gender identity disability medical condition protected veteran status age citizenship characteristic protected law\"\n        ],\n        \"semantic_type\": \"\",\n        \"description\": \"\"\n      }\n    },\n    {\n      \"column\": \"data\",\n      \"properties\": {\n        \"dtype\": \"string\",\n        \"num_unique_values\": 9335,\n        \"samples\": [\n          \"Business Analyst mercer advisor feeonly independent ria whose purpose helping client achieve economic freedom established one nation first feeonly financial planning firm rich legacy operating exclusively fiduciary unique many rias offer fullsuite service house client including investment management financial planning estate planning inhouse law firm tax planning preparation staff cpa trustee service billion asset client growing rapidly organic inorganic growth acquisition last two year looking talented motivated people like add growth business culture job summary business intelligence analyst integral part strategy business intelligence team group responsible informing strategic action efficient business process across company senior leadership sale marketing operation finance organization rely group report operational activity performance organization client account level aggregated businesslevel result business intelligence analyst responsible researching collecting analyzing reporting operational business data multiple source position provides administrative analytical support needed drive daytoday efficiency decision ability work team well effectively manage project area responsibility critical success role ideal individual analytically minded fluid manipulating reporting business operational data interest participating gaining experience decision real impact business result essential experience financial service andor technology field would useful example activity area analyst level would include creating new report salesforce enable sale leadership understand status prospect opportunity ongoing management monthly process report asset flow business understanding data need strategic project pulling data different source assembling spreadsheet used project team partnering business team member identify need define requirement create dashboard tableau help individual financial advisor review result updating dashboard weekly basis researching understanding difference data definition filter influencing result reported different system result different creating implementing monitoring process ensure data field salesforce maintained accurate qualification bachelor degree bachelor degree accredited institution strongly preferred preference field business economics accounting finance science engineering successful completion analytic coursework economics mathematics physical science minimum year operation experience excellent verbal written analytical organizational skill ability demonstrate flexibility adaptability environment rapidly changing business technology need proficiency m word excel powerpoint outlookvba mysql selfmotivated proactive ability work team working condition professional office environment working inside standing sitting assigned workstation heavy lifting lb offer exciting fastpaced working environment opportunity play vital role growth mercer advisor equal opportunity employer offering competitive salary benefit package accepting unsolicited resume agency andor search firm job posting\",\n          \"IT Consultant program consultant cultural care au pair cambridge description want work fun highenergy environment make difference people life day help open world education cultural exchange cultural care au pair seeking tenacious determined program consultant work potential host family educate childcare option cultural care au pair help solve childcare need role great entry world cultural care offer exciting potential career advancement right candidate cultural care au pair help young adult around world make impressive commitment spend year living away family friend live american host family cultural care au pair designated program sponsor u department state federally regulated au pair program provide support program management exchange year cultural care recently celebrated year bringing family au pair together worldwide organization based country average tenure u staff year increasing based boston denver office field based able make friend almost anyone frequently strike conversation person seated next airplane youre adventurous speak passionately people regularly ask suggestion place go thing weekend time split check dinner friend grab divide calculate tip youre staying friend look collect call takeout order concept friendly game miniature golf stretch youd prefer win responsibility consistently aim quality outgoing call interested host family cold call proactively reach prospect navigate daily task sale calling task assignment connect customer considering inviting au pair home timely personable manner get family excited possibility au pair childcare cultural exchange evaluate suitability potential host family coordination government regulation set clear expectation next step overall program regularly meet individual team goal collaborate across department help department busier month ideal candidate high motivation hit daily weekly monthly goal team player attitude excellent time management organizational skill strong adaptability flexibility resourcefulness roll punch adapt scheduled work day thrown longer call ability effectively manage high daily phone call email volume prior experience sale plus consultative needsbased selling skill polished speaking writing skill entrepreneurial spirit positive upbeat demeanor creative sale environment collaborate department ability work minimum one saturday pmonth overtime compensation included bachelor degree benefit perk marketleading health insurance option harvard pilgrim bonus potential beyond salary week paid vacation st year followed week ndyear company match k contribution fidelity comprehensive training professional development including international trip visit overseas team sunny openconcept office space company match charitable contribution per year complimentary inhouse language class fitness class community service group various ef activity cultural care au pair affiliated ef education first world leader international education founded efs mission open world education date ef helped million people learn language discover world earn academic degree information visit\",\n          \"IT Consultant opportunity training development consultant rbc wealth management design develop deploy manage private client group training program initiative including initial focus compliance supervision content design develop maintain impactful elearning content using articulate storyline development supporting content resource key strategic initiative program create maintain training program page intranet site internal communication coordinate manage local distance virtual training session call lm administration coordination reporting need succeed musthave bachelor degree equivalent work experience year designing developing engaging elearning content articulate storyline similar authoring tool articulate studio captivate etc year training facilitation design role proven dedication focus client service strong interpersonal skill including ability work smes business partner ass need ask critical question negotiate resource make appropriate decision nice financial service experience series plus compliance regulatory background voiceover audio editing experience lm administration reporting experience successfactorstalentlink plus demonstrated experience coordinating local distance virtual training event call series webex virtual platform whats thrive challenge best progressive thinking keep growing working together deliver trusted advice help client thrive community prosper care reaching potential making difference community achieving success mutual client first always earn right client first choice collaboration win one rbc accountability take ownership personal collective high performance diversity inclusion embrace diversity innovation growth integrity hold highest standard build trust rbc royal bank canada canada largest bank one largest bank world based market capitalization one north america leading diversified financial service company provide personal commercial banking wealth management insurance investor service capital market product service global basis full parttime employee serve million personal business public sector institutional client office canada u country information please visit rbccom join talent community stay intheknow great career opportunity rbc sign get customized info latest job career tip recruitment event matter expand limit create new future together rbc find use passion drive enhance wellbeing client community rbccomcareers inclusion equal opportunity employment rbc equal opportunity employer committed diversity inclusion pleased consider qualified applicant employment without regard race color religion sex sexual orientation gender identity national origin age disability protected veteran status aboriginalnative american status legallyprotected factor disabilityrelated accommodation application process available upon request job summary city minneapolis address south th street work hoursweek work environment office employment type regular u career level experienced hireprofessional pay type salaried required travel exemptnonexempt exempt people manager application deadline req id posting note\"\n        ],\n        \"semantic_type\": \"\",\n        \"description\": \"\"\n      }\n    }\n  ]\n}"
            }
          },
          "metadata": {},
          "execution_count": 10
        }
      ]
    },
    {
      "cell_type": "code",
      "source": [
        "data = list(df['data'])\n",
        "tagged_data = [TaggedDocument(words = word_tokenize(_d.lower()), tags = [str(i)]) for i, _d in enumerate(data)]"
      ],
      "metadata": {
        "id": "clfn8WJqX3bH"
      },
      "execution_count": null,
      "outputs": []
    },
    {
      "cell_type": "code",
      "source": [
        "tagged_data[1]"
      ],
      "metadata": {
        "colab": {
          "base_uri": "https://localhost:8080/"
        },
        "id": "PV4Jt8nrYBs4",
        "outputId": "768fa48c-306f-4aa7-d15e-8b416c52cff3"
      },
      "execution_count": null,
      "outputs": [
        {
          "output_type": "execute_result",
          "data": {
            "text/plain": [
              "TaggedDocument(words=['data', 'scientist', 'overall', 'summary', 'data', 'scientist', 'data', 'science', 'solution', 'team', 'individual', 'responsible', 'building', 'advance', 'data', 'science', 'analytical', 'solution', 'help', 'hbo', 'better', 'understand', 'grow', 'best', 'class', 'television', 'film', 'library', 'data', 'product', 'individual', 'develops', 'wide', 'impact', 'across', 'business', 'helping', 'hbo', 'audience', 'discover', 'new', 'content', 'finding', 'new', 'hit', 'television', 'show', 'data', 'scientist', 'work', 'closely', 'engineering', 'team', 'ensure', 'product', 'insight', 'properly', 'moved', 'production', 'environment', 'used', 'wider', 'analytics', 'team', 'drive', 'business', 'strategy', 'primary', 'responsibility', 'lead', 'development', 'data', 'science', 'solution', 'help', 'hbo', 'make', 'smarter', 'content', 'decision', 'across', 'development', 'scheduling', 'marketing', 'digital', 'platform', 'including', 'hbo', 'hbo', 'go', 'hbocom', 'mine', 'hbo', 'third', 'party', 'data', 'better', 'understand', 'consumer', 'make', 'entertainment', 'choice', 'work', 'engineering', 'team', 'transfer', 'knowledge', 'process', 'production', 'environment', 'requirement', 'bachelor', 'degree', 'm', 'quantitative', 'field', 'study', 'statistic', 'operation', 'research', 'etc', 'accredited', 'institution', 'extensive', 'work', 'experience', 'experience', 'applying', 'machine', 'learning', 'professional', 'environment', 'experience', 'neural', 'network', 'computer', 'vision', 'deep', 'learning', 'plus', 'strong', 'background', 'analytic', 'programming', 'r', 'python', 'strong', 'desire', 'continue', 'learn', 'develop', 'data', 'scientist', 'proven', 'technical', 'ability', 'excellent', 'written', 'verbal', 'communication', 'presentation', 'skill', 'proven', 'success', 'partnering', 'engineering', 'business', 'team', 'logical', 'thinking', 'ability', 'capability', 'work', 'multiple', 'project', 'simultaneously', 'limited', 'supervision', 'year', 'relevant', 'experience'], tags=['1'])"
            ]
          },
          "metadata": {},
          "execution_count": 12
        }
      ]
    },
    {
      "cell_type": "code",
      "source": [
        "model = Doc2Vec(vector_size = 50,\n",
        "  min_count = 5,\n",
        "  epochs = 50,\n",
        "  alpha = 0.001\n",
        ")"
      ],
      "metadata": {
        "id": "yxyNWr0xYUHG"
      },
      "execution_count": null,
      "outputs": []
    },
    {
      "cell_type": "code",
      "source": [
        "model.build_vocab(tagged_data)\n",
        "# Get the vocabulary keys\n",
        "keys = model.wv.key_to_index.keys()\n",
        "# Print the length of the vocabulary keys\n",
        "print(len(keys))"
      ],
      "metadata": {
        "colab": {
          "base_uri": "https://localhost:8080/"
        },
        "id": "Cp_LTieVYVi0",
        "outputId": "9860d75d-584f-4a2a-b814-2cacbc79a6f3"
      },
      "execution_count": null,
      "outputs": [
        {
          "output_type": "stream",
          "name": "stdout",
          "text": [
            "15645\n"
          ]
        }
      ]
    },
    {
      "cell_type": "code",
      "source": [
        "import time\n",
        "\n",
        "# Assuming 'model' is your model object and 'tagged_data' is your training data\n",
        "for epoch in range(model.epochs):\n",
        "    print(f\"Training epoch {epoch + 1}/{model.epochs}\")\n",
        "\n",
        "    # Start timer\n",
        "    start_time = time.time()\n",
        "\n",
        "    # Train the model for one epoch\n",
        "    model.train(tagged_data,\n",
        "                total_examples=model.corpus_count,\n",
        "                epochs=1)  # Ensure only one epoch is trained at a time\n",
        "\n",
        "    # End timer\n",
        "    end_time = time.time()\n",
        "\n",
        "    # Calculate and print the duration\n",
        "    epoch_duration = end_time - start_time\n",
        "    print(f\"Epoch {epoch + 1} completed in {epoch_duration:.2f} seconds\")"
      ],
      "metadata": {
        "colab": {
          "base_uri": "https://localhost:8080/"
        },
        "id": "MfL9OzM2YY9N",
        "outputId": "5a7a58c7-294a-4863-b0e9-8454e9d8af44"
      },
      "execution_count": null,
      "outputs": [
        {
          "output_type": "stream",
          "name": "stdout",
          "text": [
            "Training epoch 1/50\n"
          ]
        },
        {
          "output_type": "stream",
          "name": "stderr",
          "text": [
            "WARNING:gensim.models.word2vec:Effective 'alpha' higher than previous training cycles\n"
          ]
        },
        {
          "output_type": "stream",
          "name": "stdout",
          "text": [
            "Epoch 1 completed in 6.70 seconds\n",
            "Training epoch 2/1\n"
          ]
        },
        {
          "output_type": "stream",
          "name": "stderr",
          "text": [
            "WARNING:gensim.models.word2vec:Effective 'alpha' higher than previous training cycles\n"
          ]
        },
        {
          "output_type": "stream",
          "name": "stdout",
          "text": [
            "Epoch 2 completed in 7.48 seconds\n",
            "Training epoch 3/1\n"
          ]
        },
        {
          "output_type": "stream",
          "name": "stderr",
          "text": [
            "WARNING:gensim.models.word2vec:Effective 'alpha' higher than previous training cycles\n"
          ]
        },
        {
          "output_type": "stream",
          "name": "stdout",
          "text": [
            "Epoch 3 completed in 6.43 seconds\n",
            "Training epoch 4/1\n"
          ]
        },
        {
          "output_type": "stream",
          "name": "stderr",
          "text": [
            "WARNING:gensim.models.word2vec:Effective 'alpha' higher than previous training cycles\n"
          ]
        },
        {
          "output_type": "stream",
          "name": "stdout",
          "text": [
            "Epoch 4 completed in 7.74 seconds\n",
            "Training epoch 5/1\n"
          ]
        },
        {
          "output_type": "stream",
          "name": "stderr",
          "text": [
            "WARNING:gensim.models.word2vec:Effective 'alpha' higher than previous training cycles\n"
          ]
        },
        {
          "output_type": "stream",
          "name": "stdout",
          "text": [
            "Epoch 5 completed in 6.10 seconds\n",
            "Training epoch 6/1\n"
          ]
        },
        {
          "output_type": "stream",
          "name": "stderr",
          "text": [
            "WARNING:gensim.models.word2vec:Effective 'alpha' higher than previous training cycles\n"
          ]
        },
        {
          "output_type": "stream",
          "name": "stdout",
          "text": [
            "Epoch 6 completed in 7.94 seconds\n",
            "Training epoch 7/1\n"
          ]
        },
        {
          "output_type": "stream",
          "name": "stderr",
          "text": [
            "WARNING:gensim.models.word2vec:Effective 'alpha' higher than previous training cycles\n"
          ]
        },
        {
          "output_type": "stream",
          "name": "stdout",
          "text": [
            "Epoch 7 completed in 6.15 seconds\n",
            "Training epoch 8/1\n"
          ]
        },
        {
          "output_type": "stream",
          "name": "stderr",
          "text": [
            "WARNING:gensim.models.word2vec:Effective 'alpha' higher than previous training cycles\n"
          ]
        },
        {
          "output_type": "stream",
          "name": "stdout",
          "text": [
            "Epoch 8 completed in 7.84 seconds\n",
            "Training epoch 9/1\n"
          ]
        },
        {
          "output_type": "stream",
          "name": "stderr",
          "text": [
            "WARNING:gensim.models.word2vec:Effective 'alpha' higher than previous training cycles\n"
          ]
        },
        {
          "output_type": "stream",
          "name": "stdout",
          "text": [
            "Epoch 9 completed in 6.10 seconds\n",
            "Training epoch 10/1\n"
          ]
        },
        {
          "output_type": "stream",
          "name": "stderr",
          "text": [
            "WARNING:gensim.models.word2vec:Effective 'alpha' higher than previous training cycles\n"
          ]
        },
        {
          "output_type": "stream",
          "name": "stdout",
          "text": [
            "Epoch 10 completed in 7.75 seconds\n",
            "Training epoch 11/1\n"
          ]
        },
        {
          "output_type": "stream",
          "name": "stderr",
          "text": [
            "WARNING:gensim.models.word2vec:Effective 'alpha' higher than previous training cycles\n"
          ]
        },
        {
          "output_type": "stream",
          "name": "stdout",
          "text": [
            "Epoch 11 completed in 6.04 seconds\n",
            "Training epoch 12/1\n"
          ]
        },
        {
          "output_type": "stream",
          "name": "stderr",
          "text": [
            "WARNING:gensim.models.word2vec:Effective 'alpha' higher than previous training cycles\n"
          ]
        },
        {
          "output_type": "stream",
          "name": "stdout",
          "text": [
            "Epoch 12 completed in 7.88 seconds\n",
            "Training epoch 13/1\n"
          ]
        },
        {
          "output_type": "stream",
          "name": "stderr",
          "text": [
            "WARNING:gensim.models.word2vec:Effective 'alpha' higher than previous training cycles\n"
          ]
        },
        {
          "output_type": "stream",
          "name": "stdout",
          "text": [
            "Epoch 13 completed in 6.10 seconds\n",
            "Training epoch 14/1\n"
          ]
        },
        {
          "output_type": "stream",
          "name": "stderr",
          "text": [
            "WARNING:gensim.models.word2vec:Effective 'alpha' higher than previous training cycles\n"
          ]
        },
        {
          "output_type": "stream",
          "name": "stdout",
          "text": [
            "Epoch 14 completed in 7.77 seconds\n",
            "Training epoch 15/1\n"
          ]
        },
        {
          "output_type": "stream",
          "name": "stderr",
          "text": [
            "WARNING:gensim.models.word2vec:Effective 'alpha' higher than previous training cycles\n"
          ]
        },
        {
          "output_type": "stream",
          "name": "stdout",
          "text": [
            "Epoch 15 completed in 6.11 seconds\n",
            "Training epoch 16/1\n"
          ]
        },
        {
          "output_type": "stream",
          "name": "stderr",
          "text": [
            "WARNING:gensim.models.word2vec:Effective 'alpha' higher than previous training cycles\n"
          ]
        },
        {
          "output_type": "stream",
          "name": "stdout",
          "text": [
            "Epoch 16 completed in 7.82 seconds\n",
            "Training epoch 17/1\n"
          ]
        },
        {
          "output_type": "stream",
          "name": "stderr",
          "text": [
            "WARNING:gensim.models.word2vec:Effective 'alpha' higher than previous training cycles\n"
          ]
        },
        {
          "output_type": "stream",
          "name": "stdout",
          "text": [
            "Epoch 17 completed in 6.07 seconds\n",
            "Training epoch 18/1\n"
          ]
        },
        {
          "output_type": "stream",
          "name": "stderr",
          "text": [
            "WARNING:gensim.models.word2vec:Effective 'alpha' higher than previous training cycles\n"
          ]
        },
        {
          "output_type": "stream",
          "name": "stdout",
          "text": [
            "Epoch 18 completed in 7.72 seconds\n",
            "Training epoch 19/1\n"
          ]
        },
        {
          "output_type": "stream",
          "name": "stderr",
          "text": [
            "WARNING:gensim.models.word2vec:Effective 'alpha' higher than previous training cycles\n"
          ]
        },
        {
          "output_type": "stream",
          "name": "stdout",
          "text": [
            "Epoch 19 completed in 6.11 seconds\n",
            "Training epoch 20/1\n"
          ]
        },
        {
          "output_type": "stream",
          "name": "stderr",
          "text": [
            "WARNING:gensim.models.word2vec:Effective 'alpha' higher than previous training cycles\n"
          ]
        },
        {
          "output_type": "stream",
          "name": "stdout",
          "text": [
            "Epoch 20 completed in 7.93 seconds\n",
            "Training epoch 21/1\n"
          ]
        },
        {
          "output_type": "stream",
          "name": "stderr",
          "text": [
            "WARNING:gensim.models.word2vec:Effective 'alpha' higher than previous training cycles\n"
          ]
        },
        {
          "output_type": "stream",
          "name": "stdout",
          "text": [
            "Epoch 21 completed in 6.15 seconds\n",
            "Training epoch 22/1\n"
          ]
        },
        {
          "output_type": "stream",
          "name": "stderr",
          "text": [
            "WARNING:gensim.models.word2vec:Effective 'alpha' higher than previous training cycles\n"
          ]
        },
        {
          "output_type": "stream",
          "name": "stdout",
          "text": [
            "Epoch 22 completed in 7.81 seconds\n",
            "Training epoch 23/1\n"
          ]
        },
        {
          "output_type": "stream",
          "name": "stderr",
          "text": [
            "WARNING:gensim.models.word2vec:Effective 'alpha' higher than previous training cycles\n"
          ]
        },
        {
          "output_type": "stream",
          "name": "stdout",
          "text": [
            "Epoch 23 completed in 6.12 seconds\n",
            "Training epoch 24/1\n"
          ]
        },
        {
          "output_type": "stream",
          "name": "stderr",
          "text": [
            "WARNING:gensim.models.word2vec:Effective 'alpha' higher than previous training cycles\n"
          ]
        },
        {
          "output_type": "stream",
          "name": "stdout",
          "text": [
            "Epoch 24 completed in 7.55 seconds\n",
            "Training epoch 25/1\n"
          ]
        },
        {
          "output_type": "stream",
          "name": "stderr",
          "text": [
            "WARNING:gensim.models.word2vec:Effective 'alpha' higher than previous training cycles\n"
          ]
        },
        {
          "output_type": "stream",
          "name": "stdout",
          "text": [
            "Epoch 25 completed in 6.29 seconds\n",
            "Training epoch 26/1\n"
          ]
        },
        {
          "output_type": "stream",
          "name": "stderr",
          "text": [
            "WARNING:gensim.models.word2vec:Effective 'alpha' higher than previous training cycles\n"
          ]
        },
        {
          "output_type": "stream",
          "name": "stdout",
          "text": [
            "Epoch 26 completed in 7.21 seconds\n",
            "Training epoch 27/1\n"
          ]
        },
        {
          "output_type": "stream",
          "name": "stderr",
          "text": [
            "WARNING:gensim.models.word2vec:Effective 'alpha' higher than previous training cycles\n"
          ]
        },
        {
          "output_type": "stream",
          "name": "stdout",
          "text": [
            "Epoch 27 completed in 6.56 seconds\n",
            "Training epoch 28/1\n"
          ]
        },
        {
          "output_type": "stream",
          "name": "stderr",
          "text": [
            "WARNING:gensim.models.word2vec:Effective 'alpha' higher than previous training cycles\n"
          ]
        },
        {
          "output_type": "stream",
          "name": "stdout",
          "text": [
            "Epoch 28 completed in 6.61 seconds\n",
            "Training epoch 29/1\n"
          ]
        },
        {
          "output_type": "stream",
          "name": "stderr",
          "text": [
            "WARNING:gensim.models.word2vec:Effective 'alpha' higher than previous training cycles\n"
          ]
        },
        {
          "output_type": "stream",
          "name": "stdout",
          "text": [
            "Epoch 29 completed in 7.01 seconds\n",
            "Training epoch 30/1\n"
          ]
        },
        {
          "output_type": "stream",
          "name": "stderr",
          "text": [
            "WARNING:gensim.models.word2vec:Effective 'alpha' higher than previous training cycles\n"
          ]
        },
        {
          "output_type": "stream",
          "name": "stdout",
          "text": [
            "Epoch 30 completed in 6.73 seconds\n",
            "Training epoch 31/1\n"
          ]
        },
        {
          "output_type": "stream",
          "name": "stderr",
          "text": [
            "WARNING:gensim.models.word2vec:Effective 'alpha' higher than previous training cycles\n"
          ]
        },
        {
          "output_type": "stream",
          "name": "stdout",
          "text": [
            "Epoch 31 completed in 7.14 seconds\n",
            "Training epoch 32/1\n"
          ]
        },
        {
          "output_type": "stream",
          "name": "stderr",
          "text": [
            "WARNING:gensim.models.word2vec:Effective 'alpha' higher than previous training cycles\n"
          ]
        },
        {
          "output_type": "stream",
          "name": "stdout",
          "text": [
            "Epoch 32 completed in 6.40 seconds\n",
            "Training epoch 33/1\n"
          ]
        },
        {
          "output_type": "stream",
          "name": "stderr",
          "text": [
            "WARNING:gensim.models.word2vec:Effective 'alpha' higher than previous training cycles\n"
          ]
        },
        {
          "output_type": "stream",
          "name": "stdout",
          "text": [
            "Epoch 33 completed in 7.39 seconds\n",
            "Training epoch 34/1\n"
          ]
        },
        {
          "output_type": "stream",
          "name": "stderr",
          "text": [
            "WARNING:gensim.models.word2vec:Effective 'alpha' higher than previous training cycles\n"
          ]
        },
        {
          "output_type": "stream",
          "name": "stdout",
          "text": [
            "Epoch 34 completed in 6.06 seconds\n",
            "Training epoch 35/1\n"
          ]
        },
        {
          "output_type": "stream",
          "name": "stderr",
          "text": [
            "WARNING:gensim.models.word2vec:Effective 'alpha' higher than previous training cycles\n"
          ]
        },
        {
          "output_type": "stream",
          "name": "stdout",
          "text": [
            "Epoch 35 completed in 7.86 seconds\n",
            "Training epoch 36/1\n"
          ]
        },
        {
          "output_type": "stream",
          "name": "stderr",
          "text": [
            "WARNING:gensim.models.word2vec:Effective 'alpha' higher than previous training cycles\n"
          ]
        },
        {
          "output_type": "stream",
          "name": "stdout",
          "text": [
            "Epoch 36 completed in 6.04 seconds\n",
            "Training epoch 37/1\n"
          ]
        },
        {
          "output_type": "stream",
          "name": "stderr",
          "text": [
            "WARNING:gensim.models.word2vec:Effective 'alpha' higher than previous training cycles\n"
          ]
        },
        {
          "output_type": "stream",
          "name": "stdout",
          "text": [
            "Epoch 37 completed in 7.71 seconds\n",
            "Training epoch 38/1\n"
          ]
        },
        {
          "output_type": "stream",
          "name": "stderr",
          "text": [
            "WARNING:gensim.models.word2vec:Effective 'alpha' higher than previous training cycles\n"
          ]
        },
        {
          "output_type": "stream",
          "name": "stdout",
          "text": [
            "Epoch 38 completed in 6.22 seconds\n",
            "Training epoch 39/1\n"
          ]
        },
        {
          "output_type": "stream",
          "name": "stderr",
          "text": [
            "WARNING:gensim.models.word2vec:Effective 'alpha' higher than previous training cycles\n"
          ]
        },
        {
          "output_type": "stream",
          "name": "stdout",
          "text": [
            "Epoch 39 completed in 7.78 seconds\n",
            "Training epoch 40/1\n"
          ]
        },
        {
          "output_type": "stream",
          "name": "stderr",
          "text": [
            "WARNING:gensim.models.word2vec:Effective 'alpha' higher than previous training cycles\n"
          ]
        },
        {
          "output_type": "stream",
          "name": "stdout",
          "text": [
            "Epoch 40 completed in 6.14 seconds\n",
            "Training epoch 41/1\n"
          ]
        },
        {
          "output_type": "stream",
          "name": "stderr",
          "text": [
            "WARNING:gensim.models.word2vec:Effective 'alpha' higher than previous training cycles\n"
          ]
        },
        {
          "output_type": "stream",
          "name": "stdout",
          "text": [
            "Epoch 41 completed in 7.77 seconds\n",
            "Training epoch 42/1\n"
          ]
        },
        {
          "output_type": "stream",
          "name": "stderr",
          "text": [
            "WARNING:gensim.models.word2vec:Effective 'alpha' higher than previous training cycles\n"
          ]
        },
        {
          "output_type": "stream",
          "name": "stdout",
          "text": [
            "Epoch 42 completed in 5.96 seconds\n",
            "Training epoch 43/1\n"
          ]
        },
        {
          "output_type": "stream",
          "name": "stderr",
          "text": [
            "WARNING:gensim.models.word2vec:Effective 'alpha' higher than previous training cycles\n"
          ]
        },
        {
          "output_type": "stream",
          "name": "stdout",
          "text": [
            "Epoch 43 completed in 7.79 seconds\n",
            "Training epoch 44/1\n"
          ]
        },
        {
          "output_type": "stream",
          "name": "stderr",
          "text": [
            "WARNING:gensim.models.word2vec:Effective 'alpha' higher than previous training cycles\n"
          ]
        },
        {
          "output_type": "stream",
          "name": "stdout",
          "text": [
            "Epoch 44 completed in 6.14 seconds\n",
            "Training epoch 45/1\n"
          ]
        },
        {
          "output_type": "stream",
          "name": "stderr",
          "text": [
            "WARNING:gensim.models.word2vec:Effective 'alpha' higher than previous training cycles\n"
          ]
        },
        {
          "output_type": "stream",
          "name": "stdout",
          "text": [
            "Epoch 45 completed in 7.72 seconds\n",
            "Training epoch 46/1\n"
          ]
        },
        {
          "output_type": "stream",
          "name": "stderr",
          "text": [
            "WARNING:gensim.models.word2vec:Effective 'alpha' higher than previous training cycles\n"
          ]
        },
        {
          "output_type": "stream",
          "name": "stdout",
          "text": [
            "Epoch 46 completed in 5.95 seconds\n",
            "Training epoch 47/1\n"
          ]
        },
        {
          "output_type": "stream",
          "name": "stderr",
          "text": [
            "WARNING:gensim.models.word2vec:Effective 'alpha' higher than previous training cycles\n"
          ]
        },
        {
          "output_type": "stream",
          "name": "stdout",
          "text": [
            "Epoch 47 completed in 7.88 seconds\n",
            "Training epoch 48/1\n"
          ]
        },
        {
          "output_type": "stream",
          "name": "stderr",
          "text": [
            "WARNING:gensim.models.word2vec:Effective 'alpha' higher than previous training cycles\n"
          ]
        },
        {
          "output_type": "stream",
          "name": "stdout",
          "text": [
            "Epoch 48 completed in 5.98 seconds\n",
            "Training epoch 49/1\n"
          ]
        },
        {
          "output_type": "stream",
          "name": "stderr",
          "text": [
            "WARNING:gensim.models.word2vec:Effective 'alpha' higher than previous training cycles\n"
          ]
        },
        {
          "output_type": "stream",
          "name": "stdout",
          "text": [
            "Epoch 49 completed in 7.49 seconds\n",
            "Training epoch 50/1\n",
            "Epoch 50 completed in 6.16 seconds\n"
          ]
        }
      ]
    },
    {
      "cell_type": "code",
      "source": [],
      "metadata": {
        "id": "hCgisZ4-3a18"
      },
      "execution_count": null,
      "outputs": []
    }
  ]
}