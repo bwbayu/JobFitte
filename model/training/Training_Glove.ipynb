{
  "nbformat": 4,
  "nbformat_minor": 0,
  "metadata": {
    "colab": {
      "provenance": [],
      "include_colab_link": true
    },
    "kernelspec": {
      "name": "python3",
      "display_name": "Python 3"
    },
    "language_info": {
      "name": "python"
    }
  },
  "cells": [
    {
      "cell_type": "markdown",
      "metadata": {
        "id": "view-in-github",
        "colab_type": "text"
      },
      "source": [
        "<a href=\"https://colab.research.google.com/github/bwbayu/TalentMatch/blob/development/model/training/Training_Glove.ipynb\" target=\"_parent\"><img src=\"https://colab.research.google.com/assets/colab-badge.svg\" alt=\"Open In Colab\"/></a>"
      ]
    },
    {
      "cell_type": "code",
      "source": [
        "from google.colab import drive\n",
        "drive.mount('/content/drive')"
      ],
      "metadata": {
        "colab": {
          "base_uri": "https://localhost:8080/"
        },
        "id": "N5EIcheeUwnD",
        "outputId": "cb08f782-0144-4873-b75c-e736b6a88405"
      },
      "execution_count": null,
      "outputs": [
        {
          "output_type": "stream",
          "name": "stdout",
          "text": [
            "Mounted at /content/drive\n"
          ]
        }
      ]
    },
    {
      "cell_type": "code",
      "source": [
        "!pip install gensim"
      ],
      "metadata": {
        "colab": {
          "base_uri": "https://localhost:8080/"
        },
        "id": "MnHJP8RWctYX",
        "outputId": "77c33436-d7b6-4dc9-a2ad-2ef8a587a274"
      },
      "execution_count": null,
      "outputs": [
        {
          "output_type": "stream",
          "name": "stdout",
          "text": [
            "Requirement already satisfied: gensim in /usr/local/lib/python3.10/dist-packages (4.3.3)\n",
            "Requirement already satisfied: numpy<2.0,>=1.18.5 in /usr/local/lib/python3.10/dist-packages (from gensim) (1.26.4)\n",
            "Requirement already satisfied: scipy<1.14.0,>=1.7.0 in /usr/local/lib/python3.10/dist-packages (from gensim) (1.13.1)\n",
            "Requirement already satisfied: smart-open>=1.8.1 in /usr/local/lib/python3.10/dist-packages (from gensim) (7.0.4)\n",
            "Requirement already satisfied: wrapt in /usr/local/lib/python3.10/dist-packages (from smart-open>=1.8.1->gensim) (1.16.0)\n"
          ]
        }
      ]
    },
    {
      "cell_type": "code",
      "source": [
        "!pip install wordsegment\n",
        "!pip install num2words\n",
        "!pip install deep-translator"
      ],
      "metadata": {
        "colab": {
          "base_uri": "https://localhost:8080/"
        },
        "id": "HsrEWVUvp1a6",
        "outputId": "33d593c3-6dae-4f99-9575-55c56f2fefcc"
      },
      "execution_count": null,
      "outputs": [
        {
          "output_type": "stream",
          "name": "stdout",
          "text": [
            "Collecting wordsegment\n",
            "  Downloading wordsegment-1.3.1-py2.py3-none-any.whl.metadata (7.7 kB)\n",
            "Downloading wordsegment-1.3.1-py2.py3-none-any.whl (4.8 MB)\n",
            "\u001b[2K   \u001b[90m━━━━━━━━━━━━━━━━━━━━━━━━━━━━━━━━━━━━━━━━\u001b[0m \u001b[32m4.8/4.8 MB\u001b[0m \u001b[31m29.8 MB/s\u001b[0m eta \u001b[36m0:00:00\u001b[0m\n",
            "\u001b[?25hInstalling collected packages: wordsegment\n",
            "Successfully installed wordsegment-1.3.1\n",
            "Collecting num2words\n",
            "  Downloading num2words-0.5.13-py3-none-any.whl.metadata (12 kB)\n",
            "Collecting docopt>=0.6.2 (from num2words)\n",
            "  Downloading docopt-0.6.2.tar.gz (25 kB)\n",
            "  Preparing metadata (setup.py) ... \u001b[?25l\u001b[?25hdone\n",
            "Downloading num2words-0.5.13-py3-none-any.whl (143 kB)\n",
            "\u001b[2K   \u001b[90m━━━━━━━━━━━━━━━━━━━━━━━━━━━━━━━━━━━━━━━━\u001b[0m \u001b[32m143.3/143.3 kB\u001b[0m \u001b[31m7.4 MB/s\u001b[0m eta \u001b[36m0:00:00\u001b[0m\n",
            "\u001b[?25hBuilding wheels for collected packages: docopt\n",
            "  Building wheel for docopt (setup.py) ... \u001b[?25l\u001b[?25hdone\n",
            "  Created wheel for docopt: filename=docopt-0.6.2-py2.py3-none-any.whl size=13704 sha256=67658f5ba71f4b5bebf6a44015b1a0248f143baa08d7f0e125a06c92ea3da0a6\n",
            "  Stored in directory: /root/.cache/pip/wheels/fc/ab/d4/5da2067ac95b36618c629a5f93f809425700506f72c9732fac\n",
            "Successfully built docopt\n",
            "Installing collected packages: docopt, num2words\n",
            "Successfully installed docopt-0.6.2 num2words-0.5.13\n",
            "Collecting deep-translator\n",
            "  Downloading deep_translator-1.11.4-py3-none-any.whl.metadata (30 kB)\n",
            "Requirement already satisfied: beautifulsoup4<5.0.0,>=4.9.1 in /usr/local/lib/python3.10/dist-packages (from deep-translator) (4.12.3)\n",
            "Requirement already satisfied: requests<3.0.0,>=2.23.0 in /usr/local/lib/python3.10/dist-packages (from deep-translator) (2.31.0)\n",
            "Requirement already satisfied: soupsieve>1.2 in /usr/local/lib/python3.10/dist-packages (from beautifulsoup4<5.0.0,>=4.9.1->deep-translator) (2.5)\n",
            "Requirement already satisfied: charset-normalizer<4,>=2 in /usr/local/lib/python3.10/dist-packages (from requests<3.0.0,>=2.23.0->deep-translator) (3.3.2)\n",
            "Requirement already satisfied: idna<4,>=2.5 in /usr/local/lib/python3.10/dist-packages (from requests<3.0.0,>=2.23.0->deep-translator) (3.7)\n",
            "Requirement already satisfied: urllib3<3,>=1.21.1 in /usr/local/lib/python3.10/dist-packages (from requests<3.0.0,>=2.23.0->deep-translator) (2.0.7)\n",
            "Requirement already satisfied: certifi>=2017.4.17 in /usr/local/lib/python3.10/dist-packages (from requests<3.0.0,>=2.23.0->deep-translator) (2024.7.4)\n",
            "Downloading deep_translator-1.11.4-py3-none-any.whl (42 kB)\n",
            "\u001b[2K   \u001b[90m━━━━━━━━━━━━━━━━━━━━━━━━━━━━━━━━━━━━━━━━\u001b[0m \u001b[32m42.3/42.3 kB\u001b[0m \u001b[31m2.5 MB/s\u001b[0m eta \u001b[36m0:00:00\u001b[0m\n",
            "\u001b[?25hInstalling collected packages: deep-translator\n",
            "Successfully installed deep-translator-1.11.4\n"
          ]
        }
      ]
    },
    {
      "cell_type": "code",
      "execution_count": null,
      "metadata": {
        "id": "Nl33g6huN7Nv"
      },
      "outputs": [],
      "source": [
        "import pandas as pd\n",
        "import numpy as np"
      ]
    },
    {
      "cell_type": "code",
      "source": [
        "from gensim.models import KeyedVectors\n",
        "from gensim.models import Word2Vec\n",
        "from nltk.tokenize import word_tokenize\n",
        "import nltk\n",
        "nltk.download('punkt')"
      ],
      "metadata": {
        "colab": {
          "base_uri": "https://localhost:8080/"
        },
        "id": "TYL7R84nS6aU",
        "outputId": "8042db13-a319-4db7-a031-71259badbfac"
      },
      "execution_count": null,
      "outputs": [
        {
          "output_type": "stream",
          "name": "stderr",
          "text": [
            "[nltk_data] Downloading package punkt to /root/nltk_data...\n",
            "[nltk_data]   Unzipping tokenizers/punkt.zip.\n"
          ]
        },
        {
          "output_type": "execute_result",
          "data": {
            "text/plain": [
              "True"
            ]
          },
          "metadata": {},
          "execution_count": 5
        }
      ]
    },
    {
      "cell_type": "code",
      "source": [
        "df = pd.read_csv('/content/drive/MyDrive/compfest dataset/dataset/combined_all_nverbs.csv')"
      ],
      "metadata": {
        "id": "m7_57tauSFNW"
      },
      "execution_count": null,
      "outputs": []
    },
    {
      "cell_type": "code",
      "source": [
        "df.info()"
      ],
      "metadata": {
        "colab": {
          "base_uri": "https://localhost:8080/"
        },
        "id": "H_T7UZTMjcgF",
        "outputId": "e6320bcf-abb4-422b-e74d-062645c08e99"
      },
      "execution_count": null,
      "outputs": [
        {
          "output_type": "stream",
          "name": "stdout",
          "text": [
            "<class 'pandas.core.frame.DataFrame'>\n",
            "RangeIndex: 35413 entries, 0 to 35412\n",
            "Data columns (total 2 columns):\n",
            " #   Column       Non-Null Count  Dtype \n",
            "---  ------       --------------  ----- \n",
            " 0   clean_data   35413 non-null  object\n",
            " 1   text_length  35413 non-null  int64 \n",
            "dtypes: int64(1), object(1)\n",
            "memory usage: 553.5+ KB\n"
          ]
        }
      ]
    },
    {
      "cell_type": "code",
      "source": [
        "def tokenize_text(text):\n",
        "    return word_tokenize(text.lower())\n",
        "\n",
        "df['tokenized_data'] = df['clean_data'].apply(tokenize_text)"
      ],
      "metadata": {
        "id": "dbkTJvb7nA4w"
      },
      "execution_count": null,
      "outputs": []
    },
    {
      "cell_type": "code",
      "source": [
        "glove_file = '/content/drive/MyDrive/model/glove.6B.50d.txt'\n",
        "glove_model = KeyedVectors.load_word2vec_format(glove_file, binary=False, no_header=True)"
      ],
      "metadata": {
        "id": "II8dE3g9czzm",
        "colab": {
          "base_uri": "https://localhost:8080/",
          "height": 321
        },
        "outputId": "26a0be60-e904-4163-994c-22a133274126"
      },
      "execution_count": null,
      "outputs": [
        {
          "output_type": "error",
          "ename": "FileNotFoundError",
          "evalue": "[Errno 2] No such file or directory: '/content/drive/MyDrive/model/glove.6B.50d.txt'",
          "traceback": [
            "\u001b[0;31m---------------------------------------------------------------------------\u001b[0m",
            "\u001b[0;31mFileNotFoundError\u001b[0m                         Traceback (most recent call last)",
            "\u001b[0;32m<ipython-input-104-1fe01c90bfb2>\u001b[0m in \u001b[0;36m<cell line: 2>\u001b[0;34m()\u001b[0m\n\u001b[1;32m      1\u001b[0m \u001b[0mglove_file\u001b[0m \u001b[0;34m=\u001b[0m \u001b[0;34m'/content/drive/MyDrive/model/glove.6B.50d.txt'\u001b[0m\u001b[0;34m\u001b[0m\u001b[0;34m\u001b[0m\u001b[0m\n\u001b[0;32m----> 2\u001b[0;31m \u001b[0mglove_model\u001b[0m \u001b[0;34m=\u001b[0m \u001b[0mKeyedVectors\u001b[0m\u001b[0;34m.\u001b[0m\u001b[0mload_word2vec_format\u001b[0m\u001b[0;34m(\u001b[0m\u001b[0mglove_file\u001b[0m\u001b[0;34m,\u001b[0m \u001b[0mbinary\u001b[0m\u001b[0;34m=\u001b[0m\u001b[0;32mFalse\u001b[0m\u001b[0;34m,\u001b[0m \u001b[0mno_header\u001b[0m\u001b[0;34m=\u001b[0m\u001b[0;32mTrue\u001b[0m\u001b[0;34m)\u001b[0m\u001b[0;34m\u001b[0m\u001b[0;34m\u001b[0m\u001b[0m\n\u001b[0m",
            "\u001b[0;32m/usr/local/lib/python3.10/dist-packages/gensim/models/keyedvectors.py\u001b[0m in \u001b[0;36mload_word2vec_format\u001b[0;34m(cls, fname, fvocab, binary, encoding, unicode_errors, limit, datatype, no_header)\u001b[0m\n\u001b[1;32m   1717\u001b[0m \u001b[0;34m\u001b[0m\u001b[0m\n\u001b[1;32m   1718\u001b[0m         \"\"\"\n\u001b[0;32m-> 1719\u001b[0;31m         return _load_word2vec_format(\n\u001b[0m\u001b[1;32m   1720\u001b[0m             \u001b[0mcls\u001b[0m\u001b[0;34m,\u001b[0m \u001b[0mfname\u001b[0m\u001b[0;34m,\u001b[0m \u001b[0mfvocab\u001b[0m\u001b[0;34m=\u001b[0m\u001b[0mfvocab\u001b[0m\u001b[0;34m,\u001b[0m \u001b[0mbinary\u001b[0m\u001b[0;34m=\u001b[0m\u001b[0mbinary\u001b[0m\u001b[0;34m,\u001b[0m \u001b[0mencoding\u001b[0m\u001b[0;34m=\u001b[0m\u001b[0mencoding\u001b[0m\u001b[0;34m,\u001b[0m \u001b[0municode_errors\u001b[0m\u001b[0;34m=\u001b[0m\u001b[0municode_errors\u001b[0m\u001b[0;34m,\u001b[0m\u001b[0;34m\u001b[0m\u001b[0;34m\u001b[0m\u001b[0m\n\u001b[1;32m   1721\u001b[0m             \u001b[0mlimit\u001b[0m\u001b[0;34m=\u001b[0m\u001b[0mlimit\u001b[0m\u001b[0;34m,\u001b[0m \u001b[0mdatatype\u001b[0m\u001b[0;34m=\u001b[0m\u001b[0mdatatype\u001b[0m\u001b[0;34m,\u001b[0m \u001b[0mno_header\u001b[0m\u001b[0;34m=\u001b[0m\u001b[0mno_header\u001b[0m\u001b[0;34m,\u001b[0m\u001b[0;34m\u001b[0m\u001b[0;34m\u001b[0m\u001b[0m\n",
            "\u001b[0;32m/usr/local/lib/python3.10/dist-packages/gensim/models/keyedvectors.py\u001b[0m in \u001b[0;36m_load_word2vec_format\u001b[0;34m(cls, fname, fvocab, binary, encoding, unicode_errors, limit, datatype, no_header, binary_chunk_size)\u001b[0m\n\u001b[1;32m   2046\u001b[0m \u001b[0;34m\u001b[0m\u001b[0m\n\u001b[1;32m   2047\u001b[0m     \u001b[0mlogger\u001b[0m\u001b[0;34m.\u001b[0m\u001b[0minfo\u001b[0m\u001b[0;34m(\u001b[0m\u001b[0;34m\"loading projection weights from %s\"\u001b[0m\u001b[0;34m,\u001b[0m \u001b[0mfname\u001b[0m\u001b[0;34m)\u001b[0m\u001b[0;34m\u001b[0m\u001b[0;34m\u001b[0m\u001b[0m\n\u001b[0;32m-> 2048\u001b[0;31m     \u001b[0;32mwith\u001b[0m \u001b[0mutils\u001b[0m\u001b[0;34m.\u001b[0m\u001b[0mopen\u001b[0m\u001b[0;34m(\u001b[0m\u001b[0mfname\u001b[0m\u001b[0;34m,\u001b[0m \u001b[0;34m'rb'\u001b[0m\u001b[0;34m)\u001b[0m \u001b[0;32mas\u001b[0m \u001b[0mfin\u001b[0m\u001b[0;34m:\u001b[0m\u001b[0;34m\u001b[0m\u001b[0;34m\u001b[0m\u001b[0m\n\u001b[0m\u001b[1;32m   2049\u001b[0m         \u001b[0;32mif\u001b[0m \u001b[0mno_header\u001b[0m\u001b[0;34m:\u001b[0m\u001b[0;34m\u001b[0m\u001b[0;34m\u001b[0m\u001b[0m\n\u001b[1;32m   2050\u001b[0m             \u001b[0;31m# deduce both vocab_size & vector_size from 1st pass over file\u001b[0m\u001b[0;34m\u001b[0m\u001b[0;34m\u001b[0m\u001b[0m\n",
            "\u001b[0;32m/usr/local/lib/python3.10/dist-packages/smart_open/smart_open_lib.py\u001b[0m in \u001b[0;36mopen\u001b[0;34m(uri, mode, buffering, encoding, errors, newline, closefd, opener, compression, transport_params)\u001b[0m\n\u001b[1;32m    175\u001b[0m         \u001b[0mtransport_params\u001b[0m \u001b[0;34m=\u001b[0m \u001b[0;34m{\u001b[0m\u001b[0;34m}\u001b[0m\u001b[0;34m\u001b[0m\u001b[0;34m\u001b[0m\u001b[0m\n\u001b[1;32m    176\u001b[0m \u001b[0;34m\u001b[0m\u001b[0m\n\u001b[0;32m--> 177\u001b[0;31m     fobj = _shortcut_open(\n\u001b[0m\u001b[1;32m    178\u001b[0m         \u001b[0muri\u001b[0m\u001b[0;34m,\u001b[0m\u001b[0;34m\u001b[0m\u001b[0;34m\u001b[0m\u001b[0m\n\u001b[1;32m    179\u001b[0m         \u001b[0mmode\u001b[0m\u001b[0;34m,\u001b[0m\u001b[0;34m\u001b[0m\u001b[0;34m\u001b[0m\u001b[0m\n",
            "\u001b[0;32m/usr/local/lib/python3.10/dist-packages/smart_open/smart_open_lib.py\u001b[0m in \u001b[0;36m_shortcut_open\u001b[0;34m(uri, mode, compression, buffering, encoding, errors, newline)\u001b[0m\n\u001b[1;32m    361\u001b[0m         \u001b[0mopen_kwargs\u001b[0m\u001b[0;34m[\u001b[0m\u001b[0;34m'errors'\u001b[0m\u001b[0;34m]\u001b[0m \u001b[0;34m=\u001b[0m \u001b[0merrors\u001b[0m\u001b[0;34m\u001b[0m\u001b[0;34m\u001b[0m\u001b[0m\n\u001b[1;32m    362\u001b[0m \u001b[0;34m\u001b[0m\u001b[0m\n\u001b[0;32m--> 363\u001b[0;31m     \u001b[0;32mreturn\u001b[0m \u001b[0m_builtin_open\u001b[0m\u001b[0;34m(\u001b[0m\u001b[0mlocal_path\u001b[0m\u001b[0;34m,\u001b[0m \u001b[0mmode\u001b[0m\u001b[0;34m,\u001b[0m \u001b[0mbuffering\u001b[0m\u001b[0;34m=\u001b[0m\u001b[0mbuffering\u001b[0m\u001b[0;34m,\u001b[0m \u001b[0;34m**\u001b[0m\u001b[0mopen_kwargs\u001b[0m\u001b[0;34m)\u001b[0m\u001b[0;34m\u001b[0m\u001b[0;34m\u001b[0m\u001b[0m\n\u001b[0m\u001b[1;32m    364\u001b[0m \u001b[0;34m\u001b[0m\u001b[0m\n\u001b[1;32m    365\u001b[0m \u001b[0;34m\u001b[0m\u001b[0m\n",
            "\u001b[0;31mFileNotFoundError\u001b[0m: [Errno 2] No such file or directory: '/content/drive/MyDrive/model/glove.6B.50d.txt'"
          ]
        }
      ]
    },
    {
      "cell_type": "code",
      "source": [
        "# model 10\n",
        "base_model = Word2Vec(vector_size=300, min_count=5)\n",
        "base_model.build_vocab(df['tokenized_data'])\n",
        "total_examples = base_model.corpus_count\n",
        "\n",
        "# model 50\n",
        "base_model_50 = Word2Vec(vector_size=300, min_count=5)\n",
        "base_model_50.build_vocab(df['tokenized_data'])\n",
        "total_examples = base_model_50.corpus_count"
      ],
      "metadata": {
        "id": "o2G0PQ1GjF39"
      },
      "execution_count": null,
      "outputs": []
    },
    {
      "cell_type": "code",
      "source": [
        "base_model.build_vocab([list(glove_model.key_to_index.keys())], update=True)\n",
        "\n",
        "base_model_50.build_vocab([list(glove_model.key_to_index.keys())], update=True)"
      ],
      "metadata": {
        "id": "TTsWvYPHkeRq"
      },
      "execution_count": null,
      "outputs": []
    },
    {
      "cell_type": "code",
      "source": [
        "total_examples = len(df['tokenized_data'])"
      ],
      "metadata": {
        "id": "soBnDVEJpaKL"
      },
      "execution_count": null,
      "outputs": []
    },
    {
      "cell_type": "code",
      "source": [
        "base_model.train(df['tokenized_data'], total_examples=total_examples, epochs=10)"
      ],
      "metadata": {
        "colab": {
          "base_uri": "https://localhost:8080/"
        },
        "id": "WCelGtEWk2BK",
        "outputId": "7b25fc73-b86d-406b-e026-3071e97313d3"
      },
      "execution_count": null,
      "outputs": [
        {
          "output_type": "execute_result",
          "data": {
            "text/plain": [
              "(8833154, 9980770)"
            ]
          },
          "metadata": {},
          "execution_count": 12
        }
      ]
    },
    {
      "cell_type": "code",
      "source": [
        "base_model_50.train(df['tokenized_data'], total_examples=total_examples, epochs=50)"
      ],
      "metadata": {
        "colab": {
          "base_uri": "https://localhost:8080/"
        },
        "id": "Oy3DpnpPxe9g",
        "outputId": "8313407b-af6a-407b-abe1-556188c88de7"
      },
      "execution_count": null,
      "outputs": [
        {
          "output_type": "execute_result",
          "data": {
            "text/plain": [
              "(44164606, 49903850)"
            ]
          },
          "metadata": {},
          "execution_count": 13
        }
      ]
    },
    {
      "cell_type": "code",
      "source": [
        "!pip install spacy\n",
        "!python -m spacy download en_core_web_sm"
      ],
      "metadata": {
        "colab": {
          "base_uri": "https://localhost:8080/"
        },
        "id": "zF4Qrs-ObWS8",
        "outputId": "6a9a160e-91bd-4f3e-e806-14fa501d509a"
      },
      "execution_count": null,
      "outputs": [
        {
          "output_type": "stream",
          "name": "stdout",
          "text": [
            "Requirement already satisfied: spacy in /usr/local/lib/python3.10/dist-packages (3.7.5)\n",
            "Requirement already satisfied: spacy-legacy<3.1.0,>=3.0.11 in /usr/local/lib/python3.10/dist-packages (from spacy) (3.0.12)\n",
            "Requirement already satisfied: spacy-loggers<2.0.0,>=1.0.0 in /usr/local/lib/python3.10/dist-packages (from spacy) (1.0.5)\n",
            "Requirement already satisfied: murmurhash<1.1.0,>=0.28.0 in /usr/local/lib/python3.10/dist-packages (from spacy) (1.0.10)\n",
            "Requirement already satisfied: cymem<2.1.0,>=2.0.2 in /usr/local/lib/python3.10/dist-packages (from spacy) (2.0.8)\n",
            "Requirement already satisfied: preshed<3.1.0,>=3.0.2 in /usr/local/lib/python3.10/dist-packages (from spacy) (3.0.9)\n",
            "Requirement already satisfied: thinc<8.3.0,>=8.2.2 in /usr/local/lib/python3.10/dist-packages (from spacy) (8.2.5)\n",
            "Requirement already satisfied: wasabi<1.2.0,>=0.9.1 in /usr/local/lib/python3.10/dist-packages (from spacy) (1.1.3)\n",
            "Requirement already satisfied: srsly<3.0.0,>=2.4.3 in /usr/local/lib/python3.10/dist-packages (from spacy) (2.4.8)\n",
            "Requirement already satisfied: catalogue<2.1.0,>=2.0.6 in /usr/local/lib/python3.10/dist-packages (from spacy) (2.0.10)\n",
            "Requirement already satisfied: weasel<0.5.0,>=0.1.0 in /usr/local/lib/python3.10/dist-packages (from spacy) (0.4.1)\n",
            "Requirement already satisfied: typer<1.0.0,>=0.3.0 in /usr/local/lib/python3.10/dist-packages (from spacy) (0.12.3)\n",
            "Requirement already satisfied: tqdm<5.0.0,>=4.38.0 in /usr/local/lib/python3.10/dist-packages (from spacy) (4.66.4)\n",
            "Requirement already satisfied: requests<3.0.0,>=2.13.0 in /usr/local/lib/python3.10/dist-packages (from spacy) (2.31.0)\n",
            "Requirement already satisfied: pydantic!=1.8,!=1.8.1,<3.0.0,>=1.7.4 in /usr/local/lib/python3.10/dist-packages (from spacy) (2.8.2)\n",
            "Requirement already satisfied: jinja2 in /usr/local/lib/python3.10/dist-packages (from spacy) (3.1.4)\n",
            "Requirement already satisfied: setuptools in /usr/local/lib/python3.10/dist-packages (from spacy) (71.0.4)\n",
            "Requirement already satisfied: packaging>=20.0 in /usr/local/lib/python3.10/dist-packages (from spacy) (24.1)\n",
            "Requirement already satisfied: langcodes<4.0.0,>=3.2.0 in /usr/local/lib/python3.10/dist-packages (from spacy) (3.4.0)\n",
            "Requirement already satisfied: numpy>=1.19.0 in /usr/local/lib/python3.10/dist-packages (from spacy) (1.26.4)\n",
            "Requirement already satisfied: language-data>=1.2 in /usr/local/lib/python3.10/dist-packages (from langcodes<4.0.0,>=3.2.0->spacy) (1.2.0)\n",
            "Requirement already satisfied: annotated-types>=0.4.0 in /usr/local/lib/python3.10/dist-packages (from pydantic!=1.8,!=1.8.1,<3.0.0,>=1.7.4->spacy) (0.7.0)\n",
            "Requirement already satisfied: pydantic-core==2.20.1 in /usr/local/lib/python3.10/dist-packages (from pydantic!=1.8,!=1.8.1,<3.0.0,>=1.7.4->spacy) (2.20.1)\n",
            "Requirement already satisfied: typing-extensions>=4.6.1 in /usr/local/lib/python3.10/dist-packages (from pydantic!=1.8,!=1.8.1,<3.0.0,>=1.7.4->spacy) (4.12.2)\n",
            "Requirement already satisfied: charset-normalizer<4,>=2 in /usr/local/lib/python3.10/dist-packages (from requests<3.0.0,>=2.13.0->spacy) (3.3.2)\n",
            "Requirement already satisfied: idna<4,>=2.5 in /usr/local/lib/python3.10/dist-packages (from requests<3.0.0,>=2.13.0->spacy) (3.7)\n",
            "Requirement already satisfied: urllib3<3,>=1.21.1 in /usr/local/lib/python3.10/dist-packages (from requests<3.0.0,>=2.13.0->spacy) (2.0.7)\n",
            "Requirement already satisfied: certifi>=2017.4.17 in /usr/local/lib/python3.10/dist-packages (from requests<3.0.0,>=2.13.0->spacy) (2024.7.4)\n",
            "Requirement already satisfied: blis<0.8.0,>=0.7.8 in /usr/local/lib/python3.10/dist-packages (from thinc<8.3.0,>=8.2.2->spacy) (0.7.11)\n",
            "Requirement already satisfied: confection<1.0.0,>=0.0.1 in /usr/local/lib/python3.10/dist-packages (from thinc<8.3.0,>=8.2.2->spacy) (0.1.5)\n",
            "Requirement already satisfied: click>=8.0.0 in /usr/local/lib/python3.10/dist-packages (from typer<1.0.0,>=0.3.0->spacy) (8.1.7)\n",
            "Requirement already satisfied: shellingham>=1.3.0 in /usr/local/lib/python3.10/dist-packages (from typer<1.0.0,>=0.3.0->spacy) (1.5.4)\n",
            "Requirement already satisfied: rich>=10.11.0 in /usr/local/lib/python3.10/dist-packages (from typer<1.0.0,>=0.3.0->spacy) (13.7.1)\n",
            "Requirement already satisfied: cloudpathlib<1.0.0,>=0.7.0 in /usr/local/lib/python3.10/dist-packages (from weasel<0.5.0,>=0.1.0->spacy) (0.18.1)\n",
            "Requirement already satisfied: smart-open<8.0.0,>=5.2.1 in /usr/local/lib/python3.10/dist-packages (from weasel<0.5.0,>=0.1.0->spacy) (7.0.4)\n",
            "Requirement already satisfied: MarkupSafe>=2.0 in /usr/local/lib/python3.10/dist-packages (from jinja2->spacy) (2.1.5)\n",
            "Requirement already satisfied: marisa-trie>=0.7.7 in /usr/local/lib/python3.10/dist-packages (from language-data>=1.2->langcodes<4.0.0,>=3.2.0->spacy) (1.2.0)\n",
            "Requirement already satisfied: markdown-it-py>=2.2.0 in /usr/local/lib/python3.10/dist-packages (from rich>=10.11.0->typer<1.0.0,>=0.3.0->spacy) (3.0.0)\n",
            "Requirement already satisfied: pygments<3.0.0,>=2.13.0 in /usr/local/lib/python3.10/dist-packages (from rich>=10.11.0->typer<1.0.0,>=0.3.0->spacy) (2.16.1)\n",
            "Requirement already satisfied: wrapt in /usr/local/lib/python3.10/dist-packages (from smart-open<8.0.0,>=5.2.1->weasel<0.5.0,>=0.1.0->spacy) (1.16.0)\n",
            "Requirement already satisfied: mdurl~=0.1 in /usr/local/lib/python3.10/dist-packages (from markdown-it-py>=2.2.0->rich>=10.11.0->typer<1.0.0,>=0.3.0->spacy) (0.1.2)\n",
            "Collecting en-core-web-sm==3.7.1\n",
            "  Downloading https://github.com/explosion/spacy-models/releases/download/en_core_web_sm-3.7.1/en_core_web_sm-3.7.1-py3-none-any.whl (12.8 MB)\n",
            "\u001b[2K     \u001b[90m━━━━━━━━━━━━━━━━━━━━━━━━━━━━━━━━━━━━━━━━\u001b[0m \u001b[32m12.8/12.8 MB\u001b[0m \u001b[31m53.0 MB/s\u001b[0m eta \u001b[36m0:00:00\u001b[0m\n",
            "\u001b[?25hRequirement already satisfied: spacy<3.8.0,>=3.7.2 in /usr/local/lib/python3.10/dist-packages (from en-core-web-sm==3.7.1) (3.7.5)\n",
            "Requirement already satisfied: spacy-legacy<3.1.0,>=3.0.11 in /usr/local/lib/python3.10/dist-packages (from spacy<3.8.0,>=3.7.2->en-core-web-sm==3.7.1) (3.0.12)\n",
            "Requirement already satisfied: spacy-loggers<2.0.0,>=1.0.0 in /usr/local/lib/python3.10/dist-packages (from spacy<3.8.0,>=3.7.2->en-core-web-sm==3.7.1) (1.0.5)\n",
            "Requirement already satisfied: murmurhash<1.1.0,>=0.28.0 in /usr/local/lib/python3.10/dist-packages (from spacy<3.8.0,>=3.7.2->en-core-web-sm==3.7.1) (1.0.10)\n",
            "Requirement already satisfied: cymem<2.1.0,>=2.0.2 in /usr/local/lib/python3.10/dist-packages (from spacy<3.8.0,>=3.7.2->en-core-web-sm==3.7.1) (2.0.8)\n",
            "Requirement already satisfied: preshed<3.1.0,>=3.0.2 in /usr/local/lib/python3.10/dist-packages (from spacy<3.8.0,>=3.7.2->en-core-web-sm==3.7.1) (3.0.9)\n",
            "Requirement already satisfied: thinc<8.3.0,>=8.2.2 in /usr/local/lib/python3.10/dist-packages (from spacy<3.8.0,>=3.7.2->en-core-web-sm==3.7.1) (8.2.5)\n",
            "Requirement already satisfied: wasabi<1.2.0,>=0.9.1 in /usr/local/lib/python3.10/dist-packages (from spacy<3.8.0,>=3.7.2->en-core-web-sm==3.7.1) (1.1.3)\n",
            "Requirement already satisfied: srsly<3.0.0,>=2.4.3 in /usr/local/lib/python3.10/dist-packages (from spacy<3.8.0,>=3.7.2->en-core-web-sm==3.7.1) (2.4.8)\n",
            "Requirement already satisfied: catalogue<2.1.0,>=2.0.6 in /usr/local/lib/python3.10/dist-packages (from spacy<3.8.0,>=3.7.2->en-core-web-sm==3.7.1) (2.0.10)\n",
            "Requirement already satisfied: weasel<0.5.0,>=0.1.0 in /usr/local/lib/python3.10/dist-packages (from spacy<3.8.0,>=3.7.2->en-core-web-sm==3.7.1) (0.4.1)\n",
            "Requirement already satisfied: typer<1.0.0,>=0.3.0 in /usr/local/lib/python3.10/dist-packages (from spacy<3.8.0,>=3.7.2->en-core-web-sm==3.7.1) (0.12.3)\n",
            "Requirement already satisfied: tqdm<5.0.0,>=4.38.0 in /usr/local/lib/python3.10/dist-packages (from spacy<3.8.0,>=3.7.2->en-core-web-sm==3.7.1) (4.66.4)\n",
            "Requirement already satisfied: requests<3.0.0,>=2.13.0 in /usr/local/lib/python3.10/dist-packages (from spacy<3.8.0,>=3.7.2->en-core-web-sm==3.7.1) (2.31.0)\n",
            "Requirement already satisfied: pydantic!=1.8,!=1.8.1,<3.0.0,>=1.7.4 in /usr/local/lib/python3.10/dist-packages (from spacy<3.8.0,>=3.7.2->en-core-web-sm==3.7.1) (2.8.2)\n",
            "Requirement already satisfied: jinja2 in /usr/local/lib/python3.10/dist-packages (from spacy<3.8.0,>=3.7.2->en-core-web-sm==3.7.1) (3.1.4)\n",
            "Requirement already satisfied: setuptools in /usr/local/lib/python3.10/dist-packages (from spacy<3.8.0,>=3.7.2->en-core-web-sm==3.7.1) (71.0.4)\n",
            "Requirement already satisfied: packaging>=20.0 in /usr/local/lib/python3.10/dist-packages (from spacy<3.8.0,>=3.7.2->en-core-web-sm==3.7.1) (24.1)\n",
            "Requirement already satisfied: langcodes<4.0.0,>=3.2.0 in /usr/local/lib/python3.10/dist-packages (from spacy<3.8.0,>=3.7.2->en-core-web-sm==3.7.1) (3.4.0)\n",
            "Requirement already satisfied: numpy>=1.19.0 in /usr/local/lib/python3.10/dist-packages (from spacy<3.8.0,>=3.7.2->en-core-web-sm==3.7.1) (1.26.4)\n",
            "Requirement already satisfied: language-data>=1.2 in /usr/local/lib/python3.10/dist-packages (from langcodes<4.0.0,>=3.2.0->spacy<3.8.0,>=3.7.2->en-core-web-sm==3.7.1) (1.2.0)\n",
            "Requirement already satisfied: annotated-types>=0.4.0 in /usr/local/lib/python3.10/dist-packages (from pydantic!=1.8,!=1.8.1,<3.0.0,>=1.7.4->spacy<3.8.0,>=3.7.2->en-core-web-sm==3.7.1) (0.7.0)\n",
            "Requirement already satisfied: pydantic-core==2.20.1 in /usr/local/lib/python3.10/dist-packages (from pydantic!=1.8,!=1.8.1,<3.0.0,>=1.7.4->spacy<3.8.0,>=3.7.2->en-core-web-sm==3.7.1) (2.20.1)\n",
            "Requirement already satisfied: typing-extensions>=4.6.1 in /usr/local/lib/python3.10/dist-packages (from pydantic!=1.8,!=1.8.1,<3.0.0,>=1.7.4->spacy<3.8.0,>=3.7.2->en-core-web-sm==3.7.1) (4.12.2)\n",
            "Requirement already satisfied: charset-normalizer<4,>=2 in /usr/local/lib/python3.10/dist-packages (from requests<3.0.0,>=2.13.0->spacy<3.8.0,>=3.7.2->en-core-web-sm==3.7.1) (3.3.2)\n",
            "Requirement already satisfied: idna<4,>=2.5 in /usr/local/lib/python3.10/dist-packages (from requests<3.0.0,>=2.13.0->spacy<3.8.0,>=3.7.2->en-core-web-sm==3.7.1) (3.7)\n",
            "Requirement already satisfied: urllib3<3,>=1.21.1 in /usr/local/lib/python3.10/dist-packages (from requests<3.0.0,>=2.13.0->spacy<3.8.0,>=3.7.2->en-core-web-sm==3.7.1) (2.0.7)\n",
            "Requirement already satisfied: certifi>=2017.4.17 in /usr/local/lib/python3.10/dist-packages (from requests<3.0.0,>=2.13.0->spacy<3.8.0,>=3.7.2->en-core-web-sm==3.7.1) (2024.7.4)\n",
            "Requirement already satisfied: blis<0.8.0,>=0.7.8 in /usr/local/lib/python3.10/dist-packages (from thinc<8.3.0,>=8.2.2->spacy<3.8.0,>=3.7.2->en-core-web-sm==3.7.1) (0.7.11)\n",
            "Requirement already satisfied: confection<1.0.0,>=0.0.1 in /usr/local/lib/python3.10/dist-packages (from thinc<8.3.0,>=8.2.2->spacy<3.8.0,>=3.7.2->en-core-web-sm==3.7.1) (0.1.5)\n",
            "Requirement already satisfied: click>=8.0.0 in /usr/local/lib/python3.10/dist-packages (from typer<1.0.0,>=0.3.0->spacy<3.8.0,>=3.7.2->en-core-web-sm==3.7.1) (8.1.7)\n",
            "Requirement already satisfied: shellingham>=1.3.0 in /usr/local/lib/python3.10/dist-packages (from typer<1.0.0,>=0.3.0->spacy<3.8.0,>=3.7.2->en-core-web-sm==3.7.1) (1.5.4)\n",
            "Requirement already satisfied: rich>=10.11.0 in /usr/local/lib/python3.10/dist-packages (from typer<1.0.0,>=0.3.0->spacy<3.8.0,>=3.7.2->en-core-web-sm==3.7.1) (13.7.1)\n",
            "Requirement already satisfied: cloudpathlib<1.0.0,>=0.7.0 in /usr/local/lib/python3.10/dist-packages (from weasel<0.5.0,>=0.1.0->spacy<3.8.0,>=3.7.2->en-core-web-sm==3.7.1) (0.18.1)\n",
            "Requirement already satisfied: smart-open<8.0.0,>=5.2.1 in /usr/local/lib/python3.10/dist-packages (from weasel<0.5.0,>=0.1.0->spacy<3.8.0,>=3.7.2->en-core-web-sm==3.7.1) (7.0.4)\n",
            "Requirement already satisfied: MarkupSafe>=2.0 in /usr/local/lib/python3.10/dist-packages (from jinja2->spacy<3.8.0,>=3.7.2->en-core-web-sm==3.7.1) (2.1.5)\n",
            "Requirement already satisfied: marisa-trie>=0.7.7 in /usr/local/lib/python3.10/dist-packages (from language-data>=1.2->langcodes<4.0.0,>=3.2.0->spacy<3.8.0,>=3.7.2->en-core-web-sm==3.7.1) (1.2.0)\n",
            "Requirement already satisfied: markdown-it-py>=2.2.0 in /usr/local/lib/python3.10/dist-packages (from rich>=10.11.0->typer<1.0.0,>=0.3.0->spacy<3.8.0,>=3.7.2->en-core-web-sm==3.7.1) (3.0.0)\n",
            "Requirement already satisfied: pygments<3.0.0,>=2.13.0 in /usr/local/lib/python3.10/dist-packages (from rich>=10.11.0->typer<1.0.0,>=0.3.0->spacy<3.8.0,>=3.7.2->en-core-web-sm==3.7.1) (2.16.1)\n",
            "Requirement already satisfied: wrapt in /usr/local/lib/python3.10/dist-packages (from smart-open<8.0.0,>=5.2.1->weasel<0.5.0,>=0.1.0->spacy<3.8.0,>=3.7.2->en-core-web-sm==3.7.1) (1.16.0)\n",
            "Requirement already satisfied: mdurl~=0.1 in /usr/local/lib/python3.10/dist-packages (from markdown-it-py>=2.2.0->rich>=10.11.0->typer<1.0.0,>=0.3.0->spacy<3.8.0,>=3.7.2->en-core-web-sm==3.7.1) (0.1.2)\n",
            "\u001b[38;5;2m✔ Download and installation successful\u001b[0m\n",
            "You can now load the package via spacy.load('en_core_web_sm')\n",
            "\u001b[38;5;3m⚠ Restart to reload dependencies\u001b[0m\n",
            "If you are in a Jupyter or Colab notebook, you may need to restart Python in\n",
            "order to load all the package's dependencies. You can do this by selecting the\n",
            "'Restart kernel' or 'Restart runtime' option.\n"
          ]
        }
      ]
    },
    {
      "cell_type": "code",
      "source": [
        "import re\n",
        "from nltk.corpus import stopwords\n",
        "from nltk.tokenize import word_tokenize\n",
        "from nltk.stem import WordNetLemmatizer\n",
        "from wordsegment import load, segment\n",
        "from num2words import num2words\n",
        "from deep_translator import GoogleTranslator\n",
        "from nltk.tag import pos_tag\n",
        "import spacy\n",
        "from sklearn.metrics.pairwise import cosine_similarity\n",
        "\n",
        "nltk.download('stopwords')\n",
        "nltk.download('wordnet')\n",
        "nltk.download('averaged_perceptron_tagger')\n",
        "\n",
        "load()\n",
        "translator = GoogleTranslator(source='id', target='en')\n",
        "\n",
        "nlp = spacy.load(\"en_core_web_sm\")\n",
        "\n",
        "def split_text(text, max_length):\n",
        "    # Fungsi untuk membagi teks menjadi bagian yang lebih kecil\n",
        "    words = text.split()\n",
        "    parts = []\n",
        "    current_part = []\n",
        "\n",
        "    for word in words:\n",
        "        if len(' '.join(current_part + [word])) <= max_length:\n",
        "            current_part.append(word)\n",
        "        else:\n",
        "            parts.append(' '.join(current_part))\n",
        "            current_part = [word]\n",
        "\n",
        "    if current_part:\n",
        "        parts.append(' '.join(current_part))\n",
        "\n",
        "    return parts\n",
        "\n",
        "def translate_batch(text, max_length=4000):\n",
        "    # Fungsi untuk menerjemahkan teks dalam batch\n",
        "    parts = split_text(text, max_length)\n",
        "    translated_parts = [translator.translate(part) for part in parts]\n",
        "    return ' '.join(translated_parts)\n",
        "\n",
        "def remove_verbs(text):\n",
        "    doc = nlp(text)\n",
        "    for token in doc:\n",
        "        print(f\"{token.text}: {token.pos_}\")\n",
        "    non_verbs = [token.text for token in doc if token.pos_ not in [\"VERB\"]]\n",
        "    return ' '.join(non_verbs)\n",
        "\n",
        "def preprocessing_data(text):\n",
        "  # terjemah kata\n",
        "  text = translate_batch(text)\n",
        "\n",
        "  text = text.lower()\n",
        "  text = remove_verbs(text)\n",
        "\n",
        "  text = re.sub(r'http\\S+|www\\S+|https\\S+', '', text, flags=re.MULTILINE)\n",
        "  text = re.sub(r'[^\\w\\s]', ' ', text)\n",
        "  text = text.replace('s1', 'bachelor')\n",
        "  text = text.replace('s2', 'master')\n",
        "  text = text.replace('s3', 'doctorate')\n",
        "  text = text.replace('d3', 'associate degree')\n",
        "  text = text.replace('d4', 'professional degree')\n",
        "\n",
        "  # ubah angka jadi kata\n",
        "  pattern = r'\\b\\d+\\b'\n",
        "\n",
        "  def replace_with_words(match):\n",
        "      number = int(match.group())\n",
        "      return num2words(number)\n",
        "\n",
        "  text = re.sub(pattern, replace_with_words, text)\n",
        "\n",
        "  # pisah kata yang gabung\n",
        "  # ada error\n",
        "  segmented_text = segment(text)\n",
        "  text = ' '.join(segmented_text)\n",
        "\n",
        "  text = re.sub(r'[^a-zA-Z0-9\\s]', '', text)\n",
        "  text = text.replace('\\n', ' ')\n",
        "  text = text.replace('etc', ' ')\n",
        "\n",
        "  stop_words = set(stopwords.words('english'))\n",
        "  tokens = word_tokenize(text)\n",
        "  tokens = [word for word in tokens if word not in stop_words]\n",
        "\n",
        "  lemmatizer = WordNetLemmatizer()\n",
        "  tokens = [lemmatizer.lemmatize(word) for word in tokens]\n",
        "\n",
        "  preprocessed_text = ' '.join(tokens)\n",
        "\n",
        "  # preprocessed_text = remove_verbs(preprocessed_text)\n",
        "\n",
        "  return preprocessed_text"
      ],
      "metadata": {
        "colab": {
          "base_uri": "https://localhost:8080/"
        },
        "id": "BzQ9y9QTpxNc",
        "outputId": "0c319f15-6d16-4823-b133-950a608de388"
      },
      "execution_count": null,
      "outputs": [
        {
          "output_type": "stream",
          "name": "stderr",
          "text": [
            "[nltk_data] Downloading package stopwords to /root/nltk_data...\n",
            "[nltk_data]   Unzipping corpora/stopwords.zip.\n",
            "[nltk_data] Downloading package wordnet to /root/nltk_data...\n",
            "[nltk_data] Downloading package averaged_perceptron_tagger to\n",
            "[nltk_data]     /root/nltk_data...\n",
            "[nltk_data]   Unzipping taggers/averaged_perceptron_tagger.zip.\n"
          ]
        }
      ]
    },
    {
      "cell_type": "code",
      "source": [
        "job_description = \"responsibility collect process analyze large datasets extract meaningful insights trends generate monitoring report needed ensure seamless monitoring reporting cycle work cross functional teams understand data needs provide relevant insights perform data validation ensure data accuracy integrity collaborate it teams ensure availability reliability data creating database schemas represent support business process stay date industry trends best practices data analysis visualization requirement bachelors degree data science reputable university fresh graduate outstanding performance welcome proficiency data analysis tools software sql excel python r similar experience data visualization tools tableau power bi similar strong analytical problem solving skills excellent attention detail accuracy good communication interpersonal skills ability convey complex data insights non technical audiences\"\n",
        "cv = \"I am an analytical and detail-oriented Data Scientist with a strong background in data analysis, visualization, and database management. I possess proficiency in tools such as SQL, Excel, Python, and R, with a keen ability to extract meaningful insights from large datasets. I am an excellent communicator capable of conveying complex data insights to non-technical audiences. As a fresh graduate with outstanding academic performance and hands-on experience in data projects, I am eager to contribute my skills and knowledge to a dynamic team. I hold a Bachelor of Science in Data Science from a reputable university, where I graduated in June 2024 with a GPA of 3.95/4.00. My relevant coursework includes Data Analysis, Data Visualization, SQL, Python Programming, R Programming, and Database Management.\"\n",
        "jd2 = \"lead developer fullstack developer using java springboot react job description lead manage team developers providing technical guidance mentorship oversee design development implementation scalable web applications manage prioritize development pipeline monitor evaluate progress implement maintain ci cd pipelines using tools jenkins similar devops tools facilitate agile ceremonies sprint planning daily stand ups retrospectives identify address technical challenges bottlenecks within team resolve incidents ensure system availability within sla conduct code reviews provide constructive feedback team members foster collaborative innovative team environment stay updated emerging technologies industry trends drive continuous improvement education bachelor higher degree computer science related fields experience needed long duration needed experience length service five years professional experience software development least two years leadership role additional expertises need proficiency fullstack development expertise technologies spring boot react js strong understanding restful api design implementation experience databases oracle oracle pl sql familiarity version control systems git ci cd pipelines knowledge agile methodologies practices excellent leadership team management abilities strong problem solving skills attention detail effective communication interpersonal skills ability motivate inspire team members experience cloud services aws azure google cloud knowledge docker container orchestration familiarity project management tools jira confluence\""
      ],
      "metadata": {
        "id": "mVpsN_e7qluy"
      },
      "execution_count": null,
      "outputs": []
    },
    {
      "cell_type": "code",
      "source": [
        "jd = preprocessing_data(job_description)\n",
        "cv = preprocessing_data(cv)\n",
        "jd2 = preprocessing_data(jd2)\n",
        "\n",
        "print(jd)\n",
        "print(cv)\n",
        "print(jd2)"
      ],
      "metadata": {
        "colab": {
          "base_uri": "https://localhost:8080/"
        },
        "id": "xl90gejPqrMB",
        "outputId": "fb105875-8fb1-4a06-c29c-2e941d7866e2"
      },
      "execution_count": null,
      "outputs": [
        {
          "output_type": "stream",
          "name": "stdout",
          "text": [
            "responsibility: NOUN\n",
            "collect: NOUN\n",
            "process: NOUN\n",
            "analyze: VERB\n",
            "large: ADJ\n",
            "datasets: NOUN\n",
            "extract: VERB\n",
            "meaningful: ADJ\n",
            "insights: NOUN\n",
            "trends: NOUN\n",
            "generate: VERB\n",
            "monitoring: NOUN\n",
            "report: NOUN\n",
            "needed: VERB\n",
            "ensure: VERB\n",
            "seamless: ADJ\n",
            "monitoring: NOUN\n",
            "reporting: VERB\n",
            "cycle: NOUN\n",
            "work: NOUN\n",
            "cross: NOUN\n",
            "functional: ADJ\n",
            "teams: NOUN\n",
            "understand: VERB\n",
            "data: NOUN\n",
            "needs: NOUN\n",
            "provide: VERB\n",
            "relevant: ADJ\n",
            "insights: NOUN\n",
            "perform: VERB\n",
            "data: NOUN\n",
            "validation: NOUN\n",
            "ensure: VERB\n",
            "data: NOUN\n",
            "accuracy: NOUN\n",
            "integrity: NOUN\n",
            "collaborate: NOUN\n",
            "it: PRON\n",
            "teams: NOUN\n",
            "ensure: VERB\n",
            "availability: NOUN\n",
            "reliability: NOUN\n",
            "data: NOUN\n",
            "creating: VERB\n",
            "database: NOUN\n",
            "schemas: NOUN\n",
            "represent: VERB\n",
            "support: NOUN\n",
            "business: NOUN\n",
            "process: NOUN\n",
            "stay: VERB\n",
            "date: NOUN\n",
            "industry: NOUN\n",
            "trends: NOUN\n",
            "best: ADJ\n",
            "practices: NOUN\n",
            "data: NOUN\n",
            "analysis: NOUN\n",
            "visualization: NOUN\n",
            "requirements: NOUN\n",
            "bachelors: PROPN\n",
            "degree: NOUN\n",
            "data: NOUN\n",
            "science: NOUN\n",
            "reputable: ADJ\n",
            "university: NOUN\n",
            "fresh: ADJ\n",
            "graduate: NOUN\n",
            "outstanding: ADJ\n",
            "performance: NOUN\n",
            "welcome: ADJ\n",
            "proficiency: NOUN\n",
            "data: NOUN\n",
            "analysis: NOUN\n",
            "tools: NOUN\n",
            "software: NOUN\n",
            "sql: PROPN\n",
            "excel: PROPN\n",
            "python: PROPN\n",
            "r: VERB\n",
            "similar: ADJ\n",
            "experience: NOUN\n",
            "data: NOUN\n",
            "visualization: NOUN\n",
            "tools: NOUN\n",
            "tableau: PROPN\n",
            "power: PROPN\n",
            "bi: PROPN\n",
            "similar: ADJ\n",
            "strong: ADJ\n",
            "analytical: ADJ\n",
            "problem: NOUN\n",
            "solving: VERB\n",
            "skills: NOUN\n",
            "excellent: ADJ\n",
            "attention: NOUN\n",
            "detail: NOUN\n",
            "accuracy: NOUN\n",
            "good: ADJ\n",
            "communication: NOUN\n",
            "interpersonal: ADJ\n",
            "skills: NOUN\n",
            "ability: NOUN\n",
            "convey: VERB\n",
            "complex: ADJ\n",
            "data: NOUN\n",
            "insights: NOUN\n",
            "non: ADJ\n",
            "technical: ADJ\n",
            "audiences: NOUN\n",
            "i: PRON\n",
            "am: AUX\n",
            "an: DET\n",
            "analytical: ADJ\n",
            "and: CCONJ\n",
            "detail: NOUN\n",
            "-: PUNCT\n",
            "oriented: VERB\n",
            "data: NOUN\n",
            "scientist: NOUN\n",
            "with: ADP\n",
            "a: DET\n",
            "strong: ADJ\n",
            "background: NOUN\n",
            "in: ADP\n",
            "data: NOUN\n",
            "analysis: NOUN\n",
            ",: PUNCT\n",
            "visualization: NOUN\n",
            ",: PUNCT\n",
            "and: CCONJ\n",
            "database: NOUN\n",
            "management: NOUN\n",
            ".: PUNCT\n",
            "i: PRON\n",
            "possess: VERB\n",
            "proficiency: NOUN\n",
            "in: ADP\n",
            "tools: NOUN\n",
            "such: ADJ\n",
            "as: ADP\n",
            "sql: PROPN\n",
            ",: PUNCT\n",
            "excel: PROPN\n",
            ",: PUNCT\n",
            "python: PROPN\n",
            ",: PUNCT\n",
            "and: CCONJ\n",
            "r: NOUN\n",
            ",: PUNCT\n",
            "with: ADP\n",
            "a: DET\n",
            "keen: ADJ\n",
            "ability: NOUN\n",
            "to: PART\n",
            "extract: VERB\n",
            "meaningful: ADJ\n",
            "insights: NOUN\n",
            "from: ADP\n",
            "large: ADJ\n",
            "datasets: NOUN\n",
            ".: PUNCT\n",
            "i: PRON\n",
            "am: AUX\n",
            "an: DET\n",
            "excellent: ADJ\n",
            "communicator: NOUN\n",
            "capable: ADJ\n",
            "of: ADP\n",
            "conveying: VERB\n",
            "complex: ADJ\n",
            "data: NOUN\n",
            "insights: NOUN\n",
            "to: ADP\n",
            "non: ADJ\n",
            "-: ADJ\n",
            "technical: ADJ\n",
            "audiences: NOUN\n",
            ".: PUNCT\n",
            "as: ADP\n",
            "a: DET\n",
            "fresh: ADJ\n",
            "graduate: NOUN\n",
            "with: ADP\n",
            "outstanding: ADJ\n",
            "academic: ADJ\n",
            "performance: NOUN\n",
            "and: CCONJ\n",
            "hands: NOUN\n",
            "-: PUNCT\n",
            "on: ADP\n",
            "experience: NOUN\n",
            "in: ADP\n",
            "data: NOUN\n",
            "projects: NOUN\n",
            ",: PUNCT\n",
            "i: PRON\n",
            "am: AUX\n",
            "eager: ADJ\n",
            "to: PART\n",
            "contribute: VERB\n",
            "my: PRON\n",
            "skills: NOUN\n",
            "and: CCONJ\n",
            "knowledge: NOUN\n",
            "to: ADP\n",
            "a: DET\n",
            "dynamic: ADJ\n",
            "team: NOUN\n",
            ".: PUNCT\n",
            "i: PRON\n",
            "hold: VERB\n",
            "a: DET\n",
            "bachelor: NOUN\n",
            "of: ADP\n",
            "science: NOUN\n",
            "in: ADP\n",
            "data: NOUN\n",
            "science: NOUN\n",
            "from: ADP\n",
            "a: DET\n",
            "reputable: ADJ\n",
            "university: NOUN\n",
            ",: PUNCT\n",
            "where: SCONJ\n",
            "i: PRON\n",
            "graduated: VERB\n",
            "in: ADP\n",
            "june: PROPN\n",
            "2024: NUM\n",
            "with: ADP\n",
            "a: DET\n",
            "gpa: PROPN\n",
            "of: ADP\n",
            "3.95/4.00: PROPN\n",
            ".: PUNCT\n",
            "my: PRON\n",
            "relevant: ADJ\n",
            "coursework: NOUN\n",
            "includes: VERB\n",
            "data: NOUN\n",
            "analysis: NOUN\n",
            ",: PUNCT\n",
            "data: NOUN\n",
            "visualization: NOUN\n",
            ",: PUNCT\n",
            "sql: PROPN\n",
            ",: PUNCT\n",
            "python: PROPN\n",
            "programming: NOUN\n",
            ",: PUNCT\n",
            "r: NOUN\n",
            "programming: NOUN\n",
            ",: PUNCT\n",
            "and: CCONJ\n",
            "database: NOUN\n",
            "management: NOUN\n",
            ".: PUNCT\n",
            "lead: NOUN\n",
            "developer: NOUN\n",
            "fullstack: NOUN\n",
            "developer: NOUN\n",
            "using: VERB\n",
            "java: PROPN\n",
            "springboot: PROPN\n",
            "react: PROPN\n",
            "job: NOUN\n",
            "description: NOUN\n",
            "lead: NOUN\n",
            "manage: VERB\n",
            "team: NOUN\n",
            "developers: NOUN\n",
            "providing: VERB\n",
            "technical: ADJ\n",
            "guidance: NOUN\n",
            "mentorship: PROPN\n",
            "oversee: PROPN\n",
            "design: NOUN\n",
            "development: NOUN\n",
            "implementation: NOUN\n",
            "scalable: ADJ\n",
            "web: NOUN\n",
            "applications: NOUN\n",
            "manage: VERB\n",
            "prioritize: VERB\n",
            "development: NOUN\n",
            "pipeline: NOUN\n",
            "monitor: NOUN\n",
            "evaluate: PROPN\n",
            "progress: NOUN\n",
            "implement: VERB\n",
            "maintain: NOUN\n",
            "ci: PROPN\n",
            "cd: PROPN\n",
            "pipelines: NOUN\n",
            "using: VERB\n",
            "tools: NOUN\n",
            "jenkins: PROPN\n",
            "similar: ADJ\n",
            "devops: NOUN\n",
            "tools: NOUN\n",
            "facilitate: VERB\n",
            "agile: ADJ\n",
            "ceremonies: NOUN\n",
            "sprint: NOUN\n",
            "planning: NOUN\n",
            "daily: ADJ\n",
            "stand: NOUN\n",
            "ups: NOUN\n",
            "retrospectives: NOUN\n",
            "identify: VERB\n",
            "address: NOUN\n",
            "technical: ADJ\n",
            "challenges: NOUN\n",
            "bottlenecks: NOUN\n",
            "within: ADP\n",
            "team: NOUN\n",
            "resolve: NOUN\n",
            "incidents: NOUN\n",
            "ensure: VERB\n",
            "system: NOUN\n",
            "availability: NOUN\n",
            "within: ADP\n",
            "sla: NOUN\n",
            "conduct: NOUN\n",
            "code: NOUN\n",
            "reviews: NOUN\n",
            "provide: VERB\n",
            "constructive: ADJ\n",
            "feedback: NOUN\n",
            "team: NOUN\n",
            "members: NOUN\n",
            "foster: VERB\n",
            "collaborative: ADJ\n",
            "innovative: ADJ\n",
            "team: NOUN\n",
            "environment: NOUN\n",
            "stay: VERB\n",
            "updated: VERB\n",
            "emerging: VERB\n",
            "technologies: NOUN\n",
            "industry: NOUN\n",
            "trends: NOUN\n",
            "drive: VERB\n",
            "continuous: ADJ\n",
            "improvement: NOUN\n",
            "education: NOUN\n",
            "bachelor: NOUN\n",
            "higher: ADJ\n",
            "degree: NOUN\n",
            "computer: NOUN\n",
            "science: NOUN\n",
            "related: VERB\n",
            "fields: NOUN\n",
            "experience: NOUN\n",
            "needed: VERB\n",
            "long: ADJ\n",
            "duration: NOUN\n",
            "required: VERB\n",
            "experience: NOUN\n",
            "length: NOUN\n",
            "service: NOUN\n",
            "five: NUM\n",
            "years: NOUN\n",
            "professional: ADJ\n",
            "experience: NOUN\n",
            "software: NOUN\n",
            "development: NOUN\n",
            "at: ADP\n",
            "least: ADV\n",
            "two: NUM\n",
            "years: NOUN\n",
            "leadership: NOUN\n",
            "role: NOUN\n",
            "additional: ADJ\n",
            "expertises: NOUN\n",
            "need: VERB\n",
            "proficiency: NOUN\n",
            "fullstack: NOUN\n",
            "development: NOUN\n",
            "expertise: NOUN\n",
            "technologies: NOUN\n",
            "spring: NOUN\n",
            "boot: PROPN\n",
            "react: VERB\n",
            "js: PROPN\n",
            "strong: ADJ\n",
            "understanding: VERB\n",
            "restful: ADJ\n",
            "api: NOUN\n",
            "design: NOUN\n",
            "implementation: NOUN\n",
            "experience: NOUN\n",
            "databases: VERB\n",
            "oracle: NOUN\n",
            "oracle: NOUN\n",
            "pl: PROPN\n",
            "sql: PROPN\n",
            "familiarity: PROPN\n",
            "version: PROPN\n",
            "control: PROPN\n",
            "systems: PROPN\n",
            "git: PROPN\n",
            "ci: PROPN\n",
            "cd: PROPN\n",
            "pipelines: VERB\n",
            "knowledge: NOUN\n",
            "agile: ADJ\n",
            "methodologies: NOUN\n",
            "practices: VERB\n",
            "excellent: ADJ\n",
            "leadership: NOUN\n",
            "team: NOUN\n",
            "management: NOUN\n",
            "abilities: VERB\n",
            "strong: ADJ\n",
            "problem: NOUN\n",
            "solving: VERB\n",
            "skills: NOUN\n",
            "attention: NOUN\n",
            "detail: NOUN\n",
            "effective: ADJ\n",
            "communication: NOUN\n",
            "interpersonal: ADJ\n",
            "skills: NOUN\n",
            "ability: NOUN\n",
            "motivate: VERB\n",
            "inspire: NOUN\n",
            "team: NOUN\n",
            "members: PROPN\n",
            "experience: VERB\n",
            "cloud: PROPN\n",
            "services: PROPN\n",
            "aws: NOUN\n",
            "azure: VERB\n",
            "google: PROPN\n",
            "cloud: PROPN\n",
            "knowledge: PROPN\n",
            "docker: PROPN\n",
            "container: NOUN\n",
            "orchestration: NOUN\n",
            "familiarity: NOUN\n",
            "project: NOUN\n",
            "management: NOUN\n",
            "tools: NOUN\n",
            "jira: PROPN\n",
            "confluence: NOUN\n",
            "responsibility collect process large data set meaningful insight trend monitoring report seamless monitoring cycle work cross functional team data need relevant insight data validation data accuracy integrity collaborate team availability reliability data database schema support business process date industry trend best practice data analysis visualization requirement bachelor degree data science reputable university fresh graduate outstanding performance welcome proficiency data analysis tool software sql excel python similar experience data visualization tool tableau power bisimilar strong analytical problem skill excellent attention detail accuracy good communication interpersonal skill ability complex data insight nontechnical audience\n",
            "analytical detail data scientist strong background data analysis visualization database management proficiency tool sql excel python r keen ability meaningful insight large data set excellent communicator capable complex data insight nontechnical audience fresh graduate outstanding academic performance hand experience data project eager skill knowledge dynamic team bachelor science data science reputable university june two thousand twenty four gpa three ninety five four zero relevant coursework data analysis data visualization sql python programming r programming database management\n",
            "lead developer full stack developer java spring boot react job description lead team developer technical guidance mentorship oversee design development implementation scalable web application development pipeline monitor evaluate progress maintain ci cd pipeline tool jenkins similar dev ops tool agile ceremony sprint planning daily standups retrospective address technical challenge bottleneck within team resolve incident system availability within sla conduct code review constructive feedback team member collaborative innovative team environment technology industry trend continuous improvement education bachelor higher degree computer science field experience long duration experience length service five year professional experience software development least two year leadership role additional expertise proficiency full stack development expertise technology spring boot j strong restful api design implementation experience oracle oracle plsql familiarity version control system gitc icd knowledge agile methodology excellent leadership team management strong problem skill attention detail effective communication interpersonal skill ability inspire team member cloud service saw google cloud knowledge docker container orchestration familiarity project management tool jira confluence\n"
          ]
        }
      ]
    },
    {
      "cell_type": "code",
      "source": [
        "def average_vector(sentence, model):\n",
        "    words = sentence.split()\n",
        "    vector_list = []\n",
        "\n",
        "    for word in words:\n",
        "        if word in model.wv:\n",
        "            vector_list.append(model.wv[word])\n",
        "\n",
        "    if not vector_list:\n",
        "        return np.zeros(model.vector_size)\n",
        "\n",
        "    return np.mean(vector_list, axis=0)"
      ],
      "metadata": {
        "id": "8X9CSPhNlKi6"
      },
      "execution_count": null,
      "outputs": []
    },
    {
      "cell_type": "code",
      "source": [
        "def word_contributions(sentence1, sentence2, model):\n",
        "    words1 = sentence1.split()\n",
        "    words2 = sentence2.split()\n",
        "\n",
        "    common_words = set(words1).intersection(words2)\n",
        "\n",
        "    contributions = {}\n",
        "    for word in common_words:\n",
        "        if word in model.wv:\n",
        "            vec_word = model.wv[word].reshape(1, -1)\n",
        "            vec_sentence1 = average_vector(sentence1, model).reshape(1, -1)\n",
        "            vec_sentence2 = average_vector(sentence2, model).reshape(1, -1)\n",
        "\n",
        "            sim1 = cosine_similarity(vec_word, vec_sentence1)[0][0]\n",
        "            sim2 = cosine_similarity(vec_word, vec_sentence2)[0][0]\n",
        "\n",
        "            contributions[word] = (sim1 + sim2) / 2\n",
        "\n",
        "    return contributions"
      ],
      "metadata": {
        "id": "0ZB4wzXi4sd-"
      },
      "execution_count": null,
      "outputs": []
    },
    {
      "cell_type": "code",
      "source": [
        "# Menghitung vektor rata-rata untuk setiap kalimat\n",
        "vector1 = average_vector(jd, model10)\n",
        "vector2 = average_vector(jd2, model10)\n",
        "vector3 = average_vector(cv, model10)"
      ],
      "metadata": {
        "id": "7zwJ4JH2l5hf"
      },
      "execution_count": null,
      "outputs": []
    },
    {
      "cell_type": "code",
      "source": [
        "similarity = cosine_similarity([vector1], [vector3])\n",
        "similarity2 = cosine_similarity([vector2], [vector3])\n",
        "\n",
        "print(\"for 10 epoch:\")\n",
        "print(f\"Kesamaan antara kalimat jd dan cv: {similarity[0][0]}\")\n",
        "print(f\"Kesamaan antara kalimat jd2 dan cv: {similarity2[0][0]}\")"
      ],
      "metadata": {
        "colab": {
          "base_uri": "https://localhost:8080/"
        },
        "id": "aI9onNmNmLNI",
        "outputId": "60b96e3e-6a77-4bc4-accd-462b911e9821"
      },
      "execution_count": null,
      "outputs": [
        {
          "output_type": "stream",
          "name": "stdout",
          "text": [
            "for 10 epoch:\n",
            "Kesamaan antara kalimat jd dan cv: 0.838675320148468\n",
            "Kesamaan antara kalimat jd2 dan cv: 0.6914427876472473\n"
          ]
        }
      ]
    },
    {
      "cell_type": "code",
      "source": [
        "contributions1 = word_contributions(jd, cv, model10)\n",
        "contributions2 = word_contributions(jd2, cv, model10)\n",
        "\n",
        "print(\"\\nKata-kata yang membuat kalimat jd dan cv serupa:\")\n",
        "for word, contribution in contributions1.items():\n",
        "    print(f\"{word}: {contribution}\")\n",
        "\n",
        "print(\"\\nKata-kata yang membuat kalimat jd2 dan cv serupa:\")\n",
        "for word, contribution in contributions2.items():\n",
        "    print(f\"{word}: {contribution}\")"
      ],
      "metadata": {
        "colab": {
          "base_uri": "https://localhost:8080/"
        },
        "id": "dQ8slGp04zv9",
        "outputId": "139b4f47-652c-4eda-ffcf-1f02e5738453"
      },
      "execution_count": null,
      "outputs": [
        {
          "output_type": "stream",
          "name": "stdout",
          "text": [
            "\n",
            "Kata-kata yang membuat kalimat jd dan cv serupa:\n",
            "detail: 0.1361837536096573\n",
            "experience: 0.45516836643218994\n",
            "bachelor: 0.21932366490364075\n",
            "database: 0.40236592292785645\n",
            "visualization: 0.47202038764953613\n",
            "excellent: 0.3385521173477173\n",
            "sql: 0.4556054174900055\n",
            "reputable: 0.09687164425849915\n",
            "large: 0.3640759587287903\n",
            "team: 0.1939774453639984\n",
            "graduate: 0.11058397591114044\n",
            "outstanding: 0.14738258719444275\n",
            "fresh: 0.03831607103347778\n",
            "meaningful: 0.1543671190738678\n",
            "tool: 0.41531068086624146\n",
            "analysis: 0.5109637379646301\n",
            "data: 0.6104699969291687\n",
            "ability: 0.40025365352630615\n",
            "python: 0.3781082034111023\n",
            "strong: 0.435779333114624\n",
            "university: 0.051478054374456406\n",
            "set: 0.2821767032146454\n",
            "audience: 0.2184278964996338\n",
            "analytical: 0.5181758403778076\n",
            "nontechnical: 0.12228911370038986\n",
            "insight: 0.36665111780166626\n",
            "excel: 0.2563852071762085\n",
            "science: 0.3380487561225891\n",
            "skill: 0.45019614696502686\n",
            "proficiency: 0.3761020302772522\n",
            "relevant: 0.38866573572158813\n",
            "performance: 0.17087388038635254\n",
            "complex: 0.39957892894744873\n",
            "\n",
            "Kata-kata yang membuat kalimat jd2 dan cv serupa:\n",
            "detail: 0.11331835389137268\n",
            "experience: 0.5286638736724854\n",
            "knowledge: 0.4604893922805786\n",
            "bachelor: 0.2222256362438202\n",
            "skill: 0.42056500911712646\n",
            "strong: 0.4345294237136841\n",
            "proficiency: 0.374183714389801\n",
            "project: 0.3895094394683838\n",
            "team: 0.24781064689159393\n",
            "excellent: 0.33576133847236633\n",
            "two: 0.2048722803592682\n",
            "tool: 0.39538338780403137\n",
            "science: 0.3574932813644409\n",
            "management: 0.42703765630722046\n",
            "ability: 0.36876180768013\n",
            "five: 0.2041117548942566\n"
          ]
        }
      ]
    },
    {
      "cell_type": "code",
      "source": [
        "# Menghitung vektor rata-rata untuk setiap kalimat\n",
        "vector1_50 = average_vector(jd, model50)\n",
        "vector2_50 = average_vector(jd2, model50)\n",
        "vector3_50 = average_vector(cv, model50)"
      ],
      "metadata": {
        "id": "3L4w9rUEzI9d"
      },
      "execution_count": null,
      "outputs": []
    },
    {
      "cell_type": "code",
      "source": [
        "similarity_50 = cosine_similarity([vector1_50], [vector3_50])\n",
        "similarity2_50 = cosine_similarity([vector2_50], [vector3_50])\n",
        "\n",
        "print(\"for 50 epoch:\")\n",
        "print(f\"Kesamaan antara kalimat jd dan cv: {similarity_50[0][0]}\")\n",
        "print(f\"Kesamaan antara kalimat jd2 dan cv: {similarity2_50[0][0]}\")"
      ],
      "metadata": {
        "colab": {
          "base_uri": "https://localhost:8080/"
        },
        "id": "dKzC8rL7zQ-U",
        "outputId": "68c803cc-9e63-4c7b-93eb-96bf707eb968"
      },
      "execution_count": null,
      "outputs": [
        {
          "output_type": "stream",
          "name": "stdout",
          "text": [
            "for 50 epoch:\n",
            "Kesamaan antara kalimat jd dan cv: 0.42133739590644836\n",
            "Kesamaan antara kalimat jd2 dan cv: 0.8521997332572937\n"
          ]
        }
      ]
    },
    {
      "cell_type": "code",
      "source": [
        "contributions1 = word_contributions(jd, cv, model50)\n",
        "contributions2 = word_contributions(jd2, cv, model50)\n",
        "\n",
        "print(\"\\nKata-kata yang membuat kalimat jd dan cv serupa:\")\n",
        "for word, contribution in contributions1.items():\n",
        "    print(f\"{word}: {contribution}\")\n",
        "\n",
        "print(\"\\nKata-kata yang membuat kalimat jd2 dan cv serupa:\")\n",
        "for word, contribution in contributions2.items():\n",
        "    print(f\"{word}: {contribution}\")"
      ],
      "metadata": {
        "colab": {
          "base_uri": "https://localhost:8080/"
        },
        "id": "jpc_OwQSP4mp",
        "outputId": "bdb5c912-cf21-4ad0-d761-e81d90063a81"
      },
      "execution_count": null,
      "outputs": [
        {
          "output_type": "stream",
          "name": "stdout",
          "text": [
            "\n",
            "Kata-kata yang membuat kalimat jd dan cv serupa:\n",
            "database: 0.3318568468093872\n",
            "communication: 0.1957397758960724\n",
            "ability: 0.29015493392944336\n",
            "problem: 0.18861272931098938\n",
            "skill: 0.3442988693714142\n",
            "science: 0.2926821708679199\n",
            "bachelor: 0.12361519038677216\n",
            "experience: 0.38176393508911133\n",
            "team: 0.15643739700317383\n",
            "software: 0.45441168546676636\n",
            "university: 0.044621068984270096\n",
            "\n",
            "Kata-kata yang membuat kalimat jd2 dan cv serupa:\n",
            "stack: 0.35122960805892944\n",
            "five: 0.1811729371547699\n",
            "member: 0.12175917625427246\n",
            "management: 0.3893547058105469\n",
            "problem: 0.10825730860233307\n",
            "lead: 0.15303266048431396\n",
            "full: 0.08783716708421707\n",
            "development: 0.4594123959541321\n",
            "boot: 0.27243170142173767\n",
            "role: 0.2007565200328827\n",
            "ability: 0.2722695469856262\n",
            "skill: 0.33186769485473633\n",
            "computer: 0.23201048374176025\n",
            "team: 0.24185842275619507\n",
            "design: 0.3907355070114136\n",
            "software: 0.5308446288108826\n",
            "implementation: 0.315414160490036\n",
            "two: 0.18774710595607758\n",
            "communication: 0.22178637981414795\n",
            "web: 0.30469974875450134\n",
            "spring: 0.3152084946632385\n",
            "science: 0.32246607542037964\n",
            "pipeline: 0.24943339824676514\n",
            "react: 0.34650981426239014\n",
            "developer: 0.42738795280456543\n",
            "cloud: 0.31983423233032227\n",
            "methodology: 0.3160865306854248\n",
            "application: 0.2910619378089905\n",
            "year: 0.34758204221725464\n",
            "j: 0.15048830211162567\n",
            "experience: 0.49432259798049927\n",
            "bachelor: 0.15085121989250183\n",
            "leadership: 0.2859252095222473\n"
          ]
        }
      ]
    },
    {
      "cell_type": "markdown",
      "source": [
        "# Pre trained"
      ],
      "metadata": {
        "id": "ZMVZNYzIu_gD"
      }
    },
    {
      "cell_type": "code",
      "source": [
        "!pip install torchtext"
      ],
      "metadata": {
        "colab": {
          "base_uri": "https://localhost:8080/"
        },
        "id": "76dw10l9u-s0",
        "outputId": "a661772f-4e65-4f49-9faf-e6bd1798f565"
      },
      "execution_count": null,
      "outputs": [
        {
          "output_type": "stream",
          "name": "stdout",
          "text": [
            "Requirement already satisfied: torchtext in /usr/local/lib/python3.10/dist-packages (0.18.0)\n",
            "Requirement already satisfied: tqdm in /usr/local/lib/python3.10/dist-packages (from torchtext) (4.66.4)\n",
            "Requirement already satisfied: requests in /usr/local/lib/python3.10/dist-packages (from torchtext) (2.31.0)\n",
            "Requirement already satisfied: torch>=2.3.0 in /usr/local/lib/python3.10/dist-packages (from torchtext) (2.3.1+cu121)\n",
            "Requirement already satisfied: numpy in /usr/local/lib/python3.10/dist-packages (from torchtext) (1.26.4)\n",
            "Requirement already satisfied: filelock in /usr/local/lib/python3.10/dist-packages (from torch>=2.3.0->torchtext) (3.15.4)\n",
            "Requirement already satisfied: typing-extensions>=4.8.0 in /usr/local/lib/python3.10/dist-packages (from torch>=2.3.0->torchtext) (4.12.2)\n",
            "Requirement already satisfied: sympy in /usr/local/lib/python3.10/dist-packages (from torch>=2.3.0->torchtext) (1.13.1)\n",
            "Requirement already satisfied: networkx in /usr/local/lib/python3.10/dist-packages (from torch>=2.3.0->torchtext) (3.3)\n",
            "Requirement already satisfied: jinja2 in /usr/local/lib/python3.10/dist-packages (from torch>=2.3.0->torchtext) (3.1.4)\n",
            "Requirement already satisfied: fsspec in /usr/local/lib/python3.10/dist-packages (from torch>=2.3.0->torchtext) (2024.6.1)\n",
            "Collecting nvidia-cuda-nvrtc-cu12==12.1.105 (from torch>=2.3.0->torchtext)\n",
            "  Using cached nvidia_cuda_nvrtc_cu12-12.1.105-py3-none-manylinux1_x86_64.whl.metadata (1.5 kB)\n",
            "Collecting nvidia-cuda-runtime-cu12==12.1.105 (from torch>=2.3.0->torchtext)\n",
            "  Using cached nvidia_cuda_runtime_cu12-12.1.105-py3-none-manylinux1_x86_64.whl.metadata (1.5 kB)\n",
            "Collecting nvidia-cuda-cupti-cu12==12.1.105 (from torch>=2.3.0->torchtext)\n",
            "  Using cached nvidia_cuda_cupti_cu12-12.1.105-py3-none-manylinux1_x86_64.whl.metadata (1.6 kB)\n",
            "Collecting nvidia-cudnn-cu12==8.9.2.26 (from torch>=2.3.0->torchtext)\n",
            "  Using cached nvidia_cudnn_cu12-8.9.2.26-py3-none-manylinux1_x86_64.whl.metadata (1.6 kB)\n",
            "Collecting nvidia-cublas-cu12==12.1.3.1 (from torch>=2.3.0->torchtext)\n",
            "  Using cached nvidia_cublas_cu12-12.1.3.1-py3-none-manylinux1_x86_64.whl.metadata (1.5 kB)\n",
            "Collecting nvidia-cufft-cu12==11.0.2.54 (from torch>=2.3.0->torchtext)\n",
            "  Using cached nvidia_cufft_cu12-11.0.2.54-py3-none-manylinux1_x86_64.whl.metadata (1.5 kB)\n",
            "Collecting nvidia-curand-cu12==10.3.2.106 (from torch>=2.3.0->torchtext)\n",
            "  Using cached nvidia_curand_cu12-10.3.2.106-py3-none-manylinux1_x86_64.whl.metadata (1.5 kB)\n",
            "Collecting nvidia-cusolver-cu12==11.4.5.107 (from torch>=2.3.0->torchtext)\n",
            "  Using cached nvidia_cusolver_cu12-11.4.5.107-py3-none-manylinux1_x86_64.whl.metadata (1.6 kB)\n",
            "Collecting nvidia-cusparse-cu12==12.1.0.106 (from torch>=2.3.0->torchtext)\n",
            "  Using cached nvidia_cusparse_cu12-12.1.0.106-py3-none-manylinux1_x86_64.whl.metadata (1.6 kB)\n",
            "Collecting nvidia-nccl-cu12==2.20.5 (from torch>=2.3.0->torchtext)\n",
            "  Using cached nvidia_nccl_cu12-2.20.5-py3-none-manylinux2014_x86_64.whl.metadata (1.8 kB)\n",
            "Collecting nvidia-nvtx-cu12==12.1.105 (from torch>=2.3.0->torchtext)\n",
            "  Using cached nvidia_nvtx_cu12-12.1.105-py3-none-manylinux1_x86_64.whl.metadata (1.7 kB)\n",
            "Requirement already satisfied: triton==2.3.1 in /usr/local/lib/python3.10/dist-packages (from torch>=2.3.0->torchtext) (2.3.1)\n",
            "Collecting nvidia-nvjitlink-cu12 (from nvidia-cusolver-cu12==11.4.5.107->torch>=2.3.0->torchtext)\n",
            "  Downloading nvidia_nvjitlink_cu12-12.6.20-py3-none-manylinux2014_x86_64.whl.metadata (1.5 kB)\n",
            "Requirement already satisfied: charset-normalizer<4,>=2 in /usr/local/lib/python3.10/dist-packages (from requests->torchtext) (3.3.2)\n",
            "Requirement already satisfied: idna<4,>=2.5 in /usr/local/lib/python3.10/dist-packages (from requests->torchtext) (3.7)\n",
            "Requirement already satisfied: urllib3<3,>=1.21.1 in /usr/local/lib/python3.10/dist-packages (from requests->torchtext) (2.0.7)\n",
            "Requirement already satisfied: certifi>=2017.4.17 in /usr/local/lib/python3.10/dist-packages (from requests->torchtext) (2024.7.4)\n",
            "Requirement already satisfied: MarkupSafe>=2.0 in /usr/local/lib/python3.10/dist-packages (from jinja2->torch>=2.3.0->torchtext) (2.1.5)\n",
            "Requirement already satisfied: mpmath<1.4,>=1.1.0 in /usr/local/lib/python3.10/dist-packages (from sympy->torch>=2.3.0->torchtext) (1.3.0)\n",
            "Using cached nvidia_cublas_cu12-12.1.3.1-py3-none-manylinux1_x86_64.whl (410.6 MB)\n",
            "Using cached nvidia_cuda_cupti_cu12-12.1.105-py3-none-manylinux1_x86_64.whl (14.1 MB)\n",
            "Using cached nvidia_cuda_nvrtc_cu12-12.1.105-py3-none-manylinux1_x86_64.whl (23.7 MB)\n",
            "Using cached nvidia_cuda_runtime_cu12-12.1.105-py3-none-manylinux1_x86_64.whl (823 kB)\n",
            "Using cached nvidia_cudnn_cu12-8.9.2.26-py3-none-manylinux1_x86_64.whl (731.7 MB)\n",
            "Using cached nvidia_cufft_cu12-11.0.2.54-py3-none-manylinux1_x86_64.whl (121.6 MB)\n",
            "Using cached nvidia_curand_cu12-10.3.2.106-py3-none-manylinux1_x86_64.whl (56.5 MB)\n",
            "Using cached nvidia_cusolver_cu12-11.4.5.107-py3-none-manylinux1_x86_64.whl (124.2 MB)\n",
            "Using cached nvidia_cusparse_cu12-12.1.0.106-py3-none-manylinux1_x86_64.whl (196.0 MB)\n",
            "Using cached nvidia_nccl_cu12-2.20.5-py3-none-manylinux2014_x86_64.whl (176.2 MB)\n",
            "Using cached nvidia_nvtx_cu12-12.1.105-py3-none-manylinux1_x86_64.whl (99 kB)\n",
            "Downloading nvidia_nvjitlink_cu12-12.6.20-py3-none-manylinux2014_x86_64.whl (19.7 MB)\n",
            "\u001b[2K   \u001b[90m━━━━━━━━━━━━━━━━━━━━━━━━━━━━━━━━━━━━━━━━\u001b[0m \u001b[32m19.7/19.7 MB\u001b[0m \u001b[31m11.2 MB/s\u001b[0m eta \u001b[36m0:00:00\u001b[0m\n",
            "\u001b[?25hInstalling collected packages: nvidia-nvtx-cu12, nvidia-nvjitlink-cu12, nvidia-nccl-cu12, nvidia-curand-cu12, nvidia-cufft-cu12, nvidia-cuda-runtime-cu12, nvidia-cuda-nvrtc-cu12, nvidia-cuda-cupti-cu12, nvidia-cublas-cu12, nvidia-cusparse-cu12, nvidia-cudnn-cu12, nvidia-cusolver-cu12\n",
            "Successfully installed nvidia-cublas-cu12-12.1.3.1 nvidia-cuda-cupti-cu12-12.1.105 nvidia-cuda-nvrtc-cu12-12.1.105 nvidia-cuda-runtime-cu12-12.1.105 nvidia-cudnn-cu12-8.9.2.26 nvidia-cufft-cu12-11.0.2.54 nvidia-curand-cu12-10.3.2.106 nvidia-cusolver-cu12-11.4.5.107 nvidia-cusparse-cu12-12.1.0.106 nvidia-nccl-cu12-2.20.5 nvidia-nvjitlink-cu12-12.6.20 nvidia-nvtx-cu12-12.1.105\n"
          ]
        }
      ]
    },
    {
      "cell_type": "code",
      "source": [
        "import torch\n",
        "from torchtext.vocab import GloVe\n",
        "\n",
        "# Menginisialisasi GloVe dengan dimensi 50\n",
        "glove = GloVe(name='6B', dim=50)"
      ],
      "metadata": {
        "colab": {
          "base_uri": "https://localhost:8080/"
        },
        "id": "8gLDX6wluN1V",
        "outputId": "14aaa32c-7c63-40b5-df3c-b60c3a39bc2f"
      },
      "execution_count": null,
      "outputs": [
        {
          "output_type": "stream",
          "name": "stderr",
          "text": [
            "/usr/local/lib/python3.10/dist-packages/torchtext/vocab/__init__.py:4: UserWarning: \n",
            "/!\\ IMPORTANT WARNING ABOUT TORCHTEXT STATUS /!\\ \n",
            "Torchtext is deprecated and the last released version will be 0.18 (this one). You can silence this warning by calling the following at the beginnign of your scripts: `import torchtext; torchtext.disable_torchtext_deprecation_warning()`\n",
            "  warnings.warn(torchtext._TORCHTEXT_DEPRECATION_MSG)\n",
            "/usr/local/lib/python3.10/dist-packages/torchtext/utils.py:4: UserWarning: \n",
            "/!\\ IMPORTANT WARNING ABOUT TORCHTEXT STATUS /!\\ \n",
            "Torchtext is deprecated and the last released version will be 0.18 (this one). You can silence this warning by calling the following at the beginnign of your scripts: `import torchtext; torchtext.disable_torchtext_deprecation_warning()`\n",
            "  warnings.warn(torchtext._TORCHTEXT_DEPRECATION_MSG)\n",
            ".vector_cache/glove.6B.zip: 862MB [02:39, 5.41MB/s]\n",
            "100%|█████████▉| 399999/400000 [00:17<00:00, 22483.33it/s]\n"
          ]
        }
      ]
    },
    {
      "cell_type": "code",
      "source": [
        "from collections import Counter\n",
        "\n",
        "vocab = glove.stoi\n",
        "\n",
        "# Count the occurrences of words (this is a proxy as actual frequencies are not provided in GloVe)\n",
        "# We use the norms of the vectors to approximate word frequency\n",
        "word_freq = Counter({word: glove.vectors[idx].norm().item() for word, idx in vocab.items()})\n",
        "\n",
        "# Print the 20 most common words\n",
        "print(\"Most common words in GloVe corpus:\")\n",
        "for word, freq in word_freq.most_common(20):\n",
        "    print(f\"{word}: {freq}\")"
      ],
      "metadata": {
        "colab": {
          "base_uri": "https://localhost:8080/"
        },
        "id": "-LPUmU8pQGNf",
        "outputId": "7ca6f460-8ba8-4810-8b44-dd78c0b0519c"
      },
      "execution_count": null,
      "outputs": [
        {
          "output_type": "stream",
          "name": "stdout",
          "text": [
            "Most common words in GloVe corpus:\n",
            "non-families: 14.121562004089355\n",
            "202-383-7824: 14.019739151000977\n",
            "non-institutionalized: 12.844210624694824\n",
            "www.star: 12.790447235107422\n",
            "non-obligatory: 12.76219367980957\n",
            "officership: 12.511541366577148\n",
            "republish: 12.49128532409668\n",
            "http://www.nyse.com: 12.43392276763916\n",
            "20003: 12.401117324829102\n",
            "25-64: 12.296163558959961\n",
            "puhs: 12.197233200073242\n",
            "dehl: 12.08194351196289\n",
            "afptv: 12.08087158203125\n",
            "eighteens: 12.039584159851074\n",
            "computerologist: 12.01170825958252\n",
            "http://www.nasdaq.com: 11.865079879760742\n",
            "palaeographically: 11.725377082824707\n",
            "story3d: 11.685689926147461\n",
            "hushen: 11.67656421661377\n",
            "warmian-masurian: 11.49421501159668\n"
          ]
        }
      ]
    },
    {
      "cell_type": "code",
      "source": [
        "important_words = {\n",
        "    'python': 10.0,\n",
        "    'machine learning': 2.0,\n",
        "}\n",
        "\n",
        "def average_vector_weighted(sentence, glove, important_words):\n",
        "    words = sentence.split()\n",
        "    vector_list = []\n",
        "\n",
        "    for word in words:\n",
        "        if word in glove.stoi:\n",
        "            vector = glove[word].numpy()\n",
        "            weight = important_words.get(word, 1.0)  # Dapatkan bobot atau default ke 1.0\n",
        "            vector_list.append(vector * weight)\n",
        "\n",
        "    if not vector_list:  # Jika tidak ada kata yang ditemukan\n",
        "        return np.zeros(glove.dim)\n",
        "\n",
        "    # Mengembalikan rata-rata vektor\n",
        "    return np.mean(vector_list, axis=0)"
      ],
      "metadata": {
        "id": "nixKAxv1Pxe2"
      },
      "execution_count": null,
      "outputs": []
    },
    {
      "cell_type": "code",
      "source": [
        "def average_vector_pre(sentence, glove):\n",
        "    words = sentence.split()\n",
        "    vector_list = []\n",
        "\n",
        "    for word in words:\n",
        "        # Ambil embedding dari kata jika tersedia\n",
        "        if word in glove.stoi:\n",
        "            vector_list.append(glove[word].numpy())\n",
        "\n",
        "    if not vector_list:  # Jika tidak ada kata yang ditemukan\n",
        "        return np.zeros(glove.dim)\n",
        "\n",
        "    # Mengembalikan rata-rata vektor\n",
        "    return np.mean(vector_list, axis=0)"
      ],
      "metadata": {
        "id": "attxEAHaESA1"
      },
      "execution_count": null,
      "outputs": []
    },
    {
      "cell_type": "code",
      "source": [
        "def word_contributions_pre(sentence1, sentence2, model):\n",
        "    words1 = sentence1.split()\n",
        "    words2 = sentence2.split()\n",
        "\n",
        "    common_words = set(words1).intersection(words2)\n",
        "\n",
        "    contributions = {}\n",
        "    for word in common_words:\n",
        "        if word in model.stoi:\n",
        "            vec_word = model[word].reshape(1, -1)\n",
        "            vec_sentence1 = average_vector_pre(sentence1, model).reshape(1, -1)\n",
        "            vec_sentence2 = average_vector_pre(sentence2, model).reshape(1, -1)\n",
        "\n",
        "            sim1 = cosine_similarity(vec_word, vec_sentence1)[0][0]\n",
        "            sim2 = cosine_similarity(vec_word, vec_sentence2)[0][0]\n",
        "\n",
        "            contributions[word] = (sim1 + sim2) / 2\n",
        "\n",
        "    return contributions"
      ],
      "metadata": {
        "id": "8nnF8iiQEhzq"
      },
      "execution_count": null,
      "outputs": []
    },
    {
      "cell_type": "code",
      "source": [
        "def word_contributions_weighted(sentence1, sentence2, glove, important_words):\n",
        "    words1 = sentence1.split()\n",
        "    words2 = sentence2.split()\n",
        "\n",
        "    common_words = set(words1).intersection(words2)\n",
        "    contributions = {}\n",
        "\n",
        "    for word in common_words:\n",
        "        if word in glove.stoi:\n",
        "            vec_word = glove[word].numpy().reshape(1, -1)\n",
        "            vec_sentence1 = average_vector_weighted(sentence1, glove, important_words).reshape(1, -1)\n",
        "            vec_sentence2 = average_vector_weighted(sentence2, glove, important_words).reshape(1, -1)\n",
        "\n",
        "            sim1 = cosine_similarity(vec_word, vec_sentence1)[0][0]\n",
        "            sim2 = cosine_similarity(vec_word, vec_sentence2)[0][0]\n",
        "\n",
        "            contributions[word] = (sim1 + sim2) / 2\n",
        "\n",
        "    return contributions"
      ],
      "metadata": {
        "id": "9gfQBLgf7-lp"
      },
      "execution_count": null,
      "outputs": []
    },
    {
      "cell_type": "code",
      "source": [
        "# Menghitung vektor rata-rata untuk setiap kalimat\n",
        "vector1 = average_vector_pre(jd, glove)\n",
        "vector2 = average_vector_pre(jd2, glove)\n",
        "vector3 = average_vector_pre(cv, glove)"
      ],
      "metadata": {
        "id": "2xlhtONNP3He"
      },
      "execution_count": null,
      "outputs": []
    },
    {
      "cell_type": "code",
      "source": [
        "similarity = cosine_similarity([vector1], [vector3])\n",
        "similarity2 = cosine_similarity([vector2], [vector3])\n",
        "\n",
        "print(f\"Kesamaan antara kalimat cv dan jd: {similarity[0][0]}\")\n",
        "print(f\"Kesamaan antara kalimat cv dan jd2: {similarity2[0][0]}\")"
      ],
      "metadata": {
        "colab": {
          "base_uri": "https://localhost:8080/"
        },
        "id": "wbM1dLrVP6Qu",
        "outputId": "11802d93-2a37-414d-e106-0a8ba7042d09"
      },
      "execution_count": null,
      "outputs": [
        {
          "output_type": "stream",
          "name": "stdout",
          "text": [
            "Kesamaan antara kalimat cv dan jd: 0.9543687701225281\n",
            "Kesamaan antara kalimat cv dan jd2: 0.9222950339317322\n"
          ]
        }
      ]
    },
    {
      "cell_type": "code",
      "source": [
        "contributions1 = word_contributions_pre(jd, cv, glove)\n",
        "contributions2 = word_contributions_pre(jd2, cv, glove)\n",
        "\n",
        "print(\"\\nKata-kata yang membuat kalimat cv dan jd:\")\n",
        "for word, contribution in contributions1.items():\n",
        "    print(f\"{word}: {contribution}\")\n",
        "\n",
        "print(\"\\nKata-kata yang membuat kalimat cv dan jd2:\")\n",
        "for word, contribution in contributions2.items():\n",
        "    print(f\"{word}: {contribution}\")"
      ],
      "metadata": {
        "colab": {
          "base_uri": "https://localhost:8080/"
        },
        "id": "I2u9nn7T7_zn",
        "outputId": "dd6b81e9-b0fa-418a-adf9-2d8e98ef880b"
      },
      "execution_count": null,
      "outputs": [
        {
          "output_type": "stream",
          "name": "stdout",
          "text": [
            "\n",
            "Kata-kata yang membuat kalimat cv dan jd:\n",
            "ability: 0.7643511295318604\n",
            "performance: 0.718897819519043\n",
            "skill: 0.6555231213569641\n",
            "tool: 0.7696131467819214\n",
            "data: 0.845285177230835\n",
            "analysis: 0.8356708288192749\n",
            "insight: 0.6457037925720215\n",
            "python: 0.2664954364299774\n",
            "audience: 0.533589243888855\n",
            "bachelor: 0.4542832374572754\n",
            "experience: 0.7736330628395081\n",
            "university: 0.5383615493774414\n",
            "science: 0.7498667240142822\n",
            "database: 0.6892017126083374\n",
            "proficiency: 0.5264156460762024\n",
            "r: 0.3164910674095154\n",
            "graduate: 0.5655832290649414\n",
            "visualization: 0.5565621256828308\n",
            "team: 0.5537725687026978\n",
            "excel: 0.5223063230514526\n",
            "\n",
            "Kata-kata yang membuat kalimat cv dan jd2:\n",
            "science: 0.7411800622940063\n",
            "ability: 0.763823926448822\n",
            "five: 0.6307790279388428\n",
            "skill: 0.6411377191543579\n",
            "team: 0.6085482835769653\n",
            "bachelor: 0.47072142362594604\n",
            "tool: 0.7459321022033691\n",
            "project: 0.730865478515625\n",
            "experience: 0.7834159135818481\n",
            "two: 0.6611106395721436\n",
            "proficiency: 0.4753587245941162\n",
            "management: 0.7758132219314575\n",
            "knowledge: 0.7968839406967163\n"
          ]
        }
      ]
    },
    {
      "cell_type": "markdown",
      "source": [
        "# Visualization"
      ],
      "metadata": {
        "id": "q_wBZ_4Wx5Vu"
      }
    },
    {
      "cell_type": "code",
      "source": [
        "from sklearn.decomposition import PCA\n",
        "import numpy as np\n",
        "\n",
        "# List kata atau frasa\n",
        "words = [\n",
        "    'software engineer', 'data scientist', 'project manager', 'machine learning', 'deep learning',\n",
        "    'web developer', 'mobile developer', 'backend engineer', 'frontend developer', 'data analyst',\n",
        "    'product manager', 'quality assurance', 'devops engineer', 'system administrator',\n",
        "    'network engineer', 'technical support', 'security analyst', 'database administrator',\n",
        "    'IT consultant', 'business analyst', 'full stack developer', 'cloud engineer',\n",
        "    'user experience designer', 'graphic designer', 'content writer'\n",
        "]\n",
        "\n",
        "# Fungsi untuk mendapatkan vektor rata-rata dari sebuah frasa\n",
        "def get_average_vector(words, model):\n",
        "    word_vectors = []\n",
        "    for word in words.split():\n",
        "        if word in model.wv:\n",
        "            word_vectors.append(model.wv[word])\n",
        "    if word_vectors:\n",
        "        return np.mean(word_vectors, axis=0)\n",
        "    else:\n",
        "        return np.zeros(model.vector_size)  # Jika tidak ada kata yang ditemukan, kembalikan vektor nol\n",
        "\n",
        "# Menyimpan vektor kata\n",
        "word_vectors = [get_average_vector(word, base_model) for word in words]\n",
        "\n",
        "# Mengurangi dimensi vektor dari 300D ke 2D untuk visualisasi\n",
        "pca = PCA(n_components=2)\n",
        "result = pca.fit_transform(word_vectors)\n",
        "\n",
        "# Visualisasi\n",
        "import matplotlib.pyplot as plt\n",
        "\n",
        "plt.figure(figsize=(10, 10))\n",
        "for i, word in enumerate(words):\n",
        "    plt.scatter(result[i, 0], result[i, 1])\n",
        "    plt.text(result[i, 0] + 0.02, result[i, 1] + 0.02, word, fontsize=9)\n",
        "plt.xlabel('PCA Component 1')\n",
        "plt.ylabel('PCA Component 2')\n",
        "plt.title('PCA of Word Vectors 10 Epochs Model')\n",
        "plt.grid()\n",
        "plt.show()\n"
      ],
      "metadata": {
        "colab": {
          "base_uri": "https://localhost:8080/",
          "height": 872
        },
        "id": "NdEufAPKx4an",
        "outputId": "36286e7a-515f-4ad8-ffcb-06a52b871e10"
      },
      "execution_count": null,
      "outputs": [
        {
          "output_type": "display_data",
          "data": {
            "text/plain": [
              "<Figure size 1000x1000 with 1 Axes>"
            ],
            "image/png": "[encoded data removed]"
          },
          "metadata": {}
        }
      ]
    },
    {
      "cell_type": "code",
      "source": [
        "from sklearn.decomposition import PCA\n",
        "import numpy as np\n",
        "\n",
        "# List kata atau frasa\n",
        "words = [\n",
        "    'software engineer', 'data scientist', 'project manager', 'machine learning', 'deep learning',\n",
        "    'web developer', 'mobile developer', 'backend engineer', 'frontend developer', 'data analyst',\n",
        "    'product manager', 'quality assurance', 'devops engineer', 'system administrator',\n",
        "    'network engineer', 'technical support', 'security analyst', 'database administrator',\n",
        "    'IT consultant', 'business analyst', 'full stack developer', 'cloud engineer',\n",
        "    'user experience designer', 'graphic designer', 'content writer'\n",
        "]\n",
        "\n",
        "# Fungsi untuk mendapatkan vektor rata-rata dari sebuah frasa\n",
        "def get_average_vector(words, model):\n",
        "    word_vectors = []\n",
        "    for word in words.split():\n",
        "        if word in model.wv:\n",
        "            word_vectors.append(model.wv[word])\n",
        "    if word_vectors:\n",
        "        return np.mean(word_vectors, axis=0)\n",
        "    else:\n",
        "        return np.zeros(model.vector_size)  # Jika tidak ada kata yang ditemukan, kembalikan vektor nol\n",
        "\n",
        "# Menyimpan vektor kata\n",
        "word_vectors = [get_average_vector(word, base_model_50) for word in words]\n",
        "\n",
        "# Mengurangi dimensi vektor dari 300D ke 2D untuk visualisasi\n",
        "pca = PCA(n_components=2)\n",
        "result = pca.fit_transform(word_vectors)\n",
        "\n",
        "# Visualisasi\n",
        "import matplotlib.pyplot as plt\n",
        "\n",
        "plt.figure(figsize=(10, 10))\n",
        "for i, word in enumerate(words):\n",
        "    plt.scatter(result[i, 0], result[i, 1])\n",
        "    plt.text(result[i, 0] + 0.02, result[i, 1] + 0.02, word, fontsize=9)\n",
        "plt.xlabel('PCA Component 1')\n",
        "plt.ylabel('PCA Component 2')\n",
        "plt.title('PCA of Word Vectors 50 Epochs Model')\n",
        "plt.grid()\n",
        "plt.show()\n"
      ],
      "metadata": {
        "colab": {
          "base_uri": "https://localhost:8080/",
          "height": 872
        },
        "id": "VZ5IrEzzzoGE",
        "outputId": "f852656a-1cb7-4889-e5c1-0c8e38c5fb26"
      },
      "execution_count": null,
      "outputs": [
        {
          "output_type": "display_data",
          "data": {
            "text/plain": [
              "<Figure size 1000x1000 with 1 Axes>"
            ],
            "image/png": "[encoded data removed]"
          },
          "metadata": {}
        }
      ]
    },
    {
      "cell_type": "markdown",
      "source": [
        "# Evaluate"
      ],
      "metadata": {
        "id": "45VNzy3zVJZh"
      }
    },
    {
      "cell_type": "code",
      "source": [
        "model10 = Word2Vec.load(\"/content/drive/MyDrive/compfest dataset/model/glove_alldata_10.model\")\n",
        "\n",
        "vector = model10.wv['one']  # Ganti 'example_word' dengan kata yang diinginkan\n",
        "print(vector)"
      ],
      "metadata": {
        "colab": {
          "base_uri": "https://localhost:8080/"
        },
        "id": "7qoqZUN1VLGY",
        "outputId": "d6fec43b-7f34-43bd-aabd-9512f01a72c4"
      },
      "execution_count": null,
      "outputs": [
        {
          "output_type": "stream",
          "name": "stdout",
          "text": [
            "[ 0.66730607  0.39942864 -1.3480053   0.48312205 -0.6054764   0.30325115\n",
            " -0.23680943  0.3926065   2.341113   -0.8413951  -0.42808175  1.0639435\n",
            " -1.8387847  -0.74092543  0.3700744   0.03994853  1.250145   -0.4634712\n",
            " -0.17263055 -0.37489203 -0.3692984  -3.7730253   0.88525546  1.4462851\n",
            " -1.2223958  -1.0783774   1.2381481  -1.3348383   0.45723316  1.9790221\n",
            "  0.8609307   0.41960323 -0.3347041  -3.0889935   1.2158339  -0.26582238\n",
            "  0.06627349  2.0511324  -0.70552003 -2.1372952   1.7936785   0.04823665\n",
            "  0.75410956  0.0045984  -0.04764777 -2.3177376  -0.7667799   0.13685994\n",
            " -0.5508031  -0.16021846 -0.36155143  1.9441017  -1.6251339  -0.23903637\n",
            "  1.3241217  -1.5469605  -1.2005386   0.3227686  -0.5356589   0.12964004\n",
            "  1.9003813  -0.49801615 -1.6894472   1.4306486  -1.3962985   0.00451634\n",
            "  0.8760351  -1.9729552  -0.50261587  0.88261217 -0.25766075  0.55028677\n",
            "  0.2766046   1.2681727   0.63036364 -1.6052092   0.94317377  3.1989186\n",
            "  1.3152109  -3.3988254  -1.4760977   1.3728812  -0.08031602  1.3950652\n",
            " -2.1840334  -1.796374    0.9773026   0.40424544 -0.04620907 -2.0945015\n",
            " -0.22000532  0.33972892  0.7165526  -1.1083187   1.2259912  -0.06567198\n",
            "  0.42140102 -0.33190578  2.625982   -0.06080066 -1.8917835   0.14551179\n",
            "  0.11421283 -0.24530834  0.68980616 -2.4243872  -0.38152778  1.5097333\n",
            " -1.5254772  -0.46679708 -0.8040082   0.33212468 -2.0767179   1.4183648\n",
            " -0.31180647 -1.0390364   0.9115324   1.4334894   2.1585336  -0.748114\n",
            "  1.0018059  -1.9200904   0.187933    0.6153294  -0.15873389  0.02760338\n",
            " -0.8891688   0.441124    1.8577797  -1.175325   -0.8563917  -0.9134286\n",
            " -0.00825506 -0.5712309  -2.6450243   1.5956511   1.6221918   2.5029912\n",
            " -1.0801488   0.4656937  -2.8060102   0.06975971  1.0386504   0.21887605\n",
            " -0.1417126   1.3999943  -1.3060251  -0.6237919  -1.4298364   1.6897066\n",
            "  0.79661995  0.9073057   1.3726852  -0.02086719  0.0076753   0.08644638\n",
            " -0.8681655   0.5078249   1.6837273  -1.6643734  -0.95620376 -0.2951687\n",
            "  2.3271239  -0.61095464 -2.310826   -0.83130854  1.1732007   0.21897103\n",
            " -0.5524513  -0.8641431   0.8443793  -1.9362655  -0.1727171   0.85040534\n",
            "  0.43439955 -1.6141942  -0.48693871 -2.1621509  -1.2912481   1.4950235\n",
            " -1.5765915  -1.4150319  -0.25412443  3.1067595   1.2009767   1.1443616\n",
            "  0.2187777   2.123922   -0.6046734   1.730787   -0.02768439 -0.04853469\n",
            "  0.0874666   0.61820555  0.71569085 -1.9728966  -1.4349542   0.8738759\n",
            "  1.2587248  -0.7114431   0.7385885   0.5938564  -0.88316125  0.6663536\n",
            "  1.2918131  -1.5714862  -1.4271843  -2.0305455   1.3754222   0.09721768\n",
            " -0.5395826  -1.2019268  -0.10487846 -0.4280077  -2.0256274  -1.1094002\n",
            "  0.29475218  1.8947592   1.8871454  -0.269509   -1.7486688  -1.1762798\n",
            "  0.13728891 -0.30429757  2.1248107   1.0301822   0.47573996  0.5345257\n",
            "  2.2040324   0.5964479   1.2012336   0.4398558   0.45679697  0.29740697\n",
            "  1.0532469  -1.6681405  -1.9917039  -1.8092833   1.1296535  -1.4083812\n",
            "  0.46084478 -2.2489362   0.18515275 -0.8153298  -1.4403951  -0.2867619\n",
            " -0.17677756  0.50981635  0.37600514  0.51271224 -2.1614983  -0.8430705\n",
            "  1.1643865  -0.10152651  1.9893564   1.9284602  -1.8981199   0.14854027\n",
            "  0.6629725   1.0791826  -0.6990894  -0.01419751 -1.6861147  -1.5204353\n",
            " -1.1214482  -0.41395268  1.5034088  -1.5491267   0.8293474  -0.8090867\n",
            "  0.47375926 -0.6930324  -1.1305351  -0.59052885  0.01805112  2.526641\n",
            " -3.2154572  -0.3064338   0.02277547  1.6230104  -0.69708276  2.4972136\n",
            " -0.31329337 -0.45172843 -2.0997534  -2.5536265   0.18042235  0.12840319\n",
            " -3.1397696   1.1388664   0.8228605  -1.6621394   1.3348328  -0.92805237\n",
            "  0.06599946 -1.4691353   1.7670627   0.48549598  0.24247383  0.21922962]\n"
          ]
        }
      ]
    },
    {
      "cell_type": "code",
      "source": [
        "model50 = Word2Vec.load(\"/content/drive/MyDrive/compfest dataset/model/glove_alldata_50.model\")\n",
        "\n",
        "vector = model50.wv['one']  # Ganti 'example_word' dengan kata yang diinginkan\n",
        "print(vector)"
      ],
      "metadata": {
        "colab": {
          "base_uri": "https://localhost:8080/"
        },
        "id": "AZNn0iNsYnyU",
        "outputId": "cf203fe9-d568-4bc0-8486-3f24e5f108d0"
      },
      "execution_count": null,
      "outputs": [
        {
          "output_type": "stream",
          "name": "stdout",
          "text": [
            "[ 4.5680010e-01  1.5684054e+00 -1.8644618e+00  1.3424358e-01\n",
            "  6.8941104e-01 -3.7711723e+00  1.2897754e+00  7.3185241e-01\n",
            "  2.6835134e+00  1.4743711e+00 -2.5043104e+00  2.0876851e+00\n",
            " -1.2859406e+00 -1.1684715e+00 -2.1693792e+00 -7.5380647e-01\n",
            "  2.9643047e+00  1.7940453e+00  1.3248677e+00 -7.0089817e-01\n",
            "  6.2529290e-01 -2.4653795e+00  1.7702156e+00  1.1409329e+00\n",
            "  5.6084961e-01 -5.0350553e-01  2.7341540e+00  9.2322373e-01\n",
            " -1.5827166e+00  7.8101224e-01 -1.1021086e+00  2.3582799e+00\n",
            " -9.7666085e-01 -3.6134143e+00  3.4441340e+00 -1.5308503e+00\n",
            " -2.5564923e+00  5.2288985e-01 -1.3230605e+00  1.1566578e+00\n",
            "  1.0234530e+00 -2.4606310e-01  2.9664856e-01 -6.6401291e-01\n",
            " -1.4680955e+00 -4.9912472e+00 -1.1092424e+00 -1.0235014e+00\n",
            "  2.3386257e+00  5.7542884e-01  3.2541209e-01  3.8457918e-01\n",
            " -2.4166110e-01  2.8210890e-01  1.7645224e+00  1.4328370e+00\n",
            " -1.9086546e+00  2.0332606e+00  7.5449455e-01 -7.5729555e-01\n",
            "  8.1982166e-01  9.9204683e-01 -3.1016212e+00  7.3714972e-01\n",
            "  2.5279922e+00  4.0018106e-01 -1.1432573e+00 -7.1826249e-01\n",
            " -1.9879878e+00 -1.5641551e+00  1.2542696e-01  1.0824213e+00\n",
            "  3.0160458e+00  1.1759408e+00 -1.4259752e+00 -1.8969658e-01\n",
            "  7.0507593e-02  1.7629524e+00  1.4164956e+00 -3.0544434e+00\n",
            " -8.6495358e-01 -9.3323183e-01 -4.0774260e+00  1.4226317e+00\n",
            " -1.1409572e+00  1.3093238e+00  2.9876852e-01  2.1168251e+00\n",
            " -3.4790906e-01 -3.0679750e+00  1.2088025e+00  1.3553797e+00\n",
            " -8.9135057e-01 -1.0141531e+00 -9.7642243e-01 -2.5743303e+00\n",
            "  1.8598486e+00 -1.7437829e+00  1.0901916e+00  2.2782586e+00\n",
            "  1.3495784e-01 -2.0811989e+00 -6.1961019e-01 -9.0836394e-01\n",
            " -6.2548810e-01 -1.2580614e+00  4.5494762e-01  2.6499052e+00\n",
            " -2.2291648e+00  7.6519668e-01 -2.6538088e+00 -2.4152133e+00\n",
            " -1.2222006e+00 -1.2705909e-01 -8.4750628e-01 -4.8041284e-01\n",
            "  1.2356406e+00  1.8596822e-01  4.2209578e+00 -2.2206916e-01\n",
            "  3.9396319e-01 -3.2916126e+00 -4.5934570e-01  1.4812032e+00\n",
            " -2.3916616e+00 -1.5154082e+00 -6.0599822e-01  4.5603505e-01\n",
            " -1.4553602e+00  1.4775258e+00 -1.7496697e+00 -1.9007826e+00\n",
            "  5.7807654e-01  4.4444275e-01 -2.2920256e+00  1.8017139e+00\n",
            " -3.4711499e-02 -4.0557960e-01 -8.2294196e-01 -2.2154648e+00\n",
            " -1.7043183e+00  3.4999149e+00 -1.8588332e+00 -1.2784941e+00\n",
            " -8.4480071e-01  6.8810344e-01 -7.3124155e-02 -1.5077986e+00\n",
            " -5.4536730e-01 -2.9010302e-01  7.5379407e-01  2.2430208e+00\n",
            " -1.5524443e+00  4.9194136e-01  6.8250887e-02 -1.9626577e+00\n",
            "  1.1790489e+00  1.1719702e+00  2.4908051e+00 -1.9362174e-01\n",
            "  8.9101309e-01 -3.5670083e+00  5.9170645e-01  4.7581935e-01\n",
            " -1.1254785e+00  7.4301082e-01 -3.1274894e-01  1.9267690e+00\n",
            " -6.4789677e-01 -1.6298692e+00 -8.1524163e-01 -2.6138489e+00\n",
            " -3.2346317e-01 -6.0781664e-01 -1.3296201e+00 -8.5968822e-01\n",
            "  6.6345143e-01 -2.0696177e+00 -7.2060806e-01  9.0094072e-01\n",
            " -1.0610343e+00 -7.3140040e-02 -1.1197670e+00  1.1987975e+00\n",
            "  5.7314181e-01 -1.0607933e+00 -1.5449525e+00  2.7516072e+00\n",
            " -2.8468072e+00 -3.7275767e-01 -1.6536772e+00 -4.5074669e-01\n",
            "  3.9735129e-01 -1.5033197e+00 -5.5621509e-02  6.1222520e-02\n",
            " -2.3461697e+00 -7.2411638e-01  1.0461459e-02  5.7747144e-02\n",
            "  1.3667904e+00 -1.6241446e-02 -2.1302323e+00  1.6642818e-01\n",
            " -1.7993243e-01 -2.8481846e+00 -3.4473047e-01 -2.3643277e+00\n",
            " -5.2565950e-01 -1.1066842e+00  2.1326883e+00  1.4027604e+00\n",
            "  2.5913964e-03  1.3182706e+00 -1.7022918e+00 -5.3648901e-01\n",
            "  3.0017519e-01  2.1811097e+00  1.1378872e+00 -6.7751092e-01\n",
            "  1.7156504e-01 -1.1653907e+00  7.8620654e-01 -1.4608474e-01\n",
            "  3.0756781e+00  1.9379027e+00  2.3496075e+00  6.1691111e-01\n",
            " -1.8220203e-01  7.9499042e-01 -4.7498485e-01  6.6700065e-01\n",
            "  3.3722401e-02 -4.8732772e-01  2.7601945e+00  7.3101014e-01\n",
            "  2.3398452e-01 -1.0059052e+00  6.4675343e-01 -7.1529680e-01\n",
            " -4.1560479e-02  1.2285945e+00 -1.4659889e+00 -1.3641430e+00\n",
            " -2.3875144e+00 -6.5470356e-01 -2.2781079e+00  1.2262152e+00\n",
            "  7.5701123e-01 -3.3524305e-01  9.5385069e-01 -1.4503227e+00\n",
            " -3.4770353e+00 -6.2972349e-01  8.0471355e-01 -1.5375202e+00\n",
            " -1.1217228e+00 -1.0488685e+00  3.4995234e+00  2.1921558e+00\n",
            " -2.0359813e-01  1.2313733e+00 -2.0943313e+00 -1.3461229e+00\n",
            " -1.5922695e+00  1.2676049e+00  8.0286756e-02 -1.6957649e+00\n",
            " -7.4301475e-01  3.0223912e-01 -1.4028478e-01 -1.7948213e-01\n",
            " -8.1368381e-01 -2.7812693e+00  3.0886688e+00 -5.1417738e-01\n",
            " -7.3055603e-02  2.4955046e+00  9.2793763e-01  3.5219657e+00\n",
            " -1.0533503e+00  1.5811691e+00  1.3857584e+00  6.3722599e-01\n",
            "  7.4639475e-01  1.6157640e+00  4.0057102e-01 -5.9658426e-01\n",
            " -2.3185644e+00  9.0162545e-01  9.0573317e-01  2.3510664e+00\n",
            "  1.9243287e-01 -1.9859406e+00 -9.5674837e-01 -1.3185903e-01\n",
            "  7.5599033e-01 -6.6858703e-01  1.9020736e+00 -7.9249039e-02]\n"
          ]
        }
      ]
    },
    {
      "cell_type": "code",
      "source": [
        "vocab = model50.wv.key_to_index\n",
        "word_freq = {word: model50.wv.get_vecattr(word, \"count\") for word in vocab}\n",
        "\n",
        "# Use Counter to find the most common words\n",
        "word_counter = Counter(word_freq)\n",
        "\n",
        "# Print the 20 most common words\n",
        "print(\"Most common words in the Word2Vec corpus:\")\n",
        "for word, freq in word_counter.most_common(20):\n",
        "    print(f\"{word}: {freq}\")"
      ],
      "metadata": {
        "colab": {
          "base_uri": "https://localhost:8080/"
        },
        "id": "zLO4MXFwwvYz",
        "outputId": "8f8369ae-5203-4cd0-c5cb-f8e3183f5c84"
      },
      "execution_count": null,
      "outputs": [
        {
          "output_type": "stream",
          "name": "stdout",
          "text": [
            "Most common words in the Word2Vec corpus:\n",
            "data: 101468\n",
            "experience: 79382\n",
            "work: 55628\n",
            "year: 46801\n",
            "team: 41840\n",
            "business: 39874\n",
            "skill: 39217\n",
            "customer: 27552\n",
            "job: 27461\n",
            "good: 26996\n",
            "company: 26364\n",
            "minimum: 26202\n",
            "product: 25752\n",
            "degree: 25382\n",
            "science: 22847\n",
            "able: 22817\n",
            "analysis: 22377\n",
            "management: 22153\n",
            "learning: 21750\n",
            "project: 21089\n"
          ]
        }
      ]
    }
  ]
}